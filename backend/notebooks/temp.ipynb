{
 "cells": [
  {
   "cell_type": "code",
   "execution_count": 1,
   "metadata": {},
   "outputs": [
    {
     "name": "stderr",
     "output_type": "stream",
     "text": [
      "C:\\Users\\User\\AppData\\Local\\Temp\\ipykernel_16400\\1498473977.py:6: DeprecationWarning: \n",
      "Pyarrow will become a required dependency of pandas in the next major release of pandas (pandas 3.0),\n",
      "(to allow more performant data types, such as the Arrow string type, and better interoperability with other libraries)\n",
      "but was not found to be installed on your system.\n",
      "If this would cause problems for you,\n",
      "please provide us feedback at https://github.com/pandas-dev/pandas/issues/54466\n",
      "        \n",
      "  import pandas as pd\n"
     ]
    }
   ],
   "source": [
    "import json\n",
    "import urllib\n",
    "import urllib.request\n",
    "from urllib.parse import urlparse\n",
    "import httplib2 as http  # external library\n",
    "import pandas as pd\n",
    "# from datetime import datetime, timezone\n",
    "import os\n",
    "import shutil\n",
    "import schedule\n",
    "import time\n",
    "import datetime"
   ]
  },
  {
   "cell_type": "code",
   "execution_count": 2,
   "metadata": {},
   "outputs": [],
   "source": [
    "class ApiCall:\n",
    "    def __init__(self, parent_dir):\n",
    "        self.parent_dir = parent_dir\n",
    "        os.chdir(parent_dir)\n",
    "        # folder where data retrieve are stored\n",
    "        self.folder = os.path.join(self.parent_dir, \"classifier\")\n",
    "        if os.path.isdir(self.folder):\n",
    "            # clear old data from folder before making api call\n",
    "            shutil.rmtree(self.folder)\n",
    "        os.makedirs(self.folder)\n",
    "\n",
    "    def api_get_json(self, uri, path):\n",
    "        \"\"\"\n",
    "        Makes request to retrive data from LTA DataMall.\n",
    "        \"\"\"\n",
    "        # authentication parameters\n",
    "        headers = {\n",
    "            \"AccountKey\": \"Qzo6MFd/SXWzO6fjzlmGvg==\",\n",
    "            \"accept\": \"application/json\",\n",
    "        }  # this is by default\n",
    "\n",
    "        # build query string & specify type of API call\n",
    "        target = urlparse(uri + path)\n",
    "        method = \"GET\"\n",
    "        body = \"\"\n",
    "\n",
    "        h = http.Http()  # get handle to http\n",
    "        response, content = h.request(\n",
    "            target.geturl(), method, body, headers)  # retrieve data\n",
    "\n",
    "        # get data from content\n",
    "        jsonObj = json.loads(content)  # dictonary\n",
    "        data = jsonObj[\"value\"]\n",
    "        return data\n",
    "\n",
    "    def download_speedband(self):\n",
    "        \"\"\"\n",
    "        Retrieve speedband data from LTA DataMall. Location is split into start latitude & longitude and end latitude & longitude (of type float).\n",
    "        Store as csv in assets folder.\n",
    "        \"\"\"\n",
    "        uri = \"http://datamall2.mytransport.sg\"  # resource URL\n",
    "        speed_path = \"/ltaodataservice/TrafficSpeedBandsv2\"\n",
    "        data = self.api_get_json(uri, speed_path)\n",
    "        df = pd.DataFrame(data)\n",
    "\n",
    "        df['AvgSpeed'] = df['SpeedBand'].apply(\n",
    "            lambda x: x * 10 - 4.5)\n",
    "\n",
    "        df[\"Location\"] = df[\"Location\"].apply(lambda x: x.split(\" \"))\n",
    "        df[\n",
    "            [\"StartLatitude\", \"StartLongitude\", \"EndLatitude\", \"EndLongitude\"]\n",
    "        ] = pd.DataFrame(df[\"Location\"].to_list())\n",
    "        df = df.astype(\n",
    "            {\n",
    "                \"StartLatitude\": \"float\",\n",
    "                \"StartLongitude\": \"float\",\n",
    "                \"EndLatitude\": \"float\",\n",
    "                \"EndLongitude\": \"float\",\n",
    "            }\n",
    "        )\n",
    "        # average latitude, longitude of stretch of road\n",
    "        df[\"AvgLat\"] = (df.StartLatitude + df.EndLatitude) / 2\n",
    "        df[\"AvgLon\"] = (df.StartLongitude + df.EndLongitude) / 2\n",
    "\n",
    "        # Generate a unique filename with timestamp\n",
    "        timestamp = datetime.datetime.now().strftime(\"%Y%m%d%H%M%S\")\n",
    "        filename = f\"speedbands_{timestamp}.csv\"\n",
    "\n",
    "        # Save file\n",
    "        df.to_csv(os.path.join(self.folder, filename), index=False)\n",
    "\n",
    "    def download_images(self):\n",
    "        \"\"\"\n",
    "        Retrieves traffic images of 87 cameras from LTA DataMall.\n",
    "        Store images in assets folder.\n",
    "        \"\"\"\n",
    "        uri = \"http://datamall2.mytransport.sg\"  # resource URL\n",
    "        img_path = \"/ltaodataservice/Traffic-Imagesv2\"\n",
    "        data = self.api_get_json(uri, img_path)\n",
    "        for i, dict in enumerate(data):\n",
    "            link = dict[\"ImageLink\"]\n",
    "            filename = link.split(\"/\")[5].split(\"?\")[0]\n",
    "            urllib.request.urlretrieve(\n",
    "                link, os.path.join(self.folder, filename))\n",
    "            \n",
    "    def download_train_images(self):\n",
    "        \"\"\"\n",
    "        Retrieves traffic images of 87 cameras from LTA DataMall.\n",
    "        Store images in assets folder.\n",
    "        \"\"\"\n",
    "        uri = \"http://datamall2.mytransport.sg\"  # resource URL\n",
    "        img_path = \"/ltaodataservice/Traffic-Imagesv2\"\n",
    "        data = self.api_get_json(uri, img_path)\n",
    "\n",
    "        # Check if the folder exists, if not create it\n",
    "        if not os.path.exists(self.folder):\n",
    "            os.makedirs(self.folder)\n",
    "\n",
    "        # Check for existing images in the folder\n",
    "        existing_images = set(os.listdir(self.folder))\n",
    "\n",
    "        for i, dict in enumerate(data):\n",
    "            link = dict[\"ImageLink\"]\n",
    "            filename = link.split(\"/\")[5].split(\"?\")[0]\n",
    "\n",
    "            # Check if the image already exists, if not download and save\n",
    "            if filename not in existing_images:\n",
    "                urllib.request.urlretrieve(\n",
    "                    link, os.path.join(self.folder, filename))\n",
    "                print(f\"Downloaded {filename}\")\n",
    "\n",
    "    def download_incidents(self):\n",
    "        \"\"\"\n",
    "        Retrieves traffic incidents data from LTA DataMall.\n",
    "        Store as csv in assets folder.\n",
    "        \"\"\"\n",
    "        uri = \"http://datamall2.mytransport.sg\"  # resource URL\n",
    "        incident_path = \"/ltaodataservice/TrafficIncidents\"\n",
    "        data = self.api_get_json(uri, incident_path)\n",
    "        df = pd.DataFrame(data)\n",
    "\n",
    "        # Generate a unique filename with timestamp\n",
    "        timestamp = datetime.datetime.now().strftime(\"%Y%m%d%H%M%S\")\n",
    "        filename = f\"incidents_{timestamp}.csv\"\n",
    "\n",
    "        # Save file\n",
    "        df.to_csv(os.path.join(self.folder, filename), index=False)\n",
    "\n",
    "    def schedule_image_download(self, interval_minutes):\n",
    "        \"\"\"\n",
    "        Schedule image download at specified intervals.\n",
    "        \"\"\"\n",
    "        print(f\"Scheduling image download every {interval_minutes} minutes...\")\n",
    "        schedule.every(interval_minutes).minutes.do(self.download_train_images)\n",
    "\n",
    "        while True:\n",
    "            schedule.run_pending()\n",
    "            time.sleep(1)\n",
    "\n",
    "    def clear_data(self):\n",
    "        shutil.rmtree(self.folder)"
   ]
  },
  {
   "cell_type": "code",
   "execution_count": 4,
   "metadata": {},
   "outputs": [
    {
     "name": "stdout",
     "output_type": "stream",
     "text": [
      "An error occurred: Expecting value: line 1 column 1 (char 0)\n"
     ]
    }
   ],
   "source": [
    "dir = r\"C:\\Users\\User\\Desktop\\DSO\\traffic-prediction\\backend\"\n",
    "api_call = ApiCall(dir)\n",
    "while True:\n",
    "    try:\n",
    "        # Download incidents\n",
    "        api_call.download_incidents()\n",
    "\n",
    "        # Download speedbands\n",
    "        api_call.download_speedband()\n",
    "\n",
    "        # Download images\n",
    "        api_call.download_train_images()\n",
    "\n",
    "        print(\"Downloads completed successfully.\")\n",
    "\n",
    "        # Sleep for some time before next iteration\n",
    "        time.sleep(60)  # Sleep for 1 minute\n",
    "    except Exception as e:\n",
    "        print(f\"An error occurred: {e}\")\n",
    "        # Sleep before retrying\n",
    "        time.sleep(30)  # Sleep for 30 seconds before retrying"
   ]
  },
  {
   "cell_type": "code",
   "execution_count": 7,
   "metadata": {},
   "outputs": [
    {
     "name": "stdout",
     "output_type": "stream",
     "text": [
      "['1112', '1113', '1111']\n"
     ]
    }
   ],
   "source": [
    "import os\n",
    "import pandas as pd\n",
    "\n",
    "# Directory of images\n",
    "image_dir = r\"C:\\Users\\User\\Desktop\\DSO\\traffic-prediction\\backend\\temp\"\n",
    "\n",
    "# CSV file path\n",
    "csv_file = r\"C:\\Users\\User\\Desktop\\DSO\\traffic-prediction\\backend\\image-processing\\label_filters.csv\"\n",
    "\n",
    "# Get the list of camera IDs from the directory\n",
    "image_files = os.listdir(image_dir)\n",
    "camera_ids_directory = [filename.split(\"_\")[0] for filename in image_files]\n",
    "\n",
    "# Read the CSV file\n",
    "df = pd.read_csv(csv_file)\n",
    "\n",
    "# Get the list of camera IDs from the CSV file\n",
    "df[\"Camera_Id\"] = df[\"Camera_Id\"].astype(str)\n",
    "camera_ids_csv = df[\"Camera_Id\"].tolist()\n",
    "\n",
    "# Find the camera IDs that are present in the directory but not in the CSV file\n",
    "camera_ids_not_in_csv = list(set(camera_ids_directory) - set(camera_ids_csv))\n",
    "\n",
    "# Print the camera IDs\n",
    "print(camera_ids_not_in_csv)\n"
   ]
  },
  {
   "cell_type": "code",
   "execution_count": 2,
   "metadata": {},
   "outputs": [],
   "source": [
    "from ultralytics import YOLO\n",
    "import os\n",
    "import torch\n",
    "from PIL import Image\n",
    "import numpy as np\n",
    "from glob import glob\n",
    "from tqdm import tqdm\n",
    "from ultralytics.data.augment import LetterBox\n",
    "import cv2"
   ]
  },
  {
   "cell_type": "code",
   "execution_count": 3,
   "metadata": {},
   "outputs": [
    {
     "data": {
      "text/plain": [
       "YOLO(\n",
       "  (model): DetectionModel(\n",
       "    (model): Sequential(\n",
       "      (0): Conv(\n",
       "        (conv): Conv2d(3, 80, kernel_size=(3, 3), stride=(2, 2), padding=(1, 1), bias=False)\n",
       "        (bn): BatchNorm2d(80, eps=0.001, momentum=0.03, affine=True, track_running_stats=True)\n",
       "        (act): SiLU(inplace=True)\n",
       "      )\n",
       "      (1): Conv(\n",
       "        (conv): Conv2d(80, 160, kernel_size=(3, 3), stride=(2, 2), padding=(1, 1), bias=False)\n",
       "        (bn): BatchNorm2d(160, eps=0.001, momentum=0.03, affine=True, track_running_stats=True)\n",
       "        (act): SiLU(inplace=True)\n",
       "      )\n",
       "      (2): C2f(\n",
       "        (cv1): Conv(\n",
       "          (conv): Conv2d(160, 160, kernel_size=(1, 1), stride=(1, 1), bias=False)\n",
       "          (bn): BatchNorm2d(160, eps=0.001, momentum=0.03, affine=True, track_running_stats=True)\n",
       "          (act): SiLU(inplace=True)\n",
       "        )\n",
       "        (cv2): Conv(\n",
       "          (conv): Conv2d(400, 160, kernel_size=(1, 1), stride=(1, 1), bias=False)\n",
       "          (bn): BatchNorm2d(160, eps=0.001, momentum=0.03, affine=True, track_running_stats=True)\n",
       "          (act): SiLU(inplace=True)\n",
       "        )\n",
       "        (m): ModuleList(\n",
       "          (0-2): 3 x Bottleneck(\n",
       "            (cv1): Conv(\n",
       "              (conv): Conv2d(80, 80, kernel_size=(3, 3), stride=(1, 1), padding=(1, 1), bias=False)\n",
       "              (bn): BatchNorm2d(80, eps=0.001, momentum=0.03, affine=True, track_running_stats=True)\n",
       "              (act): SiLU(inplace=True)\n",
       "            )\n",
       "            (cv2): Conv(\n",
       "              (conv): Conv2d(80, 80, kernel_size=(3, 3), stride=(1, 1), padding=(1, 1), bias=False)\n",
       "              (bn): BatchNorm2d(80, eps=0.001, momentum=0.03, affine=True, track_running_stats=True)\n",
       "              (act): SiLU(inplace=True)\n",
       "            )\n",
       "          )\n",
       "        )\n",
       "      )\n",
       "      (3): Conv(\n",
       "        (conv): Conv2d(160, 320, kernel_size=(3, 3), stride=(2, 2), padding=(1, 1), bias=False)\n",
       "        (bn): BatchNorm2d(320, eps=0.001, momentum=0.03, affine=True, track_running_stats=True)\n",
       "        (act): SiLU(inplace=True)\n",
       "      )\n",
       "      (4): C2f(\n",
       "        (cv1): Conv(\n",
       "          (conv): Conv2d(320, 320, kernel_size=(1, 1), stride=(1, 1), bias=False)\n",
       "          (bn): BatchNorm2d(320, eps=0.001, momentum=0.03, affine=True, track_running_stats=True)\n",
       "          (act): SiLU(inplace=True)\n",
       "        )\n",
       "        (cv2): Conv(\n",
       "          (conv): Conv2d(1280, 320, kernel_size=(1, 1), stride=(1, 1), bias=False)\n",
       "          (bn): BatchNorm2d(320, eps=0.001, momentum=0.03, affine=True, track_running_stats=True)\n",
       "          (act): SiLU(inplace=True)\n",
       "        )\n",
       "        (m): ModuleList(\n",
       "          (0-5): 6 x Bottleneck(\n",
       "            (cv1): Conv(\n",
       "              (conv): Conv2d(160, 160, kernel_size=(3, 3), stride=(1, 1), padding=(1, 1), bias=False)\n",
       "              (bn): BatchNorm2d(160, eps=0.001, momentum=0.03, affine=True, track_running_stats=True)\n",
       "              (act): SiLU(inplace=True)\n",
       "            )\n",
       "            (cv2): Conv(\n",
       "              (conv): Conv2d(160, 160, kernel_size=(3, 3), stride=(1, 1), padding=(1, 1), bias=False)\n",
       "              (bn): BatchNorm2d(160, eps=0.001, momentum=0.03, affine=True, track_running_stats=True)\n",
       "              (act): SiLU(inplace=True)\n",
       "            )\n",
       "          )\n",
       "        )\n",
       "      )\n",
       "      (5): Conv(\n",
       "        (conv): Conv2d(320, 640, kernel_size=(3, 3), stride=(2, 2), padding=(1, 1), bias=False)\n",
       "        (bn): BatchNorm2d(640, eps=0.001, momentum=0.03, affine=True, track_running_stats=True)\n",
       "        (act): SiLU(inplace=True)\n",
       "      )\n",
       "      (6): C2f(\n",
       "        (cv1): Conv(\n",
       "          (conv): Conv2d(640, 640, kernel_size=(1, 1), stride=(1, 1), bias=False)\n",
       "          (bn): BatchNorm2d(640, eps=0.001, momentum=0.03, affine=True, track_running_stats=True)\n",
       "          (act): SiLU(inplace=True)\n",
       "        )\n",
       "        (cv2): Conv(\n",
       "          (conv): Conv2d(2560, 640, kernel_size=(1, 1), stride=(1, 1), bias=False)\n",
       "          (bn): BatchNorm2d(640, eps=0.001, momentum=0.03, affine=True, track_running_stats=True)\n",
       "          (act): SiLU(inplace=True)\n",
       "        )\n",
       "        (m): ModuleList(\n",
       "          (0-5): 6 x Bottleneck(\n",
       "            (cv1): Conv(\n",
       "              (conv): Conv2d(320, 320, kernel_size=(3, 3), stride=(1, 1), padding=(1, 1), bias=False)\n",
       "              (bn): BatchNorm2d(320, eps=0.001, momentum=0.03, affine=True, track_running_stats=True)\n",
       "              (act): SiLU(inplace=True)\n",
       "            )\n",
       "            (cv2): Conv(\n",
       "              (conv): Conv2d(320, 320, kernel_size=(3, 3), stride=(1, 1), padding=(1, 1), bias=False)\n",
       "              (bn): BatchNorm2d(320, eps=0.001, momentum=0.03, affine=True, track_running_stats=True)\n",
       "              (act): SiLU(inplace=True)\n",
       "            )\n",
       "          )\n",
       "        )\n",
       "      )\n",
       "      (7): Conv(\n",
       "        (conv): Conv2d(640, 640, kernel_size=(3, 3), stride=(2, 2), padding=(1, 1), bias=False)\n",
       "        (bn): BatchNorm2d(640, eps=0.001, momentum=0.03, affine=True, track_running_stats=True)\n",
       "        (act): SiLU(inplace=True)\n",
       "      )\n",
       "      (8): C2f(\n",
       "        (cv1): Conv(\n",
       "          (conv): Conv2d(640, 640, kernel_size=(1, 1), stride=(1, 1), bias=False)\n",
       "          (bn): BatchNorm2d(640, eps=0.001, momentum=0.03, affine=True, track_running_stats=True)\n",
       "          (act): SiLU(inplace=True)\n",
       "        )\n",
       "        (cv2): Conv(\n",
       "          (conv): Conv2d(1600, 640, kernel_size=(1, 1), stride=(1, 1), bias=False)\n",
       "          (bn): BatchNorm2d(640, eps=0.001, momentum=0.03, affine=True, track_running_stats=True)\n",
       "          (act): SiLU(inplace=True)\n",
       "        )\n",
       "        (m): ModuleList(\n",
       "          (0-2): 3 x Bottleneck(\n",
       "            (cv1): Conv(\n",
       "              (conv): Conv2d(320, 320, kernel_size=(3, 3), stride=(1, 1), padding=(1, 1), bias=False)\n",
       "              (bn): BatchNorm2d(320, eps=0.001, momentum=0.03, affine=True, track_running_stats=True)\n",
       "              (act): SiLU(inplace=True)\n",
       "            )\n",
       "            (cv2): Conv(\n",
       "              (conv): Conv2d(320, 320, kernel_size=(3, 3), stride=(1, 1), padding=(1, 1), bias=False)\n",
       "              (bn): BatchNorm2d(320, eps=0.001, momentum=0.03, affine=True, track_running_stats=True)\n",
       "              (act): SiLU(inplace=True)\n",
       "            )\n",
       "          )\n",
       "        )\n",
       "      )\n",
       "      (9): SPPF(\n",
       "        (cv1): Conv(\n",
       "          (conv): Conv2d(640, 320, kernel_size=(1, 1), stride=(1, 1), bias=False)\n",
       "          (bn): BatchNorm2d(320, eps=0.001, momentum=0.03, affine=True, track_running_stats=True)\n",
       "          (act): SiLU(inplace=True)\n",
       "        )\n",
       "        (cv2): Conv(\n",
       "          (conv): Conv2d(1280, 640, kernel_size=(1, 1), stride=(1, 1), bias=False)\n",
       "          (bn): BatchNorm2d(640, eps=0.001, momentum=0.03, affine=True, track_running_stats=True)\n",
       "          (act): SiLU(inplace=True)\n",
       "        )\n",
       "        (m): MaxPool2d(kernel_size=5, stride=1, padding=2, dilation=1, ceil_mode=False)\n",
       "      )\n",
       "      (10): Upsample(scale_factor=2.0, mode='nearest')\n",
       "      (11): Concat()\n",
       "      (12): C2f(\n",
       "        (cv1): Conv(\n",
       "          (conv): Conv2d(1280, 640, kernel_size=(1, 1), stride=(1, 1), bias=False)\n",
       "          (bn): BatchNorm2d(640, eps=0.001, momentum=0.03, affine=True, track_running_stats=True)\n",
       "          (act): SiLU(inplace=True)\n",
       "        )\n",
       "        (cv2): Conv(\n",
       "          (conv): Conv2d(1600, 640, kernel_size=(1, 1), stride=(1, 1), bias=False)\n",
       "          (bn): BatchNorm2d(640, eps=0.001, momentum=0.03, affine=True, track_running_stats=True)\n",
       "          (act): SiLU(inplace=True)\n",
       "        )\n",
       "        (m): ModuleList(\n",
       "          (0-2): 3 x Bottleneck(\n",
       "            (cv1): Conv(\n",
       "              (conv): Conv2d(320, 320, kernel_size=(3, 3), stride=(1, 1), padding=(1, 1), bias=False)\n",
       "              (bn): BatchNorm2d(320, eps=0.001, momentum=0.03, affine=True, track_running_stats=True)\n",
       "              (act): SiLU(inplace=True)\n",
       "            )\n",
       "            (cv2): Conv(\n",
       "              (conv): Conv2d(320, 320, kernel_size=(3, 3), stride=(1, 1), padding=(1, 1), bias=False)\n",
       "              (bn): BatchNorm2d(320, eps=0.001, momentum=0.03, affine=True, track_running_stats=True)\n",
       "              (act): SiLU(inplace=True)\n",
       "            )\n",
       "          )\n",
       "        )\n",
       "      )\n",
       "      (13): Upsample(scale_factor=2.0, mode='nearest')\n",
       "      (14): Concat()\n",
       "      (15): C2f(\n",
       "        (cv1): Conv(\n",
       "          (conv): Conv2d(960, 320, kernel_size=(1, 1), stride=(1, 1), bias=False)\n",
       "          (bn): BatchNorm2d(320, eps=0.001, momentum=0.03, affine=True, track_running_stats=True)\n",
       "          (act): SiLU(inplace=True)\n",
       "        )\n",
       "        (cv2): Conv(\n",
       "          (conv): Conv2d(800, 320, kernel_size=(1, 1), stride=(1, 1), bias=False)\n",
       "          (bn): BatchNorm2d(320, eps=0.001, momentum=0.03, affine=True, track_running_stats=True)\n",
       "          (act): SiLU(inplace=True)\n",
       "        )\n",
       "        (m): ModuleList(\n",
       "          (0-2): 3 x Bottleneck(\n",
       "            (cv1): Conv(\n",
       "              (conv): Conv2d(160, 160, kernel_size=(3, 3), stride=(1, 1), padding=(1, 1), bias=False)\n",
       "              (bn): BatchNorm2d(160, eps=0.001, momentum=0.03, affine=True, track_running_stats=True)\n",
       "              (act): SiLU(inplace=True)\n",
       "            )\n",
       "            (cv2): Conv(\n",
       "              (conv): Conv2d(160, 160, kernel_size=(3, 3), stride=(1, 1), padding=(1, 1), bias=False)\n",
       "              (bn): BatchNorm2d(160, eps=0.001, momentum=0.03, affine=True, track_running_stats=True)\n",
       "              (act): SiLU(inplace=True)\n",
       "            )\n",
       "          )\n",
       "        )\n",
       "      )\n",
       "      (16): Conv(\n",
       "        (conv): Conv2d(320, 320, kernel_size=(3, 3), stride=(2, 2), padding=(1, 1), bias=False)\n",
       "        (bn): BatchNorm2d(320, eps=0.001, momentum=0.03, affine=True, track_running_stats=True)\n",
       "        (act): SiLU(inplace=True)\n",
       "      )\n",
       "      (17): Concat()\n",
       "      (18): C2f(\n",
       "        (cv1): Conv(\n",
       "          (conv): Conv2d(960, 640, kernel_size=(1, 1), stride=(1, 1), bias=False)\n",
       "          (bn): BatchNorm2d(640, eps=0.001, momentum=0.03, affine=True, track_running_stats=True)\n",
       "          (act): SiLU(inplace=True)\n",
       "        )\n",
       "        (cv2): Conv(\n",
       "          (conv): Conv2d(1600, 640, kernel_size=(1, 1), stride=(1, 1), bias=False)\n",
       "          (bn): BatchNorm2d(640, eps=0.001, momentum=0.03, affine=True, track_running_stats=True)\n",
       "          (act): SiLU(inplace=True)\n",
       "        )\n",
       "        (m): ModuleList(\n",
       "          (0-2): 3 x Bottleneck(\n",
       "            (cv1): Conv(\n",
       "              (conv): Conv2d(320, 320, kernel_size=(3, 3), stride=(1, 1), padding=(1, 1), bias=False)\n",
       "              (bn): BatchNorm2d(320, eps=0.001, momentum=0.03, affine=True, track_running_stats=True)\n",
       "              (act): SiLU(inplace=True)\n",
       "            )\n",
       "            (cv2): Conv(\n",
       "              (conv): Conv2d(320, 320, kernel_size=(3, 3), stride=(1, 1), padding=(1, 1), bias=False)\n",
       "              (bn): BatchNorm2d(320, eps=0.001, momentum=0.03, affine=True, track_running_stats=True)\n",
       "              (act): SiLU(inplace=True)\n",
       "            )\n",
       "          )\n",
       "        )\n",
       "      )\n",
       "      (19): Conv(\n",
       "        (conv): Conv2d(640, 640, kernel_size=(3, 3), stride=(2, 2), padding=(1, 1), bias=False)\n",
       "        (bn): BatchNorm2d(640, eps=0.001, momentum=0.03, affine=True, track_running_stats=True)\n",
       "        (act): SiLU(inplace=True)\n",
       "      )\n",
       "      (20): Concat()\n",
       "      (21): C2f(\n",
       "        (cv1): Conv(\n",
       "          (conv): Conv2d(1280, 640, kernel_size=(1, 1), stride=(1, 1), bias=False)\n",
       "          (bn): BatchNorm2d(640, eps=0.001, momentum=0.03, affine=True, track_running_stats=True)\n",
       "          (act): SiLU(inplace=True)\n",
       "        )\n",
       "        (cv2): Conv(\n",
       "          (conv): Conv2d(1600, 640, kernel_size=(1, 1), stride=(1, 1), bias=False)\n",
       "          (bn): BatchNorm2d(640, eps=0.001, momentum=0.03, affine=True, track_running_stats=True)\n",
       "          (act): SiLU(inplace=True)\n",
       "        )\n",
       "        (m): ModuleList(\n",
       "          (0-2): 3 x Bottleneck(\n",
       "            (cv1): Conv(\n",
       "              (conv): Conv2d(320, 320, kernel_size=(3, 3), stride=(1, 1), padding=(1, 1), bias=False)\n",
       "              (bn): BatchNorm2d(320, eps=0.001, momentum=0.03, affine=True, track_running_stats=True)\n",
       "              (act): SiLU(inplace=True)\n",
       "            )\n",
       "            (cv2): Conv(\n",
       "              (conv): Conv2d(320, 320, kernel_size=(3, 3), stride=(1, 1), padding=(1, 1), bias=False)\n",
       "              (bn): BatchNorm2d(320, eps=0.001, momentum=0.03, affine=True, track_running_stats=True)\n",
       "              (act): SiLU(inplace=True)\n",
       "            )\n",
       "          )\n",
       "        )\n",
       "      )\n",
       "      (22): Detect(\n",
       "        (cv2): ModuleList(\n",
       "          (0): Sequential(\n",
       "            (0): Conv(\n",
       "              (conv): Conv2d(320, 80, kernel_size=(3, 3), stride=(1, 1), padding=(1, 1), bias=False)\n",
       "              (bn): BatchNorm2d(80, eps=0.001, momentum=0.03, affine=True, track_running_stats=True)\n",
       "              (act): SiLU(inplace=True)\n",
       "            )\n",
       "            (1): Conv(\n",
       "              (conv): Conv2d(80, 80, kernel_size=(3, 3), stride=(1, 1), padding=(1, 1), bias=False)\n",
       "              (bn): BatchNorm2d(80, eps=0.001, momentum=0.03, affine=True, track_running_stats=True)\n",
       "              (act): SiLU(inplace=True)\n",
       "            )\n",
       "            (2): Conv2d(80, 64, kernel_size=(1, 1), stride=(1, 1))\n",
       "          )\n",
       "          (1-2): 2 x Sequential(\n",
       "            (0): Conv(\n",
       "              (conv): Conv2d(640, 80, kernel_size=(3, 3), stride=(1, 1), padding=(1, 1), bias=False)\n",
       "              (bn): BatchNorm2d(80, eps=0.001, momentum=0.03, affine=True, track_running_stats=True)\n",
       "              (act): SiLU(inplace=True)\n",
       "            )\n",
       "            (1): Conv(\n",
       "              (conv): Conv2d(80, 80, kernel_size=(3, 3), stride=(1, 1), padding=(1, 1), bias=False)\n",
       "              (bn): BatchNorm2d(80, eps=0.001, momentum=0.03, affine=True, track_running_stats=True)\n",
       "              (act): SiLU(inplace=True)\n",
       "            )\n",
       "            (2): Conv2d(80, 64, kernel_size=(1, 1), stride=(1, 1))\n",
       "          )\n",
       "        )\n",
       "        (cv3): ModuleList(\n",
       "          (0): Sequential(\n",
       "            (0): Conv(\n",
       "              (conv): Conv2d(320, 320, kernel_size=(3, 3), stride=(1, 1), padding=(1, 1), bias=False)\n",
       "              (bn): BatchNorm2d(320, eps=0.001, momentum=0.03, affine=True, track_running_stats=True)\n",
       "              (act): SiLU(inplace=True)\n",
       "            )\n",
       "            (1): Conv(\n",
       "              (conv): Conv2d(320, 320, kernel_size=(3, 3), stride=(1, 1), padding=(1, 1), bias=False)\n",
       "              (bn): BatchNorm2d(320, eps=0.001, momentum=0.03, affine=True, track_running_stats=True)\n",
       "              (act): SiLU(inplace=True)\n",
       "            )\n",
       "            (2): Conv2d(320, 80, kernel_size=(1, 1), stride=(1, 1))\n",
       "          )\n",
       "          (1-2): 2 x Sequential(\n",
       "            (0): Conv(\n",
       "              (conv): Conv2d(640, 320, kernel_size=(3, 3), stride=(1, 1), padding=(1, 1), bias=False)\n",
       "              (bn): BatchNorm2d(320, eps=0.001, momentum=0.03, affine=True, track_running_stats=True)\n",
       "              (act): SiLU(inplace=True)\n",
       "            )\n",
       "            (1): Conv(\n",
       "              (conv): Conv2d(320, 320, kernel_size=(3, 3), stride=(1, 1), padding=(1, 1), bias=False)\n",
       "              (bn): BatchNorm2d(320, eps=0.001, momentum=0.03, affine=True, track_running_stats=True)\n",
       "              (act): SiLU(inplace=True)\n",
       "            )\n",
       "            (2): Conv2d(320, 80, kernel_size=(1, 1), stride=(1, 1))\n",
       "          )\n",
       "        )\n",
       "        (dfl): DFL(\n",
       "          (conv): Conv2d(16, 1, kernel_size=(1, 1), stride=(1, 1), bias=False)\n",
       "        )\n",
       "      )\n",
       "    )\n",
       "  )\n",
       ")"
      ]
     },
     "execution_count": 3,
     "metadata": {},
     "output_type": "execute_result"
    }
   ],
   "source": [
    "model = YOLO('yolov8x.pt')\n",
    "model.to('cuda')"
   ]
  },
  {
   "cell_type": "code",
   "execution_count": 8,
   "metadata": {},
   "outputs": [],
   "source": [
    "images_folder = r\"C:\\Users\\User\\Desktop\\DSO\\traffic-prediction\\backend\\assets4\"\n",
    "output_folder = r\"C:\\Users\\User\\Desktop\\DSO\\traffic-prediction\\backend\\assets4_labels\"\n",
    "classes_file = r\"C:\\Users\\User\\Desktop\\DSO\\traffic-prediction\\backend\\assets4_labels\\classes.txt\""
   ]
  },
  {
   "cell_type": "code",
   "execution_count": 9,
   "metadata": {},
   "outputs": [],
   "source": [
    "with open(classes_file, \"r\") as f:\n",
    "    class_names_to_keep = f.read().splitlines()\n",
    "class_id_mapping = {class_name: i for i, class_name in enumerate(class_names_to_keep)}"
   ]
  },
  {
   "cell_type": "code",
   "execution_count": 10,
   "metadata": {},
   "outputs": [
    {
     "data": {
      "text/plain": [
       "{'car': 0, 'motorcycle': 1, 'bus': 2, 'truck': 3}"
      ]
     },
     "execution_count": 10,
     "metadata": {},
     "output_type": "execute_result"
    }
   ],
   "source": [
    "class_id_mapping"
   ]
  },
  {
   "cell_type": "code",
   "execution_count": 11,
   "metadata": {},
   "outputs": [
    {
     "name": "stderr",
     "output_type": "stream",
     "text": [
      "Processing images:   0%|          | 0/810 [00:00<?, ?it/s]"
     ]
    },
    {
     "name": "stdout",
     "output_type": "stream",
     "text": [
      "C:\\Users\\User\\Desktop\\DSO\\traffic-prediction\\backend\\assets4_labels\\1001_1403_20240127141006_521019.txt\n",
      "\n",
      "0: 640x640 1 clock, 27.0ms\n",
      "Speed: 15.0ms preprocess, 27.0ms inference, 410.0ms postprocess per image at shape (1, 3, 640, 640)\n"
     ]
    },
    {
     "name": "stderr",
     "output_type": "stream",
     "text": [
      "Processing results: 100%|██████████| 1/1 [00:00<00:00, 116.12it/s]\n",
      "Processing images:   0%|          | 1/810 [00:02<27:18,  2.03s/it]"
     ]
    },
    {
     "name": "stdout",
     "output_type": "stream",
     "text": [
      "C:\\Users\\User\\Desktop\\DSO\\traffic-prediction\\backend\\assets4_labels\\1001_1413_20240127141504_495410.txt\n",
      "\n",
      "0: 640x640 1 car, 1 clock, 27.9ms\n",
      "Speed: 4.0ms preprocess, 27.9ms inference, 3.0ms postprocess per image at shape (1, 3, 640, 640)\n"
     ]
    },
    {
     "name": "stderr",
     "output_type": "stream",
     "text": [
      "Processing results: 100%|██████████| 1/1 [00:00<00:00, 1000.31it/s]"
     ]
    },
    {
     "name": "stdout",
     "output_type": "stream",
     "text": [
      "C:\\Users\\User\\Desktop\\DSO\\traffic-prediction\\backend\\assets4_labels\\1001_1418_20240127142002_565152.txt\n",
      "\n",
      "0: 640x640 1 clock, 27.1ms\n",
      "Speed: 3.1ms preprocess, 27.1ms inference, 1.1ms postprocess per image at shape (1, 3, 640, 640)\n"
     ]
    },
    {
     "name": "stderr",
     "output_type": "stream",
     "text": [
      "\n",
      "Processing results: 100%|██████████| 1/1 [00:00<00:00, 992.26it/s]"
     ]
    },
    {
     "name": "stdout",
     "output_type": "stream",
     "text": [
      "C:\\Users\\User\\Desktop\\DSO\\traffic-prediction\\backend\\assets4_labels\\1001_1418_20240127142507_535349.txt\n",
      "\n",
      "0: 640x640 1 clock, 26.4ms\n",
      "Speed: 2.0ms preprocess, 26.4ms inference, 2.0ms postprocess per image at shape (1, 3, 640, 640)\n"
     ]
    },
    {
     "name": "stderr",
     "output_type": "stream",
     "text": [
      "\n",
      "Processing results: 100%|██████████| 1/1 [00:00<00:00, 995.33it/s]\n",
      "Processing images:   0%|          | 4/810 [00:02<05:35,  2.41it/s]"
     ]
    },
    {
     "name": "stdout",
     "output_type": "stream",
     "text": [
      "C:\\Users\\User\\Desktop\\DSO\\traffic-prediction\\backend\\assets4_labels\\1001_1423_20240127143006_974856.txt\n",
      "\n",
      "0: 640x640 1 clock, 26.5ms\n",
      "Speed: 3.0ms preprocess, 26.5ms inference, 2.2ms postprocess per image at shape (1, 3, 640, 640)\n"
     ]
    },
    {
     "name": "stderr",
     "output_type": "stream",
     "text": [
      "Processing results: 100%|██████████| 1/1 [00:00<00:00, 1001.74it/s]"
     ]
    },
    {
     "name": "stdout",
     "output_type": "stream",
     "text": [
      "C:\\Users\\User\\Desktop\\DSO\\traffic-prediction\\backend\\assets4_labels\\1001_1433_20240127143504_975398.txt\n",
      "\n",
      "0: 640x640 1 clock, 27.9ms\n"
     ]
    },
    {
     "name": "stderr",
     "output_type": "stream",
     "text": [
      "\n"
     ]
    },
    {
     "name": "stdout",
     "output_type": "stream",
     "text": [
      "Speed: 1.0ms preprocess, 27.9ms inference, 1.0ms postprocess per image at shape (1, 3, 640, 640)\n"
     ]
    },
    {
     "name": "stderr",
     "output_type": "stream",
     "text": [
      "Processing results: 100%|██████████| 1/1 [00:00<00:00, 999.83it/s]"
     ]
    },
    {
     "name": "stdout",
     "output_type": "stream",
     "text": [
      "C:\\Users\\User\\Desktop\\DSO\\traffic-prediction\\backend\\assets4_labels\\1001_1438_20240127144003_489797.txt\n",
      "\n"
     ]
    },
    {
     "name": "stderr",
     "output_type": "stream",
     "text": [
      "\n"
     ]
    },
    {
     "name": "stdout",
     "output_type": "stream",
     "text": [
      "0: 640x640 1 car, 1 clock, 25.3ms\n",
      "Speed: 2.0ms preprocess, 25.3ms inference, 1.0ms postprocess per image at shape (1, 3, 640, 640)\n"
     ]
    },
    {
     "name": "stderr",
     "output_type": "stream",
     "text": [
      "Processing results: 100%|██████████| 1/1 [00:00<00:00, 1088.86it/s]\n",
      "Processing images:   1%|          | 7/810 [00:02<02:50,  4.71it/s]"
     ]
    },
    {
     "name": "stdout",
     "output_type": "stream",
     "text": [
      "C:\\Users\\User\\Desktop\\DSO\\traffic-prediction\\backend\\assets4_labels\\1001_1443_20240127144513_504950.txt\n",
      "\n",
      "0: 640x640 1 clock, 25.3ms\n",
      "Speed: 1.5ms preprocess, 25.3ms inference, 2.0ms postprocess per image at shape (1, 3, 640, 640)\n"
     ]
    },
    {
     "name": "stderr",
     "output_type": "stream",
     "text": [
      "Processing results: 100%|██████████| 1/1 [00:00<00:00, 1000.31it/s]"
     ]
    },
    {
     "name": "stdout",
     "output_type": "stream",
     "text": [
      "C:\\Users\\User\\Desktop\\DSO\\traffic-prediction\\backend\\assets4_labels\\1001_1448_20240127145009_100101.txt\n",
      "\n"
     ]
    },
    {
     "name": "stderr",
     "output_type": "stream",
     "text": [
      "\n"
     ]
    },
    {
     "name": "stdout",
     "output_type": "stream",
     "text": [
      "0: 640x640 2 cars, 1 clock, 25.6ms\n",
      "Speed: 4.1ms preprocess, 25.6ms inference, 2.0ms postprocess per image at shape (1, 3, 640, 640)\n"
     ]
    },
    {
     "name": "stderr",
     "output_type": "stream",
     "text": [
      "Processing results: 100%|██████████| 1/1 [00:00<00:00, 250.05it/s]"
     ]
    },
    {
     "name": "stdout",
     "output_type": "stream",
     "text": [
      "C:\\Users\\User\\Desktop\\DSO\\traffic-prediction\\backend\\assets4_labels\\1002_1403_20240127141004_979756.txt\n",
      "\n",
      "0: 640x640 1 person, 1 kite, 26.0ms\n"
     ]
    },
    {
     "name": "stderr",
     "output_type": "stream",
     "text": [
      "\n"
     ]
    },
    {
     "name": "stdout",
     "output_type": "stream",
     "text": [
      "Speed: 4.0ms preprocess, 26.0ms inference, 1.0ms postprocess per image at shape (1, 3, 640, 640)\n"
     ]
    },
    {
     "name": "stderr",
     "output_type": "stream",
     "text": [
      "Processing results: 100%|██████████| 1/1 [00:00<00:00, 1002.22it/s]\n",
      "Processing images:   1%|          | 10/810 [00:02<01:49,  7.29it/s]"
     ]
    },
    {
     "name": "stdout",
     "output_type": "stream",
     "text": [
      "C:\\Users\\User\\Desktop\\DSO\\traffic-prediction\\backend\\assets4_labels\\1002_1413_20240127141504_549853.txt\n",
      "\n",
      "0: 640x640 3 cars, 26.3ms\n",
      "Speed: 3.9ms preprocess, 26.3ms inference, 1.0ms postprocess per image at shape (1, 3, 640, 640)\n"
     ]
    },
    {
     "name": "stderr",
     "output_type": "stream",
     "text": [
      "Processing results: 100%|██████████| 1/1 [00:00<00:00, 479.95it/s]"
     ]
    },
    {
     "name": "stdout",
     "output_type": "stream",
     "text": [
      "C:\\Users\\User\\Desktop\\DSO\\traffic-prediction\\backend\\assets4_labels\\1002_1418_20240127142002_525354.txt\n",
      "\n"
     ]
    },
    {
     "name": "stderr",
     "output_type": "stream",
     "text": [
      "\n"
     ]
    },
    {
     "name": "stdout",
     "output_type": "stream",
     "text": [
      "0: 640x640 1 kite, 25.2ms\n",
      "Speed: 1.9ms preprocess, 25.2ms inference, 2.1ms postprocess per image at shape (1, 3, 640, 640)\n"
     ]
    },
    {
     "name": "stderr",
     "output_type": "stream",
     "text": [
      "Processing results: 100%|██████████| 1/1 [00:00<00:00, 499.86it/s]"
     ]
    },
    {
     "name": "stdout",
     "output_type": "stream",
     "text": [
      "C:\\Users\\User\\Desktop\\DSO\\traffic-prediction\\backend\\assets4_labels\\1002_1418_20240127142506_521011.txt\n",
      "\n"
     ]
    },
    {
     "name": "stderr",
     "output_type": "stream",
     "text": [
      "\n"
     ]
    },
    {
     "name": "stdout",
     "output_type": "stream",
     "text": [
      "0: 640x640 1 kite, 25.7ms\n",
      "Speed: 1.0ms preprocess, 25.7ms inference, 2.0ms postprocess per image at shape (1, 3, 640, 640)\n"
     ]
    },
    {
     "name": "stderr",
     "output_type": "stream",
     "text": [
      "Processing results: 100%|██████████| 1/1 [00:00<00:00, 664.60it/s]\n",
      "Processing images:   2%|▏         | 13/810 [00:02<01:18, 10.12it/s]"
     ]
    },
    {
     "name": "stdout",
     "output_type": "stream",
     "text": [
      "C:\\Users\\User\\Desktop\\DSO\\traffic-prediction\\backend\\assets4_labels\\1002_1423_20240127143004_102505.txt\n",
      "\n",
      "0: 640x640 5 cars, 1 kite, 1 clock, 26.0ms\n",
      "Speed: 1.0ms preprocess, 26.0ms inference, 1.0ms postprocess per image at shape (1, 3, 640, 640)\n"
     ]
    },
    {
     "name": "stderr",
     "output_type": "stream",
     "text": [
      "Processing results: 100%|██████████| 1/1 [00:00<00:00, 499.38it/s]"
     ]
    },
    {
     "name": "stdout",
     "output_type": "stream",
     "text": [
      "C:\\Users\\User\\Desktop\\DSO\\traffic-prediction\\backend\\assets4_labels\\1002_1428_20240127143502_515597.txt\n",
      "\n",
      "0: 640x640 1 car, 1 clock, 25.4ms\n",
      "Speed: 1.5ms preprocess, 25.4ms inference, 1.0ms postprocess per image at shape (1, 3, 640, 640)\n"
     ]
    },
    {
     "name": "stderr",
     "output_type": "stream",
     "text": [
      "\n",
      "Processing results: 100%|██████████| 1/1 [00:00<00:00, 993.20it/s]"
     ]
    },
    {
     "name": "stdout",
     "output_type": "stream",
     "text": [
      "C:\\Users\\User\\Desktop\\DSO\\traffic-prediction\\backend\\assets4_labels\\1002_1433_20240127144003_495710.txt\n",
      "\n",
      "0: 640x640 2 cars, 1 truck, 1 kite, 1 clock, 25.5ms\n"
     ]
    },
    {
     "name": "stderr",
     "output_type": "stream",
     "text": [
      "\n"
     ]
    },
    {
     "name": "stdout",
     "output_type": "stream",
     "text": [
      "Speed: 2.0ms preprocess, 25.5ms inference, 2.0ms postprocess per image at shape (1, 3, 640, 640)\n"
     ]
    },
    {
     "name": "stderr",
     "output_type": "stream",
     "text": [
      "Processing results: 100%|██████████| 1/1 [00:00<00:00, 499.08it/s]\n",
      "Processing images:   2%|▏         | 16/810 [00:02<01:00, 13.04it/s]"
     ]
    },
    {
     "name": "stdout",
     "output_type": "stream",
     "text": [
      "C:\\Users\\User\\Desktop\\DSO\\traffic-prediction\\backend\\assets4_labels\\1002_1438_20240127144513_100985.txt\n",
      "\n",
      "0: 640x640 2 cars, 1 truck, 1 kite, 1 clock, 25.9ms\n",
      "Speed: 2.0ms preprocess, 25.9ms inference, 1.0ms postprocess per image at shape (1, 3, 640, 640)\n"
     ]
    },
    {
     "name": "stderr",
     "output_type": "stream",
     "text": [
      "Processing results: 100%|██████████| 1/1 [00:00<00:00, 499.86it/s]"
     ]
    },
    {
     "name": "stdout",
     "output_type": "stream",
     "text": [
      "C:\\Users\\User\\Desktop\\DSO\\traffic-prediction\\backend\\assets4_labels\\1002_1443_20240127145006_515054.txt\n",
      "\n"
     ]
    },
    {
     "name": "stderr",
     "output_type": "stream",
     "text": [
      "\n"
     ]
    },
    {
     "name": "stdout",
     "output_type": "stream",
     "text": [
      "0: 640x640 1 car, 1 kite, 25.6ms\n",
      "Speed: 2.0ms preprocess, 25.6ms inference, 1.0ms postprocess per image at shape (1, 3, 640, 640)\n"
     ]
    },
    {
     "name": "stderr",
     "output_type": "stream",
     "text": [
      "Processing results: 100%|██████████| 1/1 [00:00<00:00, 1002.22it/s]"
     ]
    },
    {
     "name": "stdout",
     "output_type": "stream",
     "text": [
      "C:\\Users\\User\\Desktop\\DSO\\traffic-prediction\\backend\\assets4_labels\\1003_1403_20240127141004_985610.txt\n",
      "\n"
     ]
    },
    {
     "name": "stderr",
     "output_type": "stream",
     "text": [
      "\n"
     ]
    },
    {
     "name": "stdout",
     "output_type": "stream",
     "text": [
      "0: 640x640 1 person, 7 cars, 1 clock, 25.0ms\n",
      "Speed: 2.0ms preprocess, 25.0ms inference, 1.9ms postprocess per image at shape (1, 3, 640, 640)\n"
     ]
    },
    {
     "name": "stderr",
     "output_type": "stream",
     "text": [
      "Processing results: 100%|██████████| 1/1 [00:00<00:00, 500.04it/s]\n",
      "Processing images:   2%|▏         | 19/810 [00:02<00:49, 15.82it/s]"
     ]
    },
    {
     "name": "stdout",
     "output_type": "stream",
     "text": [
      "C:\\Users\\User\\Desktop\\DSO\\traffic-prediction\\backend\\assets4_labels\\1003_1408_20240127141504_511015.txt\n",
      "\n",
      "0: 640x640 10 cars, 1 bus, 2 trucks, 26.2ms\n",
      "Speed: 3.0ms preprocess, 26.2ms inference, 3.0ms postprocess per image at shape (1, 3, 640, 640)\n"
     ]
    },
    {
     "name": "stderr",
     "output_type": "stream",
     "text": [
      "Processing results: 100%|██████████| 1/1 [00:00<00:00, 332.41it/s]"
     ]
    },
    {
     "name": "stdout",
     "output_type": "stream",
     "text": [
      "C:\\Users\\User\\Desktop\\DSO\\traffic-prediction\\backend\\assets4_labels\\1003_1418_20240127142002_519948.txt\n",
      "\n"
     ]
    },
    {
     "name": "stderr",
     "output_type": "stream",
     "text": [
      "\n"
     ]
    },
    {
     "name": "stdout",
     "output_type": "stream",
     "text": [
      "0: 640x640 10 cars, 26.2ms\n",
      "Speed: 2.0ms preprocess, 26.2ms inference, 1.0ms postprocess per image at shape (1, 3, 640, 640)\n"
     ]
    },
    {
     "name": "stderr",
     "output_type": "stream",
     "text": [
      "Processing results: 100%|██████████| 1/1 [00:00<00:00, 333.65it/s]"
     ]
    },
    {
     "name": "stdout",
     "output_type": "stream",
     "text": [
      "C:\\Users\\User\\Desktop\\DSO\\traffic-prediction\\backend\\assets4_labels\\1003_1418_20240127142506_102555.txt\n",
      "\n"
     ]
    },
    {
     "name": "stderr",
     "output_type": "stream",
     "text": [
      "\n"
     ]
    },
    {
     "name": "stdout",
     "output_type": "stream",
     "text": [
      "0: 640x640 10 cars, 25.9ms\n",
      "Speed: 1.2ms preprocess, 25.9ms inference, 1.0ms postprocess per image at shape (1, 3, 640, 640)\n"
     ]
    },
    {
     "name": "stderr",
     "output_type": "stream",
     "text": [
      "Processing results: 100%|██████████| 1/1 [00:00<00:00, 499.38it/s]\n",
      "Processing images:   3%|▎         | 22/810 [00:02<00:43, 18.09it/s]"
     ]
    },
    {
     "name": "stdout",
     "output_type": "stream",
     "text": [
      "C:\\Users\\User\\Desktop\\DSO\\traffic-prediction\\backend\\assets4_labels\\1003_1423_20240127143003_974952.txt\n",
      "\n",
      "0: 640x640 1 person, 6 cars, 1 truck, 26.2ms\n",
      "Speed: 1.0ms preprocess, 26.2ms inference, 1.0ms postprocess per image at shape (1, 3, 640, 640)\n"
     ]
    },
    {
     "name": "stderr",
     "output_type": "stream",
     "text": [
      "Processing results: 100%|██████████| 1/1 [00:00<00:00, 369.05it/s]"
     ]
    },
    {
     "name": "stdout",
     "output_type": "stream",
     "text": [
      "C:\\Users\\User\\Desktop\\DSO\\traffic-prediction\\backend\\assets4_labels\\1003_1428_20240127143502_102575.txt\n",
      "\n"
     ]
    },
    {
     "name": "stderr",
     "output_type": "stream",
     "text": [
      "\n"
     ]
    },
    {
     "name": "stdout",
     "output_type": "stream",
     "text": [
      "0: 640x640 7 cars, 1 train, 26.3ms\n",
      "Speed: 1.0ms preprocess, 26.3ms inference, 2.0ms postprocess per image at shape (1, 3, 640, 640)\n"
     ]
    },
    {
     "name": "stderr",
     "output_type": "stream",
     "text": [
      "Processing results: 100%|██████████| 1/1 [00:00<00:00, 500.63it/s]"
     ]
    },
    {
     "name": "stdout",
     "output_type": "stream",
     "text": [
      "C:\\Users\\User\\Desktop\\DSO\\traffic-prediction\\backend\\assets4_labels\\1003_1433_20240127144003_569850.txt\n",
      "\n",
      "0: 640x640 8 cars, 1 bus, 2 trucks, 26.1ms\n"
     ]
    },
    {
     "name": "stderr",
     "output_type": "stream",
     "text": [
      "\n"
     ]
    },
    {
     "name": "stdout",
     "output_type": "stream",
     "text": [
      "Speed: 1.0ms preprocess, 26.1ms inference, 2.0ms postprocess per image at shape (1, 3, 640, 640)\n"
     ]
    },
    {
     "name": "stderr",
     "output_type": "stream",
     "text": [
      "Processing results: 100%|██████████| 1/1 [00:00<00:00, 334.93it/s]\n",
      "Processing images:   3%|▎         | 25/810 [00:02<00:38, 20.26it/s]"
     ]
    },
    {
     "name": "stdout",
     "output_type": "stream",
     "text": [
      "C:\\Users\\User\\Desktop\\DSO\\traffic-prediction\\backend\\assets4_labels\\1003_1438_20240127144509_102575.txt\n",
      "\n",
      "0: 640x640 3 cars, 1 truck, 25.3ms\n",
      "Speed: 2.0ms preprocess, 25.3ms inference, 2.0ms postprocess per image at shape (1, 3, 640, 640)\n"
     ]
    },
    {
     "name": "stderr",
     "output_type": "stream",
     "text": [
      "Processing results: 100%|██████████| 1/1 [00:00<00:00, 460.15it/s]"
     ]
    },
    {
     "name": "stdout",
     "output_type": "stream",
     "text": [
      "C:\\Users\\User\\Desktop\\DSO\\traffic-prediction\\backend\\assets4_labels\\1003_1443_20240127145004_981021.txt\n",
      "\n"
     ]
    },
    {
     "name": "stderr",
     "output_type": "stream",
     "text": [
      "\n"
     ]
    },
    {
     "name": "stdout",
     "output_type": "stream",
     "text": [
      "0: 640x640 2 cars, 1 truck, 1 traffic light, 27.1ms\n",
      "Speed: 1.4ms preprocess, 27.1ms inference, 2.0ms postprocess per image at shape (1, 3, 640, 640)\n"
     ]
    },
    {
     "name": "stderr",
     "output_type": "stream",
     "text": [
      "Processing results: 100%|██████████| 1/1 [00:00<00:00, 998.41it/s]"
     ]
    },
    {
     "name": "stdout",
     "output_type": "stream",
     "text": [
      "C:\\Users\\User\\Desktop\\DSO\\traffic-prediction\\backend\\assets4_labels\\1004_1403_20240127141003_995057.txt\n",
      "\n",
      "0: 640x640 9 cars, 1 truck, 25.6ms\n"
     ]
    },
    {
     "name": "stderr",
     "output_type": "stream",
     "text": [
      "\n"
     ]
    },
    {
     "name": "stdout",
     "output_type": "stream",
     "text": [
      "Speed: 2.0ms preprocess, 25.6ms inference, 1.5ms postprocess per image at shape (1, 3, 640, 640)\n"
     ]
    },
    {
     "name": "stderr",
     "output_type": "stream",
     "text": [
      "Processing results: 100%|██████████| 1/1 [00:00<00:00, 333.65it/s]\n",
      "Processing images:   3%|▎         | 28/810 [00:03<00:35, 21.81it/s]"
     ]
    },
    {
     "name": "stdout",
     "output_type": "stream",
     "text": [
      "C:\\Users\\User\\Desktop\\DSO\\traffic-prediction\\backend\\assets4_labels\\1004_1408_20240127141502_535710.txt\n",
      "\n",
      "0: 640x640 7 cars, 25.2ms\n",
      "Speed: 2.0ms preprocess, 25.2ms inference, 1.0ms postprocess per image at shape (1, 3, 640, 640)\n"
     ]
    },
    {
     "name": "stderr",
     "output_type": "stream",
     "text": [
      "Processing results: 100%|██████████| 1/1 [00:00<00:00, 500.75it/s]"
     ]
    },
    {
     "name": "stdout",
     "output_type": "stream",
     "text": [
      "C:\\Users\\User\\Desktop\\DSO\\traffic-prediction\\backend\\assets4_labels\\1004_1413_20240127142002_555148.txt\n",
      "\n"
     ]
    },
    {
     "name": "stderr",
     "output_type": "stream",
     "text": [
      "\n"
     ]
    },
    {
     "name": "stdout",
     "output_type": "stream",
     "text": [
      "0: 640x640 8 cars, 25.4ms\n",
      "Speed: 2.0ms preprocess, 25.4ms inference, 2.0ms postprocess per image at shape (1, 3, 640, 640)\n"
     ]
    },
    {
     "name": "stderr",
     "output_type": "stream",
     "text": [
      "Processing results: 100%|██████████| 1/1 [00:00<00:00, 398.32it/s]"
     ]
    },
    {
     "name": "stdout",
     "output_type": "stream",
     "text": [
      "C:\\Users\\User\\Desktop\\DSO\\traffic-prediction\\backend\\assets4_labels\\1004_1418_20240127142506_491025.txt\n",
      "\n"
     ]
    },
    {
     "name": "stderr",
     "output_type": "stream",
     "text": [
      "\n"
     ]
    },
    {
     "name": "stdout",
     "output_type": "stream",
     "text": [
      "0: 640x640 2 cars, 1 truck, 25.7ms\n",
      "Speed: 2.0ms preprocess, 25.7ms inference, 2.0ms postprocess per image at shape (1, 3, 640, 640)\n"
     ]
    },
    {
     "name": "stderr",
     "output_type": "stream",
     "text": [
      "Processing results: 100%|██████████| 1/1 [00:00<00:00, 999.60it/s]\n",
      "Processing images:   4%|▍         | 31/810 [00:03<00:33, 23.25it/s]"
     ]
    },
    {
     "name": "stdout",
     "output_type": "stream",
     "text": [
      "C:\\Users\\User\\Desktop\\DSO\\traffic-prediction\\backend\\assets4_labels\\1004_1423_20240127143000_569810.txt\n",
      "\n",
      "0: 640x640 7 cars, 2 trucks, 26.1ms\n",
      "Speed: 2.0ms preprocess, 26.1ms inference, 1.0ms postprocess per image at shape (1, 3, 640, 640)\n"
     ]
    },
    {
     "name": "stderr",
     "output_type": "stream",
     "text": [
      "Processing results: 100%|██████████| 1/1 [00:00<00:00, 373.29it/s]"
     ]
    },
    {
     "name": "stdout",
     "output_type": "stream",
     "text": [
      "C:\\Users\\User\\Desktop\\DSO\\traffic-prediction\\backend\\assets4_labels\\1004_1428_20240127143501_985710.txt\n",
      "\n",
      "0: 640x640 4 cars, 26.0ms\n"
     ]
    },
    {
     "name": "stderr",
     "output_type": "stream",
     "text": [
      "\n"
     ]
    },
    {
     "name": "stdout",
     "output_type": "stream",
     "text": [
      "Speed: 1.0ms preprocess, 26.0ms inference, 2.0ms postprocess per image at shape (1, 3, 640, 640)\n"
     ]
    },
    {
     "name": "stderr",
     "output_type": "stream",
     "text": [
      "Processing results: 100%|██████████| 1/1 [00:00<00:00, 495.72it/s]"
     ]
    },
    {
     "name": "stdout",
     "output_type": "stream",
     "text": [
      "C:\\Users\\User\\Desktop\\DSO\\traffic-prediction\\backend\\assets4_labels\\1004_1433_20240127144001_565098.txt\n",
      "\n"
     ]
    },
    {
     "name": "stderr",
     "output_type": "stream",
     "text": [
      "\n"
     ]
    },
    {
     "name": "stdout",
     "output_type": "stream",
     "text": [
      "0: 640x640 1 car, 1 truck, 26.0ms\n",
      "Speed: 1.1ms preprocess, 26.0ms inference, 1.0ms postprocess per image at shape (1, 3, 640, 640)\n"
     ]
    },
    {
     "name": "stderr",
     "output_type": "stream",
     "text": [
      "Processing results: 100%|██████████| 1/1 [00:00<00:00, 499.74it/s]\n",
      "Processing images:   4%|▍         | 34/810 [00:03<00:31, 24.47it/s]"
     ]
    },
    {
     "name": "stdout",
     "output_type": "stream",
     "text": [
      "C:\\Users\\User\\Desktop\\DSO\\traffic-prediction\\backend\\assets4_labels\\1004_1438_20240127144507_505251.txt\n",
      "\n",
      "0: 640x640 6 cars, 26.1ms\n",
      "Speed: 2.0ms preprocess, 26.1ms inference, 1.0ms postprocess per image at shape (1, 3, 640, 640)\n"
     ]
    },
    {
     "name": "stderr",
     "output_type": "stream",
     "text": [
      "Processing results: 100%|██████████| 1/1 [00:00<00:00, 497.25it/s]"
     ]
    },
    {
     "name": "stdout",
     "output_type": "stream",
     "text": [
      "C:\\Users\\User\\Desktop\\DSO\\traffic-prediction\\backend\\assets4_labels\\1004_1443_20240127145001_981009.txt\n",
      "\n"
     ]
    },
    {
     "name": "stderr",
     "output_type": "stream",
     "text": [
      "\n"
     ]
    },
    {
     "name": "stdout",
     "output_type": "stream",
     "text": [
      "0: 640x640 1 car, 1 train, 1 truck, 25.5ms\n",
      "Speed: 2.0ms preprocess, 25.5ms inference, 1.3ms postprocess per image at shape (1, 3, 640, 640)\n"
     ]
    },
    {
     "name": "stderr",
     "output_type": "stream",
     "text": [
      "Processing results: 100%|██████████| 1/1 [00:00<00:00, 1000.31it/s]"
     ]
    },
    {
     "name": "stdout",
     "output_type": "stream",
     "text": [
      "C:\\Users\\User\\Desktop\\DSO\\traffic-prediction\\backend\\assets4_labels\\1005_1403_20240127141001_559953.txt\n",
      "\n"
     ]
    },
    {
     "name": "stderr",
     "output_type": "stream",
     "text": [
      "\n"
     ]
    },
    {
     "name": "stdout",
     "output_type": "stream",
     "text": [
      "0: 640x640 5 cars, 1 truck, 25.4ms\n",
      "Speed: 1.5ms preprocess, 25.4ms inference, 2.0ms postprocess per image at shape (1, 3, 640, 640)\n"
     ]
    },
    {
     "name": "stderr",
     "output_type": "stream",
     "text": [
      "Processing results: 100%|██████████| 1/1 [00:00<00:00, 500.33it/s]\n",
      "Processing images:   5%|▍         | 37/810 [00:03<00:30, 25.38it/s]"
     ]
    },
    {
     "name": "stdout",
     "output_type": "stream",
     "text": [
      "C:\\Users\\User\\Desktop\\DSO\\traffic-prediction\\backend\\assets4_labels\\1005_1408_20240127141502_101515.txt\n",
      "\n",
      "0: 640x640 5 cars, 1 truck, 1 clock, 25.8ms\n",
      "Speed: 2.0ms preprocess, 25.8ms inference, 2.0ms postprocess per image at shape (1, 3, 640, 640)\n"
     ]
    },
    {
     "name": "stderr",
     "output_type": "stream",
     "text": [
      "Processing results: 100%|██████████| 1/1 [00:00<00:00, 347.18it/s]"
     ]
    },
    {
     "name": "stdout",
     "output_type": "stream",
     "text": [
      "C:\\Users\\User\\Desktop\\DSO\\traffic-prediction\\backend\\assets4_labels\\1005_1413_20240127142002_494953.txt\n",
      "\n"
     ]
    },
    {
     "name": "stderr",
     "output_type": "stream",
     "text": [
      "\n"
     ]
    },
    {
     "name": "stdout",
     "output_type": "stream",
     "text": [
      "0: 640x640 5 cars, 1 truck, 25.4ms\n",
      "Speed: 5.0ms preprocess, 25.4ms inference, 2.0ms postprocess per image at shape (1, 3, 640, 640)\n"
     ]
    },
    {
     "name": "stderr",
     "output_type": "stream",
     "text": [
      "Processing results: 100%|██████████| 1/1 [00:00<00:00, 498.73it/s]"
     ]
    },
    {
     "name": "stdout",
     "output_type": "stream",
     "text": [
      "C:\\Users\\User\\Desktop\\DSO\\traffic-prediction\\backend\\assets4_labels\\1005_1418_20240127142506_101101.txt\n",
      "\n",
      "0: 640x640 3 cars, 2 trucks, 25.5ms\n"
     ]
    },
    {
     "name": "stderr",
     "output_type": "stream",
     "text": [
      "\n"
     ]
    },
    {
     "name": "stdout",
     "output_type": "stream",
     "text": [
      "Speed: 4.0ms preprocess, 25.5ms inference, 1.0ms postprocess per image at shape (1, 3, 640, 640)\n"
     ]
    },
    {
     "name": "stderr",
     "output_type": "stream",
     "text": [
      "Processing results: 100%|██████████| 1/1 [00:00<00:00, 994.38it/s]\n",
      "Processing images:   5%|▍         | 40/810 [00:03<00:30, 25.51it/s]"
     ]
    },
    {
     "name": "stdout",
     "output_type": "stream",
     "text": [
      "C:\\Users\\User\\Desktop\\DSO\\traffic-prediction\\backend\\assets4_labels\\1005_1423_20240127143000_100495.txt\n",
      "\n",
      "0: 640x640 6 cars, 1 truck, 25.9ms\n",
      "Speed: 3.0ms preprocess, 25.9ms inference, 1.6ms postprocess per image at shape (1, 3, 640, 640)\n"
     ]
    },
    {
     "name": "stderr",
     "output_type": "stream",
     "text": [
      "Processing results: 100%|██████████| 1/1 [00:00<00:00, 500.27it/s]"
     ]
    },
    {
     "name": "stdout",
     "output_type": "stream",
     "text": [
      "C:\\Users\\User\\Desktop\\DSO\\traffic-prediction\\backend\\assets4_labels\\1005_1428_20240127143501_100535.txt\n",
      "\n"
     ]
    },
    {
     "name": "stderr",
     "output_type": "stream",
     "text": [
      "\n"
     ]
    },
    {
     "name": "stdout",
     "output_type": "stream",
     "text": [
      "0: 640x640 5 cars, 3 trucks, 26.1ms\n",
      "Speed: 4.0ms preprocess, 26.1ms inference, 2.0ms postprocess per image at shape (1, 3, 640, 640)\n"
     ]
    },
    {
     "name": "stderr",
     "output_type": "stream",
     "text": [
      "Processing results: 100%|██████████| 1/1 [00:00<00:00, 499.92it/s]"
     ]
    },
    {
     "name": "stdout",
     "output_type": "stream",
     "text": [
      "C:\\Users\\User\\Desktop\\DSO\\traffic-prediction\\backend\\assets4_labels\\1005_1433_20240127144001_505798.txt\n",
      "\n"
     ]
    },
    {
     "name": "stderr",
     "output_type": "stream",
     "text": [
      "\n"
     ]
    },
    {
     "name": "stdout",
     "output_type": "stream",
     "text": [
      "0: 640x640 3 cars, 1 truck, 25.5ms\n",
      "Speed: 4.0ms preprocess, 25.5ms inference, 1.0ms postprocess per image at shape (1, 3, 640, 640)\n"
     ]
    },
    {
     "name": "stderr",
     "output_type": "stream",
     "text": [
      "Processing results: 100%|██████████| 1/1 [00:00<00:00, 497.90it/s]\n",
      "Processing images:   5%|▌         | 43/810 [00:03<00:29, 25.61it/s]"
     ]
    },
    {
     "name": "stdout",
     "output_type": "stream",
     "text": [
      "C:\\Users\\User\\Desktop\\DSO\\traffic-prediction\\backend\\assets4_labels\\1005_1438_20240127144507_985198.txt\n",
      "\n",
      "0: 640x640 7 cars, 1 truck, 25.2ms\n",
      "Speed: 1.7ms preprocess, 25.2ms inference, 2.0ms postprocess per image at shape (1, 3, 640, 640)\n"
     ]
    },
    {
     "name": "stderr",
     "output_type": "stream",
     "text": [
      "Processing results: 100%|██████████| 1/1 [00:00<00:00, 570.89it/s]"
     ]
    },
    {
     "name": "stdout",
     "output_type": "stream",
     "text": [
      "C:\\Users\\User\\Desktop\\DSO\\traffic-prediction\\backend\\assets4_labels\\1005_1443_20240127145000_102565.txt\n",
      "\n"
     ]
    },
    {
     "name": "stderr",
     "output_type": "stream",
     "text": [
      "\n"
     ]
    },
    {
     "name": "stdout",
     "output_type": "stream",
     "text": [
      "0: 640x640 8 cars, 2 trucks, 25.1ms\n",
      "Speed: 2.0ms preprocess, 25.1ms inference, 2.0ms postprocess per image at shape (1, 3, 640, 640)\n"
     ]
    },
    {
     "name": "stderr",
     "output_type": "stream",
     "text": [
      "Processing results: 100%|██████████| 1/1 [00:00<00:00, 399.23it/s]"
     ]
    },
    {
     "name": "stdout",
     "output_type": "stream",
     "text": [
      "C:\\Users\\User\\Desktop\\DSO\\traffic-prediction\\backend\\assets4_labels\\1006_1403_20240127141001_545756.txt\n",
      "\n"
     ]
    },
    {
     "name": "stderr",
     "output_type": "stream",
     "text": [
      "\n"
     ]
    },
    {
     "name": "stdout",
     "output_type": "stream",
     "text": [
      "0: 640x640 6 cars, 1 clock, 26.2ms\n",
      "Speed: 2.1ms preprocess, 26.2ms inference, 1.0ms postprocess per image at shape (1, 3, 640, 640)\n"
     ]
    },
    {
     "name": "stderr",
     "output_type": "stream",
     "text": [
      "Processing results: 100%|██████████| 1/1 [00:00<00:00, 397.90it/s]\n",
      "Processing images:   6%|▌         | 46/810 [00:03<00:29, 26.01it/s]"
     ]
    },
    {
     "name": "stdout",
     "output_type": "stream",
     "text": [
      "C:\\Users\\User\\Desktop\\DSO\\traffic-prediction\\backend\\assets4_labels\\1006_1408_20240127141502_979752.txt\n",
      "\n",
      "0: 640x640 4 cars, 1 truck, 1 clock, 25.2ms\n",
      "Speed: 2.1ms preprocess, 25.2ms inference, 2.0ms postprocess per image at shape (1, 3, 640, 640)\n"
     ]
    },
    {
     "name": "stderr",
     "output_type": "stream",
     "text": [
      "Processing results: 100%|██████████| 1/1 [00:00<00:00, 250.00it/s]"
     ]
    },
    {
     "name": "stdout",
     "output_type": "stream",
     "text": [
      "C:\\Users\\User\\Desktop\\DSO\\traffic-prediction\\backend\\assets4_labels\\1006_1413_20240127142002_575210.txt\n",
      "\n"
     ]
    },
    {
     "name": "stderr",
     "output_type": "stream",
     "text": [
      "\n"
     ]
    },
    {
     "name": "stdout",
     "output_type": "stream",
     "text": [
      "0: 640x640 7 cars, 2 trucks, 1 clock, 26.5ms\n",
      "Speed: 3.4ms preprocess, 26.5ms inference, 1.0ms postprocess per image at shape (1, 3, 640, 640)\n"
     ]
    },
    {
     "name": "stderr",
     "output_type": "stream",
     "text": [
      "Processing results: 100%|██████████| 1/1 [00:00<00:00, 142.30it/s]"
     ]
    },
    {
     "name": "stdout",
     "output_type": "stream",
     "text": [
      "C:\\Users\\User\\Desktop\\DSO\\traffic-prediction\\backend\\assets4_labels\\1006_1418_20240127142504_484957.txt\n",
      "\n",
      "0: 640x640 1 person, 5 cars, 1 clock, 26.1ms\n"
     ]
    },
    {
     "name": "stderr",
     "output_type": "stream",
     "text": [
      "\n"
     ]
    },
    {
     "name": "stdout",
     "output_type": "stream",
     "text": [
      "Speed: 3.0ms preprocess, 26.1ms inference, 2.0ms postprocess per image at shape (1, 3, 640, 640)\n"
     ]
    },
    {
     "name": "stderr",
     "output_type": "stream",
     "text": [
      "Processing results: 100%|██████████| 1/1 [00:00<00:00, 485.56it/s]\n",
      "Processing images:   6%|▌         | 49/810 [00:03<00:29, 25.44it/s]"
     ]
    },
    {
     "name": "stdout",
     "output_type": "stream",
     "text": [
      "C:\\Users\\User\\Desktop\\DSO\\traffic-prediction\\backend\\assets4_labels\\1006_1423_20240127143000_505154.txt\n",
      "\n",
      "0: 640x640 1 person, 12 cars, 1 clock, 26.8ms\n",
      "Speed: 4.0ms preprocess, 26.8ms inference, 1.0ms postprocess per image at shape (1, 3, 640, 640)\n"
     ]
    },
    {
     "name": "stderr",
     "output_type": "stream",
     "text": [
      "Processing results: 100%|██████████| 1/1 [00:00<00:00, 497.54it/s]"
     ]
    },
    {
     "name": "stdout",
     "output_type": "stream",
     "text": [
      "C:\\Users\\User\\Desktop\\DSO\\traffic-prediction\\backend\\assets4_labels\\1006_1428_20240127143501_565651.txt\n",
      "\n",
      "0: 640x640 11 cars, 1 clock, 26.0ms\n"
     ]
    },
    {
     "name": "stderr",
     "output_type": "stream",
     "text": [
      "\n"
     ]
    },
    {
     "name": "stdout",
     "output_type": "stream",
     "text": [
      "Speed: 2.0ms preprocess, 26.0ms inference, 1.0ms postprocess per image at shape (1, 3, 640, 640)\n"
     ]
    },
    {
     "name": "stderr",
     "output_type": "stream",
     "text": [
      "Processing results: 100%|██████████| 1/1 [00:00<00:00, 397.98it/s]"
     ]
    },
    {
     "name": "stdout",
     "output_type": "stream",
     "text": [
      "C:\\Users\\User\\Desktop\\DSO\\traffic-prediction\\backend\\assets4_labels\\1006_1433_20240127144000_515198.txt\n",
      "\n"
     ]
    },
    {
     "name": "stderr",
     "output_type": "stream",
     "text": [
      "\n"
     ]
    },
    {
     "name": "stdout",
     "output_type": "stream",
     "text": [
      "0: 640x640 7 cars, 1 clock, 26.1ms\n",
      "Speed: 2.3ms preprocess, 26.1ms inference, 2.0ms postprocess per image at shape (1, 3, 640, 640)\n"
     ]
    },
    {
     "name": "stderr",
     "output_type": "stream",
     "text": [
      "Processing results: 100%|██████████| 1/1 [00:00<00:00, 499.98it/s]\n",
      "Processing images:   6%|▋         | 52/810 [00:03<00:29, 25.44it/s]"
     ]
    },
    {
     "name": "stdout",
     "output_type": "stream",
     "text": [
      "C:\\Users\\User\\Desktop\\DSO\\traffic-prediction\\backend\\assets4_labels\\1006_1438_20240127144501_549748.txt\n",
      "\n",
      "0: 640x640 1 person, 5 cars, 2 trucks, 1 clock, 25.9ms\n",
      "Speed: 4.1ms preprocess, 25.9ms inference, 2.0ms postprocess per image at shape (1, 3, 640, 640)\n"
     ]
    },
    {
     "name": "stderr",
     "output_type": "stream",
     "text": [
      "Processing results: 100%|██████████| 1/1 [00:00<00:00, 487.54it/s]"
     ]
    },
    {
     "name": "stdout",
     "output_type": "stream",
     "text": [
      "C:\\Users\\User\\Desktop\\DSO\\traffic-prediction\\backend\\assets4_labels\\1006_1443_20240127145000_561009.txt\n",
      "\n",
      "0: 640x640 6 cars, 1 bus, 1 clock, 26.8ms\n"
     ]
    },
    {
     "name": "stderr",
     "output_type": "stream",
     "text": [
      "\n"
     ]
    },
    {
     "name": "stdout",
     "output_type": "stream",
     "text": [
      "Speed: 1.0ms preprocess, 26.8ms inference, 1.0ms postprocess per image at shape (1, 3, 640, 640)\n"
     ]
    },
    {
     "name": "stderr",
     "output_type": "stream",
     "text": [
      "Processing results: 100%|██████████| 1/1 [00:00<00:00, 499.38it/s]"
     ]
    },
    {
     "name": "stdout",
     "output_type": "stream",
     "text": [
      "C:\\Users\\User\\Desktop\\DSO\\traffic-prediction\\backend\\assets4_labels\\1111_1403_20240127141024_501024.txt\n",
      "\n",
      "0: 640x640 7 cars, 26.0ms\n"
     ]
    },
    {
     "name": "stderr",
     "output_type": "stream",
     "text": [
      "\n"
     ]
    },
    {
     "name": "stdout",
     "output_type": "stream",
     "text": [
      "Speed: 1.0ms preprocess, 26.0ms inference, 1.1ms postprocess per image at shape (1, 3, 640, 640)\n"
     ]
    },
    {
     "name": "stderr",
     "output_type": "stream",
     "text": [
      "Processing results: 100%|██████████| 1/1 [00:00<00:00, 333.30it/s]\n",
      "Processing images:   7%|▋         | 55/810 [00:04<00:30, 24.80it/s]"
     ]
    },
    {
     "name": "stdout",
     "output_type": "stream",
     "text": [
      "C:\\Users\\User\\Desktop\\DSO\\traffic-prediction\\backend\\assets4_labels\\1111_1408_20240127141534_521025.txt\n",
      "\n",
      "0: 640x640 3 cars, 2 trucks, 1 traffic light, 26.1ms\n",
      "Speed: 1.0ms preprocess, 26.1ms inference, 1.5ms postprocess per image at shape (1, 3, 640, 640)\n"
     ]
    },
    {
     "name": "stderr",
     "output_type": "stream",
     "text": [
      "Processing results: 100%|██████████| 1/1 [00:00<00:00, 221.93it/s]"
     ]
    },
    {
     "name": "stdout",
     "output_type": "stream",
     "text": [
      "C:\\Users\\User\\Desktop\\DSO\\traffic-prediction\\backend\\assets4_labels\\1111_1414_20240127142008_495010.txt\n",
      "\n"
     ]
    },
    {
     "name": "stderr",
     "output_type": "stream",
     "text": [
      "\n"
     ]
    },
    {
     "name": "stdout",
     "output_type": "stream",
     "text": [
      "0: 640x640 2 cars, 1 traffic light, 26.0ms\n",
      "Speed: 1.0ms preprocess, 26.0ms inference, 1.0ms postprocess per image at shape (1, 3, 640, 640)\n"
     ]
    },
    {
     "name": "stderr",
     "output_type": "stream",
     "text": [
      "Processing results: 100%|██████████| 1/1 [00:00<00:00, 499.56it/s]"
     ]
    },
    {
     "name": "stdout",
     "output_type": "stream",
     "text": [
      "C:\\Users\\User\\Desktop\\DSO\\traffic-prediction\\backend\\assets4_labels\\1111_1418_20240127142525_505248.txt\n",
      "\n",
      "0: 640x640 5 cars, 1 truck, 26.6ms\n"
     ]
    },
    {
     "name": "stderr",
     "output_type": "stream",
     "text": [
      "\n"
     ]
    },
    {
     "name": "stdout",
     "output_type": "stream",
     "text": [
      "Speed: 1.0ms preprocess, 26.6ms inference, 1.4ms postprocess per image at shape (1, 3, 640, 640)\n"
     ]
    },
    {
     "name": "stderr",
     "output_type": "stream",
     "text": [
      "Processing results: 100%|██████████| 1/1 [00:00<00:00, 500.10it/s]\n",
      "Processing images:   7%|▋         | 58/810 [00:04<00:32, 23.09it/s]"
     ]
    },
    {
     "name": "stdout",
     "output_type": "stream",
     "text": [
      "C:\\Users\\User\\Desktop\\DSO\\traffic-prediction\\backend\\assets4_labels\\1111_1423_20240127143034_975499.txt\n",
      "\n",
      "0: 640x640 1 car, 1 bus, 1 potted plant, 26.1ms\n",
      "Speed: 1.0ms preprocess, 26.1ms inference, 2.0ms postprocess per image at shape (1, 3, 640, 640)\n"
     ]
    },
    {
     "name": "stderr",
     "output_type": "stream",
     "text": [
      "Processing results: 100%|██████████| 1/1 [00:00<00:00, 1003.66it/s]"
     ]
    },
    {
     "name": "stdout",
     "output_type": "stream",
     "text": [
      "C:\\Users\\User\\Desktop\\DSO\\traffic-prediction\\backend\\assets4_labels\\1111_1428_20240127143521_565248.txt\n",
      "\n",
      "0: 640x640 5 cars, 2 trucks, 26.4ms\n"
     ]
    },
    {
     "name": "stderr",
     "output_type": "stream",
     "text": [
      "\n"
     ]
    },
    {
     "name": "stdout",
     "output_type": "stream",
     "text": [
      "Speed: 3.0ms preprocess, 26.4ms inference, 1.0ms postprocess per image at shape (1, 3, 640, 640)\n"
     ]
    },
    {
     "name": "stderr",
     "output_type": "stream",
     "text": [
      "Processing results: 100%|██████████| 1/1 [00:00<00:00, 398.43it/s]"
     ]
    },
    {
     "name": "stdout",
     "output_type": "stream",
     "text": [
      "C:\\Users\\User\\Desktop\\DSO\\traffic-prediction\\backend\\assets4_labels\\1111_1433_20240127144019_559749.txt\n",
      "\n"
     ]
    },
    {
     "name": "stderr",
     "output_type": "stream",
     "text": [
      "\n"
     ]
    },
    {
     "name": "stdout",
     "output_type": "stream",
     "text": [
      "0: 640x640 4 cars, 1 truck, 25.2ms\n",
      "Speed: 5.0ms preprocess, 25.2ms inference, 2.0ms postprocess per image at shape (1, 3, 640, 640)\n"
     ]
    },
    {
     "name": "stderr",
     "output_type": "stream",
     "text": [
      "Processing results: 100%|██████████| 1/1 [00:00<00:00, 498.79it/s]\n",
      "Processing images:   8%|▊         | 61/810 [00:04<00:34, 21.73it/s]"
     ]
    },
    {
     "name": "stdout",
     "output_type": "stream",
     "text": [
      "C:\\Users\\User\\Desktop\\DSO\\traffic-prediction\\backend\\assets4_labels\\1111_1439_20240127144548_101100.txt\n",
      "\n",
      "0: 640x640 8 cars, 4 trucks, 26.0ms\n",
      "Speed: 2.0ms preprocess, 26.0ms inference, 1.0ms postprocess per image at shape (1, 3, 640, 640)\n"
     ]
    },
    {
     "name": "stderr",
     "output_type": "stream",
     "text": [
      "Processing results: 100%|██████████| 1/1 [00:00<00:00, 500.33it/s]"
     ]
    },
    {
     "name": "stdout",
     "output_type": "stream",
     "text": [
      "C:\\Users\\User\\Desktop\\DSO\\traffic-prediction\\backend\\assets4_labels\\1111_1443_20240127145020_524852.txt\n",
      "\n"
     ]
    },
    {
     "name": "stderr",
     "output_type": "stream",
     "text": [
      "\n"
     ]
    },
    {
     "name": "stdout",
     "output_type": "stream",
     "text": [
      "0: 640x640 6 cars, 1 truck, 25.8ms\n",
      "Speed: 2.0ms preprocess, 25.8ms inference, 1.2ms postprocess per image at shape (1, 3, 640, 640)\n"
     ]
    },
    {
     "name": "stderr",
     "output_type": "stream",
     "text": [
      "Processing results: 100%|██████████| 1/1 [00:00<00:00, 332.46it/s]"
     ]
    },
    {
     "name": "stdout",
     "output_type": "stream",
     "text": [
      "C:\\Users\\User\\Desktop\\DSO\\traffic-prediction\\backend\\assets4_labels\\1112_1403_20240127141025_561011.txt\n",
      "\n"
     ]
    },
    {
     "name": "stderr",
     "output_type": "stream",
     "text": [
      "\n"
     ]
    },
    {
     "name": "stdout",
     "output_type": "stream",
     "text": [
      "0: 640x640 10 cars, 1 motorcycle, 3 trucks, 25.7ms\n",
      "Speed: 1.5ms preprocess, 25.7ms inference, 2.0ms postprocess per image at shape (1, 3, 640, 640)\n"
     ]
    },
    {
     "name": "stderr",
     "output_type": "stream",
     "text": [
      "Processing results: 100%|██████████| 1/1 [00:00<00:00, 329.04it/s]\n",
      "Processing images:   8%|▊         | 64/810 [00:04<00:35, 20.92it/s]"
     ]
    },
    {
     "name": "stdout",
     "output_type": "stream",
     "text": [
      "C:\\Users\\User\\Desktop\\DSO\\traffic-prediction\\backend\\assets4_labels\\1112_1408_20240127141535_554954.txt\n",
      "\n",
      "0: 640x640 10 cars, 2 buss, 1 truck, 26.0ms\n",
      "Speed: 3.0ms preprocess, 26.0ms inference, 1.0ms postprocess per image at shape (1, 3, 640, 640)\n"
     ]
    },
    {
     "name": "stderr",
     "output_type": "stream",
     "text": [
      "Processing results: 100%|██████████| 1/1 [00:00<00:00, 498.55it/s]"
     ]
    },
    {
     "name": "stdout",
     "output_type": "stream",
     "text": [
      "C:\\Users\\User\\Desktop\\DSO\\traffic-prediction\\backend\\assets4_labels\\1112_1413_20240127142009_535052.txt\n",
      "\n"
     ]
    },
    {
     "name": "stderr",
     "output_type": "stream",
     "text": [
      "\n"
     ]
    },
    {
     "name": "stdout",
     "output_type": "stream",
     "text": [
      "0: 640x640 2 persons, 12 cars, 2 buss, 1 truck, 25.5ms\n",
      "Speed: 3.0ms preprocess, 25.5ms inference, 3.0ms postprocess per image at shape (1, 3, 640, 640)\n"
     ]
    },
    {
     "name": "stderr",
     "output_type": "stream",
     "text": [
      "Processing results: 100%|██████████| 1/1 [00:00<00:00, 333.76it/s]"
     ]
    },
    {
     "name": "stdout",
     "output_type": "stream",
     "text": [
      "C:\\Users\\User\\Desktop\\DSO\\traffic-prediction\\backend\\assets4_labels\\1112_1418_20240127142525_565454.txt\n",
      "\n"
     ]
    },
    {
     "name": "stderr",
     "output_type": "stream",
     "text": [
      "\n"
     ]
    },
    {
     "name": "stdout",
     "output_type": "stream",
     "text": [
      "0: 640x640 1 person, 20 cars, 1 bus, 2 trucks, 25.4ms\n",
      "Speed: 4.0ms preprocess, 25.4ms inference, 2.0ms postprocess per image at shape (1, 3, 640, 640)\n"
     ]
    },
    {
     "name": "stderr",
     "output_type": "stream",
     "text": [
      "Processing results: 100%|██████████| 1/1 [00:00<00:00, 333.52it/s]\n",
      "Processing images:   8%|▊         | 67/810 [00:04<00:37, 20.06it/s]"
     ]
    },
    {
     "name": "stdout",
     "output_type": "stream",
     "text": [
      "C:\\Users\\User\\Desktop\\DSO\\traffic-prediction\\backend\\assets4_labels\\1112_1423_20240127143034_559810.txt\n",
      "\n",
      "0: 640x640 14 cars, 2 buss, 5 trucks, 26.7ms\n",
      "Speed: 3.1ms preprocess, 26.7ms inference, 1.8ms postprocess per image at shape (1, 3, 640, 640)\n"
     ]
    },
    {
     "name": "stderr",
     "output_type": "stream",
     "text": [
      "Processing results: 100%|██████████| 1/1 [00:00<00:00, 331.15it/s]"
     ]
    },
    {
     "name": "stdout",
     "output_type": "stream",
     "text": [
      "C:\\Users\\User\\Desktop\\DSO\\traffic-prediction\\backend\\assets4_labels\\1112_1428_20240127143522_529848.txt\n",
      "\n"
     ]
    },
    {
     "name": "stderr",
     "output_type": "stream",
     "text": [
      "\n"
     ]
    },
    {
     "name": "stdout",
     "output_type": "stream",
     "text": [
      "0: 640x640 1 person, 24 cars, 26.0ms\n",
      "Speed: 4.0ms preprocess, 26.0ms inference, 1.9ms postprocess per image at shape (1, 3, 640, 640)\n"
     ]
    },
    {
     "name": "stderr",
     "output_type": "stream",
     "text": [
      "Processing results: 100%|██████████| 1/1 [00:00<00:00, 142.55it/s]"
     ]
    },
    {
     "name": "stdout",
     "output_type": "stream",
     "text": [
      "C:\\Users\\User\\Desktop\\DSO\\traffic-prediction\\backend\\assets4_labels\\1112_1433_20240127144021_485548.txt\n",
      "\n"
     ]
    },
    {
     "name": "stderr",
     "output_type": "stream",
     "text": [
      "\n"
     ]
    },
    {
     "name": "stdout",
     "output_type": "stream",
     "text": [
      "0: 640x640 14 cars, 2 buss, 3 trucks, 1 traffic light, 26.0ms\n",
      "Speed: 3.0ms preprocess, 26.0ms inference, 2.0ms postprocess per image at shape (1, 3, 640, 640)\n"
     ]
    },
    {
     "name": "stderr",
     "output_type": "stream",
     "text": [
      "Processing results: 100%|██████████| 1/1 [00:00<00:00, 330.65it/s]\n",
      "Processing images:   9%|▊         | 70/810 [00:04<00:38, 19.19it/s]"
     ]
    },
    {
     "name": "stdout",
     "output_type": "stream",
     "text": [
      "C:\\Users\\User\\Desktop\\DSO\\traffic-prediction\\backend\\assets4_labels\\1112_1438_20240127144550_545352.txt\n",
      "\n",
      "0: 640x640 18 cars, 1 bus, 1 truck, 27.6ms\n",
      "Speed: 3.0ms preprocess, 27.6ms inference, 2.0ms postprocess per image at shape (1, 3, 640, 640)\n"
     ]
    },
    {
     "name": "stderr",
     "output_type": "stream",
     "text": [
      "Processing results: 100%|██████████| 1/1 [00:00<00:00, 199.76it/s]"
     ]
    },
    {
     "name": "stdout",
     "output_type": "stream",
     "text": [
      "C:\\Users\\User\\Desktop\\DSO\\traffic-prediction\\backend\\assets4_labels\\1112_1443_20240127145020_981024.txt\n",
      "\n"
     ]
    },
    {
     "name": "stderr",
     "output_type": "stream",
     "text": [
      "\n"
     ]
    },
    {
     "name": "stdout",
     "output_type": "stream",
     "text": [
      "0: 640x640 1 person, 21 cars, 2 buss, 1 truck, 25.7ms\n",
      "Speed: 2.0ms preprocess, 25.7ms inference, 2.0ms postprocess per image at shape (1, 3, 640, 640)\n"
     ]
    },
    {
     "name": "stderr",
     "output_type": "stream",
     "text": [
      "Processing results: 100%|██████████| 1/1 [00:00<00:00, 284.11it/s]\n",
      "Processing images:   9%|▉         | 72/810 [00:04<00:39, 18.83it/s]"
     ]
    },
    {
     "name": "stdout",
     "output_type": "stream",
     "text": [
      "C:\\Users\\User\\Desktop\\DSO\\traffic-prediction\\backend\\assets4_labels\\1113_1403_20240127141027_999710.txt\n",
      "\n",
      "0: 640x640 2 cars, 2 trucks, 3 traffic lights, 25.9ms\n",
      "Speed: 1.0ms preprocess, 25.9ms inference, 2.0ms postprocess per image at shape (1, 3, 640, 640)\n"
     ]
    },
    {
     "name": "stderr",
     "output_type": "stream",
     "text": [
      "Processing results: 100%|██████████| 1/1 [00:00<00:00, 397.45it/s]"
     ]
    },
    {
     "name": "stdout",
     "output_type": "stream",
     "text": [
      "C:\\Users\\User\\Desktop\\DSO\\traffic-prediction\\backend\\assets4_labels\\1113_1408_20240127141537_974856.txt\n",
      "\n"
     ]
    },
    {
     "name": "stderr",
     "output_type": "stream",
     "text": [
      "\n"
     ]
    },
    {
     "name": "stdout",
     "output_type": "stream",
     "text": [
      "0: 640x640 2 cars, 3 trucks, 3 traffic lights, 27.0ms\n",
      "Speed: 1.0ms preprocess, 27.0ms inference, 1.0ms postprocess per image at shape (1, 3, 640, 640)\n"
     ]
    },
    {
     "name": "stderr",
     "output_type": "stream",
     "text": [
      "Processing results: 100%|██████████| 1/1 [00:00<00:00, 483.94it/s]\n",
      "Processing images:   9%|▉         | 74/810 [00:05<00:38, 19.06it/s]"
     ]
    },
    {
     "name": "stdout",
     "output_type": "stream",
     "text": [
      "C:\\Users\\User\\Desktop\\DSO\\traffic-prediction\\backend\\assets4_labels\\1113_1413_20240127142011_489851.txt\n",
      "\n",
      "0: 640x640 1 car, 1 truck, 4 traffic lights, 1 bench, 26.3ms\n",
      "Speed: 1.5ms preprocess, 26.3ms inference, 1.0ms postprocess per image at shape (1, 3, 640, 640)\n"
     ]
    },
    {
     "name": "stderr",
     "output_type": "stream",
     "text": [
      "Processing results: 100%|██████████| 1/1 [00:00<00:00, 498.67it/s]"
     ]
    },
    {
     "name": "stdout",
     "output_type": "stream",
     "text": [
      "C:\\Users\\User\\Desktop\\DSO\\traffic-prediction\\backend\\assets4_labels\\1113_1418_20240127142525_531005.txt\n",
      "\n"
     ]
    },
    {
     "name": "stderr",
     "output_type": "stream",
     "text": [
      "\n"
     ]
    },
    {
     "name": "stdout",
     "output_type": "stream",
     "text": [
      "0: 640x640 1 car, 2 trucks, 4 traffic lights, 26.4ms\n",
      "Speed: 1.0ms preprocess, 26.4ms inference, 1.0ms postprocess per image at shape (1, 3, 640, 640)\n"
     ]
    },
    {
     "name": "stderr",
     "output_type": "stream",
     "text": [
      "Processing results: 100%|██████████| 1/1 [00:00<00:00, 531.33it/s]\n",
      "Processing images:   9%|▉         | 76/810 [00:05<00:38, 19.15it/s]"
     ]
    },
    {
     "name": "stdout",
     "output_type": "stream",
     "text": [
      "C:\\Users\\User\\Desktop\\DSO\\traffic-prediction\\backend\\assets4_labels\\1113_1423_20240127143034_995048.txt\n",
      "\n",
      "0: 640x640 1 car, 6 trucks, 2 traffic lights, 1 stop sign, 26.8ms\n",
      "Speed: 1.5ms preprocess, 26.8ms inference, 1.5ms postprocess per image at shape (1, 3, 640, 640)\n"
     ]
    },
    {
     "name": "stderr",
     "output_type": "stream",
     "text": [
      "Processing results: 100%|██████████| 1/1 [00:00<00:00, 499.92it/s]"
     ]
    },
    {
     "name": "stdout",
     "output_type": "stream",
     "text": [
      "C:\\Users\\User\\Desktop\\DSO\\traffic-prediction\\backend\\assets4_labels\\1113_1428_20240127143524_102975.txt\n",
      "\n"
     ]
    },
    {
     "name": "stderr",
     "output_type": "stream",
     "text": [
      "\n"
     ]
    },
    {
     "name": "stdout",
     "output_type": "stream",
     "text": [
      "0: 640x640 1 car, 4 trucks, 5 traffic lights, 26.1ms\n",
      "Speed: 2.0ms preprocess, 26.1ms inference, 1.5ms postprocess per image at shape (1, 3, 640, 640)\n"
     ]
    },
    {
     "name": "stderr",
     "output_type": "stream",
     "text": [
      "Processing results: 100%|██████████| 1/1 [00:00<00:00, 499.44it/s]\n",
      "Processing images:  10%|▉         | 78/810 [00:05<00:38, 19.22it/s]"
     ]
    },
    {
     "name": "stdout",
     "output_type": "stream",
     "text": [
      "C:\\Users\\User\\Desktop\\DSO\\traffic-prediction\\backend\\assets4_labels\\1113_1433_20240127144021_509897.txt\n",
      "\n",
      "0: 640x640 2 cars, 1 truck, 5 traffic lights, 26.1ms\n",
      "Speed: 2.0ms preprocess, 26.1ms inference, 1.0ms postprocess per image at shape (1, 3, 640, 640)\n"
     ]
    },
    {
     "name": "stderr",
     "output_type": "stream",
     "text": [
      "Processing results: 100%|██████████| 1/1 [00:00<00:00, 1000.07it/s]"
     ]
    },
    {
     "name": "stdout",
     "output_type": "stream",
     "text": [
      "C:\\Users\\User\\Desktop\\DSO\\traffic-prediction\\backend\\assets4_labels\\1113_1438_20240127144551_499853.txt\n",
      "\n"
     ]
    },
    {
     "name": "stderr",
     "output_type": "stream",
     "text": [
      "\n"
     ]
    },
    {
     "name": "stdout",
     "output_type": "stream",
     "text": [
      "0: 640x640 2 cars, 7 trucks, 5 traffic lights, 1 stop sign, 26.6ms\n",
      "Speed: 2.0ms preprocess, 26.6ms inference, 1.0ms postprocess per image at shape (1, 3, 640, 640)\n"
     ]
    },
    {
     "name": "stderr",
     "output_type": "stream",
     "text": [
      "Processing results: 100%|██████████| 1/1 [00:00<00:00, 247.74it/s]\n",
      "Processing images:  10%|▉         | 80/810 [00:05<00:38, 19.13it/s]"
     ]
    },
    {
     "name": "stdout",
     "output_type": "stream",
     "text": [
      "C:\\Users\\User\\Desktop\\DSO\\traffic-prediction\\backend\\assets4_labels\\1113_1443_20240127145020_100561.txt\n",
      "\n",
      "0: 640x640 4 persons, 1 car, 4 trucks, 3 traffic lights, 26.5ms\n",
      "Speed: 2.5ms preprocess, 26.5ms inference, 1.0ms postprocess per image at shape (1, 3, 640, 640)\n"
     ]
    },
    {
     "name": "stderr",
     "output_type": "stream",
     "text": [
      "Processing results: 100%|██████████| 1/1 [00:00<00:00, 999.12it/s]"
     ]
    },
    {
     "name": "stdout",
     "output_type": "stream",
     "text": [
      "C:\\Users\\User\\Desktop\\DSO\\traffic-prediction\\backend\\assets4_labels\\1501_1403_20240127141006_494897.txt\n",
      "\n"
     ]
    },
    {
     "name": "stderr",
     "output_type": "stream",
     "text": [
      "\n"
     ]
    },
    {
     "name": "stdout",
     "output_type": "stream",
     "text": [
      "0: 640x640 1 train, 26.8ms\n",
      "Speed: 1.0ms preprocess, 26.8ms inference, 1.0ms postprocess per image at shape (1, 3, 640, 640)\n"
     ]
    },
    {
     "name": "stderr",
     "output_type": "stream",
     "text": [
      "Processing results: 100%|██████████| 1/1 [00:00<00:00, 900.84it/s]"
     ]
    },
    {
     "name": "stdout",
     "output_type": "stream",
     "text": [
      "C:\\Users\\User\\Desktop\\DSO\\traffic-prediction\\backend\\assets4_labels\\1501_1408_20240127141508_100514.txt\n",
      "\n",
      "0: 640x640 (no detections), 26.1ms\n"
     ]
    },
    {
     "name": "stderr",
     "output_type": "stream",
     "text": [
      "\n"
     ]
    },
    {
     "name": "stdout",
     "output_type": "stream",
     "text": [
      "Speed: 1.0ms preprocess, 26.1ms inference, 1.0ms postprocess per image at shape (1, 3, 640, 640)\n"
     ]
    },
    {
     "name": "stderr",
     "output_type": "stream",
     "text": [
      "Processing results: 100%|██████████| 1/1 [00:00<?, ?it/s]\n",
      "Processing images:  10%|█         | 83/810 [00:05<00:34, 20.84it/s]"
     ]
    },
    {
     "name": "stdout",
     "output_type": "stream",
     "text": [
      "C:\\Users\\User\\Desktop\\DSO\\traffic-prediction\\backend\\assets4_labels\\1501_1413_20240127142002_491009.txt\n",
      "\n",
      "0: 640x640 3 cars, 25.5ms\n",
      "Speed: 1.0ms preprocess, 25.5ms inference, 2.0ms postprocess per image at shape (1, 3, 640, 640)\n"
     ]
    },
    {
     "name": "stderr",
     "output_type": "stream",
     "text": [
      "Processing results: 100%|██████████| 1/1 [00:00<00:00, 498.85it/s]"
     ]
    },
    {
     "name": "stdout",
     "output_type": "stream",
     "text": [
      "C:\\Users\\User\\Desktop\\DSO\\traffic-prediction\\backend\\assets4_labels\\1501_1418_20240127142507_484997.txt\n",
      "\n"
     ]
    },
    {
     "name": "stderr",
     "output_type": "stream",
     "text": [
      "\n"
     ]
    },
    {
     "name": "stdout",
     "output_type": "stream",
     "text": [
      "0: 640x640 1 car, 26.5ms\n",
      "Speed: 2.0ms preprocess, 26.5ms inference, 1.0ms postprocess per image at shape (1, 3, 640, 640)\n"
     ]
    },
    {
     "name": "stderr",
     "output_type": "stream",
     "text": [
      "Processing results: 100%|██████████| 1/1 [00:00<00:00, 499.86it/s]"
     ]
    },
    {
     "name": "stdout",
     "output_type": "stream",
     "text": [
      "C:\\Users\\User\\Desktop\\DSO\\traffic-prediction\\backend\\assets4_labels\\1501_1423_20240127143009_985156.txt\n",
      "\n",
      "0: 640x640 (no detections), 25.9ms\n",
      "Speed: 2.0ms preprocess, 25.9ms inference, 0.0ms postprocess per image at shape (1, 3, 640, 640)\n"
     ]
    },
    {
     "name": "stderr",
     "output_type": "stream",
     "text": [
      "\n",
      "Processing results: 100%|██████████| 1/1 [00:00<00:00, 995.56it/s]\n",
      "Processing images:  11%|█         | 86/810 [00:05<00:31, 22.86it/s]"
     ]
    },
    {
     "name": "stdout",
     "output_type": "stream",
     "text": [
      "C:\\Users\\User\\Desktop\\DSO\\traffic-prediction\\backend\\assets4_labels\\1501_1428_20240127143504_484998.txt\n",
      "\n",
      "0: 640x640 (no detections), 26.1ms\n",
      "Speed: 1.0ms preprocess, 26.1ms inference, 0.0ms postprocess per image at shape (1, 3, 640, 640)\n"
     ]
    },
    {
     "name": "stderr",
     "output_type": "stream",
     "text": [
      "Processing results: 100%|██████████| 1/1 [00:00<00:00, 1003.18it/s]"
     ]
    },
    {
     "name": "stdout",
     "output_type": "stream",
     "text": [
      "C:\\Users\\User\\Desktop\\DSO\\traffic-prediction\\backend\\assets4_labels\\1501_1433_20240127144003_100101.txt\n",
      "\n"
     ]
    },
    {
     "name": "stderr",
     "output_type": "stream",
     "text": [
      "\n"
     ]
    },
    {
     "name": "stdout",
     "output_type": "stream",
     "text": [
      "0: 640x640 (no detections), 26.1ms\n",
      "Speed: 1.5ms preprocess, 26.1ms inference, 0.0ms postprocess per image at shape (1, 3, 640, 640)\n"
     ]
    },
    {
     "name": "stderr",
     "output_type": "stream",
     "text": [
      "Processing results: 100%|██████████| 1/1 [00:00<00:00, 994.62it/s]"
     ]
    },
    {
     "name": "stdout",
     "output_type": "stream",
     "text": [
      "C:\\Users\\User\\Desktop\\DSO\\traffic-prediction\\backend\\assets4_labels\\1501_1438_20240127144515_994999.txt\n",
      "\n"
     ]
    },
    {
     "name": "stderr",
     "output_type": "stream",
     "text": [
      "\n"
     ]
    },
    {
     "name": "stdout",
     "output_type": "stream",
     "text": [
      "0: 640x640 (no detections), 25.7ms\n",
      "Speed: 2.0ms preprocess, 25.7ms inference, 1.0ms postprocess per image at shape (1, 3, 640, 640)\n"
     ]
    },
    {
     "name": "stderr",
     "output_type": "stream",
     "text": [
      "Processing results: 100%|██████████| 1/1 [00:00<?, ?it/s]\n",
      "Processing images:  11%|█         | 89/810 [00:05<00:29, 24.59it/s]"
     ]
    },
    {
     "name": "stdout",
     "output_type": "stream",
     "text": [
      "C:\\Users\\User\\Desktop\\DSO\\traffic-prediction\\backend\\assets4_labels\\1501_1443_20240127145009_100485.txt\n",
      "\n",
      "0: 640x640 (no detections), 26.1ms\n",
      "Speed: 1.5ms preprocess, 26.1ms inference, 0.0ms postprocess per image at shape (1, 3, 640, 640)\n"
     ]
    },
    {
     "name": "stderr",
     "output_type": "stream",
     "text": [
      "Processing results: 100%|██████████| 1/1 [00:00<00:00, 992.73it/s]"
     ]
    },
    {
     "name": "stdout",
     "output_type": "stream",
     "text": [
      "C:\\Users\\User\\Desktop\\DSO\\traffic-prediction\\backend\\assets4_labels\\1502_1403_20240127141006_529810.txt\n",
      "\n"
     ]
    },
    {
     "name": "stderr",
     "output_type": "stream",
     "text": [
      "\n"
     ]
    },
    {
     "name": "stdout",
     "output_type": "stream",
     "text": [
      "0: 640x640 (no detections), 26.6ms\n",
      "Speed: 1.0ms preprocess, 26.6ms inference, 1.0ms postprocess per image at shape (1, 3, 640, 640)\n"
     ]
    },
    {
     "name": "stderr",
     "output_type": "stream",
     "text": [
      "Processing results: 100%|██████████| 1/1 [00:00<?, ?it/s]"
     ]
    },
    {
     "name": "stdout",
     "output_type": "stream",
     "text": [
      "C:\\Users\\User\\Desktop\\DSO\\traffic-prediction\\backend\\assets4_labels\\1502_1408_20240127141508_565149.txt\n",
      "\n"
     ]
    },
    {
     "name": "stderr",
     "output_type": "stream",
     "text": [
      "\n"
     ]
    },
    {
     "name": "stdout",
     "output_type": "stream",
     "text": [
      "0: 640x640 2 cars, 26.6ms\n",
      "Speed: 1.0ms preprocess, 26.6ms inference, 2.0ms postprocess per image at shape (1, 3, 640, 640)\n"
     ]
    },
    {
     "name": "stderr",
     "output_type": "stream",
     "text": [
      "Processing results: 100%|██████████| 1/1 [00:00<00:00, 994.85it/s]\n",
      "Processing images:  11%|█▏        | 92/810 [00:05<00:27, 25.67it/s]"
     ]
    },
    {
     "name": "stdout",
     "output_type": "stream",
     "text": [
      "C:\\Users\\User\\Desktop\\DSO\\traffic-prediction\\backend\\assets4_labels\\1502_1413_20240127142002_489850.txt\n",
      "\n",
      "0: 640x640 (no detections), 26.1ms\n",
      "Speed: 2.0ms preprocess, 26.1ms inference, 0.0ms postprocess per image at shape (1, 3, 640, 640)\n"
     ]
    },
    {
     "name": "stderr",
     "output_type": "stream",
     "text": [
      "Processing results: 100%|██████████| 1/1 [00:00<00:00, 1002.70it/s]"
     ]
    },
    {
     "name": "stdout",
     "output_type": "stream",
     "text": [
      "C:\\Users\\User\\Desktop\\DSO\\traffic-prediction\\backend\\assets4_labels\\1502_1418_20240127142507_100984.txt\n",
      "\n",
      "0: 640x640 2 cars, 26.8ms\n"
     ]
    },
    {
     "name": "stderr",
     "output_type": "stream",
     "text": [
      "\n"
     ]
    },
    {
     "name": "stdout",
     "output_type": "stream",
     "text": [
      "Speed: 1.9ms preprocess, 26.8ms inference, 1.5ms postprocess per image at shape (1, 3, 640, 640)\n"
     ]
    },
    {
     "name": "stderr",
     "output_type": "stream",
     "text": [
      "Processing results: 100%|██████████| 1/1 [00:00<00:00, 999.36it/s]"
     ]
    },
    {
     "name": "stdout",
     "output_type": "stream",
     "text": [
      "C:\\Users\\User\\Desktop\\DSO\\traffic-prediction\\backend\\assets4_labels\\1502_1423_20240127143007_494950.txt\n",
      "\n",
      "0: 640x640 (no detections), 25.1ms\n"
     ]
    },
    {
     "name": "stderr",
     "output_type": "stream",
     "text": [
      "\n"
     ]
    },
    {
     "name": "stdout",
     "output_type": "stream",
     "text": [
      "Speed: 2.0ms preprocess, 25.1ms inference, 1.0ms postprocess per image at shape (1, 3, 640, 640)\n"
     ]
    },
    {
     "name": "stderr",
     "output_type": "stream",
     "text": [
      "Processing results: 100%|██████████| 1/1 [00:00<00:00, 999.60it/s]\n",
      "Processing images:  12%|█▏        | 95/810 [00:05<00:27, 26.44it/s]"
     ]
    },
    {
     "name": "stdout",
     "output_type": "stream",
     "text": [
      "C:\\Users\\User\\Desktop\\DSO\\traffic-prediction\\backend\\assets4_labels\\1502_1428_20240127143504_519755.txt\n",
      "\n",
      "0: 640x640 (no detections), 25.8ms\n",
      "Speed: 3.0ms preprocess, 25.8ms inference, 1.0ms postprocess per image at shape (1, 3, 640, 640)\n"
     ]
    },
    {
     "name": "stderr",
     "output_type": "stream",
     "text": [
      "Processing results: 100%|██████████| 1/1 [00:00<00:00, 995.80it/s]"
     ]
    },
    {
     "name": "stdout",
     "output_type": "stream",
     "text": [
      "C:\\Users\\User\\Desktop\\DSO\\traffic-prediction\\backend\\assets4_labels\\1502_1433_20240127144003_101975.txt\n",
      "\n",
      "0: 640x640 2 cars, 25.1ms\n"
     ]
    },
    {
     "name": "stderr",
     "output_type": "stream",
     "text": [
      "\n"
     ]
    },
    {
     "name": "stdout",
     "output_type": "stream",
     "text": [
      "Speed: 4.0ms preprocess, 25.1ms inference, 2.0ms postprocess per image at shape (1, 3, 640, 640)\n"
     ]
    },
    {
     "name": "stderr",
     "output_type": "stream",
     "text": [
      "Processing results: 100%|██████████| 1/1 [00:00<00:00, 499.62it/s]"
     ]
    },
    {
     "name": "stdout",
     "output_type": "stream",
     "text": [
      "C:\\Users\\User\\Desktop\\DSO\\traffic-prediction\\backend\\assets4_labels\\1502_1438_20240127144515_505797.txt\n",
      "\n"
     ]
    },
    {
     "name": "stderr",
     "output_type": "stream",
     "text": [
      "\n"
     ]
    },
    {
     "name": "stdout",
     "output_type": "stream",
     "text": [
      "0: 640x640 (no detections), 25.4ms\n",
      "Speed: 4.0ms preprocess, 25.4ms inference, 1.0ms postprocess per image at shape (1, 3, 640, 640)\n"
     ]
    },
    {
     "name": "stderr",
     "output_type": "stream",
     "text": [
      "Processing results: 100%|██████████| 1/1 [00:00<00:00, 824.19it/s]\n",
      "Processing images:  12%|█▏        | 98/810 [00:06<00:26, 26.46it/s]"
     ]
    },
    {
     "name": "stdout",
     "output_type": "stream",
     "text": [
      "C:\\Users\\User\\Desktop\\DSO\\traffic-prediction\\backend\\assets4_labels\\1502_1443_20240127145009_100975.txt\n",
      "\n",
      "0: 640x640 (no detections), 26.4ms\n",
      "Speed: 4.0ms preprocess, 26.4ms inference, 0.0ms postprocess per image at shape (1, 3, 640, 640)\n"
     ]
    },
    {
     "name": "stderr",
     "output_type": "stream",
     "text": [
      "Processing results: 100%|██████████| 1/1 [00:00<00:00, 999.60it/s]"
     ]
    },
    {
     "name": "stdout",
     "output_type": "stream",
     "text": [
      "C:\\Users\\User\\Desktop\\DSO\\traffic-prediction\\backend\\assets4_labels\\1503_1403_20240127141006_505497.txt\n",
      "\n"
     ]
    },
    {
     "name": "stderr",
     "output_type": "stream",
     "text": [
      "\n"
     ]
    },
    {
     "name": "stdout",
     "output_type": "stream",
     "text": [
      "0: 640x640 4 cars, 1 truck, 25.0ms\n",
      "Speed: 4.1ms preprocess, 25.0ms inference, 1.8ms postprocess per image at shape (1, 3, 640, 640)\n"
     ]
    },
    {
     "name": "stderr",
     "output_type": "stream",
     "text": [
      "Processing results: 100%|██████████| 1/1 [00:00<00:00, 499.92it/s]"
     ]
    },
    {
     "name": "stdout",
     "output_type": "stream",
     "text": [
      "C:\\Users\\User\\Desktop\\DSO\\traffic-prediction\\backend\\assets4_labels\\1503_1408_20240127141504_485449.txt\n",
      "\n",
      "0: 640x640 8 cars, 1 truck, 1 clock, 24.9ms\n"
     ]
    },
    {
     "name": "stderr",
     "output_type": "stream",
     "text": [
      "\n"
     ]
    },
    {
     "name": "stdout",
     "output_type": "stream",
     "text": [
      "Speed: 5.0ms preprocess, 24.9ms inference, 2.0ms postprocess per image at shape (1, 3, 640, 640)\n"
     ]
    },
    {
     "name": "stderr",
     "output_type": "stream",
     "text": [
      "Processing results: 100%|██████████| 1/1 [00:00<00:00, 500.16it/s]\n",
      "Processing images:  12%|█▏        | 101/810 [00:06<00:27, 26.20it/s]"
     ]
    },
    {
     "name": "stdout",
     "output_type": "stream",
     "text": [
      "C:\\Users\\User\\Desktop\\DSO\\traffic-prediction\\backend\\assets4_labels\\1503_1413_20240127142002_525657.txt\n",
      "\n",
      "0: 640x640 1 airplane, 1 truck, 1 traffic light, 25.2ms\n",
      "Speed: 5.0ms preprocess, 25.2ms inference, 1.4ms postprocess per image at shape (1, 3, 640, 640)\n"
     ]
    },
    {
     "name": "stderr",
     "output_type": "stream",
     "text": [
      "Processing results: 100%|██████████| 1/1 [00:00<00:00, 664.71it/s]"
     ]
    },
    {
     "name": "stdout",
     "output_type": "stream",
     "text": [
      "C:\\Users\\User\\Desktop\\DSO\\traffic-prediction\\backend\\assets4_labels\\1503_1418_20240127142506_102535.txt\n",
      "\n",
      "0: 640x640 4 cars, 1 truck, 1 traffic light, 26.0ms\n"
     ]
    },
    {
     "name": "stderr",
     "output_type": "stream",
     "text": [
      "\n"
     ]
    },
    {
     "name": "stdout",
     "output_type": "stream",
     "text": [
      "Speed: 2.0ms preprocess, 26.0ms inference, 2.0ms postprocess per image at shape (1, 3, 640, 640)\n"
     ]
    },
    {
     "name": "stderr",
     "output_type": "stream",
     "text": [
      "Processing results: 100%|██████████| 1/1 [00:00<00:00, 499.38it/s]"
     ]
    },
    {
     "name": "stdout",
     "output_type": "stream",
     "text": [
      "C:\\Users\\User\\Desktop\\DSO\\traffic-prediction\\backend\\assets4_labels\\1503_1423_20240127143006_100524.txt\n",
      "\n"
     ]
    },
    {
     "name": "stderr",
     "output_type": "stream",
     "text": [
      "\n"
     ]
    },
    {
     "name": "stdout",
     "output_type": "stream",
     "text": [
      "0: 640x640 1 car, 26.6ms\n",
      "Speed: 1.4ms preprocess, 26.6ms inference, 1.0ms postprocess per image at shape (1, 3, 640, 640)\n"
     ]
    },
    {
     "name": "stderr",
     "output_type": "stream",
     "text": [
      "Processing results: 100%|██████████| 1/1 [00:00<00:00, 530.79it/s]\n",
      "Processing images:  13%|█▎        | 104/810 [00:06<00:27, 26.11it/s]"
     ]
    },
    {
     "name": "stdout",
     "output_type": "stream",
     "text": [
      "C:\\Users\\User\\Desktop\\DSO\\traffic-prediction\\backend\\assets4_labels\\1503_1428_20240127143502_519710.txt\n",
      "\n",
      "0: 640x640 (no detections), 26.2ms\n",
      "Speed: 1.0ms preprocess, 26.2ms inference, 1.0ms postprocess per image at shape (1, 3, 640, 640)\n"
     ]
    },
    {
     "name": "stderr",
     "output_type": "stream",
     "text": [
      "Processing results: 100%|██████████| 1/1 [00:00<00:00, 1001.27it/s]"
     ]
    },
    {
     "name": "stdout",
     "output_type": "stream",
     "text": [
      "C:\\Users\\User\\Desktop\\DSO\\traffic-prediction\\backend\\assets4_labels\\1503_1433_20240127144003_984853.txt\n",
      "\n",
      "0: 640x640 1 car, 1 clock, 25.5ms\n"
     ]
    },
    {
     "name": "stderr",
     "output_type": "stream",
     "text": [
      "\n"
     ]
    },
    {
     "name": "stdout",
     "output_type": "stream",
     "text": [
      "Speed: 2.8ms preprocess, 25.5ms inference, 1.0ms postprocess per image at shape (1, 3, 640, 640)\n"
     ]
    },
    {
     "name": "stderr",
     "output_type": "stream",
     "text": [
      "Processing results: 100%|██████████| 1/1 [00:00<00:00, 1004.14it/s]"
     ]
    },
    {
     "name": "stdout",
     "output_type": "stream",
     "text": [
      "C:\\Users\\User\\Desktop\\DSO\\traffic-prediction\\backend\\assets4_labels\\1503_1438_20240127144513_100525.txt\n",
      "\n"
     ]
    },
    {
     "name": "stderr",
     "output_type": "stream",
     "text": [
      "\n"
     ]
    },
    {
     "name": "stdout",
     "output_type": "stream",
     "text": [
      "0: 640x640 4 cars, 1 bus, 25.5ms\n",
      "Speed: 4.4ms preprocess, 25.5ms inference, 1.0ms postprocess per image at shape (1, 3, 640, 640)\n"
     ]
    },
    {
     "name": "stderr",
     "output_type": "stream",
     "text": [
      "Processing results: 100%|██████████| 1/1 [00:00<00:00, 498.85it/s]\n",
      "Processing images:  13%|█▎        | 107/810 [00:06<00:26, 26.18it/s]"
     ]
    },
    {
     "name": "stdout",
     "output_type": "stream",
     "text": [
      "C:\\Users\\User\\Desktop\\DSO\\traffic-prediction\\backend\\assets4_labels\\1503_1443_20240127145007_501011.txt\n",
      "\n",
      "0: 640x640 5 cars, 1 truck, 26.0ms\n",
      "Speed: 4.0ms preprocess, 26.0ms inference, 1.0ms postprocess per image at shape (1, 3, 640, 640)\n"
     ]
    },
    {
     "name": "stderr",
     "output_type": "stream",
     "text": [
      "Processing results: 100%|██████████| 1/1 [00:00<00:00, 501.17it/s]"
     ]
    },
    {
     "name": "stdout",
     "output_type": "stream",
     "text": [
      "C:\\Users\\User\\Desktop\\DSO\\traffic-prediction\\backend\\assets4_labels\\1504_1403_20240127141004_501001.txt\n",
      "\n",
      "0: 640x640 (no detections), 27.0ms\n"
     ]
    },
    {
     "name": "stderr",
     "output_type": "stream",
     "text": [
      "\n"
     ]
    },
    {
     "name": "stdout",
     "output_type": "stream",
     "text": [
      "Speed: 1.9ms preprocess, 27.0ms inference, 0.0ms postprocess per image at shape (1, 3, 640, 640)\n"
     ]
    },
    {
     "name": "stderr",
     "output_type": "stream",
     "text": [
      "Processing results: 100%|██████████| 1/1 [00:00<00:00, 1000.79it/s]"
     ]
    },
    {
     "name": "stdout",
     "output_type": "stream",
     "text": [
      "C:\\Users\\User\\Desktop\\DSO\\traffic-prediction\\backend\\assets4_labels\\1504_1408_20240127141504_975651.txt\n",
      "\n"
     ]
    },
    {
     "name": "stderr",
     "output_type": "stream",
     "text": [
      "\n"
     ]
    },
    {
     "name": "stdout",
     "output_type": "stream",
     "text": [
      "0: 640x640 1 truck, 26.1ms\n",
      "Speed: 3.0ms preprocess, 26.1ms inference, 1.0ms postprocess per image at shape (1, 3, 640, 640)\n"
     ]
    },
    {
     "name": "stderr",
     "output_type": "stream",
     "text": [
      "Processing results: 100%|██████████| 1/1 [00:00<00:00, 994.62it/s]\n",
      "Processing images:  14%|█▎        | 110/810 [00:06<00:26, 26.21it/s]"
     ]
    },
    {
     "name": "stdout",
     "output_type": "stream",
     "text": [
      "C:\\Users\\User\\Desktop\\DSO\\traffic-prediction\\backend\\assets4_labels\\1504_1413_20240127142002_541005.txt\n",
      "\n",
      "0: 640x640 1 car, 25.4ms\n",
      "Speed: 4.0ms preprocess, 25.4ms inference, 2.0ms postprocess per image at shape (1, 3, 640, 640)\n"
     ]
    },
    {
     "name": "stderr",
     "output_type": "stream",
     "text": [
      "Processing results: 100%|██████████| 1/1 [00:00<00:00, 1972.86it/s]"
     ]
    },
    {
     "name": "stdout",
     "output_type": "stream",
     "text": [
      "C:\\Users\\User\\Desktop\\DSO\\traffic-prediction\\backend\\assets4_labels\\1504_1418_20240127142506_515756.txt\n",
      "\n"
     ]
    },
    {
     "name": "stderr",
     "output_type": "stream",
     "text": [
      "\n"
     ]
    },
    {
     "name": "stdout",
     "output_type": "stream",
     "text": [
      "0: 640x640 3 cars, 25.4ms\n",
      "Speed: 1.0ms preprocess, 25.4ms inference, 2.0ms postprocess per image at shape (1, 3, 640, 640)\n"
     ]
    },
    {
     "name": "stderr",
     "output_type": "stream",
     "text": [
      "Processing results: 100%|██████████| 1/1 [00:00<00:00, 1001.51it/s]"
     ]
    },
    {
     "name": "stdout",
     "output_type": "stream",
     "text": [
      "C:\\Users\\User\\Desktop\\DSO\\traffic-prediction\\backend\\assets4_labels\\1504_1423_20240127143003_494955.txt\n",
      "\n",
      "0: 640x640 (no detections), 25.9ms\n",
      "Speed: 1.1ms preprocess, 25.9ms inference, 0.0ms postprocess per image at shape (1, 3, 640, 640)\n"
     ]
    },
    {
     "name": "stderr",
     "output_type": "stream",
     "text": [
      "\n",
      "Processing results: 100%|██████████| 1/1 [00:00<00:00, 1983.12it/s]\n",
      "Processing images:  14%|█▍        | 113/810 [00:06<00:26, 26.60it/s]"
     ]
    },
    {
     "name": "stdout",
     "output_type": "stream",
     "text": [
      "C:\\Users\\User\\Desktop\\DSO\\traffic-prediction\\backend\\assets4_labels\\1504_1428_20240127143502_529855.txt\n",
      "\n",
      "0: 640x640 1 car, 1 truck, 25.8ms\n",
      "Speed: 1.0ms preprocess, 25.8ms inference, 2.0ms postprocess per image at shape (1, 3, 640, 640)\n"
     ]
    },
    {
     "name": "stderr",
     "output_type": "stream",
     "text": [
      "Processing results: 100%|██████████| 1/1 [00:00<00:00, 1000.79it/s]"
     ]
    },
    {
     "name": "stdout",
     "output_type": "stream",
     "text": [
      "C:\\Users\\User\\Desktop\\DSO\\traffic-prediction\\backend\\assets4_labels\\1504_1433_20240127144003_574848.txt\n",
      "\n",
      "0: 640x640 1 car, 26.1ms\n"
     ]
    },
    {
     "name": "stderr",
     "output_type": "stream",
     "text": [
      "\n"
     ]
    },
    {
     "name": "stdout",
     "output_type": "stream",
     "text": [
      "Speed: 1.0ms preprocess, 26.1ms inference, 2.0ms postprocess per image at shape (1, 3, 640, 640)\n"
     ]
    },
    {
     "name": "stderr",
     "output_type": "stream",
     "text": [
      "Processing results: 100%|██████████| 1/1 [00:00<00:00, 998.64it/s]"
     ]
    },
    {
     "name": "stdout",
     "output_type": "stream",
     "text": [
      "C:\\Users\\User\\Desktop\\DSO\\traffic-prediction\\backend\\assets4_labels\\1504_1438_20240127144509_515198.txt\n",
      "\n"
     ]
    },
    {
     "name": "stderr",
     "output_type": "stream",
     "text": [
      "\n"
     ]
    },
    {
     "name": "stdout",
     "output_type": "stream",
     "text": [
      "0: 640x640 6 cars, 1 bus, 1 truck, 26.4ms\n",
      "Speed: 2.0ms preprocess, 26.4ms inference, 2.0ms postprocess per image at shape (1, 3, 640, 640)\n"
     ]
    },
    {
     "name": "stderr",
     "output_type": "stream",
     "text": [
      "Processing results: 100%|██████████| 1/1 [00:00<00:00, 143.85it/s]\n",
      "Processing images:  14%|█▍        | 116/810 [00:06<00:26, 26.58it/s]"
     ]
    },
    {
     "name": "stdout",
     "output_type": "stream",
     "text": [
      "C:\\Users\\User\\Desktop\\DSO\\traffic-prediction\\backend\\assets4_labels\\1504_1443_20240127145006_514810.txt\n",
      "\n",
      "0: 640x640 2 cars, 1 truck, 26.1ms\n",
      "Speed: 2.0ms preprocess, 26.1ms inference, 1.0ms postprocess per image at shape (1, 3, 640, 640)\n"
     ]
    },
    {
     "name": "stderr",
     "output_type": "stream",
     "text": [
      "Processing results: 100%|██████████| 1/1 [00:00<00:00, 841.72it/s]"
     ]
    },
    {
     "name": "stdout",
     "output_type": "stream",
     "text": [
      "C:\\Users\\User\\Desktop\\DSO\\traffic-prediction\\backend\\assets4_labels\\1505_1403_20240127141003_554855.txt\n",
      "\n",
      "0: 640x640 (no detections), 26.1ms\n"
     ]
    },
    {
     "name": "stderr",
     "output_type": "stream",
     "text": [
      "\n"
     ]
    },
    {
     "name": "stdout",
     "output_type": "stream",
     "text": [
      "Speed: 1.1ms preprocess, 26.1ms inference, 0.0ms postprocess per image at shape (1, 3, 640, 640)\n"
     ]
    },
    {
     "name": "stderr",
     "output_type": "stream",
     "text": [
      "Processing results: 100%|██████████| 1/1 [00:00<00:00, 1000.55it/s]"
     ]
    },
    {
     "name": "stdout",
     "output_type": "stream",
     "text": [
      "C:\\Users\\User\\Desktop\\DSO\\traffic-prediction\\backend\\assets4_labels\\1505_1408_20240127141504_515550.txt\n",
      "\n",
      "0: 640x640 (no detections), 24.7ms\n"
     ]
    },
    {
     "name": "stderr",
     "output_type": "stream",
     "text": [
      "\n"
     ]
    },
    {
     "name": "stdout",
     "output_type": "stream",
     "text": [
      "Speed: 2.0ms preprocess, 24.7ms inference, 1.4ms postprocess per image at shape (1, 3, 640, 640)\n"
     ]
    },
    {
     "name": "stderr",
     "output_type": "stream",
     "text": [
      "Processing results: 100%|██████████| 1/1 [00:00<00:00, 998.41it/s]\n",
      "Processing images:  15%|█▍        | 119/810 [00:06<00:25, 27.20it/s]"
     ]
    },
    {
     "name": "stdout",
     "output_type": "stream",
     "text": [
      "C:\\Users\\User\\Desktop\\DSO\\traffic-prediction\\backend\\assets4_labels\\1505_1413_20240127142002_579810.txt\n",
      "\n",
      "0: 640x640 (no detections), 26.1ms\n",
      "Speed: 1.0ms preprocess, 26.1ms inference, 1.0ms postprocess per image at shape (1, 3, 640, 640)\n"
     ]
    },
    {
     "name": "stderr",
     "output_type": "stream",
     "text": [
      "Processing results: 100%|██████████| 1/1 [00:00<?, ?it/s]"
     ]
    },
    {
     "name": "stdout",
     "output_type": "stream",
     "text": [
      "C:\\Users\\User\\Desktop\\DSO\\traffic-prediction\\backend\\assets4_labels\\1505_1418_20240127142506_565050.txt\n",
      "\n"
     ]
    },
    {
     "name": "stderr",
     "output_type": "stream",
     "text": [
      "\n"
     ]
    },
    {
     "name": "stdout",
     "output_type": "stream",
     "text": [
      "0: 640x640 (no detections), 26.8ms\n",
      "Speed: 1.0ms preprocess, 26.8ms inference, 0.0ms postprocess per image at shape (1, 3, 640, 640)\n"
     ]
    },
    {
     "name": "stderr",
     "output_type": "stream",
     "text": [
      "Processing results: 100%|██████████| 1/1 [00:00<00:00, 1001.27it/s]"
     ]
    },
    {
     "name": "stdout",
     "output_type": "stream",
     "text": [
      "C:\\Users\\User\\Desktop\\DSO\\traffic-prediction\\backend\\assets4_labels\\1505_1423_20240127143001_559954.txt\n",
      "\n",
      "0: 640x640 (no detections), 26.1ms\n"
     ]
    },
    {
     "name": "stderr",
     "output_type": "stream",
     "text": [
      "\n"
     ]
    },
    {
     "name": "stdout",
     "output_type": "stream",
     "text": [
      "Speed: 1.0ms preprocess, 26.1ms inference, 1.0ms postprocess per image at shape (1, 3, 640, 640)\n"
     ]
    },
    {
     "name": "stderr",
     "output_type": "stream",
     "text": [
      "Processing results: 100%|██████████| 1/1 [00:00<00:00, 924.67it/s]\n",
      "Processing images:  15%|█▌        | 122/810 [00:06<00:24, 27.78it/s]"
     ]
    },
    {
     "name": "stdout",
     "output_type": "stream",
     "text": [
      "C:\\Users\\User\\Desktop\\DSO\\traffic-prediction\\backend\\assets4_labels\\1505_1428_20240127143501_975098.txt\n",
      "\n",
      "0: 640x640 (no detections), 26.0ms\n",
      "Speed: 1.0ms preprocess, 26.0ms inference, 1.0ms postprocess per image at shape (1, 3, 640, 640)\n"
     ]
    },
    {
     "name": "stderr",
     "output_type": "stream",
     "text": [
      "Processing results: 100%|██████████| 1/1 [00:00<00:00, 1004.62it/s]"
     ]
    },
    {
     "name": "stdout",
     "output_type": "stream",
     "text": [
      "C:\\Users\\User\\Desktop\\DSO\\traffic-prediction\\backend\\assets4_labels\\1505_1433_20240127144003_571015.txt\n",
      "\n"
     ]
    },
    {
     "name": "stderr",
     "output_type": "stream",
     "text": [
      "\n"
     ]
    },
    {
     "name": "stdout",
     "output_type": "stream",
     "text": [
      "0: 640x640 (no detections), 26.0ms\n",
      "Speed: 2.5ms preprocess, 26.0ms inference, 1.0ms postprocess per image at shape (1, 3, 640, 640)\n"
     ]
    },
    {
     "name": "stderr",
     "output_type": "stream",
     "text": [
      "Processing results: 100%|██████████| 1/1 [00:00<00:00, 755.05it/s]"
     ]
    },
    {
     "name": "stdout",
     "output_type": "stream",
     "text": [
      "C:\\Users\\User\\Desktop\\DSO\\traffic-prediction\\backend\\assets4_labels\\1505_1438_20240127144507_534953.txt\n",
      "\n"
     ]
    },
    {
     "name": "stderr",
     "output_type": "stream",
     "text": [
      "\n"
     ]
    },
    {
     "name": "stdout",
     "output_type": "stream",
     "text": [
      "0: 640x640 1 car, 25.4ms\n",
      "Speed: 2.2ms preprocess, 25.4ms inference, 1.0ms postprocess per image at shape (1, 3, 640, 640)\n"
     ]
    },
    {
     "name": "stderr",
     "output_type": "stream",
     "text": [
      "Processing results: 100%|██████████| 1/1 [00:00<00:00, 500.51it/s]\n",
      "Processing images:  15%|█▌        | 125/810 [00:07<00:24, 27.86it/s]"
     ]
    },
    {
     "name": "stdout",
     "output_type": "stream",
     "text": [
      "C:\\Users\\User\\Desktop\\DSO\\traffic-prediction\\backend\\assets4_labels\\1505_1443_20240127145003_485155.txt\n",
      "\n",
      "0: 640x640 1 car, 1 bus, 27.0ms\n",
      "Speed: 1.0ms preprocess, 27.0ms inference, 1.0ms postprocess per image at shape (1, 3, 640, 640)\n"
     ]
    },
    {
     "name": "stderr",
     "output_type": "stream",
     "text": [
      "Processing results: 100%|██████████| 1/1 [00:00<00:00, 500.27it/s]"
     ]
    },
    {
     "name": "stdout",
     "output_type": "stream",
     "text": [
      "C:\\Users\\User\\Desktop\\DSO\\traffic-prediction\\backend\\assets4_labels\\1701_1408_20240127141027_505698.txt\n",
      "\n"
     ]
    },
    {
     "name": "stderr",
     "output_type": "stream",
     "text": [
      "\n"
     ]
    },
    {
     "name": "stdout",
     "output_type": "stream",
     "text": [
      "0: 640x640 24 cars, 1 bus, 3 trucks, 25.2ms\n",
      "Speed: 2.0ms preprocess, 25.2ms inference, 2.1ms postprocess per image at shape (1, 3, 640, 640)\n"
     ]
    },
    {
     "name": "stderr",
     "output_type": "stream",
     "text": [
      "Processing results: 100%|██████████| 1/1 [00:00<00:00, 250.05it/s]"
     ]
    },
    {
     "name": "stdout",
     "output_type": "stream",
     "text": [
      "C:\\Users\\User\\Desktop\\DSO\\traffic-prediction\\backend\\assets4_labels\\1701_1414_20240127141538_102521.txt\n",
      "\n"
     ]
    },
    {
     "name": "stderr",
     "output_type": "stream",
     "text": [
      "\n"
     ]
    },
    {
     "name": "stdout",
     "output_type": "stream",
     "text": [
      "0: 640x640 28 cars, 1 motorcycle, 4 trucks, 26.6ms\n",
      "Speed: 1.0ms preprocess, 26.6ms inference, 1.0ms postprocess per image at shape (1, 3, 640, 640)\n"
     ]
    },
    {
     "name": "stderr",
     "output_type": "stream",
     "text": [
      "Processing results: 100%|██████████| 1/1 [00:00<00:00, 249.20it/s]\n",
      "Processing images:  16%|█▌        | 128/810 [00:07<00:26, 25.36it/s]"
     ]
    },
    {
     "name": "stdout",
     "output_type": "stream",
     "text": [
      "C:\\Users\\User\\Desktop\\DSO\\traffic-prediction\\backend\\assets4_labels\\1701_1419_20240127142012_521014.txt\n",
      "\n",
      "0: 640x640 20 cars, 3 buss, 5 trucks, 26.1ms\n",
      "Speed: 5.0ms preprocess, 26.1ms inference, 1.0ms postprocess per image at shape (1, 3, 640, 640)\n"
     ]
    },
    {
     "name": "stderr",
     "output_type": "stream",
     "text": [
      "Processing results: 100%|██████████| 1/1 [00:00<00:00, 250.02it/s]"
     ]
    },
    {
     "name": "stdout",
     "output_type": "stream",
     "text": [
      "C:\\Users\\User\\Desktop\\DSO\\traffic-prediction\\backend\\assets4_labels\\1701_1423_20240127142525_481025.txt\n",
      "\n"
     ]
    },
    {
     "name": "stderr",
     "output_type": "stream",
     "text": [
      "\n"
     ]
    },
    {
     "name": "stdout",
     "output_type": "stream",
     "text": [
      "0: 640x640 27 cars, 1 bus, 2 trucks, 1 traffic light, 25.3ms\n",
      "Speed: 5.6ms preprocess, 25.3ms inference, 1.5ms postprocess per image at shape (1, 3, 640, 640)\n"
     ]
    },
    {
     "name": "stderr",
     "output_type": "stream",
     "text": [
      "Processing results: 100%|██████████| 1/1 [00:00<00:00, 249.71it/s]"
     ]
    },
    {
     "name": "stdout",
     "output_type": "stream",
     "text": [
      "C:\\Users\\User\\Desktop\\DSO\\traffic-prediction\\backend\\assets4_labels\\1701_1429_20240127143037_575448.txt\n",
      "\n"
     ]
    },
    {
     "name": "stderr",
     "output_type": "stream",
     "text": [
      "\n"
     ]
    },
    {
     "name": "stdout",
     "output_type": "stream",
     "text": [
      "0: 640x640 27 cars, 2 buss, 6 trucks, 25.9ms\n",
      "Speed: 2.2ms preprocess, 25.9ms inference, 2.0ms postprocess per image at shape (1, 3, 640, 640)\n"
     ]
    },
    {
     "name": "stderr",
     "output_type": "stream",
     "text": [
      "Processing results: 100%|██████████| 1/1 [00:00<00:00, 199.19it/s]\n",
      "Processing images:  16%|█▌        | 131/810 [00:07<00:30, 22.37it/s]"
     ]
    },
    {
     "name": "stdout",
     "output_type": "stream",
     "text": [
      "C:\\Users\\User\\Desktop\\DSO\\traffic-prediction\\backend\\assets4_labels\\1701_1433_20240127143525_100579.txt\n",
      "\n",
      "0: 640x640 19 cars, 1 bus, 5 trucks, 1 traffic light, 27.0ms\n",
      "Speed: 5.1ms preprocess, 27.0ms inference, 2.0ms postprocess per image at shape (1, 3, 640, 640)\n"
     ]
    },
    {
     "name": "stderr",
     "output_type": "stream",
     "text": [
      "Processing results: 100%|██████████| 1/1 [00:00<00:00, 285.58it/s]"
     ]
    },
    {
     "name": "stdout",
     "output_type": "stream",
     "text": [
      "C:\\Users\\User\\Desktop\\DSO\\traffic-prediction\\backend\\assets4_labels\\1701_1439_20240127144021_559710.txt\n",
      "\n"
     ]
    },
    {
     "name": "stderr",
     "output_type": "stream",
     "text": [
      "\n"
     ]
    },
    {
     "name": "stdout",
     "output_type": "stream",
     "text": [
      "0: 640x640 27 cars, 1 bus, 4 trucks, 2 traffic lights, 26.6ms\n",
      "Speed: 4.6ms preprocess, 26.6ms inference, 1.5ms postprocess per image at shape (1, 3, 640, 640)\n"
     ]
    },
    {
     "name": "stderr",
     "output_type": "stream",
     "text": [
      "Processing results: 100%|██████████| 1/1 [00:00<00:00, 199.97it/s]"
     ]
    },
    {
     "name": "stdout",
     "output_type": "stream",
     "text": [
      "C:\\Users\\User\\Desktop\\DSO\\traffic-prediction\\backend\\assets4_labels\\1701_1444_20240127144551_525355.txt\n",
      "\n"
     ]
    },
    {
     "name": "stderr",
     "output_type": "stream",
     "text": [
      "\n"
     ]
    },
    {
     "name": "stdout",
     "output_type": "stream",
     "text": [
      "0: 640x640 22 cars, 2 buss, 5 trucks, 2 traffic lights, 26.6ms\n",
      "Speed: 6.0ms preprocess, 26.6ms inference, 1.5ms postprocess per image at shape (1, 3, 640, 640)\n"
     ]
    },
    {
     "name": "stderr",
     "output_type": "stream",
     "text": [
      "Processing results: 100%|██████████| 1/1 [00:00<00:00, 249.96it/s]\n",
      "Processing images:  17%|█▋        | 134/810 [00:07<00:33, 20.08it/s]"
     ]
    },
    {
     "name": "stdout",
     "output_type": "stream",
     "text": [
      "C:\\Users\\User\\Desktop\\DSO\\traffic-prediction\\backend\\assets4_labels\\1701_1448_20240127145020_561005.txt\n",
      "\n",
      "0: 640x640 30 cars, 1 truck, 26.3ms\n",
      "Speed: 2.5ms preprocess, 26.3ms inference, 1.5ms postprocess per image at shape (1, 3, 640, 640)\n"
     ]
    },
    {
     "name": "stderr",
     "output_type": "stream",
     "text": [
      "Processing results: 100%|██████████| 1/1 [00:00<00:00, 181.66it/s]"
     ]
    },
    {
     "name": "stdout",
     "output_type": "stream",
     "text": [
      "C:\\Users\\User\\Desktop\\DSO\\traffic-prediction\\backend\\assets4_labels\\1702_1408_20240127141028_575297.txt\n",
      "\n",
      "0: 640x640 17 cars, 2 motorcycles, 4 trucks, 25.5ms\n",
      "Speed: 3.5ms preprocess, 25.5ms inference, 2.0ms postprocess per image at shape (1, 3, 640, 640)\n"
     ]
    },
    {
     "name": "stderr",
     "output_type": "stream",
     "text": [
      "\n",
      "Processing results: 100%|██████████| 1/1 [00:00<00:00, 294.92it/s]"
     ]
    },
    {
     "name": "stdout",
     "output_type": "stream",
     "text": [
      "C:\\Users\\User\\Desktop\\DSO\\traffic-prediction\\backend\\assets4_labels\\1702_1413_20240127141539_102102.txt\n",
      "\n"
     ]
    },
    {
     "name": "stderr",
     "output_type": "stream",
     "text": [
      "\n"
     ]
    },
    {
     "name": "stdout",
     "output_type": "stream",
     "text": [
      "0: 640x640 16 cars, 1 bus, 2 trucks, 26.4ms\n",
      "Speed: 3.2ms preprocess, 26.4ms inference, 1.0ms postprocess per image at shape (1, 3, 640, 640)\n"
     ]
    },
    {
     "name": "stderr",
     "output_type": "stream",
     "text": [
      "Processing results: 100%|██████████| 1/1 [00:00<00:00, 321.80it/s]\n",
      "Processing images:  17%|█▋        | 137/810 [00:07<00:35, 19.17it/s]"
     ]
    },
    {
     "name": "stdout",
     "output_type": "stream",
     "text": [
      "C:\\Users\\User\\Desktop\\DSO\\traffic-prediction\\backend\\assets4_labels\\1702_1419_20240127142013_499752.txt\n",
      "\n",
      "0: 640x640 15 cars, 1 bus, 5 trucks, 1 boat, 26.1ms\n",
      "Speed: 2.0ms preprocess, 26.1ms inference, 1.0ms postprocess per image at shape (1, 3, 640, 640)\n"
     ]
    },
    {
     "name": "stderr",
     "output_type": "stream",
     "text": [
      "Processing results: 100%|██████████| 1/1 [00:00<00:00, 331.59it/s]"
     ]
    },
    {
     "name": "stdout",
     "output_type": "stream",
     "text": [
      "C:\\Users\\User\\Desktop\\DSO\\traffic-prediction\\backend\\assets4_labels\\1702_1423_20240127142525_569998.txt\n",
      "\n"
     ]
    },
    {
     "name": "stderr",
     "output_type": "stream",
     "text": [
      "\n"
     ]
    },
    {
     "name": "stdout",
     "output_type": "stream",
     "text": [
      "0: 640x640 17 cars, 5 trucks, 1 boat, 26.0ms\n",
      "Speed: 1.5ms preprocess, 26.0ms inference, 1.0ms postprocess per image at shape (1, 3, 640, 640)\n"
     ]
    },
    {
     "name": "stderr",
     "output_type": "stream",
     "text": [
      "Processing results: 100%|██████████| 1/1 [00:00<00:00, 239.41it/s]"
     ]
    },
    {
     "name": "stdout",
     "output_type": "stream",
     "text": [
      "C:\\Users\\User\\Desktop\\DSO\\traffic-prediction\\backend\\assets4_labels\\1702_1428_20240127143040_554899.txt\n",
      "\n"
     ]
    },
    {
     "name": "stderr",
     "output_type": "stream",
     "text": [
      "\n"
     ]
    },
    {
     "name": "stdout",
     "output_type": "stream",
     "text": [
      "0: 640x640 19 cars, 2 buss, 6 trucks, 26.1ms\n",
      "Speed: 1.0ms preprocess, 26.1ms inference, 1.0ms postprocess per image at shape (1, 3, 640, 640)\n"
     ]
    },
    {
     "name": "stderr",
     "output_type": "stream",
     "text": [
      "Processing results: 100%|██████████| 1/1 [00:00<00:00, 250.17it/s]\n",
      "Processing images:  17%|█▋        | 140/810 [00:07<00:34, 19.22it/s]"
     ]
    },
    {
     "name": "stdout",
     "output_type": "stream",
     "text": [
      "C:\\Users\\User\\Desktop\\DSO\\traffic-prediction\\backend\\assets4_labels\\1702_1433_20240127143525_974999.txt\n",
      "\n",
      "0: 640x640 1 person, 17 cars, 5 trucks, 25.9ms\n",
      "Speed: 2.0ms preprocess, 25.9ms inference, 1.0ms postprocess per image at shape (1, 3, 640, 640)\n"
     ]
    },
    {
     "name": "stderr",
     "output_type": "stream",
     "text": [
      "Processing results: 100%|██████████| 1/1 [00:00<00:00, 333.86it/s]"
     ]
    },
    {
     "name": "stdout",
     "output_type": "stream",
     "text": [
      "C:\\Users\\User\\Desktop\\DSO\\traffic-prediction\\backend\\assets4_labels\\1702_1438_20240127144022_985798.txt\n",
      "\n",
      "0: 640x640 16 cars, 1 bus, 6 trucks, 26.7ms\n"
     ]
    },
    {
     "name": "stderr",
     "output_type": "stream",
     "text": [
      "\n"
     ]
    },
    {
     "name": "stdout",
     "output_type": "stream",
     "text": [
      "Speed: 1.0ms preprocess, 26.7ms inference, 1.8ms postprocess per image at shape (1, 3, 640, 640)\n"
     ]
    },
    {
     "name": "stderr",
     "output_type": "stream",
     "text": [
      "Processing results: 100%|██████████| 1/1 [00:00<00:00, 278.97it/s]\n",
      "Processing images:  18%|█▊        | 142/810 [00:07<00:34, 19.16it/s]"
     ]
    },
    {
     "name": "stdout",
     "output_type": "stream",
     "text": [
      "C:\\Users\\User\\Desktop\\DSO\\traffic-prediction\\backend\\assets4_labels\\1702_1444_20240127144551_974948.txt\n",
      "\n",
      "0: 640x640 15 cars, 2 buss, 6 trucks, 26.0ms\n",
      "Speed: 1.0ms preprocess, 26.0ms inference, 2.0ms postprocess per image at shape (1, 3, 640, 640)\n"
     ]
    },
    {
     "name": "stderr",
     "output_type": "stream",
     "text": [
      "Processing results: 100%|██████████| 1/1 [00:00<00:00, 330.21it/s]"
     ]
    },
    {
     "name": "stdout",
     "output_type": "stream",
     "text": [
      "C:\\Users\\User\\Desktop\\DSO\\traffic-prediction\\backend\\assets4_labels\\1702_1448_20240127145020_102535.txt\n",
      "\n"
     ]
    },
    {
     "name": "stderr",
     "output_type": "stream",
     "text": [
      "\n"
     ]
    },
    {
     "name": "stdout",
     "output_type": "stream",
     "text": [
      "0: 640x640 1 person, 19 cars, 1 motorcycle, 2 buss, 4 trucks, 26.4ms\n",
      "Speed: 2.0ms preprocess, 26.4ms inference, 1.0ms postprocess per image at shape (1, 3, 640, 640)\n"
     ]
    },
    {
     "name": "stderr",
     "output_type": "stream",
     "text": [
      "Processing results: 100%|██████████| 1/1 [00:00<00:00, 249.94it/s]\n",
      "Processing images:  18%|█▊        | 144/810 [00:08<00:34, 19.11it/s]"
     ]
    },
    {
     "name": "stdout",
     "output_type": "stream",
     "text": [
      "C:\\Users\\User\\Desktop\\DSO\\traffic-prediction\\backend\\assets4_labels\\1703_1408_20240127141016_501011.txt\n",
      "\n",
      "0: 640x640 20 cars, 4 trucks, 26.1ms\n",
      "Speed: 2.0ms preprocess, 26.1ms inference, 1.5ms postprocess per image at shape (1, 3, 640, 640)\n"
     ]
    },
    {
     "name": "stderr",
     "output_type": "stream",
     "text": [
      "Processing results: 100%|██████████| 1/1 [00:00<00:00, 333.25it/s]"
     ]
    },
    {
     "name": "stdout",
     "output_type": "stream",
     "text": [
      "C:\\Users\\User\\Desktop\\DSO\\traffic-prediction\\backend\\assets4_labels\\1703_1414_20240127141528_485150.txt\n",
      "\n"
     ]
    },
    {
     "name": "stderr",
     "output_type": "stream",
     "text": [
      "\n"
     ]
    },
    {
     "name": "stdout",
     "output_type": "stream",
     "text": [
      "0: 640x640 21 cars, 3 trucks, 1 traffic light, 25.9ms\n",
      "Speed: 1.0ms preprocess, 25.9ms inference, 2.0ms postprocess per image at shape (1, 3, 640, 640)\n"
     ]
    },
    {
     "name": "stderr",
     "output_type": "stream",
     "text": [
      "Processing results: 100%|██████████| 1/1 [00:00<00:00, 248.96it/s]\n",
      "Processing images:  18%|█▊        | 146/810 [00:08<00:34, 19.14it/s]"
     ]
    },
    {
     "name": "stdout",
     "output_type": "stream",
     "text": [
      "C:\\Users\\User\\Desktop\\DSO\\traffic-prediction\\backend\\assets4_labels\\1703_1419_20240127142004_495453.txt\n",
      "\n",
      "0: 640x640 24 cars, 3 trucks, 25.3ms\n",
      "Speed: 1.0ms preprocess, 25.3ms inference, 1.0ms postprocess per image at shape (1, 3, 640, 640)\n"
     ]
    },
    {
     "name": "stderr",
     "output_type": "stream",
     "text": [
      "Processing results: 100%|██████████| 1/1 [00:00<00:00, 235.32it/s]"
     ]
    },
    {
     "name": "stdout",
     "output_type": "stream",
     "text": [
      "C:\\Users\\User\\Desktop\\DSO\\traffic-prediction\\backend\\assets4_labels\\1703_1424_20240127142524_995248.txt\n",
      "\n"
     ]
    },
    {
     "name": "stderr",
     "output_type": "stream",
     "text": [
      "\n"
     ]
    },
    {
     "name": "stdout",
     "output_type": "stream",
     "text": [
      "0: 640x640 23 cars, 1 motorcycle, 2 trucks, 26.7ms\n",
      "Speed: 4.0ms preprocess, 26.7ms inference, 1.5ms postprocess per image at shape (1, 3, 640, 640)\n"
     ]
    },
    {
     "name": "stderr",
     "output_type": "stream",
     "text": [
      "Processing results: 100%|██████████| 1/1 [00:00<00:00, 249.84it/s]\n",
      "Processing images:  18%|█▊        | 148/810 [00:08<00:35, 18.52it/s]"
     ]
    },
    {
     "name": "stdout",
     "output_type": "stream",
     "text": [
      "C:\\Users\\User\\Desktop\\DSO\\traffic-prediction\\backend\\assets4_labels\\1703_1429_20240127143033_535310.txt\n",
      "\n",
      "0: 640x640 21 cars, 1 truck, 25.8ms\n",
      "Speed: 2.5ms preprocess, 25.8ms inference, 2.0ms postprocess per image at shape (1, 3, 640, 640)\n"
     ]
    },
    {
     "name": "stderr",
     "output_type": "stream",
     "text": [
      "Processing results: 100%|██████████| 1/1 [00:00<00:00, 333.33it/s]"
     ]
    },
    {
     "name": "stdout",
     "output_type": "stream",
     "text": [
      "C:\\Users\\User\\Desktop\\DSO\\traffic-prediction\\backend\\assets4_labels\\1703_1434_20240127143515_100991.txt\n",
      "\n"
     ]
    },
    {
     "name": "stderr",
     "output_type": "stream",
     "text": [
      "\n"
     ]
    },
    {
     "name": "stdout",
     "output_type": "stream",
     "text": [
      "0: 640x640 20 cars, 1 motorcycle, 1 truck, 27.1ms\n",
      "Speed: 1.0ms preprocess, 27.1ms inference, 1.5ms postprocess per image at shape (1, 3, 640, 640)\n"
     ]
    },
    {
     "name": "stderr",
     "output_type": "stream",
     "text": [
      "Processing results: 100%|██████████| 1/1 [00:00<00:00, 333.36it/s]\n",
      "Processing images:  19%|█▊        | 150/810 [00:08<00:35, 18.44it/s]"
     ]
    },
    {
     "name": "stdout",
     "output_type": "stream",
     "text": [
      "C:\\Users\\User\\Desktop\\DSO\\traffic-prediction\\backend\\assets4_labels\\1703_1439_20240127144016_484852.txt\n",
      "\n",
      "0: 640x640 17 cars, 4 trucks, 25.7ms\n",
      "Speed: 2.4ms preprocess, 25.7ms inference, 1.0ms postprocess per image at shape (1, 3, 640, 640)\n"
     ]
    },
    {
     "name": "stderr",
     "output_type": "stream",
     "text": [
      "Processing results: 100%|██████████| 1/1 [00:00<00:00, 185.93it/s]"
     ]
    },
    {
     "name": "stdout",
     "output_type": "stream",
     "text": [
      "C:\\Users\\User\\Desktop\\DSO\\traffic-prediction\\backend\\assets4_labels\\1703_1444_20240127144542_100579.txt\n",
      "\n"
     ]
    },
    {
     "name": "stderr",
     "output_type": "stream",
     "text": [
      "\n"
     ]
    },
    {
     "name": "stdout",
     "output_type": "stream",
     "text": [
      "0: 640x640 23 cars, 1 truck, 25.3ms\n",
      "Speed: 2.0ms preprocess, 25.3ms inference, 2.0ms postprocess per image at shape (1, 3, 640, 640)\n"
     ]
    },
    {
     "name": "stderr",
     "output_type": "stream",
     "text": [
      "Processing results: 100%|██████████| 1/1 [00:00<00:00, 249.94it/s]\n",
      "Processing images:  19%|█▉        | 152/810 [00:08<00:35, 18.49it/s]"
     ]
    },
    {
     "name": "stdout",
     "output_type": "stream",
     "text": [
      "C:\\Users\\User\\Desktop\\DSO\\traffic-prediction\\backend\\assets4_labels\\1703_1449_20240127145015_102519.txt\n",
      "\n",
      "0: 640x640 19 cars, 5 trucks, 26.4ms\n",
      "Speed: 1.2ms preprocess, 26.4ms inference, 2.0ms postprocess per image at shape (1, 3, 640, 640)\n"
     ]
    },
    {
     "name": "stderr",
     "output_type": "stream",
     "text": [
      "Processing results: 100%|██████████| 1/1 [00:00<00:00, 236.78it/s]"
     ]
    },
    {
     "name": "stdout",
     "output_type": "stream",
     "text": [
      "C:\\Users\\User\\Desktop\\DSO\\traffic-prediction\\backend\\assets4_labels\\1704_1408_20240127141018_509810.txt\n",
      "\n"
     ]
    },
    {
     "name": "stderr",
     "output_type": "stream",
     "text": [
      "\n"
     ]
    },
    {
     "name": "stdout",
     "output_type": "stream",
     "text": [
      "0: 640x640 18 cars, 2 trucks, 1 traffic light, 26.0ms\n",
      "Speed: 2.0ms preprocess, 26.0ms inference, 1.0ms postprocess per image at shape (1, 3, 640, 640)\n"
     ]
    },
    {
     "name": "stderr",
     "output_type": "stream",
     "text": [
      "Processing results: 100%|██████████| 1/1 [00:00<00:00, 325.39it/s]\n",
      "Processing images:  19%|█▉        | 154/810 [00:08<00:35, 18.55it/s]"
     ]
    },
    {
     "name": "stdout",
     "output_type": "stream",
     "text": [
      "C:\\Users\\User\\Desktop\\DSO\\traffic-prediction\\backend\\assets4_labels\\1704_1413_20240127141529_531015.txt\n",
      "\n",
      "0: 640x640 20 cars, 1 truck, 27.0ms\n",
      "Speed: 1.5ms preprocess, 27.0ms inference, 2.0ms postprocess per image at shape (1, 3, 640, 640)\n"
     ]
    },
    {
     "name": "stderr",
     "output_type": "stream",
     "text": [
      "Processing results: 100%|██████████| 1/1 [00:00<00:00, 313.48it/s]"
     ]
    },
    {
     "name": "stdout",
     "output_type": "stream",
     "text": [
      "C:\\Users\\User\\Desktop\\DSO\\traffic-prediction\\backend\\assets4_labels\\1704_1418_20240127142005_101495.txt\n",
      "\n"
     ]
    },
    {
     "name": "stderr",
     "output_type": "stream",
     "text": [
      "\n"
     ]
    },
    {
     "name": "stdout",
     "output_type": "stream",
     "text": [
      "0: 640x640 12 cars, 3 trucks, 1 traffic light, 26.0ms\n",
      "Speed: 2.5ms preprocess, 26.0ms inference, 1.5ms postprocess per image at shape (1, 3, 640, 640)\n"
     ]
    },
    {
     "name": "stderr",
     "output_type": "stream",
     "text": [
      "Processing results: 100%|██████████| 1/1 [00:00<00:00, 333.17it/s]\n",
      "Processing images:  19%|█▉        | 156/810 [00:08<00:35, 18.67it/s]"
     ]
    },
    {
     "name": "stdout",
     "output_type": "stream",
     "text": [
      "C:\\Users\\User\\Desktop\\DSO\\traffic-prediction\\backend\\assets4_labels\\1704_1423_20240127142526_102555.txt\n",
      "\n",
      "0: 640x640 15 cars, 2 buss, 1 truck, 27.0ms\n",
      "Speed: 1.0ms preprocess, 27.0ms inference, 1.0ms postprocess per image at shape (1, 3, 640, 640)\n"
     ]
    },
    {
     "name": "stderr",
     "output_type": "stream",
     "text": [
      "Processing results: 100%|██████████| 1/1 [00:00<00:00, 285.42it/s]"
     ]
    },
    {
     "name": "stdout",
     "output_type": "stream",
     "text": [
      "C:\\Users\\User\\Desktop\\DSO\\traffic-prediction\\backend\\assets4_labels\\1704_1428_20240127143035_511019.txt\n",
      "\n"
     ]
    },
    {
     "name": "stderr",
     "output_type": "stream",
     "text": [
      "\n"
     ]
    },
    {
     "name": "stdout",
     "output_type": "stream",
     "text": [
      "0: 640x640 24 cars, 2 trucks, 26.1ms\n",
      "Speed: 1.0ms preprocess, 26.1ms inference, 1.0ms postprocess per image at shape (1, 3, 640, 640)\n"
     ]
    },
    {
     "name": "stderr",
     "output_type": "stream",
     "text": [
      "Processing results: 100%|██████████| 1/1 [00:00<00:00, 249.42it/s]\n",
      "Processing images:  20%|█▉        | 158/810 [00:08<00:34, 18.85it/s]"
     ]
    },
    {
     "name": "stdout",
     "output_type": "stream",
     "text": [
      "C:\\Users\\User\\Desktop\\DSO\\traffic-prediction\\backend\\assets4_labels\\1704_1433_20240127143516_100971.txt\n",
      "\n",
      "0: 640x640 15 cars, 1 bus, 2 trucks, 26.1ms\n",
      "Speed: 1.0ms preprocess, 26.1ms inference, 2.0ms postprocess per image at shape (1, 3, 640, 640)\n"
     ]
    },
    {
     "name": "stderr",
     "output_type": "stream",
     "text": [
      "Processing results: 100%|██████████| 1/1 [00:00<00:00, 397.30it/s]"
     ]
    },
    {
     "name": "stdout",
     "output_type": "stream",
     "text": [
      "C:\\Users\\User\\Desktop\\DSO\\traffic-prediction\\backend\\assets4_labels\\1704_1438_20240127144016_494856.txt\n",
      "\n"
     ]
    },
    {
     "name": "stderr",
     "output_type": "stream",
     "text": [
      "\n"
     ]
    },
    {
     "name": "stdout",
     "output_type": "stream",
     "text": [
      "0: 640x640 17 cars, 25.5ms\n",
      "Speed: 2.0ms preprocess, 25.5ms inference, 2.0ms postprocess per image at shape (1, 3, 640, 640)\n"
     ]
    },
    {
     "name": "stderr",
     "output_type": "stream",
     "text": [
      "Processing results: 100%|██████████| 1/1 [00:00<00:00, 323.96it/s]\n",
      "Processing images:  20%|█▉        | 160/810 [00:08<00:34, 19.08it/s]"
     ]
    },
    {
     "name": "stdout",
     "output_type": "stream",
     "text": [
      "C:\\Users\\User\\Desktop\\DSO\\traffic-prediction\\backend\\assets4_labels\\1704_1443_20240127144544_999854.txt\n",
      "\n",
      "0: 640x640 12 cars, 1 bus, 26.0ms\n",
      "Speed: 1.5ms preprocess, 26.0ms inference, 1.0ms postprocess per image at shape (1, 3, 640, 640)\n"
     ]
    },
    {
     "name": "stderr",
     "output_type": "stream",
     "text": [
      "Processing results: 100%|██████████| 1/1 [00:00<00:00, 332.75it/s]"
     ]
    },
    {
     "name": "stdout",
     "output_type": "stream",
     "text": [
      "C:\\Users\\User\\Desktop\\DSO\\traffic-prediction\\backend\\assets4_labels\\1704_1448_20240127145017_525197.txt\n",
      "\n"
     ]
    },
    {
     "name": "stderr",
     "output_type": "stream",
     "text": [
      "\n"
     ]
    },
    {
     "name": "stdout",
     "output_type": "stream",
     "text": [
      "0: 640x640 19 cars, 1 bus, 4 trucks, 26.0ms\n",
      "Speed: 1.5ms preprocess, 26.0ms inference, 1.0ms postprocess per image at shape (1, 3, 640, 640)\n"
     ]
    },
    {
     "name": "stderr",
     "output_type": "stream",
     "text": [
      "Processing results: 100%|██████████| 1/1 [00:00<00:00, 333.15it/s]\n",
      "Processing images:  20%|██        | 162/810 [00:09<00:33, 19.14it/s]"
     ]
    },
    {
     "name": "stdout",
     "output_type": "stream",
     "text": [
      "C:\\Users\\User\\Desktop\\DSO\\traffic-prediction\\backend\\assets4_labels\\1705_1408_20240127141019_515497.txt\n",
      "\n",
      "0: 640x640 17 cars, 1 bus, 9 trucks, 1 clock, 25.3ms\n",
      "Speed: 1.7ms preprocess, 25.3ms inference, 2.1ms postprocess per image at shape (1, 3, 640, 640)\n"
     ]
    },
    {
     "name": "stderr",
     "output_type": "stream",
     "text": [
      "Processing results: 100%|██████████| 1/1 [00:00<00:00, 249.97it/s]"
     ]
    },
    {
     "name": "stdout",
     "output_type": "stream",
     "text": [
      "C:\\Users\\User\\Desktop\\DSO\\traffic-prediction\\backend\\assets4_labels\\1705_1413_20240127141531_101514.txt\n",
      "\n"
     ]
    },
    {
     "name": "stderr",
     "output_type": "stream",
     "text": [
      "\n"
     ]
    },
    {
     "name": "stdout",
     "output_type": "stream",
     "text": [
      "0: 640x640 1 person, 13 cars, 4 trucks, 1 clock, 26.1ms\n",
      "Speed: 2.0ms preprocess, 26.1ms inference, 1.0ms postprocess per image at shape (1, 3, 640, 640)\n"
     ]
    },
    {
     "name": "stderr",
     "output_type": "stream",
     "text": [
      "Processing results: 100%|██████████| 1/1 [00:00<00:00, 333.15it/s]\n",
      "Processing images:  20%|██        | 164/810 [00:09<00:33, 19.26it/s]"
     ]
    },
    {
     "name": "stdout",
     "output_type": "stream",
     "text": [
      "C:\\Users\\User\\Desktop\\DSO\\traffic-prediction\\backend\\assets4_labels\\1705_1419_20240127142006_100505.txt\n",
      "\n",
      "0: 640x640 2 persons, 16 cars, 2 motorcycles, 3 trucks, 1 clock, 25.0ms\n",
      "Speed: 2.0ms preprocess, 25.0ms inference, 2.0ms postprocess per image at shape (1, 3, 640, 640)\n"
     ]
    },
    {
     "name": "stderr",
     "output_type": "stream",
     "text": [
      "Processing results: 100%|██████████| 1/1 [00:00<00:00, 248.57it/s]"
     ]
    },
    {
     "name": "stdout",
     "output_type": "stream",
     "text": [
      "C:\\Users\\User\\Desktop\\DSO\\traffic-prediction\\backend\\assets4_labels\\1705_1423_20240127142527_515548.txt\n",
      "\n"
     ]
    },
    {
     "name": "stderr",
     "output_type": "stream",
     "text": [
      "\n"
     ]
    },
    {
     "name": "stdout",
     "output_type": "stream",
     "text": [
      "0: 640x640 13 cars, 3 trucks, 1 clock, 25.4ms\n",
      "Speed: 2.0ms preprocess, 25.4ms inference, 1.0ms postprocess per image at shape (1, 3, 640, 640)\n"
     ]
    },
    {
     "name": "stderr",
     "output_type": "stream",
     "text": [
      "Processing results: 100%|██████████| 1/1 [00:00<00:00, 499.98it/s]"
     ]
    },
    {
     "name": "stdout",
     "output_type": "stream",
     "text": [
      "C:\\Users\\User\\Desktop\\DSO\\traffic-prediction\\backend\\assets4_labels\\1705_1428_20240127143035_102994.txt\n",
      "\n",
      "0: 640x640 11 cars, 2 trucks, 1 clock, 26.1ms\n"
     ]
    },
    {
     "name": "stderr",
     "output_type": "stream",
     "text": [
      "\n"
     ]
    },
    {
     "name": "stdout",
     "output_type": "stream",
     "text": [
      "Speed: 1.0ms preprocess, 26.1ms inference, 1.0ms postprocess per image at shape (1, 3, 640, 640)\n"
     ]
    },
    {
     "name": "stderr",
     "output_type": "stream",
     "text": [
      "Processing results: 100%|██████████| 1/1 [00:00<00:00, 500.33it/s]\n",
      "Processing images:  21%|██        | 167/810 [00:09<00:32, 19.63it/s]"
     ]
    },
    {
     "name": "stdout",
     "output_type": "stream",
     "text": [
      "C:\\Users\\User\\Desktop\\DSO\\traffic-prediction\\backend\\assets4_labels\\1705_1433_20240127143518_985456.txt\n",
      "\n",
      "0: 640x640 14 cars, 5 trucks, 25.5ms\n",
      "Speed: 2.0ms preprocess, 25.5ms inference, 1.5ms postprocess per image at shape (1, 3, 640, 640)\n"
     ]
    },
    {
     "name": "stderr",
     "output_type": "stream",
     "text": [
      "Processing results: 100%|██████████| 1/1 [00:00<00:00, 333.44it/s]"
     ]
    },
    {
     "name": "stdout",
     "output_type": "stream",
     "text": [
      "C:\\Users\\User\\Desktop\\DSO\\traffic-prediction\\backend\\assets4_labels\\1705_1438_20240127144018_984910.txt\n",
      "\n"
     ]
    },
    {
     "name": "stderr",
     "output_type": "stream",
     "text": [
      "\n"
     ]
    },
    {
     "name": "stdout",
     "output_type": "stream",
     "text": [
      "0: 640x640 10 cars, 2 buss, 2 trucks, 26.5ms\n",
      "Speed: 1.0ms preprocess, 26.5ms inference, 1.5ms postprocess per image at shape (1, 3, 640, 640)\n"
     ]
    },
    {
     "name": "stderr",
     "output_type": "stream",
     "text": [
      "Processing results: 100%|██████████| 1/1 [00:00<00:00, 333.38it/s]"
     ]
    },
    {
     "name": "stdout",
     "output_type": "stream",
     "text": [
      "C:\\Users\\User\\Desktop\\DSO\\traffic-prediction\\backend\\assets4_labels\\1705_1444_20240127144545_102574.txt\n",
      "\n",
      "0: 640x640 12 cars, 1 bus, 6 trucks, 1 traffic light, 1 clock, 25.3ms\n"
     ]
    },
    {
     "name": "stderr",
     "output_type": "stream",
     "text": [
      "\n"
     ]
    },
    {
     "name": "stdout",
     "output_type": "stream",
     "text": [
      "Speed: 2.0ms preprocess, 25.3ms inference, 1.5ms postprocess per image at shape (1, 3, 640, 640)\n"
     ]
    },
    {
     "name": "stderr",
     "output_type": "stream",
     "text": [
      "Processing results: 100%|██████████| 1/1 [00:00<00:00, 333.28it/s]\n",
      "Processing images:  21%|██        | 170/810 [00:09<00:32, 19.73it/s]"
     ]
    },
    {
     "name": "stdout",
     "output_type": "stream",
     "text": [
      "C:\\Users\\User\\Desktop\\DSO\\traffic-prediction\\backend\\assets4_labels\\1705_1448_20240127145017_505010.txt\n",
      "\n",
      "0: 640x640 2 persons, 8 cars, 1 motorcycle, 2 trucks, 2 traffic lights, 25.1ms\n",
      "Speed: 2.0ms preprocess, 25.1ms inference, 1.9ms postprocess per image at shape (1, 3, 640, 640)\n"
     ]
    },
    {
     "name": "stderr",
     "output_type": "stream",
     "text": [
      "Processing results: 100%|██████████| 1/1 [00:00<00:00, 499.92it/s]"
     ]
    },
    {
     "name": "stdout",
     "output_type": "stream",
     "text": [
      "C:\\Users\\User\\Desktop\\DSO\\traffic-prediction\\backend\\assets4_labels\\1706_1408_20240127141021_571001.txt\n",
      "\n"
     ]
    },
    {
     "name": "stderr",
     "output_type": "stream",
     "text": [
      "\n"
     ]
    },
    {
     "name": "stdout",
     "output_type": "stream",
     "text": [
      "0: 640x640 15 cars, 6 trucks, 2 traffic lights, 25.9ms\n",
      "Speed: 1.0ms preprocess, 25.9ms inference, 2.0ms postprocess per image at shape (1, 3, 640, 640)\n"
     ]
    },
    {
     "name": "stderr",
     "output_type": "stream",
     "text": [
      "Processing results: 100%|██████████| 1/1 [00:00<00:00, 249.96it/s]\n",
      "Processing images:  21%|██        | 172/810 [00:09<00:32, 19.75it/s]"
     ]
    },
    {
     "name": "stdout",
     "output_type": "stream",
     "text": [
      "C:\\Users\\User\\Desktop\\DSO\\traffic-prediction\\backend\\assets4_labels\\1706_1414_20240127141532_491011.txt\n",
      "\n",
      "0: 640x640 1 person, 17 cars, 3 trucks, 2 traffic lights, 25.9ms\n",
      "Speed: 2.0ms preprocess, 25.9ms inference, 0.9ms postprocess per image at shape (1, 3, 640, 640)\n"
     ]
    },
    {
     "name": "stderr",
     "output_type": "stream",
     "text": [
      "Processing results: 100%|██████████| 1/1 [00:00<00:00, 199.21it/s]"
     ]
    },
    {
     "name": "stdout",
     "output_type": "stream",
     "text": [
      "C:\\Users\\User\\Desktop\\DSO\\traffic-prediction\\backend\\assets4_labels\\1706_1419_20240127142006_519797.txt\n",
      "\n"
     ]
    },
    {
     "name": "stderr",
     "output_type": "stream",
     "text": [
      "\n"
     ]
    },
    {
     "name": "stdout",
     "output_type": "stream",
     "text": [
      "0: 640x640 15 cars, 8 trucks, 1 traffic light, 25.0ms\n",
      "Speed: 2.0ms preprocess, 25.0ms inference, 2.0ms postprocess per image at shape (1, 3, 640, 640)\n"
     ]
    },
    {
     "name": "stderr",
     "output_type": "stream",
     "text": [
      "Processing results: 100%|██████████| 1/1 [00:00<00:00, 248.68it/s]\n",
      "Processing images:  21%|██▏       | 174/810 [00:09<00:32, 19.65it/s]"
     ]
    },
    {
     "name": "stdout",
     "output_type": "stream",
     "text": [
      "C:\\Users\\User\\Desktop\\DSO\\traffic-prediction\\backend\\assets4_labels\\1706_1423_20240127142527_495553.txt\n",
      "\n",
      "0: 640x640 1 person, 11 cars, 8 trucks, 1 traffic light, 25.0ms\n",
      "Speed: 2.0ms preprocess, 25.0ms inference, 2.0ms postprocess per image at shape (1, 3, 640, 640)\n"
     ]
    },
    {
     "name": "stderr",
     "output_type": "stream",
     "text": [
      "Processing results: 100%|██████████| 1/1 [00:00<00:00, 335.20it/s]"
     ]
    },
    {
     "name": "stdout",
     "output_type": "stream",
     "text": [
      "C:\\Users\\User\\Desktop\\DSO\\traffic-prediction\\backend\\assets4_labels\\1706_1429_20240127143035_101561.txt\n",
      "\n"
     ]
    },
    {
     "name": "stderr",
     "output_type": "stream",
     "text": [
      "\n"
     ]
    },
    {
     "name": "stdout",
     "output_type": "stream",
     "text": [
      "0: 640x640 20 cars, 6 trucks, 1 traffic light, 25.1ms\n",
      "Speed: 2.0ms preprocess, 25.1ms inference, 2.0ms postprocess per image at shape (1, 3, 640, 640)\n"
     ]
    },
    {
     "name": "stderr",
     "output_type": "stream",
     "text": [
      "Processing results: 100%|██████████| 1/1 [00:00<00:00, 246.14it/s]\n",
      "Processing images:  22%|██▏       | 176/810 [00:09<00:32, 19.64it/s]"
     ]
    },
    {
     "name": "stdout",
     "output_type": "stream",
     "text": [
      "C:\\Users\\User\\Desktop\\DSO\\traffic-prediction\\backend\\assets4_labels\\1706_1433_20240127143519_485799.txt\n",
      "\n",
      "0: 640x640 13 cars, 3 trucks, 1 traffic light, 25.1ms\n",
      "Speed: 2.0ms preprocess, 25.1ms inference, 2.0ms postprocess per image at shape (1, 3, 640, 640)\n"
     ]
    },
    {
     "name": "stderr",
     "output_type": "stream",
     "text": [
      "Processing results: 100%|██████████| 1/1 [00:00<00:00, 250.02it/s]"
     ]
    },
    {
     "name": "stdout",
     "output_type": "stream",
     "text": [
      "C:\\Users\\User\\Desktop\\DSO\\traffic-prediction\\backend\\assets4_labels\\1706_1439_20240127144019_555755.txt\n",
      "\n"
     ]
    },
    {
     "name": "stderr",
     "output_type": "stream",
     "text": [
      "\n"
     ]
    },
    {
     "name": "stdout",
     "output_type": "stream",
     "text": [
      "0: 640x640 15 cars, 1 bus, 6 trucks, 1 traffic light, 27.0ms\n",
      "Speed: 1.0ms preprocess, 27.0ms inference, 1.0ms postprocess per image at shape (1, 3, 640, 640)\n"
     ]
    },
    {
     "name": "stderr",
     "output_type": "stream",
     "text": [
      "Processing results: 100%|██████████| 1/1 [00:00<00:00, 250.00it/s]\n",
      "Processing images:  22%|██▏       | 178/810 [00:09<00:32, 19.57it/s]"
     ]
    },
    {
     "name": "stdout",
     "output_type": "stream",
     "text": [
      "C:\\Users\\User\\Desktop\\DSO\\traffic-prediction\\backend\\assets4_labels\\1706_1444_20240127144545_555110.txt\n",
      "\n",
      "0: 640x640 11 cars, 8 trucks, 1 traffic light, 26.8ms\n",
      "Speed: 2.0ms preprocess, 26.8ms inference, 1.0ms postprocess per image at shape (1, 3, 640, 640)\n"
     ]
    },
    {
     "name": "stderr",
     "output_type": "stream",
     "text": [
      "Processing results: 100%|██████████| 1/1 [00:00<00:00, 333.46it/s]"
     ]
    },
    {
     "name": "stdout",
     "output_type": "stream",
     "text": [
      "C:\\Users\\User\\Desktop\\DSO\\traffic-prediction\\backend\\assets4_labels\\1706_1448_20240127145018_525110.txt\n",
      "\n",
      "0: 640x640 12 cars, 7 trucks, 1 traffic light, 25.9ms\n"
     ]
    },
    {
     "name": "stderr",
     "output_type": "stream",
     "text": [
      "\n"
     ]
    },
    {
     "name": "stdout",
     "output_type": "stream",
     "text": [
      "Speed: 2.0ms preprocess, 25.9ms inference, 1.6ms postprocess per image at shape (1, 3, 640, 640)\n"
     ]
    },
    {
     "name": "stderr",
     "output_type": "stream",
     "text": [
      "Processing results: 100%|██████████| 1/1 [00:00<00:00, 333.28it/s]\n",
      "Processing images:  22%|██▏       | 180/810 [00:09<00:32, 19.65it/s]"
     ]
    },
    {
     "name": "stdout",
     "output_type": "stream",
     "text": [
      "C:\\Users\\User\\Desktop\\DSO\\traffic-prediction\\backend\\assets4_labels\\1707_1408_20240127141021_999754.txt\n",
      "\n",
      "0: 640x640 7 cars, 2 trucks, 25.4ms\n",
      "Speed: 1.0ms preprocess, 25.4ms inference, 2.0ms postprocess per image at shape (1, 3, 640, 640)\n"
     ]
    },
    {
     "name": "stderr",
     "output_type": "stream",
     "text": [
      "Processing results: 100%|██████████| 1/1 [00:00<00:00, 500.39it/s]"
     ]
    },
    {
     "name": "stdout",
     "output_type": "stream",
     "text": [
      "C:\\Users\\User\\Desktop\\DSO\\traffic-prediction\\backend\\assets4_labels\\1707_1414_20240127141532_575053.txt\n",
      "\n",
      "0: 640x640 7 cars, 2 trucks, 1 traffic light, 24.8ms\n"
     ]
    },
    {
     "name": "stderr",
     "output_type": "stream",
     "text": [
      "\n"
     ]
    },
    {
     "name": "stdout",
     "output_type": "stream",
     "text": [
      "Speed: 2.0ms preprocess, 24.8ms inference, 2.2ms postprocess per image at shape (1, 3, 640, 640)\n"
     ]
    },
    {
     "name": "stderr",
     "output_type": "stream",
     "text": [
      "Processing results: 100%|██████████| 1/1 [00:00<00:00, 500.10it/s]\n",
      "Processing images:  22%|██▏       | 182/810 [00:10<00:31, 19.74it/s]"
     ]
    },
    {
     "name": "stdout",
     "output_type": "stream",
     "text": [
      "C:\\Users\\User\\Desktop\\DSO\\traffic-prediction\\backend\\assets4_labels\\1707_1419_20240127142006_545350.txt\n",
      "\n",
      "0: 640x640 8 cars, 1 traffic light, 2 clocks, 25.0ms\n",
      "Speed: 2.0ms preprocess, 25.0ms inference, 2.0ms postprocess per image at shape (1, 3, 640, 640)\n"
     ]
    },
    {
     "name": "stderr",
     "output_type": "stream",
     "text": [
      "Processing results: 100%|██████████| 1/1 [00:00<00:00, 500.04it/s]"
     ]
    },
    {
     "name": "stdout",
     "output_type": "stream",
     "text": [
      "C:\\Users\\User\\Desktop\\DSO\\traffic-prediction\\backend\\assets4_labels\\1707_1423_20240127142527_485757.txt\n",
      "\n",
      "0: 640x640 7 cars, 2 trucks, 25.5ms\n"
     ]
    },
    {
     "name": "stderr",
     "output_type": "stream",
     "text": [
      "\n"
     ]
    },
    {
     "name": "stdout",
     "output_type": "stream",
     "text": [
      "Speed: 1.2ms preprocess, 25.5ms inference, 1.1ms postprocess per image at shape (1, 3, 640, 640)\n"
     ]
    },
    {
     "name": "stderr",
     "output_type": "stream",
     "text": [
      "Processing results: 100%|██████████| 1/1 [00:00<00:00, 499.68it/s]"
     ]
    },
    {
     "name": "stdout",
     "output_type": "stream",
     "text": [
      "C:\\Users\\User\\Desktop\\DSO\\traffic-prediction\\backend\\assets4_labels\\1707_1429_20240127143035_485199.txt\n",
      "\n"
     ]
    },
    {
     "name": "stderr",
     "output_type": "stream",
     "text": [
      "\n"
     ]
    },
    {
     "name": "stdout",
     "output_type": "stream",
     "text": [
      "0: 640x640 4 cars, 1 bus, 1 clock, 25.0ms\n",
      "Speed: 2.0ms preprocess, 25.0ms inference, 2.2ms postprocess per image at shape (1, 3, 640, 640)\n"
     ]
    },
    {
     "name": "stderr",
     "output_type": "stream",
     "text": [
      "Processing results: 100%|██████████| 1/1 [00:00<00:00, 499.92it/s]\n",
      "Processing images:  23%|██▎       | 185/810 [00:10<00:31, 19.93it/s]"
     ]
    },
    {
     "name": "stdout",
     "output_type": "stream",
     "text": [
      "C:\\Users\\User\\Desktop\\DSO\\traffic-prediction\\backend\\assets4_labels\\1707_1433_20240127143519_571015.txt\n",
      "\n",
      "0: 640x640 6 cars, 1 truck, 25.6ms\n",
      "Speed: 2.0ms preprocess, 25.6ms inference, 2.0ms postprocess per image at shape (1, 3, 640, 640)\n"
     ]
    },
    {
     "name": "stderr",
     "output_type": "stream",
     "text": [
      "Processing results: 100%|██████████| 1/1 [00:00<00:00, 500.04it/s]"
     ]
    },
    {
     "name": "stdout",
     "output_type": "stream",
     "text": [
      "C:\\Users\\User\\Desktop\\DSO\\traffic-prediction\\backend\\assets4_labels\\1707_1439_20240127144019_545752.txt\n",
      "\n",
      "0: 640x640 3 cars, 1 truck, 1 clock, 26.0ms\n"
     ]
    },
    {
     "name": "stderr",
     "output_type": "stream",
     "text": [
      "\n"
     ]
    },
    {
     "name": "stdout",
     "output_type": "stream",
     "text": [
      "Speed: 2.0ms preprocess, 26.0ms inference, 1.0ms postprocess per image at shape (1, 3, 640, 640)\n"
     ]
    },
    {
     "name": "stderr",
     "output_type": "stream",
     "text": [
      "Processing results: 100%|██████████| 1/1 [00:00<00:00, 500.16it/s]\n",
      "Processing images:  23%|██▎       | 187/810 [00:10<00:31, 19.91it/s]"
     ]
    },
    {
     "name": "stdout",
     "output_type": "stream",
     "text": [
      "C:\\Users\\User\\Desktop\\DSO\\traffic-prediction\\backend\\assets4_labels\\1707_1444_20240127144547_989710.txt\n",
      "\n",
      "0: 640x640 5 cars, 1 truck, 1 clock, 26.0ms\n",
      "Speed: 1.2ms preprocess, 26.0ms inference, 1.0ms postprocess per image at shape (1, 3, 640, 640)\n"
     ]
    },
    {
     "name": "stderr",
     "output_type": "stream",
     "text": [
      "Processing results: 100%|██████████| 1/1 [00:00<00:00, 500.16it/s]"
     ]
    },
    {
     "name": "stdout",
     "output_type": "stream",
     "text": [
      "C:\\Users\\User\\Desktop\\DSO\\traffic-prediction\\backend\\assets4_labels\\1707_1448_20240127145018_101989.txt\n",
      "\n",
      "0: 640x640 6 cars, 26.8ms\n"
     ]
    },
    {
     "name": "stderr",
     "output_type": "stream",
     "text": [
      "\n"
     ]
    },
    {
     "name": "stdout",
     "output_type": "stream",
     "text": [
      "Speed: 1.0ms preprocess, 26.8ms inference, 1.0ms postprocess per image at shape (1, 3, 640, 640)\n"
     ]
    },
    {
     "name": "stderr",
     "output_type": "stream",
     "text": [
      "Processing results: 100%|██████████| 1/1 [00:00<00:00, 500.63it/s]\n",
      "Processing images:  23%|██▎       | 189/810 [00:10<00:31, 19.86it/s]"
     ]
    },
    {
     "name": "stdout",
     "output_type": "stream",
     "text": [
      "C:\\Users\\User\\Desktop\\DSO\\traffic-prediction\\backend\\assets4_labels\\1709_1409_20240127141022_565757.txt\n",
      "\n",
      "0: 640x640 1 person, 24 cars, 1 motorcycle, 1 bus, 5 trucks, 25.7ms\n",
      "Speed: 2.1ms preprocess, 25.7ms inference, 1.0ms postprocess per image at shape (1, 3, 640, 640)\n"
     ]
    },
    {
     "name": "stderr",
     "output_type": "stream",
     "text": [
      "Processing results: 100%|██████████| 1/1 [00:00<00:00, 250.11it/s]"
     ]
    },
    {
     "name": "stdout",
     "output_type": "stream",
     "text": [
      "C:\\Users\\User\\Desktop\\DSO\\traffic-prediction\\backend\\assets4_labels\\1709_1414_20240127141534_501015.txt\n",
      "\n"
     ]
    },
    {
     "name": "stderr",
     "output_type": "stream",
     "text": [
      "\n"
     ]
    },
    {
     "name": "stdout",
     "output_type": "stream",
     "text": [
      "0: 640x640 24 cars, 2 trucks, 1 traffic light, 26.0ms\n",
      "Speed: 1.0ms preprocess, 26.0ms inference, 1.0ms postprocess per image at shape (1, 3, 640, 640)\n"
     ]
    },
    {
     "name": "stderr",
     "output_type": "stream",
     "text": [
      "Processing results: 100%|██████████| 1/1 [00:00<00:00, 248.21it/s]\n",
      "Processing images:  24%|██▎       | 191/810 [00:10<00:31, 19.74it/s]"
     ]
    },
    {
     "name": "stdout",
     "output_type": "stream",
     "text": [
      "C:\\Users\\User\\Desktop\\DSO\\traffic-prediction\\backend\\assets4_labels\\1709_1419_20240127142007_101501.txt\n",
      "\n",
      "0: 640x640 20 cars, 3 buss, 4 trucks, 1 traffic light, 26.2ms\n",
      "Speed: 1.0ms preprocess, 26.2ms inference, 1.0ms postprocess per image at shape (1, 3, 640, 640)\n"
     ]
    },
    {
     "name": "stderr",
     "output_type": "stream",
     "text": [
      "Processing results: 100%|██████████| 1/1 [00:00<00:00, 242.42it/s]"
     ]
    },
    {
     "name": "stdout",
     "output_type": "stream",
     "text": [
      "C:\\Users\\User\\Desktop\\DSO\\traffic-prediction\\backend\\assets4_labels\\1709_1424_20240127142527_564899.txt\n",
      "\n"
     ]
    },
    {
     "name": "stderr",
     "output_type": "stream",
     "text": [
      "\n"
     ]
    },
    {
     "name": "stdout",
     "output_type": "stream",
     "text": [
      "0: 640x640 2 persons, 23 cars, 1 motorcycle, 1 bus, 2 traffic lights, 26.8ms\n",
      "Speed: 2.0ms preprocess, 26.8ms inference, 2.0ms postprocess per image at shape (1, 3, 640, 640)\n"
     ]
    },
    {
     "name": "stderr",
     "output_type": "stream",
     "text": [
      "Processing results: 100%|██████████| 1/1 [00:00<00:00, 249.20it/s]\n",
      "Processing images:  24%|██▍       | 193/810 [00:10<00:32, 19.22it/s]"
     ]
    },
    {
     "name": "stdout",
     "output_type": "stream",
     "text": [
      "C:\\Users\\User\\Desktop\\DSO\\traffic-prediction\\backend\\assets4_labels\\1709_1429_20240127143036_535352.txt\n",
      "\n",
      "0: 640x640 23 cars, 2 trucks, 25.8ms\n",
      "Speed: 2.0ms preprocess, 25.8ms inference, 2.0ms postprocess per image at shape (1, 3, 640, 640)\n"
     ]
    },
    {
     "name": "stderr",
     "output_type": "stream",
     "text": [
      "Processing results: 100%|██████████| 1/1 [00:00<00:00, 255.42it/s]"
     ]
    },
    {
     "name": "stdout",
     "output_type": "stream",
     "text": [
      "C:\\Users\\User\\Desktop\\DSO\\traffic-prediction\\backend\\assets4_labels\\1709_1433_20240127143522_491014.txt\n",
      "\n"
     ]
    },
    {
     "name": "stderr",
     "output_type": "stream",
     "text": [
      "\n"
     ]
    },
    {
     "name": "stdout",
     "output_type": "stream",
     "text": [
      "0: 640x640 15 cars, 3 trucks, 26.7ms\n",
      "Speed: 2.5ms preprocess, 26.7ms inference, 2.0ms postprocess per image at shape (1, 3, 640, 640)\n"
     ]
    },
    {
     "name": "stderr",
     "output_type": "stream",
     "text": [
      "Processing results: 100%|██████████| 1/1 [00:00<00:00, 333.38it/s]\n",
      "Processing images:  24%|██▍       | 195/810 [00:10<00:31, 19.22it/s]"
     ]
    },
    {
     "name": "stdout",
     "output_type": "stream",
     "text": [
      "C:\\Users\\User\\Desktop\\DSO\\traffic-prediction\\backend\\assets4_labels\\1709_1439_20240127144021_555010.txt\n",
      "\n",
      "0: 640x640 22 cars, 1 motorcycle, 7 trucks, 1 traffic light, 25.9ms\n",
      "Speed: 1.0ms preprocess, 25.9ms inference, 1.5ms postprocess per image at shape (1, 3, 640, 640)\n"
     ]
    },
    {
     "name": "stderr",
     "output_type": "stream",
     "text": [
      "Processing results: 100%|██████████| 1/1 [00:00<00:00, 199.83it/s]"
     ]
    },
    {
     "name": "stdout",
     "output_type": "stream",
     "text": [
      "C:\\Users\\User\\Desktop\\DSO\\traffic-prediction\\backend\\assets4_labels\\1709_1444_20240127144548_549910.txt\n",
      "\n"
     ]
    },
    {
     "name": "stderr",
     "output_type": "stream",
     "text": [
      "\n"
     ]
    },
    {
     "name": "stdout",
     "output_type": "stream",
     "text": [
      "0: 640x640 23 cars, 1 bus, 3 trucks, 3 traffic lights, 25.7ms\n",
      "Speed: 1.0ms preprocess, 25.7ms inference, 2.0ms postprocess per image at shape (1, 3, 640, 640)\n"
     ]
    },
    {
     "name": "stderr",
     "output_type": "stream",
     "text": [
      "Processing results: 100%|██████████| 1/1 [00:00<00:00, 248.46it/s]\n",
      "Processing images:  24%|██▍       | 197/810 [00:10<00:31, 19.18it/s]"
     ]
    },
    {
     "name": "stdout",
     "output_type": "stream",
     "text": [
      "C:\\Users\\User\\Desktop\\DSO\\traffic-prediction\\backend\\assets4_labels\\1709_1449_20240127145018_509751.txt\n",
      "\n",
      "0: 640x640 22 cars, 2 trucks, 5 traffic lights, 26.0ms\n",
      "Speed: 2.0ms preprocess, 26.0ms inference, 2.0ms postprocess per image at shape (1, 3, 640, 640)\n"
     ]
    },
    {
     "name": "stderr",
     "output_type": "stream",
     "text": [
      "Processing results: 100%|██████████| 1/1 [00:00<00:00, 221.59it/s]"
     ]
    },
    {
     "name": "stdout",
     "output_type": "stream",
     "text": [
      "C:\\Users\\User\\Desktop\\DSO\\traffic-prediction\\backend\\assets4_labels\\1711_1408_20240127141000_529751.txt\n",
      "\n"
     ]
    },
    {
     "name": "stderr",
     "output_type": "stream",
     "text": [
      "\n"
     ]
    },
    {
     "name": "stdout",
     "output_type": "stream",
     "text": [
      "0: 640x640 23 cars, 1 bus, 2 trucks, 25.5ms\n",
      "Speed: 1.9ms preprocess, 25.5ms inference, 1.0ms postprocess per image at shape (1, 3, 640, 640)\n"
     ]
    },
    {
     "name": "stderr",
     "output_type": "stream",
     "text": [
      "Processing results: 100%|██████████| 1/1 [00:00<00:00, 250.00it/s]\n",
      "Processing images:  25%|██▍       | 199/810 [00:10<00:32, 19.08it/s]"
     ]
    },
    {
     "name": "stdout",
     "output_type": "stream",
     "text": [
      "C:\\Users\\User\\Desktop\\DSO\\traffic-prediction\\backend\\assets4_labels\\1711_1414_20240127141510_515199.txt\n",
      "\n",
      "0: 640x640 1 person, 17 cars, 1 motorcycle, 1 bus, 1 truck, 1 traffic light, 1 potted plant, 26.0ms\n",
      "Speed: 1.2ms preprocess, 26.0ms inference, 1.0ms postprocess per image at shape (1, 3, 640, 640)\n"
     ]
    },
    {
     "name": "stderr",
     "output_type": "stream",
     "text": [
      "Processing results: 100%|██████████| 1/1 [00:00<00:00, 221.92it/s]"
     ]
    },
    {
     "name": "stdout",
     "output_type": "stream",
     "text": [
      "C:\\Users\\User\\Desktop\\DSO\\traffic-prediction\\backend\\assets4_labels\\1711_1419_20240127142000_545751.txt\n",
      "\n"
     ]
    },
    {
     "name": "stderr",
     "output_type": "stream",
     "text": [
      "\n"
     ]
    },
    {
     "name": "stdout",
     "output_type": "stream",
     "text": [
      "0: 640x640 2 persons, 19 cars, 3 trucks, 25.8ms\n",
      "Speed: 2.0ms preprocess, 25.8ms inference, 1.0ms postprocess per image at shape (1, 3, 640, 640)\n"
     ]
    },
    {
     "name": "stderr",
     "output_type": "stream",
     "text": [
      "Processing results: 100%|██████████| 1/1 [00:00<00:00, 248.85it/s]\n",
      "Processing images:  25%|██▍       | 201/810 [00:11<00:31, 19.14it/s]"
     ]
    },
    {
     "name": "stdout",
     "output_type": "stream",
     "text": [
      "C:\\Users\\User\\Desktop\\DSO\\traffic-prediction\\backend\\assets4_labels\\1711_1423_20240127142523_535599.txt\n",
      "\n",
      "0: 640x640 2 persons, 21 cars, 1 bus, 3 trucks, 25.4ms\n",
      "Speed: 1.5ms preprocess, 25.4ms inference, 2.0ms postprocess per image at shape (1, 3, 640, 640)\n"
     ]
    },
    {
     "name": "stderr",
     "output_type": "stream",
     "text": [
      "Processing results: 100%|██████████| 1/1 [00:00<00:00, 249.62it/s]"
     ]
    },
    {
     "name": "stdout",
     "output_type": "stream",
     "text": [
      "C:\\Users\\User\\Desktop\\DSO\\traffic-prediction\\backend\\assets4_labels\\1711_1429_20240127143027_495549.txt\n",
      "\n"
     ]
    },
    {
     "name": "stderr",
     "output_type": "stream",
     "text": [
      "\n"
     ]
    },
    {
     "name": "stdout",
     "output_type": "stream",
     "text": [
      "0: 640x640 1 person, 22 cars, 1 bus, 4 trucks, 26.8ms\n",
      "Speed: 1.0ms preprocess, 26.8ms inference, 1.5ms postprocess per image at shape (1, 3, 640, 640)\n"
     ]
    },
    {
     "name": "stderr",
     "output_type": "stream",
     "text": [
      "Processing results: 100%|██████████| 1/1 [00:00<00:00, 333.20it/s]\n",
      "Processing images:  25%|██▌       | 203/810 [00:11<00:31, 19.00it/s]"
     ]
    },
    {
     "name": "stdout",
     "output_type": "stream",
     "text": [
      "C:\\Users\\User\\Desktop\\DSO\\traffic-prediction\\backend\\assets4_labels\\1711_1433_20240127143500_100495.txt\n",
      "\n",
      "0: 640x640 2 persons, 21 cars, 1 bus, 2 trucks, 26.0ms\n",
      "Speed: 2.0ms preprocess, 26.0ms inference, 1.0ms postprocess per image at shape (1, 3, 640, 640)\n"
     ]
    },
    {
     "name": "stderr",
     "output_type": "stream",
     "text": [
      "Processing results: 100%|██████████| 1/1 [00:00<00:00, 199.35it/s]"
     ]
    },
    {
     "name": "stdout",
     "output_type": "stream",
     "text": [
      "C:\\Users\\User\\Desktop\\DSO\\traffic-prediction\\backend\\assets4_labels\\1711_1439_20240127144013_551015.txt\n",
      "\n"
     ]
    },
    {
     "name": "stderr",
     "output_type": "stream",
     "text": [
      "\n"
     ]
    },
    {
     "name": "stdout",
     "output_type": "stream",
     "text": [
      "0: 640x640 1 person, 18 cars, 1 bus, 3 trucks, 1 traffic light, 25.9ms\n",
      "Speed: 1.5ms preprocess, 25.9ms inference, 2.0ms postprocess per image at shape (1, 3, 640, 640)\n"
     ]
    },
    {
     "name": "stderr",
     "output_type": "stream",
     "text": [
      "Processing results: 100%|██████████| 1/1 [00:00<00:00, 333.73it/s]\n",
      "Processing images:  25%|██▌       | 205/810 [00:11<00:32, 18.90it/s]"
     ]
    },
    {
     "name": "stdout",
     "output_type": "stream",
     "text": [
      "C:\\Users\\User\\Desktop\\DSO\\traffic-prediction\\backend\\assets4_labels\\1711_1444_20240127144500_555510.txt\n",
      "\n",
      "0: 640x640 17 cars, 1 bus, 1 truck, 1 traffic light, 26.3ms\n",
      "Speed: 2.0ms preprocess, 26.3ms inference, 2.0ms postprocess per image at shape (1, 3, 640, 640)\n"
     ]
    },
    {
     "name": "stderr",
     "output_type": "stream",
     "text": [
      "Processing results: 100%|██████████| 1/1 [00:00<00:00, 332.20it/s]"
     ]
    },
    {
     "name": "stdout",
     "output_type": "stream",
     "text": [
      "C:\\Users\\User\\Desktop\\DSO\\traffic-prediction\\backend\\assets4_labels\\1711_1448_20240127145000_101509.txt\n",
      "\n"
     ]
    },
    {
     "name": "stderr",
     "output_type": "stream",
     "text": [
      "\n"
     ]
    },
    {
     "name": "stdout",
     "output_type": "stream",
     "text": [
      "0: 640x640 23 cars, 2 buss, 2 trucks, 25.7ms\n",
      "Speed: 1.5ms preprocess, 25.7ms inference, 2.0ms postprocess per image at shape (1, 3, 640, 640)\n"
     ]
    },
    {
     "name": "stderr",
     "output_type": "stream",
     "text": [
      "Processing results: 100%|██████████| 1/1 [00:00<00:00, 333.41it/s]\n",
      "Processing images:  26%|██▌       | 207/810 [00:11<00:31, 19.00it/s]"
     ]
    },
    {
     "name": "stdout",
     "output_type": "stream",
     "text": [
      "C:\\Users\\User\\Desktop\\DSO\\traffic-prediction\\backend\\assets4_labels\\2701_1408_20240127141001_495597.txt\n",
      "\n",
      "0: 640x640 9 cars, 1 train, 1 kite, 1 clock, 26.6ms\n",
      "Speed: 2.0ms preprocess, 26.6ms inference, 1.8ms postprocess per image at shape (1, 3, 640, 640)\n"
     ]
    },
    {
     "name": "stderr",
     "output_type": "stream",
     "text": [
      "Processing results: 100%|██████████| 1/1 [00:00<00:00, 996.98it/s]"
     ]
    },
    {
     "name": "stdout",
     "output_type": "stream",
     "text": [
      "C:\\Users\\User\\Desktop\\DSO\\traffic-prediction\\backend\\assets4_labels\\2701_1413_20240127141513_981024.txt\n",
      "\n"
     ]
    },
    {
     "name": "stderr",
     "output_type": "stream",
     "text": [
      "\n"
     ]
    },
    {
     "name": "stdout",
     "output_type": "stream",
     "text": [
      "0: 640x640 8 cars, 1 bus, 1 kite, 26.2ms\n",
      "Speed: 2.0ms preprocess, 26.2ms inference, 1.0ms postprocess per image at shape (1, 3, 640, 640)\n"
     ]
    },
    {
     "name": "stderr",
     "output_type": "stream",
     "text": [
      "Processing results: 100%|██████████| 1/1 [00:00<00:00, 500.10it/s]\n",
      "Processing images:  26%|██▌       | 209/810 [00:11<00:31, 19.28it/s]"
     ]
    },
    {
     "name": "stdout",
     "output_type": "stream",
     "text": [
      "C:\\Users\\User\\Desktop\\DSO\\traffic-prediction\\backend\\assets4_labels\\2701_1418_20240127142007_511025.txt\n",
      "\n",
      "0: 640x640 3 cars, 1 train, 1 kite, 26.3ms\n",
      "Speed: 1.0ms preprocess, 26.3ms inference, 2.0ms postprocess per image at shape (1, 3, 640, 640)\n"
     ]
    },
    {
     "name": "stderr",
     "output_type": "stream",
     "text": [
      "Processing results: 100%|██████████| 1/1 [00:00<00:00, 500.33it/s]"
     ]
    },
    {
     "name": "stdout",
     "output_type": "stream",
     "text": [
      "C:\\Users\\User\\Desktop\\DSO\\traffic-prediction\\backend\\assets4_labels\\2701_1423_20240127142524_571005.txt\n",
      "\n"
     ]
    },
    {
     "name": "stderr",
     "output_type": "stream",
     "text": [
      "\n"
     ]
    },
    {
     "name": "stdout",
     "output_type": "stream",
     "text": [
      "0: 640x640 5 cars, 1 kite, 26.6ms\n",
      "Speed: 1.8ms preprocess, 26.6ms inference, 1.0ms postprocess per image at shape (1, 3, 640, 640)\n"
     ]
    },
    {
     "name": "stderr",
     "output_type": "stream",
     "text": [
      "Processing results: 100%|██████████| 1/1 [00:00<00:00, 1000.79it/s]"
     ]
    },
    {
     "name": "stdout",
     "output_type": "stream",
     "text": [
      "C:\\Users\\User\\Desktop\\DSO\\traffic-prediction\\backend\\assets4_labels\\2701_1428_20240127143029_101984.txt\n",
      "\n"
     ]
    },
    {
     "name": "stderr",
     "output_type": "stream",
     "text": [
      "\n"
     ]
    },
    {
     "name": "stdout",
     "output_type": "stream",
     "text": [
      "0: 640x640 1 car, 3 trains, 1 kite, 1 clock, 26.4ms\n",
      "Speed: 2.0ms preprocess, 26.4ms inference, 2.0ms postprocess per image at shape (1, 3, 640, 640)\n"
     ]
    },
    {
     "name": "stderr",
     "output_type": "stream",
     "text": [
      "Processing results: 100%|██████████| 1/1 [00:00<00:00, 497.43it/s]\n",
      "Processing images:  26%|██▌       | 212/810 [00:11<00:30, 19.75it/s]"
     ]
    },
    {
     "name": "stdout",
     "output_type": "stream",
     "text": [
      "C:\\Users\\User\\Desktop\\DSO\\traffic-prediction\\backend\\assets4_labels\\2701_1433_20240127143501_102481.txt\n",
      "\n",
      "0: 640x640 2 buss, 2 trains, 1 kite, 26.5ms\n",
      "Speed: 1.0ms preprocess, 26.5ms inference, 1.0ms postprocess per image at shape (1, 3, 640, 640)\n"
     ]
    },
    {
     "name": "stderr",
     "output_type": "stream",
     "text": [
      "Processing results: 100%|██████████| 1/1 [00:00<00:00, 499.62it/s]"
     ]
    },
    {
     "name": "stdout",
     "output_type": "stream",
     "text": [
      "C:\\Users\\User\\Desktop\\DSO\\traffic-prediction\\backend\\assets4_labels\\2701_1438_20240127144013_979954.txt\n",
      "\n"
     ]
    },
    {
     "name": "stderr",
     "output_type": "stream",
     "text": [
      "\n"
     ]
    },
    {
     "name": "stdout",
     "output_type": "stream",
     "text": [
      "0: 640x640 4 cars, 1 train, 1 kite, 26.1ms\n",
      "Speed: 2.0ms preprocess, 26.1ms inference, 1.0ms postprocess per image at shape (1, 3, 640, 640)\n"
     ]
    },
    {
     "name": "stderr",
     "output_type": "stream",
     "text": [
      "Processing results: 100%|██████████| 1/1 [00:00<00:00, 996.98it/s]"
     ]
    },
    {
     "name": "stdout",
     "output_type": "stream",
     "text": [
      "C:\\Users\\User\\Desktop\\DSO\\traffic-prediction\\backend\\assets4_labels\\2701_1443_20240127144513_575156.txt\n",
      "\n"
     ]
    },
    {
     "name": "stderr",
     "output_type": "stream",
     "text": [
      "\n"
     ]
    },
    {
     "name": "stdout",
     "output_type": "stream",
     "text": [
      "0: 640x640 3 cars, 3 trains, 1 kite, 1 clock, 26.1ms\n",
      "Speed: 2.0ms preprocess, 26.1ms inference, 2.1ms postprocess per image at shape (1, 3, 640, 640)\n"
     ]
    },
    {
     "name": "stderr",
     "output_type": "stream",
     "text": [
      "Processing results: 100%|██████████| 1/1 [00:00<00:00, 498.67it/s]\n",
      "Processing images:  27%|██▋       | 215/810 [00:11<00:29, 19.84it/s]"
     ]
    },
    {
     "name": "stdout",
     "output_type": "stream",
     "text": [
      "C:\\Users\\User\\Desktop\\DSO\\traffic-prediction\\backend\\assets4_labels\\2701_1448_20240127145009_525510.txt\n",
      "\n",
      "0: 640x640 2 trains, 1 kite, 1 clock, 26.6ms\n",
      "Speed: 0.9ms preprocess, 26.6ms inference, 1.0ms postprocess per image at shape (1, 3, 640, 640)\n"
     ]
    },
    {
     "name": "stderr",
     "output_type": "stream",
     "text": [
      "Processing results: 100%|██████████| 1/1 [00:00<00:00, 999.12it/s]"
     ]
    },
    {
     "name": "stdout",
     "output_type": "stream",
     "text": [
      "C:\\Users\\User\\Desktop\\DSO\\traffic-prediction\\backend\\assets4_labels\\2702_1408_20240127141001_100569.txt\n",
      "\n"
     ]
    },
    {
     "name": "stderr",
     "output_type": "stream",
     "text": [
      "\n"
     ]
    },
    {
     "name": "stdout",
     "output_type": "stream",
     "text": [
      "0: 640x640 2 persons, 9 cars, 1 bus, 1 train, 1 truck, 2 traffic lights, 1 clock, 26.1ms\n",
      "Speed: 2.0ms preprocess, 26.1ms inference, 1.0ms postprocess per image at shape (1, 3, 640, 640)\n"
     ]
    },
    {
     "name": "stderr",
     "output_type": "stream",
     "text": [
      "Processing results: 100%|██████████| 1/1 [00:00<00:00, 397.90it/s]\n",
      "Processing images:  27%|██▋       | 217/810 [00:11<00:29, 19.80it/s]"
     ]
    },
    {
     "name": "stdout",
     "output_type": "stream",
     "text": [
      "C:\\Users\\User\\Desktop\\DSO\\traffic-prediction\\backend\\assets4_labels\\2702_1413_20240127141513_511024.txt\n",
      "\n",
      "0: 640x640 3 persons, 6 cars, 5 buss, 2 trucks, 1 traffic light, 26.5ms\n",
      "Speed: 1.0ms preprocess, 26.5ms inference, 1.0ms postprocess per image at shape (1, 3, 640, 640)\n"
     ]
    },
    {
     "name": "stderr",
     "output_type": "stream",
     "text": [
      "Processing results: 100%|██████████| 1/1 [00:00<00:00, 399.95it/s]"
     ]
    },
    {
     "name": "stdout",
     "output_type": "stream",
     "text": [
      "C:\\Users\\User\\Desktop\\DSO\\traffic-prediction\\backend\\assets4_labels\\2702_1419_20240127142009_101555.txt\n",
      "\n"
     ]
    },
    {
     "name": "stderr",
     "output_type": "stream",
     "text": [
      "\n"
     ]
    },
    {
     "name": "stdout",
     "output_type": "stream",
     "text": [
      "0: 640x640 4 persons, 11 cars, 1 bus, 1 train, 4 trucks, 26.9ms\n",
      "Speed: 2.0ms preprocess, 26.9ms inference, 1.0ms postprocess per image at shape (1, 3, 640, 640)\n"
     ]
    },
    {
     "name": "stderr",
     "output_type": "stream",
     "text": [
      "Processing results: 100%|██████████| 1/1 [00:00<00:00, 284.24it/s]\n",
      "Processing images:  27%|██▋       | 219/810 [00:11<00:30, 19.49it/s]"
     ]
    },
    {
     "name": "stdout",
     "output_type": "stream",
     "text": [
      "C:\\Users\\User\\Desktop\\DSO\\traffic-prediction\\backend\\assets4_labels\\2702_1423_20240127142524_979748.txt\n",
      "\n",
      "0: 640x640 17 cars, 1 train, 1 truck, 25.7ms\n",
      "Speed: 1.5ms preprocess, 25.7ms inference, 1.5ms postprocess per image at shape (1, 3, 640, 640)\n"
     ]
    },
    {
     "name": "stderr",
     "output_type": "stream",
     "text": [
      "Processing results: 100%|██████████| 1/1 [00:00<00:00, 367.70it/s]"
     ]
    },
    {
     "name": "stdout",
     "output_type": "stream",
     "text": [
      "C:\\Users\\User\\Desktop\\DSO\\traffic-prediction\\backend\\assets4_labels\\2702_1428_20240127143030_565698.txt\n",
      "\n"
     ]
    },
    {
     "name": "stderr",
     "output_type": "stream",
     "text": [
      "\n"
     ]
    },
    {
     "name": "stdout",
     "output_type": "stream",
     "text": [
      "0: 640x640 3 persons, 14 cars, 1 train, 1 traffic light, 26.4ms\n",
      "Speed: 1.0ms preprocess, 26.4ms inference, 1.1ms postprocess per image at shape (1, 3, 640, 640)\n"
     ]
    },
    {
     "name": "stderr",
     "output_type": "stream",
     "text": [
      "Processing results: 100%|██████████| 1/1 [00:00<00:00, 333.65it/s]\n",
      "Processing images:  27%|██▋       | 221/810 [00:12<00:30, 19.50it/s]"
     ]
    },
    {
     "name": "stdout",
     "output_type": "stream",
     "text": [
      "C:\\Users\\User\\Desktop\\DSO\\traffic-prediction\\backend\\assets4_labels\\2702_1433_20240127143502_545453.txt\n",
      "\n",
      "0: 640x640 1 person, 5 cars, 2 buss, 1 train, 1 traffic light, 25.6ms\n",
      "Speed: 2.0ms preprocess, 25.6ms inference, 1.0ms postprocess per image at shape (1, 3, 640, 640)\n"
     ]
    },
    {
     "name": "stderr",
     "output_type": "stream",
     "text": [
      "Processing results: 100%|██████████| 1/1 [00:00<00:00, 498.67it/s]"
     ]
    },
    {
     "name": "stdout",
     "output_type": "stream",
     "text": [
      "C:\\Users\\User\\Desktop\\DSO\\traffic-prediction\\backend\\assets4_labels\\2702_1438_20240127144015_555310.txt\n",
      "\n"
     ]
    },
    {
     "name": "stderr",
     "output_type": "stream",
     "text": [
      "\n"
     ]
    },
    {
     "name": "stdout",
     "output_type": "stream",
     "text": [
      "0: 640x640 1 person, 11 cars, 2 buss, 1 truck, 25.0ms\n",
      "Speed: 1.5ms preprocess, 25.0ms inference, 1.5ms postprocess per image at shape (1, 3, 640, 640)\n"
     ]
    },
    {
     "name": "stderr",
     "output_type": "stream",
     "text": [
      "Processing results: 100%|██████████| 1/1 [00:00<00:00, 499.38it/s]\n",
      "Processing images:  28%|██▊       | 223/810 [00:12<00:29, 19.61it/s]"
     ]
    },
    {
     "name": "stdout",
     "output_type": "stream",
     "text": [
      "C:\\Users\\User\\Desktop\\DSO\\traffic-prediction\\backend\\assets4_labels\\2702_1444_20240127144516_515156.txt\n",
      "\n",
      "0: 640x640 5 persons, 10 cars, 1 bus, 1 train, 2 trucks, 25.0ms\n",
      "Speed: 2.0ms preprocess, 25.0ms inference, 1.0ms postprocess per image at shape (1, 3, 640, 640)\n"
     ]
    },
    {
     "name": "stderr",
     "output_type": "stream",
     "text": [
      "Processing results: 100%|██████████| 1/1 [00:00<00:00, 499.80it/s]"
     ]
    },
    {
     "name": "stdout",
     "output_type": "stream",
     "text": [
      "C:\\Users\\User\\Desktop\\DSO\\traffic-prediction\\backend\\assets4_labels\\2702_1448_20240127145010_100975.txt\n",
      "\n"
     ]
    },
    {
     "name": "stderr",
     "output_type": "stream",
     "text": [
      "\n"
     ]
    },
    {
     "name": "stdout",
     "output_type": "stream",
     "text": [
      "0: 640x640 2 persons, 11 cars, 3 buss, 1 train, 2 trucks, 25.3ms\n",
      "Speed: 2.0ms preprocess, 25.3ms inference, 1.0ms postprocess per image at shape (1, 3, 640, 640)\n"
     ]
    },
    {
     "name": "stderr",
     "output_type": "stream",
     "text": [
      "Processing results: 100%|██████████| 1/1 [00:00<00:00, 321.80it/s]\n",
      "Processing images:  28%|██▊       | 225/810 [00:12<00:30, 19.47it/s]"
     ]
    },
    {
     "name": "stdout",
     "output_type": "stream",
     "text": [
      "C:\\Users\\User\\Desktop\\DSO\\traffic-prediction\\backend\\assets4_labels\\2703_1408_20240127141006_101100.txt\n",
      "\n",
      "0: 640x640 13 cars, 25.6ms\n",
      "Speed: 4.0ms preprocess, 25.6ms inference, 2.0ms postprocess per image at shape (1, 3, 640, 640)\n"
     ]
    },
    {
     "name": "stderr",
     "output_type": "stream",
     "text": [
      "Processing results: 100%|██████████| 1/1 [00:00<00:00, 399.00it/s]"
     ]
    },
    {
     "name": "stdout",
     "output_type": "stream",
     "text": [
      "C:\\Users\\User\\Desktop\\DSO\\traffic-prediction\\backend\\assets4_labels\\2703_1414_20240127141519_489710.txt\n",
      "\n"
     ]
    },
    {
     "name": "stderr",
     "output_type": "stream",
     "text": [
      "\n"
     ]
    },
    {
     "name": "stdout",
     "output_type": "stream",
     "text": [
      "0: 640x640 15 cars, 1 bus, 2 trucks, 25.7ms\n",
      "Speed: 1.3ms preprocess, 25.7ms inference, 1.0ms postprocess per image at shape (1, 3, 640, 640)\n"
     ]
    },
    {
     "name": "stderr",
     "output_type": "stream",
     "text": [
      "Processing results: 100%|██████████| 1/1 [00:00<00:00, 333.78it/s]\n",
      "Processing images:  28%|██▊       | 227/810 [00:12<00:31, 18.79it/s]"
     ]
    },
    {
     "name": "stdout",
     "output_type": "stream",
     "text": [
      "C:\\Users\\User\\Desktop\\DSO\\traffic-prediction\\backend\\assets4_labels\\2703_1419_20240127142012_545349.txt\n",
      "\n",
      "0: 640x640 17 cars, 1 bus, 1 truck, 26.1ms\n",
      "Speed: 1.0ms preprocess, 26.1ms inference, 1.0ms postprocess per image at shape (1, 3, 640, 640)\n"
     ]
    },
    {
     "name": "stderr",
     "output_type": "stream",
     "text": [
      "Processing results: 100%|██████████| 1/1 [00:00<00:00, 333.23it/s]"
     ]
    },
    {
     "name": "stdout",
     "output_type": "stream",
     "text": [
      "C:\\Users\\User\\Desktop\\DSO\\traffic-prediction\\backend\\assets4_labels\\2703_1423_20240127142526_549752.txt\n",
      "\n"
     ]
    },
    {
     "name": "stderr",
     "output_type": "stream",
     "text": [
      "\n"
     ]
    },
    {
     "name": "stdout",
     "output_type": "stream",
     "text": [
      "0: 640x640 15 cars, 2 trucks, 25.6ms\n",
      "Speed: 1.0ms preprocess, 25.6ms inference, 2.0ms postprocess per image at shape (1, 3, 640, 640)\n"
     ]
    },
    {
     "name": "stderr",
     "output_type": "stream",
     "text": [
      "Processing results: 100%|██████████| 1/1 [00:00<00:00, 285.11it/s]\n",
      "Processing images:  28%|██▊       | 229/810 [00:12<00:30, 19.00it/s]"
     ]
    },
    {
     "name": "stdout",
     "output_type": "stream",
     "text": [
      "C:\\Users\\User\\Desktop\\DSO\\traffic-prediction\\backend\\assets4_labels\\2703_1429_20240127143033_989749.txt\n",
      "\n",
      "0: 640x640 14 cars, 2 trucks, 26.1ms\n",
      "Speed: 1.0ms preprocess, 26.1ms inference, 1.0ms postprocess per image at shape (1, 3, 640, 640)\n"
     ]
    },
    {
     "name": "stderr",
     "output_type": "stream",
     "text": [
      "Processing results: 100%|██████████| 1/1 [00:00<00:00, 330.65it/s]"
     ]
    },
    {
     "name": "stdout",
     "output_type": "stream",
     "text": [
      "C:\\Users\\User\\Desktop\\DSO\\traffic-prediction\\backend\\assets4_labels\\2703_1433_20240127143505_561024.txt\n",
      "\n"
     ]
    },
    {
     "name": "stderr",
     "output_type": "stream",
     "text": [
      "\n"
     ]
    },
    {
     "name": "stdout",
     "output_type": "stream",
     "text": [
      "0: 640x640 13 cars, 1 bus, 4 trucks, 26.0ms\n",
      "Speed: 2.0ms preprocess, 26.0ms inference, 1.0ms postprocess per image at shape (1, 3, 640, 640)\n"
     ]
    },
    {
     "name": "stderr",
     "output_type": "stream",
     "text": [
      "Processing results: 100%|██████████| 1/1 [00:00<00:00, 333.68it/s]\n",
      "Processing images:  29%|██▊       | 231/810 [00:12<00:30, 18.72it/s]"
     ]
    },
    {
     "name": "stdout",
     "output_type": "stream",
     "text": [
      "C:\\Users\\User\\Desktop\\DSO\\traffic-prediction\\backend\\assets4_labels\\2703_1439_20240127144016_505397.txt\n",
      "\n",
      "0: 640x640 16 cars, 26.8ms\n",
      "Speed: 1.0ms preprocess, 26.8ms inference, 1.0ms postprocess per image at shape (1, 3, 640, 640)\n"
     ]
    },
    {
     "name": "stderr",
     "output_type": "stream",
     "text": [
      "Processing results: 100%|██████████| 1/1 [00:00<00:00, 398.55it/s]"
     ]
    },
    {
     "name": "stdout",
     "output_type": "stream",
     "text": [
      "C:\\Users\\User\\Desktop\\DSO\\traffic-prediction\\backend\\assets4_labels\\2703_1444_20240127144522_541024.txt\n",
      "\n"
     ]
    },
    {
     "name": "stderr",
     "output_type": "stream",
     "text": [
      "\n"
     ]
    },
    {
     "name": "stdout",
     "output_type": "stream",
     "text": [
      "0: 640x640 11 cars, 1 truck, 26.4ms\n",
      "Speed: 2.0ms preprocess, 26.4ms inference, 2.0ms postprocess per image at shape (1, 3, 640, 640)\n"
     ]
    },
    {
     "name": "stderr",
     "output_type": "stream",
     "text": [
      "Processing results: 100%|██████████| 1/1 [00:00<00:00, 397.19it/s]\n",
      "Processing images:  29%|██▉       | 233/810 [00:12<00:30, 18.93it/s]"
     ]
    },
    {
     "name": "stdout",
     "output_type": "stream",
     "text": [
      "C:\\Users\\User\\Desktop\\DSO\\traffic-prediction\\backend\\assets4_labels\\2703_1448_20240127145013_999897.txt\n",
      "\n",
      "0: 640x640 14 cars, 1 truck, 26.3ms\n",
      "Speed: 1.0ms preprocess, 26.3ms inference, 1.5ms postprocess per image at shape (1, 3, 640, 640)\n"
     ]
    },
    {
     "name": "stderr",
     "output_type": "stream",
     "text": [
      "Processing results: 100%|██████████| 1/1 [00:00<00:00, 333.20it/s]"
     ]
    },
    {
     "name": "stdout",
     "output_type": "stream",
     "text": [
      "C:\\Users\\User\\Desktop\\DSO\\traffic-prediction\\backend\\assets4_labels\\2704_1408_20240127141007_555751.txt\n",
      "\n"
     ]
    },
    {
     "name": "stderr",
     "output_type": "stream",
     "text": [
      "\n"
     ]
    },
    {
     "name": "stdout",
     "output_type": "stream",
     "text": [
      "0: 640x640 1 person, 3 cars, 1 truck, 26.8ms\n",
      "Speed: 1.0ms preprocess, 26.8ms inference, 1.5ms postprocess per image at shape (1, 3, 640, 640)\n"
     ]
    },
    {
     "name": "stderr",
     "output_type": "stream",
     "text": [
      "Processing results: 100%|██████████| 1/1 [00:00<00:00, 500.39it/s]\n",
      "Processing images:  29%|██▉       | 235/810 [00:12<00:29, 19.18it/s]"
     ]
    },
    {
     "name": "stdout",
     "output_type": "stream",
     "text": [
      "C:\\Users\\User\\Desktop\\DSO\\traffic-prediction\\backend\\assets4_labels\\2704_1413_20240127141520_575410.txt\n",
      "\n",
      "0: 640x640 2 cars, 1 bus, 25.6ms\n",
      "Speed: 1.5ms preprocess, 25.6ms inference, 1.0ms postprocess per image at shape (1, 3, 640, 640)\n"
     ]
    },
    {
     "name": "stderr",
     "output_type": "stream",
     "text": [
      "Processing results: 100%|██████████| 1/1 [00:00<00:00, 659.38it/s]"
     ]
    },
    {
     "name": "stdout",
     "output_type": "stream",
     "text": [
      "C:\\Users\\User\\Desktop\\DSO\\traffic-prediction\\backend\\assets4_labels\\2704_1418_20240127142013_102994.txt\n",
      "\n"
     ]
    },
    {
     "name": "stderr",
     "output_type": "stream",
     "text": [
      "\n"
     ]
    },
    {
     "name": "stdout",
     "output_type": "stream",
     "text": [
      "0: 640x640 1 car, 25.5ms\n",
      "Speed: 2.0ms preprocess, 25.5ms inference, 2.0ms postprocess per image at shape (1, 3, 640, 640)\n"
     ]
    },
    {
     "name": "stderr",
     "output_type": "stream",
     "text": [
      "Processing results: 100%|██████████| 1/1 [00:00<00:00, 999.83it/s]"
     ]
    },
    {
     "name": "stdout",
     "output_type": "stream",
     "text": [
      "C:\\Users\\User\\Desktop\\DSO\\traffic-prediction\\backend\\assets4_labels\\2704_1423_20240127142527_101555.txt\n",
      "\n",
      "0: 640x640 3 cars, 1 truck, 24.9ms\n"
     ]
    },
    {
     "name": "stderr",
     "output_type": "stream",
     "text": [
      "\n"
     ]
    },
    {
     "name": "stdout",
     "output_type": "stream",
     "text": [
      "Speed: 2.0ms preprocess, 24.9ms inference, 1.5ms postprocess per image at shape (1, 3, 640, 640)\n"
     ]
    },
    {
     "name": "stderr",
     "output_type": "stream",
     "text": [
      "Processing results: 100%|██████████| 1/1 [00:00<00:00, 500.10it/s]\n",
      "Processing images:  29%|██▉       | 238/810 [00:12<00:28, 19.85it/s]"
     ]
    },
    {
     "name": "stdout",
     "output_type": "stream",
     "text": [
      "C:\\Users\\User\\Desktop\\DSO\\traffic-prediction\\backend\\assets4_labels\\2704_1428_20240127143033_525152.txt\n",
      "\n",
      "0: 640x640 2 persons, 3 cars, 1 truck, 25.5ms\n",
      "Speed: 2.0ms preprocess, 25.5ms inference, 1.2ms postprocess per image at shape (1, 3, 640, 640)\n"
     ]
    },
    {
     "name": "stderr",
     "output_type": "stream",
     "text": [
      "Processing results: 100%|██████████| 1/1 [00:00<00:00, 500.10it/s]"
     ]
    },
    {
     "name": "stdout",
     "output_type": "stream",
     "text": [
      "C:\\Users\\User\\Desktop\\DSO\\traffic-prediction\\backend\\assets4_labels\\2704_1433_20240127143507_989749.txt\n",
      "\n",
      "0: 640x640 1 car, 1 truck, 24.7ms\n"
     ]
    },
    {
     "name": "stderr",
     "output_type": "stream",
     "text": [
      "\n"
     ]
    },
    {
     "name": "stdout",
     "output_type": "stream",
     "text": [
      "Speed: 2.0ms preprocess, 24.7ms inference, 1.5ms postprocess per image at shape (1, 3, 640, 640)\n"
     ]
    },
    {
     "name": "stderr",
     "output_type": "stream",
     "text": [
      "Processing results: 100%|██████████| 1/1 [00:00<00:00, 997.69it/s]"
     ]
    },
    {
     "name": "stdout",
     "output_type": "stream",
     "text": [
      "C:\\Users\\User\\Desktop\\DSO\\traffic-prediction\\backend\\assets4_labels\\2704_1438_20240127144016_515253.txt\n",
      "\n"
     ]
    },
    {
     "name": "stderr",
     "output_type": "stream",
     "text": [
      "\n"
     ]
    },
    {
     "name": "stdout",
     "output_type": "stream",
     "text": [
      "0: 640x640 2 persons, 2 motorcycles, 25.1ms\n",
      "Speed: 2.5ms preprocess, 25.1ms inference, 1.0ms postprocess per image at shape (1, 3, 640, 640)\n"
     ]
    },
    {
     "name": "stderr",
     "output_type": "stream",
     "text": [
      "Processing results: 100%|██████████| 1/1 [00:00<00:00, 662.08it/s]\n",
      "Processing images:  30%|██▉       | 241/810 [00:13<00:28, 20.16it/s]"
     ]
    },
    {
     "name": "stdout",
     "output_type": "stream",
     "text": [
      "C:\\Users\\User\\Desktop\\DSO\\traffic-prediction\\backend\\assets4_labels\\2704_1443_20240127144528_102571.txt\n",
      "\n",
      "0: 640x640 1 person, 3 cars, 2 motorcycles, 2 trucks, 26.4ms\n",
      "Speed: 1.0ms preprocess, 26.4ms inference, 1.0ms postprocess per image at shape (1, 3, 640, 640)\n"
     ]
    },
    {
     "name": "stderr",
     "output_type": "stream",
     "text": [
      "Processing results: 100%|██████████| 1/1 [00:00<00:00, 481.05it/s]"
     ]
    },
    {
     "name": "stdout",
     "output_type": "stream",
     "text": [
      "C:\\Users\\User\\Desktop\\DSO\\traffic-prediction\\backend\\assets4_labels\\2704_1448_20240127145014_102102.txt\n",
      "\n",
      "0: 640x640 2 cars, 25.0ms\n"
     ]
    },
    {
     "name": "stderr",
     "output_type": "stream",
     "text": [
      "\n"
     ]
    },
    {
     "name": "stdout",
     "output_type": "stream",
     "text": [
      "Speed: 1.0ms preprocess, 25.0ms inference, 2.0ms postprocess per image at shape (1, 3, 640, 640)\n"
     ]
    },
    {
     "name": "stderr",
     "output_type": "stream",
     "text": [
      "Processing results: 100%|██████████| 1/1 [00:00<00:00, 500.51it/s]"
     ]
    },
    {
     "name": "stdout",
     "output_type": "stream",
     "text": [
      "C:\\Users\\User\\Desktop\\DSO\\traffic-prediction\\backend\\assets4_labels\\2705_1408_20240127141009_495449.txt\n",
      "\n",
      "0: 640x640 5 cars, 1 bus, 4 trucks, 1 clock, 25.2ms\n"
     ]
    },
    {
     "name": "stderr",
     "output_type": "stream",
     "text": [
      "\n"
     ]
    },
    {
     "name": "stdout",
     "output_type": "stream",
     "text": [
      "Speed: 1.0ms preprocess, 25.2ms inference, 1.0ms postprocess per image at shape (1, 3, 640, 640)\n"
     ]
    },
    {
     "name": "stderr",
     "output_type": "stream",
     "text": [
      "Processing results: 100%|██████████| 1/1 [00:00<00:00, 333.41it/s]\n",
      "Processing images:  30%|███       | 244/810 [00:13<00:27, 20.30it/s]"
     ]
    },
    {
     "name": "stdout",
     "output_type": "stream",
     "text": [
      "C:\\Users\\User\\Desktop\\DSO\\traffic-prediction\\backend\\assets4_labels\\2705_1413_20240127141522_559997.txt\n",
      "\n",
      "0: 640x640 3 cars, 2 trucks, 1 clock, 26.0ms\n",
      "Speed: 1.1ms preprocess, 26.0ms inference, 1.0ms postprocess per image at shape (1, 3, 640, 640)\n"
     ]
    },
    {
     "name": "stderr",
     "output_type": "stream",
     "text": [
      "Processing results: 100%|██████████| 1/1 [00:00<00:00, 249.84it/s]"
     ]
    },
    {
     "name": "stdout",
     "output_type": "stream",
     "text": [
      "C:\\Users\\User\\Desktop\\DSO\\traffic-prediction\\backend\\assets4_labels\\2705_1418_20240127142013_545752.txt\n",
      "\n"
     ]
    },
    {
     "name": "stderr",
     "output_type": "stream",
     "text": [
      "\n"
     ]
    },
    {
     "name": "stdout",
     "output_type": "stream",
     "text": [
      "0: 640x640 1 person, 3 cars, 4 trucks, 1 clock, 26.8ms\n",
      "Speed: 1.0ms preprocess, 26.8ms inference, 1.0ms postprocess per image at shape (1, 3, 640, 640)\n"
     ]
    },
    {
     "name": "stderr",
     "output_type": "stream",
     "text": [
      "Processing results: 100%|██████████| 1/1 [00:00<00:00, 333.52it/s]"
     ]
    },
    {
     "name": "stdout",
     "output_type": "stream",
     "text": [
      "C:\\Users\\User\\Desktop\\DSO\\traffic-prediction\\backend\\assets4_labels\\2705_1423_20240127142524_575198.txt\n",
      "\n"
     ]
    },
    {
     "name": "stderr",
     "output_type": "stream",
     "text": [
      "\n"
     ]
    },
    {
     "name": "stdout",
     "output_type": "stream",
     "text": [
      "0: 640x640 4 cars, 1 truck, 25.6ms\n",
      "Speed: 2.1ms preprocess, 25.6ms inference, 1.0ms postprocess per image at shape (1, 3, 640, 640)\n"
     ]
    },
    {
     "name": "stderr",
     "output_type": "stream",
     "text": [
      "Processing results: 100%|██████████| 1/1 [00:00<00:00, 500.16it/s]\n",
      "Processing images:  30%|███       | 247/810 [00:13<00:27, 20.16it/s]"
     ]
    },
    {
     "name": "stdout",
     "output_type": "stream",
     "text": [
      "C:\\Users\\User\\Desktop\\DSO\\traffic-prediction\\backend\\assets4_labels\\2705_1428_20240127143033_555398.txt\n",
      "\n",
      "0: 640x640 6 cars, 2 buss, 1 truck, 1 traffic light, 1 clock, 25.7ms\n",
      "Speed: 1.0ms preprocess, 25.7ms inference, 1.1ms postprocess per image at shape (1, 3, 640, 640)\n"
     ]
    },
    {
     "name": "stderr",
     "output_type": "stream",
     "text": [
      "Processing results: 100%|██████████| 1/1 [00:00<00:00, 333.78it/s]"
     ]
    },
    {
     "name": "stdout",
     "output_type": "stream",
     "text": [
      "C:\\Users\\User\\Desktop\\DSO\\traffic-prediction\\backend\\assets4_labels\\2705_1433_20240127143508_529955.txt\n",
      "\n",
      "0: 640x640 2 persons, 2 cars, 1 clock, 26.0ms\n"
     ]
    },
    {
     "name": "stderr",
     "output_type": "stream",
     "text": [
      "\n"
     ]
    },
    {
     "name": "stdout",
     "output_type": "stream",
     "text": [
      "Speed: 1.0ms preprocess, 26.0ms inference, 1.0ms postprocess per image at shape (1, 3, 640, 640)\n"
     ]
    },
    {
     "name": "stderr",
     "output_type": "stream",
     "text": [
      "Processing results: 100%|██████████| 1/1 [00:00<00:00, 499.62it/s]"
     ]
    },
    {
     "name": "stdout",
     "output_type": "stream",
     "text": [
      "C:\\Users\\User\\Desktop\\DSO\\traffic-prediction\\backend\\assets4_labels\\2705_1438_20240127144018_494948.txt\n",
      "\n"
     ]
    },
    {
     "name": "stderr",
     "output_type": "stream",
     "text": [
      "\n"
     ]
    },
    {
     "name": "stdout",
     "output_type": "stream",
     "text": [
      "0: 640x640 1 person, 3 cars, 1 train, 1 truck, 1 clock, 26.1ms\n",
      "Speed: 1.0ms preprocess, 26.1ms inference, 1.0ms postprocess per image at shape (1, 3, 640, 640)\n"
     ]
    },
    {
     "name": "stderr",
     "output_type": "stream",
     "text": [
      "Processing results: 100%|██████████| 1/1 [00:00<00:00, 333.68it/s]\n",
      "Processing images:  31%|███       | 250/810 [00:13<00:27, 20.11it/s]"
     ]
    },
    {
     "name": "stdout",
     "output_type": "stream",
     "text": [
      "C:\\Users\\User\\Desktop\\DSO\\traffic-prediction\\backend\\assets4_labels\\2705_1443_20240127144530_102485.txt\n",
      "\n",
      "0: 640x640 1 person, 8 cars, 1 traffic light, 1 clock, 25.1ms\n",
      "Speed: 1.8ms preprocess, 25.1ms inference, 2.0ms postprocess per image at shape (1, 3, 640, 640)\n"
     ]
    },
    {
     "name": "stderr",
     "output_type": "stream",
     "text": [
      "Processing results: 100%|██████████| 1/1 [00:00<00:00, 499.62it/s]"
     ]
    },
    {
     "name": "stdout",
     "output_type": "stream",
     "text": [
      "C:\\Users\\User\\Desktop\\DSO\\traffic-prediction\\backend\\assets4_labels\\2705_1448_20240127145014_511025.txt\n",
      "\n"
     ]
    },
    {
     "name": "stderr",
     "output_type": "stream",
     "text": [
      "\n"
     ]
    },
    {
     "name": "stdout",
     "output_type": "stream",
     "text": [
      "0: 640x640 1 person, 7 cars, 1 traffic light, 1 clock, 25.0ms\n",
      "Speed: 2.0ms preprocess, 25.0ms inference, 2.0ms postprocess per image at shape (1, 3, 640, 640)\n"
     ]
    },
    {
     "name": "stderr",
     "output_type": "stream",
     "text": [
      "Processing results: 100%|██████████| 1/1 [00:00<00:00, 333.41it/s]"
     ]
    },
    {
     "name": "stdout",
     "output_type": "stream",
     "text": [
      "C:\\Users\\User\\Desktop\\DSO\\traffic-prediction\\backend\\assets4_labels\\2706_1408_20240127141010_555599.txt\n",
      "\n",
      "0: 640x640 15 cars, 2 trucks, 26.6ms\n"
     ]
    },
    {
     "name": "stderr",
     "output_type": "stream",
     "text": [
      "\n"
     ]
    },
    {
     "name": "stdout",
     "output_type": "stream",
     "text": [
      "Speed: 2.0ms preprocess, 26.6ms inference, 1.4ms postprocess per image at shape (1, 3, 640, 640)\n"
     ]
    },
    {
     "name": "stderr",
     "output_type": "stream",
     "text": [
      "Processing results: 100%|██████████| 1/1 [00:00<00:00, 199.11it/s]\n",
      "Processing images:  31%|███       | 253/810 [00:13<00:28, 19.86it/s]"
     ]
    },
    {
     "name": "stdout",
     "output_type": "stream",
     "text": [
      "C:\\Users\\User\\Desktop\\DSO\\traffic-prediction\\backend\\assets4_labels\\2706_1413_20240127141523_554849.txt\n",
      "\n",
      "0: 640x640 14 cars, 1 bus, 1 truck, 27.6ms\n",
      "Speed: 1.0ms preprocess, 27.6ms inference, 0.0ms postprocess per image at shape (1, 3, 640, 640)\n"
     ]
    },
    {
     "name": "stderr",
     "output_type": "stream",
     "text": [
      "Processing results: 100%|██████████| 1/1 [00:00<00:00, 342.90it/s]"
     ]
    },
    {
     "name": "stdout",
     "output_type": "stream",
     "text": [
      "C:\\Users\\User\\Desktop\\DSO\\traffic-prediction\\backend\\assets4_labels\\2706_1418_20240127142013_101100.txt\n",
      "\n",
      "0: 640x640 1 person, 16 cars, 1 bus, 2 trucks, 1 traffic light, 27.0ms\n"
     ]
    },
    {
     "name": "stderr",
     "output_type": "stream",
     "text": [
      "\n"
     ]
    },
    {
     "name": "stdout",
     "output_type": "stream",
     "text": [
      "Speed: 1.0ms preprocess, 27.0ms inference, 0.0ms postprocess per image at shape (1, 3, 640, 640)\n"
     ]
    },
    {
     "name": "stderr",
     "output_type": "stream",
     "text": [
      "Processing results: 100%|██████████| 1/1 [00:00<00:00, 333.89it/s]\n",
      "Processing images:  31%|███▏      | 255/810 [00:13<00:28, 19.76it/s]"
     ]
    },
    {
     "name": "stdout",
     "output_type": "stream",
     "text": [
      "C:\\Users\\User\\Desktop\\DSO\\traffic-prediction\\backend\\assets4_labels\\2706_1423_20240127142526_491005.txt\n",
      "\n",
      "0: 640x640 16 cars, 1 bus, 2 trucks, 1 traffic light, 26.0ms\n",
      "Speed: 1.0ms preprocess, 26.0ms inference, 1.0ms postprocess per image at shape (1, 3, 640, 640)\n"
     ]
    },
    {
     "name": "stderr",
     "output_type": "stream",
     "text": [
      "Processing results: 100%|██████████| 1/1 [00:00<00:00, 329.20it/s]"
     ]
    },
    {
     "name": "stdout",
     "output_type": "stream",
     "text": [
      "C:\\Users\\User\\Desktop\\DSO\\traffic-prediction\\backend\\assets4_labels\\2706_1428_20240127143033_545456.txt\n",
      "\n",
      "0: 640x640 11 cars, 1 truck, 26.0ms\n"
     ]
    },
    {
     "name": "stderr",
     "output_type": "stream",
     "text": [
      "\n"
     ]
    },
    {
     "name": "stdout",
     "output_type": "stream",
     "text": [
      "Speed: 1.0ms preprocess, 26.0ms inference, 1.5ms postprocess per image at shape (1, 3, 640, 640)\n"
     ]
    },
    {
     "name": "stderr",
     "output_type": "stream",
     "text": [
      "Processing results: 100%|██████████| 1/1 [00:00<00:00, 333.20it/s]"
     ]
    },
    {
     "name": "stdout",
     "output_type": "stream",
     "text": [
      "C:\\Users\\User\\Desktop\\DSO\\traffic-prediction\\backend\\assets4_labels\\2706_1433_20240127143510_101995.txt\n",
      "\n",
      "0: 640x640 15 cars, 1 bus, 6 trucks, 25.4ms\n"
     ]
    },
    {
     "name": "stderr",
     "output_type": "stream",
     "text": [
      "\n"
     ]
    },
    {
     "name": "stdout",
     "output_type": "stream",
     "text": [
      "Speed: 1.0ms preprocess, 25.4ms inference, 2.0ms postprocess per image at shape (1, 3, 640, 640)\n"
     ]
    },
    {
     "name": "stderr",
     "output_type": "stream",
     "text": [
      "Processing results: 100%|██████████| 1/1 [00:00<00:00, 171.34it/s]\n",
      "Processing images:  32%|███▏      | 258/810 [00:13<00:28, 19.67it/s]"
     ]
    },
    {
     "name": "stdout",
     "output_type": "stream",
     "text": [
      "C:\\Users\\User\\Desktop\\DSO\\traffic-prediction\\backend\\assets4_labels\\2706_1438_20240127144018_984956.txt\n",
      "\n",
      "0: 640x640 18 cars, 1 bus, 5 trucks, 25.0ms\n",
      "Speed: 2.0ms preprocess, 25.0ms inference, 1.0ms postprocess per image at shape (1, 3, 640, 640)\n"
     ]
    },
    {
     "name": "stderr",
     "output_type": "stream",
     "text": [
      "Processing results: 100%|██████████| 1/1 [00:00<00:00, 246.84it/s]"
     ]
    },
    {
     "name": "stdout",
     "output_type": "stream",
     "text": [
      "C:\\Users\\User\\Desktop\\DSO\\traffic-prediction\\backend\\assets4_labels\\2706_1443_20240127144533_101491.txt\n",
      "\n"
     ]
    },
    {
     "name": "stderr",
     "output_type": "stream",
     "text": [
      "\n"
     ]
    },
    {
     "name": "stdout",
     "output_type": "stream",
     "text": [
      "0: 640x640 15 cars, 3 trucks, 26.4ms\n",
      "Speed: 1.0ms preprocess, 26.4ms inference, 1.0ms postprocess per image at shape (1, 3, 640, 640)\n"
     ]
    },
    {
     "name": "stderr",
     "output_type": "stream",
     "text": [
      "Processing results: 100%|██████████| 1/1 [00:00<00:00, 332.09it/s]\n",
      "Processing images:  32%|███▏      | 260/810 [00:14<00:27, 19.69it/s]"
     ]
    },
    {
     "name": "stdout",
     "output_type": "stream",
     "text": [
      "C:\\Users\\User\\Desktop\\DSO\\traffic-prediction\\backend\\assets4_labels\\2706_1448_20240127145014_525750.txt\n",
      "\n",
      "0: 640x640 2 persons, 9 cars, 1 motorcycle, 2 trucks, 25.1ms\n",
      "Speed: 2.0ms preprocess, 25.1ms inference, 2.0ms postprocess per image at shape (1, 3, 640, 640)\n"
     ]
    },
    {
     "name": "stderr",
     "output_type": "stream",
     "text": [
      "Processing results: 100%|██████████| 1/1 [00:00<00:00, 399.27it/s]"
     ]
    },
    {
     "name": "stdout",
     "output_type": "stream",
     "text": [
      "C:\\Users\\User\\Desktop\\DSO\\traffic-prediction\\backend\\assets4_labels\\2707_1408_20240127141012_545650.txt\n",
      "\n"
     ]
    },
    {
     "name": "stderr",
     "output_type": "stream",
     "text": [
      "\n"
     ]
    },
    {
     "name": "stdout",
     "output_type": "stream",
     "text": [
      "0: 640x640 1 person, 14 cars, 1 motorcycle, 1 bus, 4 trucks, 1 traffic light, 25.1ms\n",
      "Speed: 2.0ms preprocess, 25.1ms inference, 1.0ms postprocess per image at shape (1, 3, 640, 640)\n"
     ]
    },
    {
     "name": "stderr",
     "output_type": "stream",
     "text": [
      "Processing results: 100%|██████████| 1/1 [00:00<00:00, 331.67it/s]"
     ]
    },
    {
     "name": "stdout",
     "output_type": "stream",
     "text": [
      "C:\\Users\\User\\Desktop\\DSO\\traffic-prediction\\backend\\assets4_labels\\2707_1414_20240127141526_564849.txt\n",
      "\n"
     ]
    },
    {
     "name": "stderr",
     "output_type": "stream",
     "text": [
      "\n"
     ]
    },
    {
     "name": "stdout",
     "output_type": "stream",
     "text": [
      "0: 640x640 7 cars, 8 trucks, 2 traffic lights, 25.2ms\n",
      "Speed: 1.0ms preprocess, 25.2ms inference, 2.0ms postprocess per image at shape (1, 3, 640, 640)\n"
     ]
    },
    {
     "name": "stderr",
     "output_type": "stream",
     "text": [
      "Processing results: 100%|██████████| 1/1 [00:00<00:00, 332.93it/s]\n",
      "Processing images:  32%|███▏      | 263/810 [00:14<00:27, 19.86it/s]"
     ]
    },
    {
     "name": "stdout",
     "output_type": "stream",
     "text": [
      "C:\\Users\\User\\Desktop\\DSO\\traffic-prediction\\backend\\assets4_labels\\2707_1419_20240127142014_511015.txt\n",
      "\n",
      "0: 640x640 8 cars, 1 bus, 5 trucks, 1 traffic light, 25.7ms\n",
      "Speed: 1.0ms preprocess, 25.7ms inference, 1.6ms postprocess per image at shape (1, 3, 640, 640)\n"
     ]
    },
    {
     "name": "stderr",
     "output_type": "stream",
     "text": [
      "Processing results: 100%|██████████| 1/1 [00:00<00:00, 399.38it/s]"
     ]
    },
    {
     "name": "stdout",
     "output_type": "stream",
     "text": [
      "C:\\Users\\User\\Desktop\\DSO\\traffic-prediction\\backend\\assets4_labels\\2707_1423_20240127142526_509753.txt\n",
      "\n"
     ]
    },
    {
     "name": "stderr",
     "output_type": "stream",
     "text": [
      "\n"
     ]
    },
    {
     "name": "stdout",
     "output_type": "stream",
     "text": [
      "0: 640x640 1 person, 15 cars, 2 motorcycles, 4 trucks, 1 traffic light, 25.6ms\n",
      "Speed: 2.0ms preprocess, 25.6ms inference, 1.0ms postprocess per image at shape (1, 3, 640, 640)\n"
     ]
    },
    {
     "name": "stderr",
     "output_type": "stream",
     "text": [
      "Processing results: 100%|██████████| 1/1 [00:00<00:00, 326.91it/s]\n",
      "Processing images:  33%|███▎      | 265/810 [00:14<00:27, 19.86it/s]"
     ]
    },
    {
     "name": "stdout",
     "output_type": "stream",
     "text": [
      "C:\\Users\\User\\Desktop\\DSO\\traffic-prediction\\backend\\assets4_labels\\2707_1429_20240127143033_495210.txt\n",
      "\n",
      "0: 640x640 2 persons, 15 cars, 2 buss, 5 trucks, 1 traffic light, 25.8ms\n",
      "Speed: 1.0ms preprocess, 25.8ms inference, 1.0ms postprocess per image at shape (1, 3, 640, 640)\n"
     ]
    },
    {
     "name": "stderr",
     "output_type": "stream",
     "text": [
      "Processing results: 100%|██████████| 1/1 [00:00<00:00, 243.61it/s]"
     ]
    },
    {
     "name": "stdout",
     "output_type": "stream",
     "text": [
      "C:\\Users\\User\\Desktop\\DSO\\traffic-prediction\\backend\\assets4_labels\\2707_1433_20240127143511_529799.txt\n",
      "\n"
     ]
    },
    {
     "name": "stderr",
     "output_type": "stream",
     "text": [
      "\n"
     ]
    },
    {
     "name": "stdout",
     "output_type": "stream",
     "text": [
      "0: 640x640 1 person, 10 cars, 1 bus, 6 trucks, 1 traffic light, 25.8ms\n",
      "Speed: 2.0ms preprocess, 25.8ms inference, 1.1ms postprocess per image at shape (1, 3, 640, 640)\n"
     ]
    },
    {
     "name": "stderr",
     "output_type": "stream",
     "text": [
      "Processing results: 100%|██████████| 1/1 [00:00<00:00, 168.34it/s]\n",
      "Processing images:  33%|███▎      | 267/810 [00:14<00:27, 19.66it/s]"
     ]
    },
    {
     "name": "stdout",
     "output_type": "stream",
     "text": [
      "C:\\Users\\User\\Desktop\\DSO\\traffic-prediction\\backend\\assets4_labels\\2707_1439_20240127144018_485010.txt\n",
      "\n",
      "0: 640x640 11 cars, 1 bus, 7 trucks, 1 traffic light, 25.5ms\n",
      "Speed: 1.5ms preprocess, 25.5ms inference, 2.0ms postprocess per image at shape (1, 3, 640, 640)\n"
     ]
    },
    {
     "name": "stderr",
     "output_type": "stream",
     "text": [
      "Processing results: 100%|██████████| 1/1 [00:00<00:00, 346.18it/s]"
     ]
    },
    {
     "name": "stdout",
     "output_type": "stream",
     "text": [
      "C:\\Users\\User\\Desktop\\DSO\\traffic-prediction\\backend\\assets4_labels\\2707_1444_20240127144536_101525.txt\n",
      "\n"
     ]
    },
    {
     "name": "stderr",
     "output_type": "stream",
     "text": [
      "\n"
     ]
    },
    {
     "name": "stdout",
     "output_type": "stream",
     "text": [
      "0: 640x640 11 cars, 4 trucks, 1 traffic light, 27.9ms\n",
      "Speed: 2.1ms preprocess, 27.9ms inference, 2.0ms postprocess per image at shape (1, 3, 640, 640)\n"
     ]
    },
    {
     "name": "stderr",
     "output_type": "stream",
     "text": [
      "Processing results: 100%|██████████| 1/1 [00:00<00:00, 333.68it/s]\n",
      "Processing images:  33%|███▎      | 269/810 [00:14<00:27, 19.68it/s]"
     ]
    },
    {
     "name": "stdout",
     "output_type": "stream",
     "text": [
      "C:\\Users\\User\\Desktop\\DSO\\traffic-prediction\\backend\\assets4_labels\\2707_1448_20240127145014_541001.txt\n",
      "\n",
      "0: 640x640 1 person, 6 cars, 1 motorcycle, 2 buss, 6 trucks, 27.2ms\n",
      "Speed: 1.0ms preprocess, 27.2ms inference, 2.0ms postprocess per image at shape (1, 3, 640, 640)\n"
     ]
    },
    {
     "name": "stderr",
     "output_type": "stream",
     "text": [
      "Processing results: 100%|██████████| 1/1 [00:00<00:00, 330.68it/s]"
     ]
    },
    {
     "name": "stdout",
     "output_type": "stream",
     "text": [
      "C:\\Users\\User\\Desktop\\DSO\\traffic-prediction\\backend\\assets4_labels\\2708_1409_20240127141013_505397.txt\n",
      "\n"
     ]
    },
    {
     "name": "stderr",
     "output_type": "stream",
     "text": [
      "\n"
     ]
    },
    {
     "name": "stdout",
     "output_type": "stream",
     "text": [
      "0: 640x640 1 person, 7 cars, 2 trucks, 1 clock, 26.6ms\n",
      "Speed: 1.0ms preprocess, 26.6ms inference, 2.1ms postprocess per image at shape (1, 3, 640, 640)\n"
     ]
    },
    {
     "name": "stderr",
     "output_type": "stream",
     "text": [
      "Processing results: 100%|██████████| 1/1 [00:00<00:00, 234.69it/s]\n",
      "Processing images:  33%|███▎      | 271/810 [00:14<00:27, 19.38it/s]"
     ]
    },
    {
     "name": "stdout",
     "output_type": "stream",
     "text": [
      "C:\\Users\\User\\Desktop\\DSO\\traffic-prediction\\backend\\assets4_labels\\2708_1414_20240127141528_521025.txt\n",
      "\n",
      "0: 640x640 9 cars, 3 trucks, 1 clock, 42.2ms\n",
      "Speed: 1.7ms preprocess, 42.2ms inference, 2.1ms postprocess per image at shape (1, 3, 640, 640)\n"
     ]
    },
    {
     "name": "stderr",
     "output_type": "stream",
     "text": [
      "Processing results: 100%|██████████| 1/1 [00:00<00:00, 487.09it/s]"
     ]
    },
    {
     "name": "stdout",
     "output_type": "stream",
     "text": [
      "C:\\Users\\User\\Desktop\\DSO\\traffic-prediction\\backend\\assets4_labels\\2708_1419_20240127142014_102525.txt\n",
      "\n"
     ]
    },
    {
     "name": "stderr",
     "output_type": "stream",
     "text": [
      "\n"
     ]
    },
    {
     "name": "stdout",
     "output_type": "stream",
     "text": [
      "0: 640x640 5 cars, 3 trucks, 1 clock, 26.1ms\n",
      "Speed: 2.0ms preprocess, 26.1ms inference, 2.0ms postprocess per image at shape (1, 3, 640, 640)\n"
     ]
    },
    {
     "name": "stderr",
     "output_type": "stream",
     "text": [
      "Processing results: 100%|██████████| 1/1 [00:00<00:00, 565.04it/s]\n",
      "Processing images:  34%|███▎      | 273/810 [00:14<00:29, 18.49it/s]"
     ]
    },
    {
     "name": "stdout",
     "output_type": "stream",
     "text": [
      "C:\\Users\\User\\Desktop\\DSO\\traffic-prediction\\backend\\assets4_labels\\2708_1424_20240127142527_100994.txt\n",
      "\n",
      "0: 640x640 1 person, 6 cars, 1 truck, 1 clock, 25.5ms\n",
      "Speed: 1.5ms preprocess, 25.5ms inference, 1.0ms postprocess per image at shape (1, 3, 640, 640)\n"
     ]
    },
    {
     "name": "stderr",
     "output_type": "stream",
     "text": [
      "Processing results: 100%|██████████| 1/1 [00:00<00:00, 1003.42it/s]"
     ]
    },
    {
     "name": "stdout",
     "output_type": "stream",
     "text": [
      "C:\\Users\\User\\Desktop\\DSO\\traffic-prediction\\backend\\assets4_labels\\2708_1429_20240127143034_574897.txt\n",
      "\n"
     ]
    },
    {
     "name": "stderr",
     "output_type": "stream",
     "text": [
      "\n"
     ]
    },
    {
     "name": "stdout",
     "output_type": "stream",
     "text": [
      "0: 640x640 1 person, 4 cars, 2 trucks, 1 traffic light, 26.2ms\n",
      "Speed: 0.8ms preprocess, 26.2ms inference, 1.0ms postprocess per image at shape (1, 3, 640, 640)\n"
     ]
    },
    {
     "name": "stderr",
     "output_type": "stream",
     "text": [
      "Processing results: 100%|██████████| 1/1 [00:00<00:00, 498.73it/s]"
     ]
    },
    {
     "name": "stdout",
     "output_type": "stream",
     "text": [
      "C:\\Users\\User\\Desktop\\DSO\\traffic-prediction\\backend\\assets4_labels\\2708_1433_20240127143512_102485.txt\n",
      "\n"
     ]
    },
    {
     "name": "stderr",
     "output_type": "stream",
     "text": [
      "\n"
     ]
    },
    {
     "name": "stdout",
     "output_type": "stream",
     "text": [
      "0: 640x640 8 cars, 1 clock, 24.5ms\n",
      "Speed: 1.5ms preprocess, 24.5ms inference, 2.0ms postprocess per image at shape (1, 3, 640, 640)\n"
     ]
    },
    {
     "name": "stderr",
     "output_type": "stream",
     "text": [
      "Processing results: 100%|██████████| 1/1 [00:00<00:00, 332.49it/s]\n",
      "Processing images:  34%|███▍      | 276/810 [00:14<00:28, 19.05it/s]"
     ]
    },
    {
     "name": "stdout",
     "output_type": "stream",
     "text": [
      "C:\\Users\\User\\Desktop\\DSO\\traffic-prediction\\backend\\assets4_labels\\2708_1439_20240127144018_489753.txt\n",
      "\n",
      "0: 640x640 1 person, 6 cars, 1 motorcycle, 1 train, 1 truck, 1 clock, 26.0ms\n",
      "Speed: 1.8ms preprocess, 26.0ms inference, 1.0ms postprocess per image at shape (1, 3, 640, 640)\n"
     ]
    },
    {
     "name": "stderr",
     "output_type": "stream",
     "text": [
      "Processing results: 100%|██████████| 1/1 [00:00<00:00, 250.26it/s]"
     ]
    },
    {
     "name": "stdout",
     "output_type": "stream",
     "text": [
      "C:\\Users\\User\\Desktop\\DSO\\traffic-prediction\\backend\\assets4_labels\\2708_1444_20240127144538_991015.txt\n",
      "\n",
      "0: 640x640 8 cars, 1 clock, 23.7ms\n"
     ]
    },
    {
     "name": "stderr",
     "output_type": "stream",
     "text": [
      "\n"
     ]
    },
    {
     "name": "stdout",
     "output_type": "stream",
     "text": [
      "Speed: 2.0ms preprocess, 23.7ms inference, 2.5ms postprocess per image at shape (1, 3, 640, 640)\n"
     ]
    },
    {
     "name": "stderr",
     "output_type": "stream",
     "text": [
      "Processing results: 100%|██████████| 1/1 [00:00<00:00, 247.80it/s]\n",
      "Processing images:  34%|███▍      | 278/810 [00:15<00:28, 18.99it/s]"
     ]
    },
    {
     "name": "stdout",
     "output_type": "stream",
     "text": [
      "C:\\Users\\User\\Desktop\\DSO\\traffic-prediction\\backend\\assets4_labels\\2708_1449_20240127145014_575157.txt\n",
      "\n",
      "0: 640x640 11 cars, 2 motorcycles, 1 truck, 1 traffic light, 1 clock, 24.8ms\n",
      "Speed: 2.0ms preprocess, 24.8ms inference, 2.0ms postprocess per image at shape (1, 3, 640, 640)\n"
     ]
    },
    {
     "name": "stderr",
     "output_type": "stream",
     "text": [
      "Processing results: 100%|██████████| 1/1 [00:00<00:00, 316.79it/s]"
     ]
    },
    {
     "name": "stdout",
     "output_type": "stream",
     "text": [
      "C:\\Users\\User\\Desktop\\DSO\\traffic-prediction\\backend\\assets4_labels\\3702_1408_20240127141013_519851.txt\n",
      "\n",
      "0: 640x640 4 cars, 2 trucks, 1 traffic light, 25.5ms\n"
     ]
    },
    {
     "name": "stderr",
     "output_type": "stream",
     "text": [
      "\n"
     ]
    },
    {
     "name": "stdout",
     "output_type": "stream",
     "text": [
      "Speed: 2.0ms preprocess, 25.5ms inference, 1.8ms postprocess per image at shape (1, 3, 640, 640)\n"
     ]
    },
    {
     "name": "stderr",
     "output_type": "stream",
     "text": [
      "Processing results: 100%|██████████| 1/1 [00:00<00:00, 658.03it/s]\n",
      "Processing images:  35%|███▍      | 280/810 [00:15<00:27, 19.22it/s]"
     ]
    },
    {
     "name": "stdout",
     "output_type": "stream",
     "text": [
      "C:\\Users\\User\\Desktop\\DSO\\traffic-prediction\\backend\\assets4_labels\\3702_1413_20240127141529_495053.txt\n",
      "\n",
      "0: 640x640 10 cars, 1 bus, 3 trucks, 25.9ms\n",
      "Speed: 2.0ms preprocess, 25.9ms inference, 1.0ms postprocess per image at shape (1, 3, 640, 640)\n"
     ]
    },
    {
     "name": "stderr",
     "output_type": "stream",
     "text": [
      "Processing results: 100%|██████████| 1/1 [00:00<00:00, 498.79it/s]"
     ]
    },
    {
     "name": "stdout",
     "output_type": "stream",
     "text": [
      "C:\\Users\\User\\Desktop\\DSO\\traffic-prediction\\backend\\assets4_labels\\3702_1419_20240127142014_565149.txt\n",
      "\n"
     ]
    },
    {
     "name": "stderr",
     "output_type": "stream",
     "text": [
      "\n"
     ]
    },
    {
     "name": "stdout",
     "output_type": "stream",
     "text": [
      "0: 640x640 6 cars, 1 traffic light, 25.3ms\n",
      "Speed: 2.0ms preprocess, 25.3ms inference, 1.0ms postprocess per image at shape (1, 3, 640, 640)\n"
     ]
    },
    {
     "name": "stderr",
     "output_type": "stream",
     "text": [
      "Processing results: 100%|██████████| 1/1 [00:00<00:00, 580.53it/s]"
     ]
    },
    {
     "name": "stdout",
     "output_type": "stream",
     "text": [
      "C:\\Users\\User\\Desktop\\DSO\\traffic-prediction\\backend\\assets4_labels\\3702_1423_20240127142527_991005.txt\n",
      "\n"
     ]
    },
    {
     "name": "stderr",
     "output_type": "stream",
     "text": [
      "\n"
     ]
    },
    {
     "name": "stdout",
     "output_type": "stream",
     "text": [
      "0: 640x640 4 cars, 3 trucks, 25.5ms\n",
      "Speed: 2.0ms preprocess, 25.5ms inference, 1.0ms postprocess per image at shape (1, 3, 640, 640)\n"
     ]
    },
    {
     "name": "stderr",
     "output_type": "stream",
     "text": [
      "Processing results: 100%|██████████| 1/1 [00:00<00:00, 664.71it/s]\n",
      "Processing images:  35%|███▍      | 283/810 [00:15<00:26, 19.55it/s]"
     ]
    },
    {
     "name": "stdout",
     "output_type": "stream",
     "text": [
      "C:\\Users\\User\\Desktop\\DSO\\traffic-prediction\\backend\\assets4_labels\\3702_1428_20240127143034_485254.txt\n",
      "\n",
      "0: 640x640 1 person, 9 cars, 1 motorcycle, 1 traffic light, 25.9ms\n",
      "Speed: 2.0ms preprocess, 25.9ms inference, 0.9ms postprocess per image at shape (1, 3, 640, 640)\n"
     ]
    },
    {
     "name": "stderr",
     "output_type": "stream",
     "text": [
      "Processing results: 100%|██████████| 1/1 [00:00<00:00, 500.75it/s]"
     ]
    },
    {
     "name": "stdout",
     "output_type": "stream",
     "text": [
      "C:\\Users\\User\\Desktop\\DSO\\traffic-prediction\\backend\\assets4_labels\\3702_1433_20240127143513_100559.txt\n",
      "\n"
     ]
    },
    {
     "name": "stderr",
     "output_type": "stream",
     "text": [
      "\n"
     ]
    },
    {
     "name": "stdout",
     "output_type": "stream",
     "text": [
      "0: 640x640 7 cars, 2 trucks, 1 traffic light, 24.7ms\n",
      "Speed: 2.0ms preprocess, 24.7ms inference, 2.0ms postprocess per image at shape (1, 3, 640, 640)\n"
     ]
    },
    {
     "name": "stderr",
     "output_type": "stream",
     "text": [
      "Processing results: 100%|██████████| 1/1 [00:00<00:00, 500.39it/s]"
     ]
    },
    {
     "name": "stdout",
     "output_type": "stream",
     "text": [
      "C:\\Users\\User\\Desktop\\DSO\\traffic-prediction\\backend\\assets4_labels\\3702_1438_20240127144019_971015.txt\n",
      "\n",
      "0: 640x640 6 cars, 1 truck, 25.8ms\n"
     ]
    },
    {
     "name": "stderr",
     "output_type": "stream",
     "text": [
      "\n"
     ]
    },
    {
     "name": "stdout",
     "output_type": "stream",
     "text": [
      "Speed: 1.0ms preprocess, 25.8ms inference, 1.0ms postprocess per image at shape (1, 3, 640, 640)\n"
     ]
    },
    {
     "name": "stderr",
     "output_type": "stream",
     "text": [
      "Processing results: 100%|██████████| 1/1 [00:00<00:00, 500.16it/s]\n",
      "Processing images:  35%|███▌      | 286/810 [00:15<00:26, 19.88it/s]"
     ]
    },
    {
     "name": "stdout",
     "output_type": "stream",
     "text": [
      "C:\\Users\\User\\Desktop\\DSO\\traffic-prediction\\backend\\assets4_labels\\3702_1444_20240127144539_515198.txt\n",
      "\n",
      "0: 640x640 5 cars, 1 bus, 3 trucks, 1 traffic light, 25.0ms\n",
      "Speed: 2.2ms preprocess, 25.0ms inference, 2.1ms postprocess per image at shape (1, 3, 640, 640)\n"
     ]
    },
    {
     "name": "stderr",
     "output_type": "stream",
     "text": [
      "Processing results: 100%|██████████| 1/1 [00:00<00:00, 500.51it/s]"
     ]
    },
    {
     "name": "stdout",
     "output_type": "stream",
     "text": [
      "C:\\Users\\User\\Desktop\\DSO\\traffic-prediction\\backend\\assets4_labels\\3702_1448_20240127145015_991015.txt\n",
      "\n"
     ]
    },
    {
     "name": "stderr",
     "output_type": "stream",
     "text": [
      "\n"
     ]
    },
    {
     "name": "stdout",
     "output_type": "stream",
     "text": [
      "0: 640x640 3 cars, 2 trucks, 1 traffic light, 27.7ms\n",
      "Speed: 2.0ms preprocess, 27.7ms inference, 2.0ms postprocess per image at shape (1, 3, 640, 640)\n"
     ]
    },
    {
     "name": "stderr",
     "output_type": "stream",
     "text": [
      "Processing results: 100%|██████████| 1/1 [00:00<00:00, 413.60it/s]\n",
      "Processing images:  36%|███▌      | 288/810 [00:15<00:26, 19.64it/s]"
     ]
    },
    {
     "name": "stdout",
     "output_type": "stream",
     "text": [
      "C:\\Users\\User\\Desktop\\DSO\\traffic-prediction\\backend\\assets4_labels\\3704_1409_20240127141015_565255.txt\n",
      "\n",
      "0: 640x640 10 cars, 1 traffic light, 26.6ms\n",
      "Speed: 1.9ms preprocess, 26.6ms inference, 2.5ms postprocess per image at shape (1, 3, 640, 640)\n"
     ]
    },
    {
     "name": "stderr",
     "output_type": "stream",
     "text": [
      "Processing results: 100%|██████████| 1/1 [00:00<00:00, 326.13it/s]"
     ]
    },
    {
     "name": "stdout",
     "output_type": "stream",
     "text": [
      "C:\\Users\\User\\Desktop\\DSO\\traffic-prediction\\backend\\assets4_labels\\3704_1414_20240127141532_485253.txt\n",
      "\n"
     ]
    },
    {
     "name": "stderr",
     "output_type": "stream",
     "text": [
      "\n"
     ]
    },
    {
     "name": "stdout",
     "output_type": "stream",
     "text": [
      "0: 640x640 5 cars, 4 trucks, 1 traffic light, 25.9ms\n",
      "Speed: 3.0ms preprocess, 25.9ms inference, 2.5ms postprocess per image at shape (1, 3, 640, 640)\n"
     ]
    },
    {
     "name": "stderr",
     "output_type": "stream",
     "text": [
      "Processing results: 100%|██████████| 1/1 [00:00<00:00, 398.40it/s]\n",
      "Processing images:  36%|███▌      | 290/810 [00:15<00:27, 18.83it/s]"
     ]
    },
    {
     "name": "stdout",
     "output_type": "stream",
     "text": [
      "C:\\Users\\User\\Desktop\\DSO\\traffic-prediction\\backend\\assets4_labels\\3704_1419_20240127142014_515053.txt\n",
      "\n",
      "0: 640x640 5 cars, 1 bus, 1 truck, 2 traffic lights, 26.9ms\n",
      "Speed: 2.0ms preprocess, 26.9ms inference, 2.0ms postprocess per image at shape (1, 3, 640, 640)\n"
     ]
    },
    {
     "name": "stderr",
     "output_type": "stream",
     "text": [
      "Processing results: 100%|██████████| 1/1 [00:00<00:00, 497.66it/s]"
     ]
    },
    {
     "name": "stdout",
     "output_type": "stream",
     "text": [
      "C:\\Users\\User\\Desktop\\DSO\\traffic-prediction\\backend\\assets4_labels\\3704_1424_20240127142529_971005.txt\n",
      "\n"
     ]
    },
    {
     "name": "stderr",
     "output_type": "stream",
     "text": [
      "\n"
     ]
    },
    {
     "name": "stdout",
     "output_type": "stream",
     "text": [
      "0: 640x640 5 cars, 4 trucks, 26.5ms\n",
      "Speed: 2.5ms preprocess, 26.5ms inference, 1.0ms postprocess per image at shape (1, 3, 640, 640)\n"
     ]
    },
    {
     "name": "stderr",
     "output_type": "stream",
     "text": [
      "Processing results: 100%|██████████| 1/1 [00:00<00:00, 252.09it/s]\n",
      "Processing images:  36%|███▌      | 292/810 [00:15<00:27, 18.84it/s]"
     ]
    },
    {
     "name": "stdout",
     "output_type": "stream",
     "text": [
      "C:\\Users\\User\\Desktop\\DSO\\traffic-prediction\\backend\\assets4_labels\\3704_1429_20240127143034_525154.txt\n",
      "\n",
      "0: 640x640 10 cars, 1 bus, 3 trucks, 28.1ms\n",
      "Speed: 1.0ms preprocess, 28.1ms inference, 1.0ms postprocess per image at shape (1, 3, 640, 640)\n"
     ]
    },
    {
     "name": "stderr",
     "output_type": "stream",
     "text": [
      "Processing results: 100%|██████████| 1/1 [00:00<00:00, 333.38it/s]"
     ]
    },
    {
     "name": "stdout",
     "output_type": "stream",
     "text": [
      "C:\\Users\\User\\Desktop\\DSO\\traffic-prediction\\backend\\assets4_labels\\3704_1433_20240127143513_975453.txt\n",
      "\n"
     ]
    },
    {
     "name": "stderr",
     "output_type": "stream",
     "text": [
      "\n"
     ]
    },
    {
     "name": "stdout",
     "output_type": "stream",
     "text": [
      "0: 640x640 4 cars, 3 trucks, 28.2ms\n",
      "Speed: 1.0ms preprocess, 28.2ms inference, 1.0ms postprocess per image at shape (1, 3, 640, 640)\n"
     ]
    },
    {
     "name": "stderr",
     "output_type": "stream",
     "text": [
      "Processing results: 100%|██████████| 1/1 [00:00<00:00, 494.26it/s]\n",
      "Processing images:  36%|███▋      | 294/810 [00:15<00:27, 18.95it/s]"
     ]
    },
    {
     "name": "stdout",
     "output_type": "stream",
     "text": [
      "C:\\Users\\User\\Desktop\\DSO\\traffic-prediction\\backend\\assets4_labels\\3704_1439_20240127144019_575699.txt\n",
      "\n",
      "0: 640x640 8 cars, 1 truck, 37.7ms\n",
      "Speed: 2.0ms preprocess, 37.7ms inference, 1.0ms postprocess per image at shape (1, 3, 640, 640)\n"
     ]
    },
    {
     "name": "stderr",
     "output_type": "stream",
     "text": [
      "Processing results: 100%|██████████| 1/1 [00:00<00:00, 307.61it/s]"
     ]
    },
    {
     "name": "stdout",
     "output_type": "stream",
     "text": [
      "C:\\Users\\User\\Desktop\\DSO\\traffic-prediction\\backend\\assets4_labels\\3704_1444_20240127144541_574999.txt\n",
      "\n"
     ]
    },
    {
     "name": "stderr",
     "output_type": "stream",
     "text": [
      "\n"
     ]
    },
    {
     "name": "stdout",
     "output_type": "stream",
     "text": [
      "0: 640x640 15 cars, 2 trucks, 39.7ms\n",
      "Speed: 1.6ms preprocess, 39.7ms inference, 1.5ms postprocess per image at shape (1, 3, 640, 640)\n"
     ]
    },
    {
     "name": "stderr",
     "output_type": "stream",
     "text": [
      "Processing results: 100%|██████████| 1/1 [00:00<00:00, 249.97it/s]\n",
      "Processing images:  37%|███▋      | 296/810 [00:15<00:28, 17.82it/s]"
     ]
    },
    {
     "name": "stdout",
     "output_type": "stream",
     "text": [
      "C:\\Users\\User\\Desktop\\DSO\\traffic-prediction\\backend\\assets4_labels\\3704_1449_20240127145015_489856.txt\n",
      "\n",
      "0: 640x640 11 cars, 3 trucks, 31.0ms\n",
      "Speed: 2.0ms preprocess, 31.0ms inference, 2.0ms postprocess per image at shape (1, 3, 640, 640)\n"
     ]
    },
    {
     "name": "stderr",
     "output_type": "stream",
     "text": [
      "Processing results: 100%|██████████| 1/1 [00:00<00:00, 315.69it/s]"
     ]
    },
    {
     "name": "stdout",
     "output_type": "stream",
     "text": [
      "C:\\Users\\User\\Desktop\\DSO\\traffic-prediction\\backend\\assets4_labels\\3705_1408_20240127141012_489852.txt\n",
      "\n",
      "0: 640x640 3 cars, 29.1ms\n",
      "Speed: 1.0ms preprocess, 29.1ms inference, 2.0ms postprocess per image at shape (1, 3, 640, 640)\n"
     ]
    },
    {
     "name": "stderr",
     "output_type": "stream",
     "text": [
      "\n",
      "Processing results: 100%|██████████| 1/1 [00:00<00:00, 485.17it/s]\n",
      "Processing images:  37%|███▋      | 298/810 [00:16<00:28, 17.88it/s]"
     ]
    },
    {
     "name": "stdout",
     "output_type": "stream",
     "text": [
      "C:\\Users\\User\\Desktop\\DSO\\traffic-prediction\\backend\\assets4_labels\\3705_1413_20240127141514_545098.txt\n",
      "\n",
      "0: 640x640 4 cars, 27.5ms\n",
      "Speed: 2.0ms preprocess, 27.5ms inference, 1.0ms postprocess per image at shape (1, 3, 640, 640)\n"
     ]
    },
    {
     "name": "stderr",
     "output_type": "stream",
     "text": [
      "Processing results: 100%|██████████| 1/1 [00:00<00:00, 635.89it/s]"
     ]
    },
    {
     "name": "stdout",
     "output_type": "stream",
     "text": [
      "C:\\Users\\User\\Desktop\\DSO\\traffic-prediction\\backend\\assets4_labels\\3705_1419_20240127142020_505152.txt\n",
      "\n"
     ]
    },
    {
     "name": "stderr",
     "output_type": "stream",
     "text": [
      "\n"
     ]
    },
    {
     "name": "stdout",
     "output_type": "stream",
     "text": [
      "0: 640x640 1 car, 27.1ms\n",
      "Speed: 1.0ms preprocess, 27.1ms inference, 1.0ms postprocess per image at shape (1, 3, 640, 640)\n"
     ]
    },
    {
     "name": "stderr",
     "output_type": "stream",
     "text": [
      "Processing results: 100%|██████████| 1/1 [00:00<00:00, 1001.74it/s]\n",
      "Processing images:  37%|███▋      | 300/810 [00:16<00:27, 18.25it/s]"
     ]
    },
    {
     "name": "stdout",
     "output_type": "stream",
     "text": [
      "C:\\Users\\User\\Desktop\\DSO\\traffic-prediction\\backend\\assets4_labels\\3705_1423_20240127142516_561004.txt\n",
      "\n",
      "0: 640x640 3 cars, 29.1ms\n",
      "Speed: 2.0ms preprocess, 29.1ms inference, 1.0ms postprocess per image at shape (1, 3, 640, 640)\n"
     ]
    },
    {
     "name": "stderr",
     "output_type": "stream",
     "text": [
      "Processing results: 100%|██████████| 1/1 [00:00<00:00, 500.10it/s]"
     ]
    },
    {
     "name": "stdout",
     "output_type": "stream",
     "text": [
      "C:\\Users\\User\\Desktop\\DSO\\traffic-prediction\\backend\\assets4_labels\\3705_1428_20240127143015_525248.txt\n",
      "\n"
     ]
    },
    {
     "name": "stderr",
     "output_type": "stream",
     "text": [
      "\n"
     ]
    },
    {
     "name": "stdout",
     "output_type": "stream",
     "text": [
      "0: 640x640 4 cars, 1 bus, 1 truck, 28.9ms\n",
      "Speed: 1.0ms preprocess, 28.9ms inference, 2.0ms postprocess per image at shape (1, 3, 640, 640)\n"
     ]
    },
    {
     "name": "stderr",
     "output_type": "stream",
     "text": [
      "Processing results: 100%|██████████| 1/1 [00:00<00:00, 436.68it/s]\n",
      "Processing images:  37%|███▋      | 302/810 [00:16<00:27, 18.37it/s]"
     ]
    },
    {
     "name": "stdout",
     "output_type": "stream",
     "text": [
      "C:\\Users\\User\\Desktop\\DSO\\traffic-prediction\\backend\\assets4_labels\\3705_1433_20240127143507_521015.txt\n",
      "\n",
      "0: 640x640 8 cars, 28.3ms\n",
      "Speed: 1.9ms preprocess, 28.3ms inference, 1.0ms postprocess per image at shape (1, 3, 640, 640)\n"
     ]
    },
    {
     "name": "stderr",
     "output_type": "stream",
     "text": [
      "Processing results: 100%|██████████| 1/1 [00:00<00:00, 500.10it/s]"
     ]
    },
    {
     "name": "stdout",
     "output_type": "stream",
     "text": [
      "C:\\Users\\User\\Desktop\\DSO\\traffic-prediction\\backend\\assets4_labels\\3705_1438_20240127144009_555055.txt\n",
      "\n"
     ]
    },
    {
     "name": "stderr",
     "output_type": "stream",
     "text": [
      "\n"
     ]
    },
    {
     "name": "stdout",
     "output_type": "stream",
     "text": [
      "0: 640x640 4 cars, 2 trucks, 29.2ms\n",
      "Speed: 2.1ms preprocess, 29.2ms inference, 2.0ms postprocess per image at shape (1, 3, 640, 640)\n"
     ]
    },
    {
     "name": "stderr",
     "output_type": "stream",
     "text": [
      "Processing results: 100%|██████████| 1/1 [00:00<00:00, 332.72it/s]\n",
      "Processing images:  38%|███▊      | 304/810 [00:16<00:27, 18.17it/s]"
     ]
    },
    {
     "name": "stdout",
     "output_type": "stream",
     "text": [
      "C:\\Users\\User\\Desktop\\DSO\\traffic-prediction\\backend\\assets4_labels\\3705_1444_20240127144531_521015.txt\n",
      "\n",
      "0: 640x640 1 car, 1 truck, 31.6ms\n",
      "Speed: 1.5ms preprocess, 31.6ms inference, 1.0ms postprocess per image at shape (1, 3, 640, 640)\n"
     ]
    },
    {
     "name": "stderr",
     "output_type": "stream",
     "text": [
      "Processing results: 100%|██████████| 1/1 [00:00<00:00, 498.61it/s]"
     ]
    },
    {
     "name": "stdout",
     "output_type": "stream",
     "text": [
      "C:\\Users\\User\\Desktop\\DSO\\traffic-prediction\\backend\\assets4_labels\\3705_1448_20240127145016_100551.txt\n",
      "\n"
     ]
    },
    {
     "name": "stderr",
     "output_type": "stream",
     "text": [
      "\n"
     ]
    },
    {
     "name": "stdout",
     "output_type": "stream",
     "text": [
      "0: 640x640 1 person, 1 car, 1 motorcycle, 28.3ms\n",
      "Speed: 1.0ms preprocess, 28.3ms inference, 1.0ms postprocess per image at shape (1, 3, 640, 640)\n"
     ]
    },
    {
     "name": "stderr",
     "output_type": "stream",
     "text": [
      "Processing results: 100%|██████████| 1/1 [00:00<00:00, 500.33it/s]\n",
      "Processing images:  38%|███▊      | 306/810 [00:16<00:27, 18.12it/s]"
     ]
    },
    {
     "name": "stdout",
     "output_type": "stream",
     "text": [
      "C:\\Users\\User\\Desktop\\DSO\\traffic-prediction\\backend\\assets4_labels\\3793_1408_20240127141013_551011.txt\n",
      "\n",
      "0: 640x640 4 cars, 1 truck, 26.2ms\n",
      "Speed: 2.0ms preprocess, 26.2ms inference, 1.0ms postprocess per image at shape (1, 3, 640, 640)\n"
     ]
    },
    {
     "name": "stderr",
     "output_type": "stream",
     "text": [
      "Processing results: 100%|██████████| 1/1 [00:00<00:00, 1000.79it/s]"
     ]
    },
    {
     "name": "stdout",
     "output_type": "stream",
     "text": [
      "C:\\Users\\User\\Desktop\\DSO\\traffic-prediction\\backend\\assets4_labels\\3793_1414_20240127141519_485250.txt\n",
      "\n"
     ]
    },
    {
     "name": "stderr",
     "output_type": "stream",
     "text": [
      "\n"
     ]
    },
    {
     "name": "stdout",
     "output_type": "stream",
     "text": [
      "0: 640x640 2 trucks, 1 traffic light, 25.7ms\n",
      "Speed: 2.0ms preprocess, 25.7ms inference, 1.1ms postprocess per image at shape (1, 3, 640, 640)\n"
     ]
    },
    {
     "name": "stderr",
     "output_type": "stream",
     "text": [
      "Processing results: 100%|██████████| 1/1 [00:00<00:00, 499.26it/s]"
     ]
    },
    {
     "name": "stdout",
     "output_type": "stream",
     "text": [
      "C:\\Users\\User\\Desktop\\DSO\\traffic-prediction\\backend\\assets4_labels\\3793_1419_20240127142020_101491.txt\n",
      "\n"
     ]
    },
    {
     "name": "stderr",
     "output_type": "stream",
     "text": [
      "\n"
     ]
    },
    {
     "name": "stdout",
     "output_type": "stream",
     "text": [
      "0: 640x640 4 cars, 3 trucks, 1 traffic light, 26.5ms\n",
      "Speed: 1.0ms preprocess, 26.5ms inference, 1.0ms postprocess per image at shape (1, 3, 640, 640)\n"
     ]
    },
    {
     "name": "stderr",
     "output_type": "stream",
     "text": [
      "Processing results: 100%|██████████| 1/1 [00:00<00:00, 425.17it/s]\n",
      "Processing images:  38%|███▊      | 309/810 [00:16<00:26, 18.81it/s]"
     ]
    },
    {
     "name": "stdout",
     "output_type": "stream",
     "text": [
      "C:\\Users\\User\\Desktop\\DSO\\traffic-prediction\\backend\\assets4_labels\\3793_1423_20240127142519_985699.txt\n",
      "\n",
      "0: 640x640 3 cars, 2 trucks, 1 traffic light, 25.9ms\n",
      "Speed: 2.1ms preprocess, 25.9ms inference, 2.2ms postprocess per image at shape (1, 3, 640, 640)\n"
     ]
    },
    {
     "name": "stderr",
     "output_type": "stream",
     "text": [
      "Processing results: 100%|██████████| 1/1 [00:00<00:00, 500.51it/s]"
     ]
    },
    {
     "name": "stdout",
     "output_type": "stream",
     "text": [
      "C:\\Users\\User\\Desktop\\DSO\\traffic-prediction\\backend\\assets4_labels\\3793_1429_20240127143018_100505.txt\n",
      "\n",
      "0: 640x640 3 cars, 1 truck, 1 traffic light, 25.9ms\n"
     ]
    },
    {
     "name": "stderr",
     "output_type": "stream",
     "text": [
      "\n"
     ]
    },
    {
     "name": "stdout",
     "output_type": "stream",
     "text": [
      "Speed: 4.0ms preprocess, 25.9ms inference, 2.0ms postprocess per image at shape (1, 3, 640, 640)\n"
     ]
    },
    {
     "name": "stderr",
     "output_type": "stream",
     "text": [
      "Processing results: 100%|██████████| 1/1 [00:00<00:00, 1001.51it/s]\n",
      "Processing images:  38%|███▊      | 311/810 [00:16<00:26, 18.88it/s]"
     ]
    },
    {
     "name": "stdout",
     "output_type": "stream",
     "text": [
      "C:\\Users\\User\\Desktop\\DSO\\traffic-prediction\\backend\\assets4_labels\\3793_1433_20240127143509_494949.txt\n",
      "\n",
      "0: 640x640 8 cars, 1 truck, 1 traffic light, 25.8ms\n",
      "Speed: 1.0ms preprocess, 25.8ms inference, 1.0ms postprocess per image at shape (1, 3, 640, 640)\n"
     ]
    },
    {
     "name": "stderr",
     "output_type": "stream",
     "text": [
      "Processing results: 100%|██████████| 1/1 [00:00<00:00, 329.66it/s]"
     ]
    },
    {
     "name": "stdout",
     "output_type": "stream",
     "text": [
      "C:\\Users\\User\\Desktop\\DSO\\traffic-prediction\\backend\\assets4_labels\\3793_1439_20240127144010_565310.txt\n",
      "\n",
      "0: 640x640 2 cars, 1 traffic light, 25.8ms\n"
     ]
    },
    {
     "name": "stderr",
     "output_type": "stream",
     "text": [
      "\n"
     ]
    },
    {
     "name": "stdout",
     "output_type": "stream",
     "text": [
      "Speed: 2.0ms preprocess, 25.8ms inference, 1.5ms postprocess per image at shape (1, 3, 640, 640)\n"
     ]
    },
    {
     "name": "stderr",
     "output_type": "stream",
     "text": [
      "Processing results: 100%|██████████| 1/1 [00:00<00:00, 397.90it/s]"
     ]
    },
    {
     "name": "stdout",
     "output_type": "stream",
     "text": [
      "C:\\Users\\User\\Desktop\\DSO\\traffic-prediction\\backend\\assets4_labels\\3793_1444_20240127144535_100555.txt\n",
      "\n"
     ]
    },
    {
     "name": "stderr",
     "output_type": "stream",
     "text": [
      "\n"
     ]
    },
    {
     "name": "stdout",
     "output_type": "stream",
     "text": [
      "0: 640x640 1 person, 5 cars, 1 motorcycle, 3 traffic lights, 27.0ms\n",
      "Speed: 1.0ms preprocess, 27.0ms inference, 1.0ms postprocess per image at shape (1, 3, 640, 640)\n"
     ]
    },
    {
     "name": "stderr",
     "output_type": "stream",
     "text": [
      "Processing results: 100%|██████████| 1/1 [00:00<00:00, 498.55it/s]\n",
      "Processing images:  39%|███▉      | 314/810 [00:16<00:25, 19.18it/s]"
     ]
    },
    {
     "name": "stdout",
     "output_type": "stream",
     "text": [
      "C:\\Users\\User\\Desktop\\DSO\\traffic-prediction\\backend\\assets4_labels\\3793_1448_20240127145018_531024.txt\n",
      "\n",
      "0: 640x640 3 cars, 1 truck, 2 traffic lights, 27.2ms\n",
      "Speed: 1.2ms preprocess, 27.2ms inference, 1.0ms postprocess per image at shape (1, 3, 640, 640)\n"
     ]
    },
    {
     "name": "stderr",
     "output_type": "stream",
     "text": [
      "Processing results: 100%|██████████| 1/1 [00:00<00:00, 508.59it/s]"
     ]
    },
    {
     "name": "stdout",
     "output_type": "stream",
     "text": [
      "C:\\Users\\User\\Desktop\\DSO\\traffic-prediction\\backend\\assets4_labels\\3795_1409_20240127141015_574810.txt\n",
      "\n",
      "0: 640x640 (no detections), 27.3ms\n"
     ]
    },
    {
     "name": "stderr",
     "output_type": "stream",
     "text": [
      "\n"
     ]
    },
    {
     "name": "stdout",
     "output_type": "stream",
     "text": [
      "Speed: 1.0ms preprocess, 27.3ms inference, 0.0ms postprocess per image at shape (1, 3, 640, 640)\n"
     ]
    },
    {
     "name": "stderr",
     "output_type": "stream",
     "text": [
      "Processing results: 100%|██████████| 1/1 [00:00<00:00, 999.83it/s]\n",
      "Processing images:  39%|███▉      | 316/810 [00:17<00:25, 19.35it/s]"
     ]
    },
    {
     "name": "stdout",
     "output_type": "stream",
     "text": [
      "C:\\Users\\User\\Desktop\\DSO\\traffic-prediction\\backend\\assets4_labels\\3795_1414_20240127141519_565456.txt\n",
      "\n",
      "0: 640x640 1 person, 2 cars, 1 bus, 1 truck, 26.0ms\n",
      "Speed: 1.5ms preprocess, 26.0ms inference, 1.5ms postprocess per image at shape (1, 3, 640, 640)\n"
     ]
    },
    {
     "name": "stderr",
     "output_type": "stream",
     "text": [
      "Processing results: 100%|██████████| 1/1 [00:00<00:00, 452.07it/s]"
     ]
    },
    {
     "name": "stdout",
     "output_type": "stream",
     "text": [
      "C:\\Users\\User\\Desktop\\DSO\\traffic-prediction\\backend\\assets4_labels\\3795_1419_20240127142020_989910.txt\n",
      "\n",
      "0: 640x640 1 car, 3 trucks, 25.5ms\n"
     ]
    },
    {
     "name": "stderr",
     "output_type": "stream",
     "text": [
      "\n"
     ]
    },
    {
     "name": "stdout",
     "output_type": "stream",
     "text": [
      "Speed: 2.2ms preprocess, 25.5ms inference, 1.0ms postprocess per image at shape (1, 3, 640, 640)\n"
     ]
    },
    {
     "name": "stderr",
     "output_type": "stream",
     "text": [
      "Processing results: 100%|██████████| 1/1 [00:00<00:00, 664.71it/s]\n",
      "Processing images:  39%|███▉      | 318/810 [00:17<00:25, 19.44it/s]"
     ]
    },
    {
     "name": "stdout",
     "output_type": "stream",
     "text": [
      "C:\\Users\\User\\Desktop\\DSO\\traffic-prediction\\backend\\assets4_labels\\3795_1424_20240127142520_545457.txt\n",
      "\n",
      "0: 640x640 4 cars, 1 truck, 28.4ms\n",
      "Speed: 1.0ms preprocess, 28.4ms inference, 2.0ms postprocess per image at shape (1, 3, 640, 640)\n"
     ]
    },
    {
     "name": "stderr",
     "output_type": "stream",
     "text": [
      "Processing results: 100%|██████████| 1/1 [00:00<00:00, 499.86it/s]"
     ]
    },
    {
     "name": "stdout",
     "output_type": "stream",
     "text": [
      "C:\\Users\\User\\Desktop\\DSO\\traffic-prediction\\backend\\assets4_labels\\3795_1429_20240127143022_100515.txt\n",
      "\n"
     ]
    },
    {
     "name": "stderr",
     "output_type": "stream",
     "text": [
      "\n"
     ]
    },
    {
     "name": "stdout",
     "output_type": "stream",
     "text": [
      "0: 640x640 1 person, 6 cars, 1 motorcycle, 1 truck, 30.9ms\n",
      "Speed: 1.6ms preprocess, 30.9ms inference, 13.6ms postprocess per image at shape (1, 3, 640, 640)\n"
     ]
    },
    {
     "name": "stderr",
     "output_type": "stream",
     "text": [
      "Processing results: 100%|██████████| 1/1 [00:00<00:00, 196.46it/s]\n",
      "Processing images:  40%|███▉      | 320/810 [00:17<00:26, 18.27it/s]"
     ]
    },
    {
     "name": "stdout",
     "output_type": "stream",
     "text": [
      "C:\\Users\\User\\Desktop\\DSO\\traffic-prediction\\backend\\assets4_labels\\3795_1433_20240127143510_525357.txt\n",
      "\n",
      "0: 640x640 3 cars, 1 truck, 35.7ms\n",
      "Speed: 5.0ms preprocess, 35.7ms inference, 2.0ms postprocess per image at shape (1, 3, 640, 640)\n"
     ]
    },
    {
     "name": "stderr",
     "output_type": "stream",
     "text": [
      "Processing results: 100%|██████████| 1/1 [00:00<00:00, 499.62it/s]"
     ]
    },
    {
     "name": "stdout",
     "output_type": "stream",
     "text": [
      "C:\\Users\\User\\Desktop\\DSO\\traffic-prediction\\backend\\assets4_labels\\3795_1439_20240127144010_100481.txt\n",
      "\n"
     ]
    },
    {
     "name": "stderr",
     "output_type": "stream",
     "text": [
      "\n"
     ]
    },
    {
     "name": "stdout",
     "output_type": "stream",
     "text": [
      "0: 640x640 5 cars, 2 trucks, 31.1ms\n",
      "Speed: 2.0ms preprocess, 31.1ms inference, 2.0ms postprocess per image at shape (1, 3, 640, 640)\n"
     ]
    },
    {
     "name": "stderr",
     "output_type": "stream",
     "text": [
      "Processing results: 100%|██████████| 1/1 [00:00<00:00, 511.31it/s]\n",
      "Processing images:  40%|███▉      | 322/810 [00:17<00:28, 17.30it/s]"
     ]
    },
    {
     "name": "stdout",
     "output_type": "stream",
     "text": [
      "C:\\Users\\User\\Desktop\\DSO\\traffic-prediction\\backend\\assets4_labels\\3795_1444_20240127144536_491024.txt\n",
      "\n",
      "0: 640x640 5 cars, 1 bus, 2 trucks, 27.0ms\n",
      "Speed: 1.5ms preprocess, 27.0ms inference, 2.5ms postprocess per image at shape (1, 3, 640, 640)\n"
     ]
    },
    {
     "name": "stderr",
     "output_type": "stream",
     "text": [
      "Processing results: 100%|██████████| 1/1 [00:00<00:00, 500.10it/s]"
     ]
    },
    {
     "name": "stdout",
     "output_type": "stream",
     "text": [
      "C:\\Users\\User\\Desktop\\DSO\\traffic-prediction\\backend\\assets4_labels\\3795_1449_20240127145019_102994.txt\n",
      "\n"
     ]
    },
    {
     "name": "stderr",
     "output_type": "stream",
     "text": [
      "\n"
     ]
    },
    {
     "name": "stdout",
     "output_type": "stream",
     "text": [
      "0: 640x640 4 cars, 27.7ms\n",
      "Speed: 2.5ms preprocess, 27.7ms inference, 1.0ms postprocess per image at shape (1, 3, 640, 640)\n"
     ]
    },
    {
     "name": "stderr",
     "output_type": "stream",
     "text": [
      "Processing results: 100%|██████████| 1/1 [00:00<00:00, 1004.38it/s]\n",
      "Processing images:  40%|████      | 324/810 [00:17<00:27, 17.72it/s]"
     ]
    },
    {
     "name": "stdout",
     "output_type": "stream",
     "text": [
      "C:\\Users\\User\\Desktop\\DSO\\traffic-prediction\\backend\\assets4_labels\\3796_1408_20240127141018_994948.txt\n",
      "\n",
      "0: 640x640 2 cars, 2 trucks, 33.9ms\n",
      "Speed: 3.0ms preprocess, 33.9ms inference, 2.0ms postprocess per image at shape (1, 3, 640, 640)\n"
     ]
    },
    {
     "name": "stderr",
     "output_type": "stream",
     "text": [
      "Processing results: 100%|██████████| 1/1 [00:00<00:00, 500.57it/s]"
     ]
    },
    {
     "name": "stdout",
     "output_type": "stream",
     "text": [
      "C:\\Users\\User\\Desktop\\DSO\\traffic-prediction\\backend\\assets4_labels\\3796_1413_20240127141520_100511.txt\n",
      "\n"
     ]
    },
    {
     "name": "stderr",
     "output_type": "stream",
     "text": [
      "\n"
     ]
    },
    {
     "name": "stdout",
     "output_type": "stream",
     "text": [
      "0: 640x640 1 car, 32.6ms\n",
      "Speed: 2.3ms preprocess, 32.6ms inference, 1.5ms postprocess per image at shape (1, 3, 640, 640)\n"
     ]
    },
    {
     "name": "stderr",
     "output_type": "stream",
     "text": [
      "Processing results: 100%|██████████| 1/1 [00:00<00:00, 1891.88it/s]\n",
      "Processing images:  40%|████      | 326/810 [00:17<00:27, 17.57it/s]"
     ]
    },
    {
     "name": "stdout",
     "output_type": "stream",
     "text": [
      "C:\\Users\\User\\Desktop\\DSO\\traffic-prediction\\backend\\assets4_labels\\3796_1418_20240127142022_565298.txt\n",
      "\n",
      "0: 640x640 1 person, 10 cars, 1 truck, 32.5ms\n",
      "Speed: 1.0ms preprocess, 32.5ms inference, 1.0ms postprocess per image at shape (1, 3, 640, 640)\n"
     ]
    },
    {
     "name": "stderr",
     "output_type": "stream",
     "text": [
      "Processing results: 100%|██████████| 1/1 [00:00<00:00, 329.25it/s]"
     ]
    },
    {
     "name": "stdout",
     "output_type": "stream",
     "text": [
      "C:\\Users\\User\\Desktop\\DSO\\traffic-prediction\\backend\\assets4_labels\\3796_1423_20240127142520_102555.txt\n",
      "\n"
     ]
    },
    {
     "name": "stderr",
     "output_type": "stream",
     "text": [
      "\n"
     ]
    },
    {
     "name": "stdout",
     "output_type": "stream",
     "text": [
      "0: 640x640 9 cars, 1 truck, 29.1ms\n",
      "Speed: 2.0ms preprocess, 29.1ms inference, 2.0ms postprocess per image at shape (1, 3, 640, 640)\n"
     ]
    },
    {
     "name": "stderr",
     "output_type": "stream",
     "text": [
      "Processing results: 100%|██████████| 1/1 [00:00<00:00, 333.38it/s]\n",
      "Processing images:  40%|████      | 328/810 [00:17<00:27, 17.57it/s]"
     ]
    },
    {
     "name": "stdout",
     "output_type": "stream",
     "text": [
      "C:\\Users\\User\\Desktop\\DSO\\traffic-prediction\\backend\\assets4_labels\\3796_1428_20240127143024_494948.txt\n",
      "\n",
      "0: 640x640 1 person, 9 cars, 1 bus, 3 trucks, 26.3ms\n",
      "Speed: 2.0ms preprocess, 26.3ms inference, 1.7ms postprocess per image at shape (1, 3, 640, 640)\n"
     ]
    },
    {
     "name": "stderr",
     "output_type": "stream",
     "text": [
      "Processing results: 100%|██████████| 1/1 [00:00<00:00, 333.52it/s]"
     ]
    },
    {
     "name": "stdout",
     "output_type": "stream",
     "text": [
      "C:\\Users\\User\\Desktop\\DSO\\traffic-prediction\\backend\\assets4_labels\\3796_1433_20240127143510_509752.txt\n",
      "\n"
     ]
    },
    {
     "name": "stderr",
     "output_type": "stream",
     "text": [
      "\n"
     ]
    },
    {
     "name": "stdout",
     "output_type": "stream",
     "text": [
      "0: 640x640 9 cars, 2 trucks, 25.8ms\n",
      "Speed: 2.4ms preprocess, 25.8ms inference, 2.0ms postprocess per image at shape (1, 3, 640, 640)\n"
     ]
    },
    {
     "name": "stderr",
     "output_type": "stream",
     "text": [
      "Processing results: 100%|██████████| 1/1 [00:00<00:00, 500.63it/s]"
     ]
    },
    {
     "name": "stdout",
     "output_type": "stream",
     "text": [
      "C:\\Users\\User\\Desktop\\DSO\\traffic-prediction\\backend\\assets4_labels\\3796_1438_20240127144012_100975.txt\n",
      "\n"
     ]
    },
    {
     "name": "stderr",
     "output_type": "stream",
     "text": [
      "\n"
     ]
    },
    {
     "name": "stdout",
     "output_type": "stream",
     "text": [
      "0: 640x640 5 cars, 3 trucks, 24.8ms\n",
      "Speed: 2.0ms preprocess, 24.8ms inference, 2.0ms postprocess per image at shape (1, 3, 640, 640)\n"
     ]
    },
    {
     "name": "stderr",
     "output_type": "stream",
     "text": [
      "Processing results: 100%|██████████| 1/1 [00:00<00:00, 498.55it/s]\n",
      "Processing images:  41%|████      | 331/810 [00:17<00:25, 18.52it/s]"
     ]
    },
    {
     "name": "stdout",
     "output_type": "stream",
     "text": [
      "C:\\Users\\User\\Desktop\\DSO\\traffic-prediction\\backend\\assets4_labels\\3796_1443_20240127144539_561001.txt\n",
      "\n",
      "0: 640x640 8 cars, 1 truck, 27.1ms\n",
      "Speed: 1.0ms preprocess, 27.1ms inference, 1.0ms postprocess per image at shape (1, 3, 640, 640)\n"
     ]
    },
    {
     "name": "stderr",
     "output_type": "stream",
     "text": [
      "Processing results: 100%|██████████| 1/1 [00:00<00:00, 499.32it/s]"
     ]
    },
    {
     "name": "stdout",
     "output_type": "stream",
     "text": [
      "C:\\Users\\User\\Desktop\\DSO\\traffic-prediction\\backend\\assets4_labels\\3796_1448_20240127145024_545255.txt\n",
      "\n",
      "0: 640x640 7 cars, 1 truck, 28.0ms\n"
     ]
    },
    {
     "name": "stderr",
     "output_type": "stream",
     "text": [
      "\n"
     ]
    },
    {
     "name": "stdout",
     "output_type": "stream",
     "text": [
      "Speed: 2.0ms preprocess, 28.0ms inference, 2.0ms postprocess per image at shape (1, 3, 640, 640)\n"
     ]
    },
    {
     "name": "stderr",
     "output_type": "stream",
     "text": [
      "Processing results: 100%|██████████| 1/1 [00:00<00:00, 499.56it/s]\n",
      "Processing images:  41%|████      | 333/810 [00:17<00:25, 18.82it/s]"
     ]
    },
    {
     "name": "stdout",
     "output_type": "stream",
     "text": [
      "C:\\Users\\User\\Desktop\\DSO\\traffic-prediction\\backend\\assets4_labels\\3797_1409_20240127141018_514853.txt\n",
      "\n",
      "0: 640x640 11 cars, 4 trucks, 1 clock, 26.7ms\n",
      "Speed: 1.0ms preprocess, 26.7ms inference, 1.0ms postprocess per image at shape (1, 3, 640, 640)\n"
     ]
    },
    {
     "name": "stderr",
     "output_type": "stream",
     "text": [
      "Processing results: 100%|██████████| 1/1 [00:00<00:00, 500.45it/s]"
     ]
    },
    {
     "name": "stdout",
     "output_type": "stream",
     "text": [
      "C:\\Users\\User\\Desktop\\DSO\\traffic-prediction\\backend\\assets4_labels\\3797_1414_20240127141522_525549.txt\n",
      "\n",
      "0: 640x640 9 cars, 7 trucks, 1 clock, 26.1ms\n"
     ]
    },
    {
     "name": "stderr",
     "output_type": "stream",
     "text": [
      "\n"
     ]
    },
    {
     "name": "stdout",
     "output_type": "stream",
     "text": [
      "Speed: 2.0ms preprocess, 26.1ms inference, 0.9ms postprocess per image at shape (1, 3, 640, 640)\n"
     ]
    },
    {
     "name": "stderr",
     "output_type": "stream",
     "text": [
      "Processing results: 100%|██████████| 1/1 [00:00<00:00, 235.74it/s]\n",
      "Processing images:  41%|████▏     | 335/810 [00:18<00:25, 18.97it/s]"
     ]
    },
    {
     "name": "stdout",
     "output_type": "stream",
     "text": [
      "C:\\Users\\User\\Desktop\\DSO\\traffic-prediction\\backend\\assets4_labels\\3797_1419_20240127142022_101519.txt\n",
      "\n",
      "0: 640x640 9 cars, 1 motorcycle, 1 truck, 1 traffic light, 28.1ms\n",
      "Speed: 2.0ms preprocess, 28.1ms inference, 2.0ms postprocess per image at shape (1, 3, 640, 640)\n"
     ]
    },
    {
     "name": "stderr",
     "output_type": "stream",
     "text": [
      "Processing results: 100%|██████████| 1/1 [00:00<00:00, 393.39it/s]"
     ]
    },
    {
     "name": "stdout",
     "output_type": "stream",
     "text": [
      "C:\\Users\\User\\Desktop\\DSO\\traffic-prediction\\backend\\assets4_labels\\3797_1424_20240127142520_505050.txt\n",
      "\n"
     ]
    },
    {
     "name": "stderr",
     "output_type": "stream",
     "text": [
      "\n"
     ]
    },
    {
     "name": "stdout",
     "output_type": "stream",
     "text": [
      "0: 640x640 8 cars, 1 bus, 4 trucks, 1 clock, 26.6ms\n",
      "Speed: 1.5ms preprocess, 26.6ms inference, 3.0ms postprocess per image at shape (1, 3, 640, 640)\n"
     ]
    },
    {
     "name": "stderr",
     "output_type": "stream",
     "text": [
      "Processing results: 100%|██████████| 1/1 [00:00<00:00, 333.36it/s]\n",
      "Processing images:  42%|████▏     | 337/810 [00:18<00:25, 18.91it/s]"
     ]
    },
    {
     "name": "stdout",
     "output_type": "stream",
     "text": [
      "C:\\Users\\User\\Desktop\\DSO\\traffic-prediction\\backend\\assets4_labels\\3797_1429_20240127143024_485051.txt\n",
      "\n",
      "0: 640x640 13 cars, 2 trucks, 27.0ms\n",
      "Speed: 2.0ms preprocess, 27.0ms inference, 1.0ms postprocess per image at shape (1, 3, 640, 640)\n"
     ]
    },
    {
     "name": "stderr",
     "output_type": "stream",
     "text": [
      "Processing results: 100%|██████████| 1/1 [00:00<00:00, 498.49it/s]"
     ]
    },
    {
     "name": "stdout",
     "output_type": "stream",
     "text": [
      "C:\\Users\\User\\Desktop\\DSO\\traffic-prediction\\backend\\assets4_labels\\3797_1433_20240127143512_100101.txt\n",
      "\n"
     ]
    },
    {
     "name": "stderr",
     "output_type": "stream",
     "text": [
      "\n"
     ]
    },
    {
     "name": "stdout",
     "output_type": "stream",
     "text": [
      "0: 640x640 10 cars, 2 trucks, 25.1ms\n",
      "Speed: 2.0ms preprocess, 25.1ms inference, 1.3ms postprocess per image at shape (1, 3, 640, 640)\n"
     ]
    },
    {
     "name": "stderr",
     "output_type": "stream",
     "text": [
      "Processing results: 100%|██████████| 1/1 [00:00<00:00, 498.49it/s]"
     ]
    },
    {
     "name": "stdout",
     "output_type": "stream",
     "text": [
      "C:\\Users\\User\\Desktop\\DSO\\traffic-prediction\\backend\\assets4_labels\\3797_1439_20240127144012_511021.txt\n",
      "\n",
      "0: 640x640 10 cars, 3 trucks, 1 clock, 27.1ms\n"
     ]
    },
    {
     "name": "stderr",
     "output_type": "stream",
     "text": [
      "\n"
     ]
    },
    {
     "name": "stdout",
     "output_type": "stream",
     "text": [
      "Speed: 2.0ms preprocess, 27.1ms inference, 2.2ms postprocess per image at shape (1, 3, 640, 640)\n"
     ]
    },
    {
     "name": "stderr",
     "output_type": "stream",
     "text": [
      "Processing results: 100%|██████████| 1/1 [00:00<00:00, 399.04it/s]\n",
      "Processing images:  42%|████▏     | 340/810 [00:18<00:24, 19.20it/s]"
     ]
    },
    {
     "name": "stdout",
     "output_type": "stream",
     "text": [
      "C:\\Users\\User\\Desktop\\DSO\\traffic-prediction\\backend\\assets4_labels\\3797_1444_20240127144541_551005.txt\n",
      "\n",
      "0: 640x640 15 cars, 4 trucks, 27.0ms\n",
      "Speed: 1.0ms preprocess, 27.0ms inference, 1.0ms postprocess per image at shape (1, 3, 640, 640)\n"
     ]
    },
    {
     "name": "stderr",
     "output_type": "stream",
     "text": [
      "Processing results: 100%|██████████| 1/1 [00:00<00:00, 500.45it/s]"
     ]
    },
    {
     "name": "stdout",
     "output_type": "stream",
     "text": [
      "C:\\Users\\User\\Desktop\\DSO\\traffic-prediction\\backend\\assets4_labels\\3797_1449_20240127145030_499899.txt\n",
      "\n",
      "0: 640x640 12 cars, 2 trucks, 1 clock, 26.2ms\n"
     ]
    },
    {
     "name": "stderr",
     "output_type": "stream",
     "text": [
      "\n"
     ]
    },
    {
     "name": "stdout",
     "output_type": "stream",
     "text": [
      "Speed: 1.5ms preprocess, 26.2ms inference, 1.0ms postprocess per image at shape (1, 3, 640, 640)\n"
     ]
    },
    {
     "name": "stderr",
     "output_type": "stream",
     "text": [
      "Processing results: 100%|██████████| 1/1 [00:00<00:00, 333.36it/s]\n",
      "Processing images:  42%|████▏     | 342/810 [00:18<00:24, 19.21it/s]"
     ]
    },
    {
     "name": "stdout",
     "output_type": "stream",
     "text": [
      "C:\\Users\\User\\Desktop\\DSO\\traffic-prediction\\backend\\assets4_labels\\3798_1408_20240127141000_974855.txt\n",
      "\n",
      "0: 640x640 9 cars, 1 truck, 27.0ms\n",
      "Speed: 1.8ms preprocess, 27.0ms inference, 1.5ms postprocess per image at shape (1, 3, 640, 640)\n"
     ]
    },
    {
     "name": "stderr",
     "output_type": "stream",
     "text": [
      "Processing results: 100%|██████████| 1/1 [00:00<00:00, 333.23it/s]"
     ]
    },
    {
     "name": "stdout",
     "output_type": "stream",
     "text": [
      "C:\\Users\\User\\Desktop\\DSO\\traffic-prediction\\backend\\assets4_labels\\3798_1414_20240127141502_515097.txt\n",
      "\n"
     ]
    },
    {
     "name": "stderr",
     "output_type": "stream",
     "text": [
      "\n"
     ]
    },
    {
     "name": "stdout",
     "output_type": "stream",
     "text": [
      "0: 640x640 5 cars, 25.5ms\n",
      "Speed: 2.0ms preprocess, 25.5ms inference, 1.5ms postprocess per image at shape (1, 3, 640, 640)\n"
     ]
    },
    {
     "name": "stderr",
     "output_type": "stream",
     "text": [
      "Processing results: 100%|██████████| 1/1 [00:00<00:00, 611.24it/s]"
     ]
    },
    {
     "name": "stdout",
     "output_type": "stream",
     "text": [
      "C:\\Users\\User\\Desktop\\DSO\\traffic-prediction\\backend\\assets4_labels\\3798_1419_20240127142000_101100.txt\n",
      "\n"
     ]
    },
    {
     "name": "stderr",
     "output_type": "stream",
     "text": [
      "\n"
     ]
    },
    {
     "name": "stdout",
     "output_type": "stream",
     "text": [
      "0: 640x640 2 cars, 1 truck, 1 stop sign, 25.9ms\n",
      "Speed: 2.0ms preprocess, 25.9ms inference, 2.0ms postprocess per image at shape (1, 3, 640, 640)\n"
     ]
    },
    {
     "name": "stderr",
     "output_type": "stream",
     "text": [
      "Processing results: 100%|██████████| 1/1 [00:00<00:00, 499.74it/s]\n",
      "Processing images:  43%|████▎     | 345/810 [00:18<00:23, 19.55it/s]"
     ]
    },
    {
     "name": "stdout",
     "output_type": "stream",
     "text": [
      "C:\\Users\\User\\Desktop\\DSO\\traffic-prediction\\backend\\assets4_labels\\3798_1423_20240127142500_505398.txt\n",
      "\n",
      "0: 640x640 5 cars, 1 bus, 1 truck, 25.1ms\n",
      "Speed: 1.5ms preprocess, 25.1ms inference, 1.0ms postprocess per image at shape (1, 3, 640, 640)\n"
     ]
    },
    {
     "name": "stderr",
     "output_type": "stream",
     "text": [
      "Processing results: 100%|██████████| 1/1 [00:00<00:00, 498.85it/s]"
     ]
    },
    {
     "name": "stdout",
     "output_type": "stream",
     "text": [
      "C:\\Users\\User\\Desktop\\DSO\\traffic-prediction\\backend\\assets4_labels\\3798_1429_20240127143000_541025.txt\n",
      "\n"
     ]
    },
    {
     "name": "stderr",
     "output_type": "stream",
     "text": [
      "\n"
     ]
    },
    {
     "name": "stdout",
     "output_type": "stream",
     "text": [
      "0: 640x640 6 cars, 26.9ms\n",
      "Speed: 1.0ms preprocess, 26.9ms inference, 1.0ms postprocess per image at shape (1, 3, 640, 640)\n"
     ]
    },
    {
     "name": "stderr",
     "output_type": "stream",
     "text": [
      "Processing results: 100%|██████████| 1/1 [00:00<00:00, 371.67it/s]"
     ]
    },
    {
     "name": "stdout",
     "output_type": "stream",
     "text": [
      "C:\\Users\\User\\Desktop\\DSO\\traffic-prediction\\backend\\assets4_labels\\3798_1433_20240127143500_519910.txt\n",
      "\n",
      "0: 640x640 3 cars, 1 truck, 25.1ms\n"
     ]
    },
    {
     "name": "stderr",
     "output_type": "stream",
     "text": [
      "\n"
     ]
    },
    {
     "name": "stdout",
     "output_type": "stream",
     "text": [
      "Speed: 2.0ms preprocess, 25.1ms inference, 2.0ms postprocess per image at shape (1, 3, 640, 640)\n"
     ]
    },
    {
     "name": "stderr",
     "output_type": "stream",
     "text": [
      "Processing results: 100%|██████████| 1/1 [00:00<00:00, 1000.55it/s]\n",
      "Processing images:  43%|████▎     | 348/810 [00:18<00:23, 19.91it/s]"
     ]
    },
    {
     "name": "stdout",
     "output_type": "stream",
     "text": [
      "C:\\Users\\User\\Desktop\\DSO\\traffic-prediction\\backend\\assets4_labels\\3798_1439_20240127144000_545210.txt\n",
      "\n",
      "0: 640x640 6 cars, 1 truck, 1 clock, 25.8ms\n",
      "Speed: 2.0ms preprocess, 25.8ms inference, 1.0ms postprocess per image at shape (1, 3, 640, 640)\n"
     ]
    },
    {
     "name": "stderr",
     "output_type": "stream",
     "text": [
      "Processing results: 100%|██████████| 1/1 [00:00<00:00, 500.51it/s]"
     ]
    },
    {
     "name": "stdout",
     "output_type": "stream",
     "text": [
      "C:\\Users\\User\\Desktop\\DSO\\traffic-prediction\\backend\\assets4_labels\\3798_1444_20240127144500_489756.txt\n",
      "\n",
      "0: 640x640 6 cars, 2 trucks, 36.0ms\n"
     ]
    },
    {
     "name": "stderr",
     "output_type": "stream",
     "text": [
      "\n"
     ]
    },
    {
     "name": "stdout",
     "output_type": "stream",
     "text": [
      "Speed: 2.0ms preprocess, 36.0ms inference, 2.0ms postprocess per image at shape (1, 3, 640, 640)\n"
     ]
    },
    {
     "name": "stderr",
     "output_type": "stream",
     "text": [
      "Processing results: 100%|██████████| 1/1 [00:00<00:00, 499.86it/s]\n",
      "Processing images:  43%|████▎     | 350/810 [00:18<00:23, 19.47it/s]"
     ]
    },
    {
     "name": "stdout",
     "output_type": "stream",
     "text": [
      "C:\\Users\\User\\Desktop\\DSO\\traffic-prediction\\backend\\assets4_labels\\3798_1448_20240127145000_975097.txt\n",
      "\n",
      "0: 640x640 1 car, 33.7ms\n",
      "Speed: 2.0ms preprocess, 33.7ms inference, 1.0ms postprocess per image at shape (1, 3, 640, 640)\n"
     ]
    },
    {
     "name": "stderr",
     "output_type": "stream",
     "text": [
      "Processing results: 100%|██████████| 1/1 [00:00<00:00, 1001.03it/s]"
     ]
    },
    {
     "name": "stdout",
     "output_type": "stream",
     "text": [
      "C:\\Users\\User\\Desktop\\DSO\\traffic-prediction\\backend\\assets4_labels\\4701_1409_20240127141000_981015.txt\n",
      "\n"
     ]
    },
    {
     "name": "stderr",
     "output_type": "stream",
     "text": [
      "\n"
     ]
    },
    {
     "name": "stdout",
     "output_type": "stream",
     "text": [
      "0: 640x640 15 cars, 5 trucks, 1 traffic light, 26.0ms\n",
      "Speed: 1.0ms preprocess, 26.0ms inference, 1.0ms postprocess per image at shape (1, 3, 640, 640)\n"
     ]
    },
    {
     "name": "stderr",
     "output_type": "stream",
     "text": [
      "Processing results: 100%|██████████| 1/1 [00:00<00:00, 299.53it/s]\n",
      "Processing images:  43%|████▎     | 352/810 [00:18<00:23, 19.20it/s]"
     ]
    },
    {
     "name": "stdout",
     "output_type": "stream",
     "text": [
      "C:\\Users\\User\\Desktop\\DSO\\traffic-prediction\\backend\\assets4_labels\\4701_1414_20240127141502_102555.txt\n",
      "\n",
      "0: 640x640 17 cars, 3 trucks, 1 traffic light, 25.7ms\n",
      "Speed: 2.1ms preprocess, 25.7ms inference, 1.0ms postprocess per image at shape (1, 3, 640, 640)\n"
     ]
    },
    {
     "name": "stderr",
     "output_type": "stream",
     "text": [
      "Processing results: 100%|██████████| 1/1 [00:00<00:00, 333.20it/s]"
     ]
    },
    {
     "name": "stdout",
     "output_type": "stream",
     "text": [
      "C:\\Users\\User\\Desktop\\DSO\\traffic-prediction\\backend\\assets4_labels\\4701_1419_20240127142001_555557.txt\n",
      "\n"
     ]
    },
    {
     "name": "stderr",
     "output_type": "stream",
     "text": [
      "\n"
     ]
    },
    {
     "name": "stdout",
     "output_type": "stream",
     "text": [
      "0: 640x640 9 cars, 2 trucks, 1 traffic light, 29.3ms\n",
      "Speed: 2.0ms preprocess, 29.3ms inference, 2.0ms postprocess per image at shape (1, 3, 640, 640)\n"
     ]
    },
    {
     "name": "stderr",
     "output_type": "stream",
     "text": [
      "Processing results: 100%|██████████| 1/1 [00:00<00:00, 500.27it/s]\n",
      "Processing images:  44%|████▎     | 354/810 [00:19<00:23, 19.06it/s]"
     ]
    },
    {
     "name": "stdout",
     "output_type": "stream",
     "text": [
      "C:\\Users\\User\\Desktop\\DSO\\traffic-prediction\\backend\\assets4_labels\\4701_1424_20240127142506_525656.txt\n",
      "\n",
      "0: 640x640 13 cars, 1 bus, 2 trucks, 26.5ms\n",
      "Speed: 1.5ms preprocess, 26.5ms inference, 2.0ms postprocess per image at shape (1, 3, 640, 640)\n"
     ]
    },
    {
     "name": "stderr",
     "output_type": "stream",
     "text": [
      "Processing results: 100%|██████████| 1/1 [00:00<00:00, 249.85it/s]"
     ]
    },
    {
     "name": "stdout",
     "output_type": "stream",
     "text": [
      "C:\\Users\\User\\Desktop\\DSO\\traffic-prediction\\backend\\assets4_labels\\4701_1429_20240127143000_555656.txt\n",
      "\n",
      "0: 640x640 2 persons, 11 cars, 2 motorcycles, 3 trucks, 1 traffic light, 26.7ms\n"
     ]
    },
    {
     "name": "stderr",
     "output_type": "stream",
     "text": [
      "\n"
     ]
    },
    {
     "name": "stdout",
     "output_type": "stream",
     "text": [
      "Speed: 1.5ms preprocess, 26.7ms inference, 1.0ms postprocess per image at shape (1, 3, 640, 640)\n"
     ]
    },
    {
     "name": "stderr",
     "output_type": "stream",
     "text": [
      "Processing results: 100%|██████████| 1/1 [00:00<00:00, 333.12it/s]\n",
      "Processing images:  44%|████▍     | 356/810 [00:19<00:23, 19.06it/s]"
     ]
    },
    {
     "name": "stdout",
     "output_type": "stream",
     "text": [
      "C:\\Users\\User\\Desktop\\DSO\\traffic-prediction\\backend\\assets4_labels\\4701_1433_20240127143501_514955.txt\n",
      "\n",
      "0: 640x640 12 cars, 5 trucks, 1 traffic light, 26.0ms\n",
      "Speed: 2.0ms preprocess, 26.0ms inference, 1.0ms postprocess per image at shape (1, 3, 640, 640)\n"
     ]
    },
    {
     "name": "stderr",
     "output_type": "stream",
     "text": [
      "Processing results: 100%|██████████| 1/1 [00:00<00:00, 333.36it/s]"
     ]
    },
    {
     "name": "stdout",
     "output_type": "stream",
     "text": [
      "C:\\Users\\User\\Desktop\\DSO\\traffic-prediction\\backend\\assets4_labels\\4701_1439_20240127144000_491004.txt\n",
      "\n",
      "0: 640x640 10 cars, 1 bus, 2 trucks, 25.7ms\n"
     ]
    },
    {
     "name": "stderr",
     "output_type": "stream",
     "text": [
      "\n"
     ]
    },
    {
     "name": "stdout",
     "output_type": "stream",
     "text": [
      "Speed: 1.0ms preprocess, 25.7ms inference, 1.0ms postprocess per image at shape (1, 3, 640, 640)\n"
     ]
    },
    {
     "name": "stderr",
     "output_type": "stream",
     "text": [
      "Processing results: 100%|██████████| 1/1 [00:00<00:00, 331.43it/s]\n",
      "Processing images:  44%|████▍     | 358/810 [00:19<00:23, 19.22it/s]"
     ]
    },
    {
     "name": "stdout",
     "output_type": "stream",
     "text": [
      "C:\\Users\\User\\Desktop\\DSO\\traffic-prediction\\backend\\assets4_labels\\4701_1444_20240127144501_100565.txt\n",
      "\n",
      "0: 640x640 10 cars, 2 buss, 2 trucks, 1 traffic light, 26.0ms\n",
      "Speed: 2.0ms preprocess, 26.0ms inference, 2.0ms postprocess per image at shape (1, 3, 640, 640)\n"
     ]
    },
    {
     "name": "stderr",
     "output_type": "stream",
     "text": [
      "Processing results: 100%|██████████| 1/1 [00:00<00:00, 497.78it/s]"
     ]
    },
    {
     "name": "stdout",
     "output_type": "stream",
     "text": [
      "C:\\Users\\User\\Desktop\\DSO\\traffic-prediction\\backend\\assets4_labels\\4701_1449_20240127145003_511009.txt\n",
      "\n"
     ]
    },
    {
     "name": "stderr",
     "output_type": "stream",
     "text": [
      "\n"
     ]
    },
    {
     "name": "stdout",
     "output_type": "stream",
     "text": [
      "0: 640x640 14 cars, 4 trucks, 25.7ms\n",
      "Speed: 1.5ms preprocess, 25.7ms inference, 2.0ms postprocess per image at shape (1, 3, 640, 640)\n"
     ]
    },
    {
     "name": "stderr",
     "output_type": "stream",
     "text": [
      "Processing results: 100%|██████████| 1/1 [00:00<00:00, 362.17it/s]\n",
      "Processing images:  44%|████▍     | 360/810 [00:19<00:23, 19.18it/s]"
     ]
    },
    {
     "name": "stdout",
     "output_type": "stream",
     "text": [
      "C:\\Users\\User\\Desktop\\DSO\\traffic-prediction\\backend\\assets4_labels\\4702_1408_20240127141004_505654.txt\n",
      "\n",
      "0: 640x640 5 cars, 1 kite, 26.0ms\n",
      "Speed: 2.0ms preprocess, 26.0ms inference, 2.0ms postprocess per image at shape (1, 3, 640, 640)\n"
     ]
    },
    {
     "name": "stderr",
     "output_type": "stream",
     "text": [
      "Processing results: 100%|██████████| 1/1 [00:00<00:00, 333.46it/s]"
     ]
    },
    {
     "name": "stdout",
     "output_type": "stream",
     "text": [
      "C:\\Users\\User\\Desktop\\DSO\\traffic-prediction\\backend\\assets4_labels\\4702_1414_20240127141504_102975.txt\n",
      "\n",
      "0: 640x640 1 car, 4 trucks, 1 kite, 25.0ms\n"
     ]
    },
    {
     "name": "stderr",
     "output_type": "stream",
     "text": [
      "\n"
     ]
    },
    {
     "name": "stdout",
     "output_type": "stream",
     "text": [
      "Speed: 2.0ms preprocess, 25.0ms inference, 1.5ms postprocess per image at shape (1, 3, 640, 640)\n"
     ]
    },
    {
     "name": "stderr",
     "output_type": "stream",
     "text": [
      "Processing results: 100%|██████████| 1/1 [00:00<00:00, 499.80it/s]\n",
      "Processing images:  45%|████▍     | 362/810 [00:19<00:23, 19.37it/s]"
     ]
    },
    {
     "name": "stdout",
     "output_type": "stream",
     "text": [
      "C:\\Users\\User\\Desktop\\DSO\\traffic-prediction\\backend\\assets4_labels\\4702_1419_20240127142009_489753.txt\n",
      "\n",
      "0: 640x640 6 cars, 1 truck, 1 kite, 28.6ms\n",
      "Speed: 1.1ms preprocess, 28.6ms inference, 1.0ms postprocess per image at shape (1, 3, 640, 640)\n"
     ]
    },
    {
     "name": "stderr",
     "output_type": "stream",
     "text": [
      "Processing results: 100%|██████████| 1/1 [00:00<00:00, 500.16it/s]"
     ]
    },
    {
     "name": "stdout",
     "output_type": "stream",
     "text": [
      "C:\\Users\\User\\Desktop\\DSO\\traffic-prediction\\backend\\assets4_labels\\4702_1423_20240127142507_525754.txt\n",
      "\n",
      "0: 640x640 4 cars, 1 truck, 1 kite, 25.7ms\n"
     ]
    },
    {
     "name": "stderr",
     "output_type": "stream",
     "text": [
      "\n"
     ]
    },
    {
     "name": "stdout",
     "output_type": "stream",
     "text": [
      "Speed: 2.1ms preprocess, 25.7ms inference, 2.0ms postprocess per image at shape (1, 3, 640, 640)\n"
     ]
    },
    {
     "name": "stderr",
     "output_type": "stream",
     "text": [
      "Processing results: 100%|██████████| 1/1 [00:00<00:00, 999.83it/s]\n",
      "Processing images:  45%|████▍     | 364/810 [00:19<00:23, 19.36it/s]"
     ]
    },
    {
     "name": "stdout",
     "output_type": "stream",
     "text": [
      "C:\\Users\\User\\Desktop\\DSO\\traffic-prediction\\backend\\assets4_labels\\4702_1429_20240127143009_991011.txt\n",
      "\n",
      "0: 640x640 6 cars, 2 trucks, 1 kite, 26.5ms\n",
      "Speed: 1.0ms preprocess, 26.5ms inference, 1.9ms postprocess per image at shape (1, 3, 640, 640)\n"
     ]
    },
    {
     "name": "stderr",
     "output_type": "stream",
     "text": [
      "Processing results: 100%|██████████| 1/1 [00:00<00:00, 499.38it/s]"
     ]
    },
    {
     "name": "stdout",
     "output_type": "stream",
     "text": [
      "C:\\Users\\User\\Desktop\\DSO\\traffic-prediction\\backend\\assets4_labels\\4702_1433_20240127143502_555610.txt\n",
      "\n",
      "0: 640x640 5 cars, 1 truck, 1 kite, 26.1ms\n"
     ]
    },
    {
     "name": "stderr",
     "output_type": "stream",
     "text": [
      "\n"
     ]
    },
    {
     "name": "stdout",
     "output_type": "stream",
     "text": [
      "Speed: 1.0ms preprocess, 26.1ms inference, 1.0ms postprocess per image at shape (1, 3, 640, 640)\n"
     ]
    },
    {
     "name": "stderr",
     "output_type": "stream",
     "text": [
      "Processing results: 100%|██████████| 1/1 [00:00<00:00, 499.62it/s]"
     ]
    },
    {
     "name": "stdout",
     "output_type": "stream",
     "text": [
      "C:\\Users\\User\\Desktop\\DSO\\traffic-prediction\\backend\\assets4_labels\\4702_1439_20240127144004_579753.txt\n",
      "\n"
     ]
    },
    {
     "name": "stderr",
     "output_type": "stream",
     "text": [
      "\n"
     ]
    },
    {
     "name": "stdout",
     "output_type": "stream",
     "text": [
      "0: 640x640 1 person, 7 cars, 1 motorcycle, 2 trucks, 1 kite, 27.7ms\n",
      "Speed: 2.0ms preprocess, 27.7ms inference, 0.9ms postprocess per image at shape (1, 3, 640, 640)\n"
     ]
    },
    {
     "name": "stderr",
     "output_type": "stream",
     "text": [
      "Processing results: 100%|██████████| 1/1 [00:00<00:00, 331.25it/s]\n",
      "Processing images:  45%|████▌     | 367/810 [00:19<00:22, 19.51it/s]"
     ]
    },
    {
     "name": "stdout",
     "output_type": "stream",
     "text": [
      "C:\\Users\\User\\Desktop\\DSO\\traffic-prediction\\backend\\assets4_labels\\4702_1444_20240127144515_569752.txt\n",
      "\n",
      "0: 640x640 11 cars, 1 kite, 25.9ms\n",
      "Speed: 1.5ms preprocess, 25.9ms inference, 1.0ms postprocess per image at shape (1, 3, 640, 640)\n"
     ]
    },
    {
     "name": "stderr",
     "output_type": "stream",
     "text": [
      "Processing results: 100%|██████████| 1/1 [00:00<00:00, 296.15it/s]"
     ]
    },
    {
     "name": "stdout",
     "output_type": "stream",
     "text": [
      "C:\\Users\\User\\Desktop\\DSO\\traffic-prediction\\backend\\assets4_labels\\4702_1448_20240127145010_524810.txt\n",
      "\n",
      "0: 640x640 7 cars, 3 trucks, 1 kite, 26.0ms\n"
     ]
    },
    {
     "name": "stderr",
     "output_type": "stream",
     "text": [
      "\n"
     ]
    },
    {
     "name": "stdout",
     "output_type": "stream",
     "text": [
      "Speed: 2.0ms preprocess, 26.0ms inference, 1.0ms postprocess per image at shape (1, 3, 640, 640)\n"
     ]
    },
    {
     "name": "stderr",
     "output_type": "stream",
     "text": [
      "Processing results: 100%|██████████| 1/1 [00:00<00:00, 332.30it/s]\n",
      "Processing images:  46%|████▌     | 369/810 [00:19<00:22, 19.54it/s]"
     ]
    },
    {
     "name": "stdout",
     "output_type": "stream",
     "text": [
      "C:\\Users\\User\\Desktop\\DSO\\traffic-prediction\\backend\\assets4_labels\\4703_1408_20240127141006_101102.txt\n",
      "\n",
      "0: 640x640 2 persons, 8 cars, 1 bus, 1 train, 1 truck, 26.1ms\n",
      "Speed: 1.6ms preprocess, 26.1ms inference, 2.0ms postprocess per image at shape (1, 3, 640, 640)\n"
     ]
    },
    {
     "name": "stderr",
     "output_type": "stream",
     "text": [
      "Processing results: 100%|██████████| 1/1 [00:00<00:00, 516.92it/s]"
     ]
    },
    {
     "name": "stdout",
     "output_type": "stream",
     "text": [
      "C:\\Users\\User\\Desktop\\DSO\\traffic-prediction\\backend\\assets4_labels\\4703_1413_20240127141505_545348.txt\n",
      "\n"
     ]
    },
    {
     "name": "stderr",
     "output_type": "stream",
     "text": [
      "\n"
     ]
    },
    {
     "name": "stdout",
     "output_type": "stream",
     "text": [
      "0: 640x640 1 train, 1 traffic light, 25.5ms\n",
      "Speed: 2.0ms preprocess, 25.5ms inference, 1.5ms postprocess per image at shape (1, 3, 640, 640)\n"
     ]
    },
    {
     "name": "stderr",
     "output_type": "stream",
     "text": [
      "Processing results: 100%|██████████| 1/1 [00:00<00:00, 1001.51it/s]\n",
      "Processing images:  46%|████▌     | 371/810 [00:19<00:22, 19.61it/s]"
     ]
    },
    {
     "name": "stdout",
     "output_type": "stream",
     "text": [
      "C:\\Users\\User\\Desktop\\DSO\\traffic-prediction\\backend\\assets4_labels\\4703_1419_20240127142010_975756.txt\n",
      "\n",
      "0: 640x640 4 persons, 8 cars, 2 trucks, 1 stop sign, 26.0ms\n",
      "Speed: 1.6ms preprocess, 26.0ms inference, 1.0ms postprocess per image at shape (1, 3, 640, 640)\n"
     ]
    },
    {
     "name": "stderr",
     "output_type": "stream",
     "text": [
      "Processing results: 100%|██████████| 1/1 [00:00<00:00, 500.39it/s]"
     ]
    },
    {
     "name": "stdout",
     "output_type": "stream",
     "text": [
      "C:\\Users\\User\\Desktop\\DSO\\traffic-prediction\\backend\\assets4_labels\\4703_1423_20240127142509_561004.txt\n",
      "\n"
     ]
    },
    {
     "name": "stderr",
     "output_type": "stream",
     "text": [
      "\n"
     ]
    },
    {
     "name": "stdout",
     "output_type": "stream",
     "text": [
      "0: 640x640 3 persons, 4 cars, 1 bus, 2 trucks, 2 traffic lights, 26.9ms\n",
      "Speed: 1.0ms preprocess, 26.9ms inference, 1.0ms postprocess per image at shape (1, 3, 640, 640)\n"
     ]
    },
    {
     "name": "stderr",
     "output_type": "stream",
     "text": [
      "Processing results: 100%|██████████| 1/1 [00:00<00:00, 399.65it/s]\n",
      "Processing images:  46%|████▌     | 373/810 [00:20<00:22, 19.56it/s]"
     ]
    },
    {
     "name": "stdout",
     "output_type": "stream",
     "text": [
      "C:\\Users\\User\\Desktop\\DSO\\traffic-prediction\\backend\\assets4_labels\\4703_1429_20240127143010_575697.txt\n",
      "\n",
      "0: 640x640 5 cars, 2 buss, 1 train, 1 truck, 1 traffic light, 26.7ms\n",
      "Speed: 1.0ms preprocess, 26.7ms inference, 1.0ms postprocess per image at shape (1, 3, 640, 640)\n"
     ]
    },
    {
     "name": "stderr",
     "output_type": "stream",
     "text": [
      "Processing results: 100%|██████████| 1/1 [00:00<00:00, 500.22it/s]"
     ]
    },
    {
     "name": "stdout",
     "output_type": "stream",
     "text": [
      "C:\\Users\\User\\Desktop\\DSO\\traffic-prediction\\backend\\assets4_labels\\4703_1433_20240127143504_505257.txt\n",
      "\n"
     ]
    },
    {
     "name": "stderr",
     "output_type": "stream",
     "text": [
      "\n"
     ]
    },
    {
     "name": "stdout",
     "output_type": "stream",
     "text": [
      "0: 640x640 7 cars, 2 trucks, 25.4ms\n",
      "Speed: 3.1ms preprocess, 25.4ms inference, 1.0ms postprocess per image at shape (1, 3, 640, 640)\n"
     ]
    },
    {
     "name": "stderr",
     "output_type": "stream",
     "text": [
      "Processing results: 100%|██████████| 1/1 [00:00<00:00, 499.50it/s]\n",
      "Processing images:  46%|████▋     | 375/810 [00:20<00:22, 19.24it/s]"
     ]
    },
    {
     "name": "stdout",
     "output_type": "stream",
     "text": [
      "C:\\Users\\User\\Desktop\\DSO\\traffic-prediction\\backend\\assets4_labels\\4703_1439_20240127144006_541019.txt\n",
      "\n",
      "0: 640x640 2 persons, 6 cars, 1 train, 5 trucks, 26.6ms\n",
      "Speed: 2.0ms preprocess, 26.6ms inference, 1.1ms postprocess per image at shape (1, 3, 640, 640)\n"
     ]
    },
    {
     "name": "stderr",
     "output_type": "stream",
     "text": [
      "Processing results: 100%|██████████| 1/1 [00:00<00:00, 499.98it/s]"
     ]
    },
    {
     "name": "stdout",
     "output_type": "stream",
     "text": [
      "C:\\Users\\User\\Desktop\\DSO\\traffic-prediction\\backend\\assets4_labels\\4703_1444_20240127144518_102495.txt\n",
      "\n"
     ]
    },
    {
     "name": "stderr",
     "output_type": "stream",
     "text": [
      "\n"
     ]
    },
    {
     "name": "stdout",
     "output_type": "stream",
     "text": [
      "0: 640x640 3 persons, 3 cars, 1 train, 1 truck, 1 traffic light, 1 clock, 26.6ms\n",
      "Speed: 2.1ms preprocess, 26.6ms inference, 2.0ms postprocess per image at shape (1, 3, 640, 640)\n"
     ]
    },
    {
     "name": "stderr",
     "output_type": "stream",
     "text": [
      "Processing results: 100%|██████████| 1/1 [00:00<00:00, 999.83it/s]\n",
      "Processing images:  47%|████▋     | 377/810 [00:20<00:22, 19.21it/s]"
     ]
    },
    {
     "name": "stdout",
     "output_type": "stream",
     "text": [
      "C:\\Users\\User\\Desktop\\DSO\\traffic-prediction\\backend\\assets4_labels\\4703_1448_20240127145012_102499.txt\n",
      "\n",
      "0: 640x640 5 persons, 8 cars, 1 motorcycle, 1 bus, 1 train, 2 trucks, 5 traffic lights, 25.9ms\n",
      "Speed: 2.0ms preprocess, 25.9ms inference, 1.0ms postprocess per image at shape (1, 3, 640, 640)\n"
     ]
    },
    {
     "name": "stderr",
     "output_type": "stream",
     "text": [
      "Processing results: 100%|██████████| 1/1 [00:00<00:00, 219.53it/s]"
     ]
    },
    {
     "name": "stdout",
     "output_type": "stream",
     "text": [
      "C:\\Users\\User\\Desktop\\DSO\\traffic-prediction\\backend\\assets4_labels\\4704_1408_20240127141007_489710.txt\n",
      "\n"
     ]
    },
    {
     "name": "stderr",
     "output_type": "stream",
     "text": [
      "\n"
     ]
    },
    {
     "name": "stdout",
     "output_type": "stream",
     "text": [
      "0: 640x640 4 cars, 2 trucks, 1 traffic light, 26.6ms\n",
      "Speed: 1.0ms preprocess, 26.6ms inference, 1.0ms postprocess per image at shape (1, 3, 640, 640)\n"
     ]
    },
    {
     "name": "stderr",
     "output_type": "stream",
     "text": [
      "Processing results: 100%|██████████| 1/1 [00:00<00:00, 545.00it/s]\n",
      "Processing images:  47%|████▋     | 379/810 [00:20<00:22, 19.17it/s]"
     ]
    },
    {
     "name": "stdout",
     "output_type": "stream",
     "text": [
      "C:\\Users\\User\\Desktop\\DSO\\traffic-prediction\\backend\\assets4_labels\\4704_1413_20240127141508_101489.txt\n",
      "\n",
      "0: 640x640 2 cars, 1 truck, 1 traffic light, 25.4ms\n",
      "Speed: 1.0ms preprocess, 25.4ms inference, 1.0ms postprocess per image at shape (1, 3, 640, 640)\n"
     ]
    },
    {
     "name": "stderr",
     "output_type": "stream",
     "text": [
      "Processing results: 100%|██████████| 1/1 [00:00<00:00, 501.11it/s]"
     ]
    },
    {
     "name": "stdout",
     "output_type": "stream",
     "text": [
      "C:\\Users\\User\\Desktop\\DSO\\traffic-prediction\\backend\\assets4_labels\\4704_1419_20240127142013_504810.txt\n",
      "\n"
     ]
    },
    {
     "name": "stderr",
     "output_type": "stream",
     "text": [
      "\n"
     ]
    },
    {
     "name": "stdout",
     "output_type": "stream",
     "text": [
      "0: 640x640 4 cars, 1 bus, 1 traffic light, 27.1ms\n",
      "Speed: 2.0ms preprocess, 27.1ms inference, 1.5ms postprocess per image at shape (1, 3, 640, 640)\n"
     ]
    },
    {
     "name": "stderr",
     "output_type": "stream",
     "text": [
      "Processing results: 100%|██████████| 1/1 [00:00<00:00, 499.86it/s]\n",
      "Processing images:  47%|████▋     | 381/810 [00:20<00:22, 19.23it/s]"
     ]
    },
    {
     "name": "stdout",
     "output_type": "stream",
     "text": [
      "C:\\Users\\User\\Desktop\\DSO\\traffic-prediction\\backend\\assets4_labels\\4704_1423_20240127142512_525110.txt\n",
      "\n",
      "0: 640x640 4 cars, 2 trucks, 1 traffic light, 26.6ms\n",
      "Speed: 1.0ms preprocess, 26.6ms inference, 1.0ms postprocess per image at shape (1, 3, 640, 640)\n"
     ]
    },
    {
     "name": "stderr",
     "output_type": "stream",
     "text": [
      "Processing results: 100%|██████████| 1/1 [00:00<00:00, 1002.70it/s]"
     ]
    },
    {
     "name": "stdout",
     "output_type": "stream",
     "text": [
      "C:\\Users\\User\\Desktop\\DSO\\traffic-prediction\\backend\\assets4_labels\\4704_1428_20240127143012_975248.txt\n",
      "\n"
     ]
    },
    {
     "name": "stderr",
     "output_type": "stream",
     "text": [
      "\n"
     ]
    },
    {
     "name": "stdout",
     "output_type": "stream",
     "text": [
      "0: 640x640 4 cars, 2 trucks, 1 traffic light, 26.7ms\n",
      "Speed: 2.0ms preprocess, 26.7ms inference, 1.0ms postprocess per image at shape (1, 3, 640, 640)\n"
     ]
    },
    {
     "name": "stderr",
     "output_type": "stream",
     "text": [
      "Processing results: 100%|██████████| 1/1 [00:00<00:00, 662.08it/s]\n",
      "Processing images:  47%|████▋     | 383/810 [00:20<00:22, 19.27it/s]"
     ]
    },
    {
     "name": "stdout",
     "output_type": "stream",
     "text": [
      "C:\\Users\\User\\Desktop\\DSO\\traffic-prediction\\backend\\assets4_labels\\4704_1433_20240127143505_569955.txt\n",
      "\n",
      "0: 640x640 4 cars, 1 truck, 1 traffic light, 27.0ms\n",
      "Speed: 1.5ms preprocess, 27.0ms inference, 1.0ms postprocess per image at shape (1, 3, 640, 640)\n"
     ]
    },
    {
     "name": "stderr",
     "output_type": "stream",
     "text": [
      "Processing results: 100%|██████████| 1/1 [00:00<00:00, 465.98it/s]"
     ]
    },
    {
     "name": "stdout",
     "output_type": "stream",
     "text": [
      "C:\\Users\\User\\Desktop\\DSO\\traffic-prediction\\backend\\assets4_labels\\4704_1438_20240127144006_981025.txt\n",
      "\n"
     ]
    },
    {
     "name": "stderr",
     "output_type": "stream",
     "text": [
      "\n"
     ]
    },
    {
     "name": "stdout",
     "output_type": "stream",
     "text": [
      "0: 640x640 2 cars, 1 traffic light, 30.8ms\n",
      "Speed: 1.3ms preprocess, 30.8ms inference, 2.0ms postprocess per image at shape (1, 3, 640, 640)\n"
     ]
    },
    {
     "name": "stderr",
     "output_type": "stream",
     "text": [
      "Processing results: 100%|██████████| 1/1 [00:00<00:00, 864.45it/s]\n",
      "Processing images:  48%|████▊     | 385/810 [00:20<00:22, 18.91it/s]"
     ]
    },
    {
     "name": "stdout",
     "output_type": "stream",
     "text": [
      "C:\\Users\\User\\Desktop\\DSO\\traffic-prediction\\backend\\assets4_labels\\4704_1443_20240127144522_102575.txt\n",
      "\n",
      "0: 640x640 1 car, 1 truck, 1 traffic light, 31.4ms\n",
      "Speed: 1.0ms preprocess, 31.4ms inference, 1.0ms postprocess per image at shape (1, 3, 640, 640)\n"
     ]
    },
    {
     "name": "stderr",
     "output_type": "stream",
     "text": [
      "Processing results: 100%|██████████| 1/1 [00:00<00:00, 1001.51it/s]"
     ]
    },
    {
     "name": "stdout",
     "output_type": "stream",
     "text": [
      "C:\\Users\\User\\Desktop\\DSO\\traffic-prediction\\backend\\assets4_labels\\4704_1448_20240127145013_100101.txt\n",
      "\n"
     ]
    },
    {
     "name": "stderr",
     "output_type": "stream",
     "text": [
      "\n"
     ]
    },
    {
     "name": "stdout",
     "output_type": "stream",
     "text": [
      "0: 640x640 6 cars, 1 traffic light, 33.5ms\n",
      "Speed: 2.0ms preprocess, 33.5ms inference, 2.3ms postprocess per image at shape (1, 3, 640, 640)\n"
     ]
    },
    {
     "name": "stderr",
     "output_type": "stream",
     "text": [
      "Processing results: 100%|██████████| 1/1 [00:00<00:00, 330.05it/s]\n",
      "Processing images:  48%|████▊     | 387/810 [00:20<00:23, 18.25it/s]"
     ]
    },
    {
     "name": "stdout",
     "output_type": "stream",
     "text": [
      "C:\\Users\\User\\Desktop\\DSO\\traffic-prediction\\backend\\assets4_labels\\4705_1408_20240127141010_525110.txt\n",
      "\n",
      "0: 640x640 1 person, 10 cars, 1 motorcycle, 2 trucks, 31.7ms\n",
      "Speed: 2.0ms preprocess, 31.7ms inference, 1.8ms postprocess per image at shape (1, 3, 640, 640)\n"
     ]
    },
    {
     "name": "stderr",
     "output_type": "stream",
     "text": [
      "Processing results: 100%|██████████| 1/1 [00:00<00:00, 399.50it/s]"
     ]
    },
    {
     "name": "stdout",
     "output_type": "stream",
     "text": [
      "C:\\Users\\User\\Desktop\\DSO\\traffic-prediction\\backend\\assets4_labels\\4705_1413_20240127141511_971009.txt\n",
      "\n"
     ]
    },
    {
     "name": "stderr",
     "output_type": "stream",
     "text": [
      "\n"
     ]
    },
    {
     "name": "stdout",
     "output_type": "stream",
     "text": [
      "0: 640x640 5 cars, 4 trucks, 1 bench, 28.3ms\n",
      "Speed: 1.0ms preprocess, 28.3ms inference, 1.0ms postprocess per image at shape (1, 3, 640, 640)\n"
     ]
    },
    {
     "name": "stderr",
     "output_type": "stream",
     "text": [
      "Processing results: 100%|██████████| 1/1 [00:00<00:00, 243.02it/s]\n",
      "Processing images:  48%|████▊     | 389/810 [00:20<00:23, 18.06it/s]"
     ]
    },
    {
     "name": "stdout",
     "output_type": "stream",
     "text": [
      "C:\\Users\\User\\Desktop\\DSO\\traffic-prediction\\backend\\assets4_labels\\4705_1419_20240127142018_519810.txt\n",
      "\n",
      "0: 640x640 2 cars, 2 trucks, 1 bench, 29.6ms\n",
      "Speed: 2.0ms preprocess, 29.6ms inference, 2.0ms postprocess per image at shape (1, 3, 640, 640)\n"
     ]
    },
    {
     "name": "stderr",
     "output_type": "stream",
     "text": [
      "Processing results: 100%|██████████| 1/1 [00:00<00:00, 500.27it/s]"
     ]
    },
    {
     "name": "stdout",
     "output_type": "stream",
     "text": [
      "C:\\Users\\User\\Desktop\\DSO\\traffic-prediction\\backend\\assets4_labels\\4705_1423_20240127142513_575351.txt\n",
      "\n"
     ]
    },
    {
     "name": "stderr",
     "output_type": "stream",
     "text": [
      "\n"
     ]
    },
    {
     "name": "stdout",
     "output_type": "stream",
     "text": [
      "0: 640x640 10 cars, 6 trucks, 26.2ms\n",
      "Speed: 2.0ms preprocess, 26.2ms inference, 1.0ms postprocess per image at shape (1, 3, 640, 640)\n"
     ]
    },
    {
     "name": "stderr",
     "output_type": "stream",
     "text": [
      "Processing results: 100%|██████████| 1/1 [00:00<00:00, 284.88it/s]\n",
      "Processing images:  48%|████▊     | 391/810 [00:20<00:22, 18.22it/s]"
     ]
    },
    {
     "name": "stdout",
     "output_type": "stream",
     "text": [
      "C:\\Users\\User\\Desktop\\DSO\\traffic-prediction\\backend\\assets4_labels\\4705_1428_20240127143013_514810.txt\n",
      "\n",
      "0: 640x640 7 cars, 5 trucks, 25.9ms\n",
      "Speed: 1.5ms preprocess, 25.9ms inference, 1.0ms postprocess per image at shape (1, 3, 640, 640)\n"
     ]
    },
    {
     "name": "stderr",
     "output_type": "stream",
     "text": [
      "Processing results: 100%|██████████| 1/1 [00:00<00:00, 398.13it/s]"
     ]
    },
    {
     "name": "stdout",
     "output_type": "stream",
     "text": [
      "C:\\Users\\User\\Desktop\\DSO\\traffic-prediction\\backend\\assets4_labels\\4705_1433_20240127143507_555352.txt\n",
      "\n"
     ]
    },
    {
     "name": "stderr",
     "output_type": "stream",
     "text": [
      "\n"
     ]
    },
    {
     "name": "stdout",
     "output_type": "stream",
     "text": [
      "0: 640x640 4 cars, 1 bus, 8 trucks, 1 traffic light, 26.8ms\n",
      "Speed: 2.0ms preprocess, 26.8ms inference, 1.0ms postprocess per image at shape (1, 3, 640, 640)\n"
     ]
    },
    {
     "name": "stderr",
     "output_type": "stream",
     "text": [
      "Processing results: 100%|██████████| 1/1 [00:00<00:00, 500.81it/s]\n",
      "Processing images:  49%|████▊     | 393/810 [00:21<00:22, 18.51it/s]"
     ]
    },
    {
     "name": "stdout",
     "output_type": "stream",
     "text": [
      "C:\\Users\\User\\Desktop\\DSO\\traffic-prediction\\backend\\assets4_labels\\4705_1438_20240127144007_575154.txt\n",
      "\n",
      "0: 640x640 6 cars, 1 bus, 1 truck, 26.7ms\n",
      "Speed: 2.0ms preprocess, 26.7ms inference, 1.0ms postprocess per image at shape (1, 3, 640, 640)\n"
     ]
    },
    {
     "name": "stderr",
     "output_type": "stream",
     "text": [
      "Processing results: 100%|██████████| 1/1 [00:00<00:00, 497.90it/s]"
     ]
    },
    {
     "name": "stdout",
     "output_type": "stream",
     "text": [
      "C:\\Users\\User\\Desktop\\DSO\\traffic-prediction\\backend\\assets4_labels\\4705_1443_20240127144527_555554.txt\n",
      "\n"
     ]
    },
    {
     "name": "stderr",
     "output_type": "stream",
     "text": [
      "\n"
     ]
    },
    {
     "name": "stdout",
     "output_type": "stream",
     "text": [
      "0: 640x640 2 cars, 1 truck, 26.1ms\n",
      "Speed: 1.4ms preprocess, 26.1ms inference, 1.0ms postprocess per image at shape (1, 3, 640, 640)\n"
     ]
    },
    {
     "name": "stderr",
     "output_type": "stream",
     "text": [
      "Processing results: 100%|██████████| 1/1 [00:00<00:00, 1003.42it/s]\n",
      "Processing images:  49%|████▉     | 395/810 [00:21<00:22, 18.85it/s]"
     ]
    },
    {
     "name": "stdout",
     "output_type": "stream",
     "text": [
      "C:\\Users\\User\\Desktop\\DSO\\traffic-prediction\\backend\\assets4_labels\\4705_1448_20240127145015_504848.txt\n",
      "\n",
      "0: 640x640 5 cars, 7 trucks, 29.0ms\n",
      "Speed: 1.0ms preprocess, 29.0ms inference, 2.0ms postprocess per image at shape (1, 3, 640, 640)\n"
     ]
    },
    {
     "name": "stderr",
     "output_type": "stream",
     "text": [
      "Processing results: 100%|██████████| 1/1 [00:00<00:00, 330.57it/s]"
     ]
    },
    {
     "name": "stdout",
     "output_type": "stream",
     "text": [
      "C:\\Users\\User\\Desktop\\DSO\\traffic-prediction\\backend\\assets4_labels\\4706_1409_20240127141027_535152.txt\n",
      "\n"
     ]
    },
    {
     "name": "stderr",
     "output_type": "stream",
     "text": [
      "\n"
     ]
    },
    {
     "name": "stdout",
     "output_type": "stream",
     "text": [
      "0: 640x640 5 cars, 1 bus, 4 trucks, 26.6ms\n",
      "Speed: 2.0ms preprocess, 26.6ms inference, 1.0ms postprocess per image at shape (1, 3, 640, 640)\n"
     ]
    },
    {
     "name": "stderr",
     "output_type": "stream",
     "text": [
      "Processing results: 100%|██████████| 1/1 [00:00<00:00, 396.70it/s]\n",
      "Processing images:  49%|████▉     | 397/810 [00:21<00:21, 18.88it/s]"
     ]
    },
    {
     "name": "stdout",
     "output_type": "stream",
     "text": [
      "C:\\Users\\User\\Desktop\\DSO\\traffic-prediction\\backend\\assets4_labels\\4706_1414_20240127141535_529710.txt\n",
      "\n",
      "0: 640x640 1 person, 5 cars, 1 motorcycle, 1 bus, 2 trucks, 26.4ms\n",
      "Speed: 1.5ms preprocess, 26.4ms inference, 1.0ms postprocess per image at shape (1, 3, 640, 640)\n"
     ]
    },
    {
     "name": "stderr",
     "output_type": "stream",
     "text": [
      "Processing results: 100%|██████████| 1/1 [00:00<00:00, 333.78it/s]"
     ]
    },
    {
     "name": "stdout",
     "output_type": "stream",
     "text": [
      "C:\\Users\\User\\Desktop\\DSO\\traffic-prediction\\backend\\assets4_labels\\4706_1419_20240127142019_535548.txt\n",
      "\n"
     ]
    },
    {
     "name": "stderr",
     "output_type": "stream",
     "text": [
      "\n"
     ]
    },
    {
     "name": "stdout",
     "output_type": "stream",
     "text": [
      "0: 640x640 8 cars, 1 truck, 26.2ms\n",
      "Speed: 1.0ms preprocess, 26.2ms inference, 2.0ms postprocess per image at shape (1, 3, 640, 640)\n"
     ]
    },
    {
     "name": "stderr",
     "output_type": "stream",
     "text": [
      "Processing results: 100%|██████████| 1/1 [00:00<00:00, 333.44it/s]\n",
      "Processing images:  49%|████▉     | 399/810 [00:21<00:21, 19.02it/s]"
     ]
    },
    {
     "name": "stdout",
     "output_type": "stream",
     "text": [
      "C:\\Users\\User\\Desktop\\DSO\\traffic-prediction\\backend\\assets4_labels\\4706_1424_20240127142522_102481.txt\n",
      "\n",
      "0: 640x640 1 person, 12 cars, 4 trucks, 25.0ms\n",
      "Speed: 2.0ms preprocess, 25.0ms inference, 2.0ms postprocess per image at shape (1, 3, 640, 640)\n"
     ]
    },
    {
     "name": "stderr",
     "output_type": "stream",
     "text": [
      "Processing results: 100%|██████████| 1/1 [00:00<00:00, 333.41it/s]"
     ]
    },
    {
     "name": "stdout",
     "output_type": "stream",
     "text": [
      "C:\\Users\\User\\Desktop\\DSO\\traffic-prediction\\backend\\assets4_labels\\4706_1429_20240127143029_499910.txt\n",
      "\n"
     ]
    },
    {
     "name": "stderr",
     "output_type": "stream",
     "text": [
      "\n"
     ]
    },
    {
     "name": "stdout",
     "output_type": "stream",
     "text": [
      "0: 640x640 9 cars, 1 bus, 2 trucks, 27.1ms\n",
      "Speed: 2.0ms preprocess, 27.1ms inference, 1.0ms postprocess per image at shape (1, 3, 640, 640)\n"
     ]
    },
    {
     "name": "stderr",
     "output_type": "stream",
     "text": [
      "Processing results: 100%|██████████| 1/1 [00:00<00:00, 500.16it/s]\n",
      "Processing images:  50%|████▉     | 401/810 [00:21<00:21, 19.02it/s]"
     ]
    },
    {
     "name": "stdout",
     "output_type": "stream",
     "text": [
      "C:\\Users\\User\\Desktop\\DSO\\traffic-prediction\\backend\\assets4_labels\\4706_1433_20240127143519_541009.txt\n",
      "\n",
      "0: 640x640 5 cars, 1 bus, 3 trucks, 27.6ms\n",
      "Speed: 1.0ms preprocess, 27.6ms inference, 1.0ms postprocess per image at shape (1, 3, 640, 640)\n"
     ]
    },
    {
     "name": "stderr",
     "output_type": "stream",
     "text": [
      "Processing results: 100%|██████████| 1/1 [00:00<00:00, 490.85it/s]"
     ]
    },
    {
     "name": "stdout",
     "output_type": "stream",
     "text": [
      "C:\\Users\\User\\Desktop\\DSO\\traffic-prediction\\backend\\assets4_labels\\4706_1439_20240127144015_101102.txt\n",
      "\n"
     ]
    },
    {
     "name": "stderr",
     "output_type": "stream",
     "text": [
      "\n"
     ]
    },
    {
     "name": "stdout",
     "output_type": "stream",
     "text": [
      "0: 640x640 12 cars, 5 trucks, 27.0ms\n",
      "Speed: 1.5ms preprocess, 27.0ms inference, 1.0ms postprocess per image at shape (1, 3, 640, 640)\n"
     ]
    },
    {
     "name": "stderr",
     "output_type": "stream",
     "text": [
      "Processing results: 100%|██████████| 1/1 [00:00<00:00, 338.39it/s]\n",
      "Processing images:  50%|████▉     | 403/810 [00:21<00:21, 19.09it/s]"
     ]
    },
    {
     "name": "stdout",
     "output_type": "stream",
     "text": [
      "C:\\Users\\User\\Desktop\\DSO\\traffic-prediction\\backend\\assets4_labels\\4706_1444_20240127144542_541009.txt\n",
      "\n",
      "0: 640x640 5 cars, 3 trucks, 25.6ms\n",
      "Speed: 2.0ms preprocess, 25.6ms inference, 1.5ms postprocess per image at shape (1, 3, 640, 640)\n"
     ]
    },
    {
     "name": "stderr",
     "output_type": "stream",
     "text": [
      "Processing results: 100%|██████████| 1/1 [00:00<00:00, 499.92it/s]"
     ]
    },
    {
     "name": "stdout",
     "output_type": "stream",
     "text": [
      "C:\\Users\\User\\Desktop\\DSO\\traffic-prediction\\backend\\assets4_labels\\4706_1449_20240127145022_989857.txt\n",
      "\n"
     ]
    },
    {
     "name": "stderr",
     "output_type": "stream",
     "text": [
      "\n"
     ]
    },
    {
     "name": "stdout",
     "output_type": "stream",
     "text": [
      "0: 640x640 11 cars, 25.4ms\n",
      "Speed: 2.0ms preprocess, 25.4ms inference, 1.0ms postprocess per image at shape (1, 3, 640, 640)\n"
     ]
    },
    {
     "name": "stderr",
     "output_type": "stream",
     "text": [
      "Processing results: 100%|██████████| 1/1 [00:00<00:00, 515.02it/s]\n",
      "Processing images:  50%|█████     | 405/810 [00:21<00:20, 19.29it/s]"
     ]
    },
    {
     "name": "stdout",
     "output_type": "stream",
     "text": [
      "C:\\Users\\User\\Desktop\\DSO\\traffic-prediction\\backend\\assets4_labels\\4707_1408_20240127141028_575757.txt\n",
      "\n",
      "0: 640x640 1 car, 2 trucks, 26.4ms\n",
      "Speed: 0.8ms preprocess, 26.4ms inference, 2.2ms postprocess per image at shape (1, 3, 640, 640)\n"
     ]
    },
    {
     "name": "stderr",
     "output_type": "stream",
     "text": [
      "Processing results: 100%|██████████| 1/1 [00:00<00:00, 500.04it/s]"
     ]
    },
    {
     "name": "stdout",
     "output_type": "stream",
     "text": [
      "C:\\Users\\User\\Desktop\\DSO\\traffic-prediction\\backend\\assets4_labels\\4707_1413_20240127141535_100989.txt\n",
      "\n",
      "0: 640x640 1 person, 2 buss, 26.5ms\n"
     ]
    },
    {
     "name": "stderr",
     "output_type": "stream",
     "text": [
      "\n"
     ]
    },
    {
     "name": "stdout",
     "output_type": "stream",
     "text": [
      "Speed: 2.0ms preprocess, 26.5ms inference, 1.0ms postprocess per image at shape (1, 3, 640, 640)\n"
     ]
    },
    {
     "name": "stderr",
     "output_type": "stream",
     "text": [
      "Processing results: 100%|██████████| 1/1 [00:00<00:00, 664.71it/s]\n",
      "Processing images:  50%|█████     | 407/810 [00:21<00:20, 19.42it/s]"
     ]
    },
    {
     "name": "stdout",
     "output_type": "stream",
     "text": [
      "C:\\Users\\User\\Desktop\\DSO\\traffic-prediction\\backend\\assets4_labels\\4707_1419_20240127142019_569855.txt\n",
      "\n",
      "0: 640x640 1 person, 1 motorcycle, 1 train, 1 truck, 26.8ms\n",
      "Speed: 1.0ms preprocess, 26.8ms inference, 1.0ms postprocess per image at shape (1, 3, 640, 640)\n"
     ]
    },
    {
     "name": "stderr",
     "output_type": "stream",
     "text": [
      "Processing results: 100%|██████████| 1/1 [00:00<00:00, 1001.27it/s]"
     ]
    },
    {
     "name": "stdout",
     "output_type": "stream",
     "text": [
      "C:\\Users\\User\\Desktop\\DSO\\traffic-prediction\\backend\\assets4_labels\\4707_1423_20240127142523_564810.txt\n",
      "\n",
      "0: 640x640 1 car, 1 train, 1 truck, 25.7ms\n"
     ]
    },
    {
     "name": "stderr",
     "output_type": "stream",
     "text": [
      "\n"
     ]
    },
    {
     "name": "stdout",
     "output_type": "stream",
     "text": [
      "Speed: 2.0ms preprocess, 25.7ms inference, 1.0ms postprocess per image at shape (1, 3, 640, 640)\n"
     ]
    },
    {
     "name": "stderr",
     "output_type": "stream",
     "text": [
      "Processing results: 100%|██████████| 1/1 [00:00<00:00, 988.52it/s]\n",
      "Processing images:  50%|█████     | 409/810 [00:21<00:20, 19.39it/s]"
     ]
    },
    {
     "name": "stdout",
     "output_type": "stream",
     "text": [
      "C:\\Users\\User\\Desktop\\DSO\\traffic-prediction\\backend\\assets4_labels\\4707_1428_20240127143030_102101.txt\n",
      "\n",
      "0: 640x640 1 car, 2 trains, 26.9ms\n",
      "Speed: 1.0ms preprocess, 26.9ms inference, 2.0ms postprocess per image at shape (1, 3, 640, 640)\n"
     ]
    },
    {
     "name": "stderr",
     "output_type": "stream",
     "text": [
      "Processing results: 100%|██████████| 1/1 [00:00<00:00, 990.16it/s]"
     ]
    },
    {
     "name": "stdout",
     "output_type": "stream",
     "text": [
      "C:\\Users\\User\\Desktop\\DSO\\traffic-prediction\\backend\\assets4_labels\\4707_1433_20240127143521_484850.txt\n",
      "\n"
     ]
    },
    {
     "name": "stderr",
     "output_type": "stream",
     "text": [
      "\n"
     ]
    },
    {
     "name": "stdout",
     "output_type": "stream",
     "text": [
      "0: 640x640 1 car, 1 truck, 27.7ms\n",
      "Speed: 2.0ms preprocess, 27.7ms inference, 1.0ms postprocess per image at shape (1, 3, 640, 640)\n"
     ]
    },
    {
     "name": "stderr",
     "output_type": "stream",
     "text": [
      "Processing results: 100%|██████████| 1/1 [00:00<00:00, 1442.33it/s]\n",
      "Processing images:  51%|█████     | 411/810 [00:22<00:20, 19.37it/s]"
     ]
    },
    {
     "name": "stdout",
     "output_type": "stream",
     "text": [
      "C:\\Users\\User\\Desktop\\DSO\\traffic-prediction\\backend\\assets4_labels\\4707_1438_20240127144017_511001.txt\n",
      "\n",
      "0: 640x640 2 persons, 1 car, 28.5ms\n",
      "Speed: 1.3ms preprocess, 28.5ms inference, 1.0ms postprocess per image at shape (1, 3, 640, 640)\n"
     ]
    },
    {
     "name": "stderr",
     "output_type": "stream",
     "text": [
      "Processing results: 100%|██████████| 1/1 [00:00<00:00, 500.10it/s]"
     ]
    },
    {
     "name": "stdout",
     "output_type": "stream",
     "text": [
      "C:\\Users\\User\\Desktop\\DSO\\traffic-prediction\\backend\\assets4_labels\\4707_1443_20240127144544_545310.txt\n",
      "\n",
      "0: 640x640 1 car, 1 bus, 1 train, 25.8ms\n"
     ]
    },
    {
     "name": "stderr",
     "output_type": "stream",
     "text": [
      "\n"
     ]
    },
    {
     "name": "stdout",
     "output_type": "stream",
     "text": [
      "Speed: 2.0ms preprocess, 25.8ms inference, 1.0ms postprocess per image at shape (1, 3, 640, 640)\n"
     ]
    },
    {
     "name": "stderr",
     "output_type": "stream",
     "text": [
      "Processing results: 100%|██████████| 1/1 [00:00<00:00, 1000.07it/s]\n",
      "Processing images:  51%|█████     | 413/810 [00:22<00:20, 19.30it/s]"
     ]
    },
    {
     "name": "stdout",
     "output_type": "stream",
     "text": [
      "C:\\Users\\User\\Desktop\\DSO\\traffic-prediction\\backend\\assets4_labels\\4707_1448_20240127145022_525155.txt\n",
      "\n",
      "0: 640x640 1 car, 1 truck, 26.7ms\n",
      "Speed: 1.0ms preprocess, 26.7ms inference, 1.0ms postprocess per image at shape (1, 3, 640, 640)\n"
     ]
    },
    {
     "name": "stderr",
     "output_type": "stream",
     "text": [
      "Processing results: 100%|██████████| 1/1 [00:00<00:00, 1000.31it/s]"
     ]
    },
    {
     "name": "stdout",
     "output_type": "stream",
     "text": [
      "C:\\Users\\User\\Desktop\\DSO\\traffic-prediction\\backend\\assets4_labels\\4708_1408_20240127141028_545552.txt\n",
      "\n"
     ]
    },
    {
     "name": "stderr",
     "output_type": "stream",
     "text": [
      "\n"
     ]
    },
    {
     "name": "stdout",
     "output_type": "stream",
     "text": [
      "0: 640x640 10 cars, 1 bus, 4 trucks, 26.4ms\n",
      "Speed: 1.0ms preprocess, 26.4ms inference, 1.1ms postprocess per image at shape (1, 3, 640, 640)\n"
     ]
    },
    {
     "name": "stderr",
     "output_type": "stream",
     "text": [
      "Processing results: 100%|██████████| 1/1 [00:00<00:00, 331.33it/s]\n",
      "Processing images:  51%|█████     | 415/810 [00:22<00:20, 19.30it/s]"
     ]
    },
    {
     "name": "stdout",
     "output_type": "stream",
     "text": [
      "C:\\Users\\User\\Desktop\\DSO\\traffic-prediction\\backend\\assets4_labels\\4708_1413_20240127141537_525253.txt\n",
      "\n",
      "0: 640x640 8 cars, 3 trucks, 26.8ms\n",
      "Speed: 1.5ms preprocess, 26.8ms inference, 1.0ms postprocess per image at shape (1, 3, 640, 640)\n"
     ]
    },
    {
     "name": "stderr",
     "output_type": "stream",
     "text": [
      "Processing results: 100%|██████████| 1/1 [00:00<00:00, 337.43it/s]"
     ]
    },
    {
     "name": "stdout",
     "output_type": "stream",
     "text": [
      "C:\\Users\\User\\Desktop\\DSO\\traffic-prediction\\backend\\assets4_labels\\4708_1419_20240127142019_531021.txt\n",
      "\n"
     ]
    },
    {
     "name": "stderr",
     "output_type": "stream",
     "text": [
      "\n"
     ]
    },
    {
     "name": "stdout",
     "output_type": "stream",
     "text": [
      "0: 640x640 8 cars, 1 truck, 25.5ms\n",
      "Speed: 1.7ms preprocess, 25.5ms inference, 2.0ms postprocess per image at shape (1, 3, 640, 640)\n"
     ]
    },
    {
     "name": "stderr",
     "output_type": "stream",
     "text": [
      "Processing results: 100%|██████████| 1/1 [00:00<00:00, 500.16it/s]\n",
      "Processing images:  51%|█████▏    | 417/810 [00:22<00:20, 19.26it/s]"
     ]
    },
    {
     "name": "stdout",
     "output_type": "stream",
     "text": [
      "C:\\Users\\User\\Desktop\\DSO\\traffic-prediction\\backend\\assets4_labels\\4708_1423_20240127142523_101971.txt\n",
      "\n",
      "0: 640x640 7 cars, 1 motorcycle, 2 trucks, 25.3ms\n",
      "Speed: 2.0ms preprocess, 25.3ms inference, 1.0ms postprocess per image at shape (1, 3, 640, 640)\n"
     ]
    },
    {
     "name": "stderr",
     "output_type": "stream",
     "text": [
      "Processing results: 100%|██████████| 1/1 [00:00<00:00, 333.38it/s]"
     ]
    },
    {
     "name": "stdout",
     "output_type": "stream",
     "text": [
      "C:\\Users\\User\\Desktop\\DSO\\traffic-prediction\\backend\\assets4_labels\\4708_1428_20240127143032_481021.txt\n",
      "\n"
     ]
    },
    {
     "name": "stderr",
     "output_type": "stream",
     "text": [
      "\n"
     ]
    },
    {
     "name": "stdout",
     "output_type": "stream",
     "text": [
      "0: 640x640 8 cars, 4 trucks, 27.2ms\n",
      "Speed: 1.0ms preprocess, 27.2ms inference, 2.0ms postprocess per image at shape (1, 3, 640, 640)\n"
     ]
    },
    {
     "name": "stderr",
     "output_type": "stream",
     "text": [
      "Processing results: 100%|██████████| 1/1 [00:00<00:00, 365.20it/s]\n",
      "Processing images:  52%|█████▏    | 419/810 [00:22<00:20, 19.26it/s]"
     ]
    },
    {
     "name": "stdout",
     "output_type": "stream",
     "text": [
      "C:\\Users\\User\\Desktop\\DSO\\traffic-prediction\\backend\\assets4_labels\\4708_1433_20240127143522_495349.txt\n",
      "\n",
      "0: 640x640 12 cars, 2 trucks, 26.5ms\n",
      "Speed: 1.0ms preprocess, 26.5ms inference, 1.0ms postprocess per image at shape (1, 3, 640, 640)\n"
     ]
    },
    {
     "name": "stderr",
     "output_type": "stream",
     "text": [
      "Processing results: 100%|██████████| 1/1 [00:00<00:00, 484.67it/s]"
     ]
    },
    {
     "name": "stdout",
     "output_type": "stream",
     "text": [
      "C:\\Users\\User\\Desktop\\DSO\\traffic-prediction\\backend\\assets4_labels\\4708_1438_20240127144020_515699.txt\n",
      "\n"
     ]
    },
    {
     "name": "stderr",
     "output_type": "stream",
     "text": [
      "\n"
     ]
    },
    {
     "name": "stdout",
     "output_type": "stream",
     "text": [
      "0: 640x640 7 cars, 1 bus, 2 trucks, 28.0ms\n",
      "Speed: 1.0ms preprocess, 28.0ms inference, 2.0ms postprocess per image at shape (1, 3, 640, 640)\n"
     ]
    },
    {
     "name": "stderr",
     "output_type": "stream",
     "text": [
      "Processing results: 100%|██████████| 1/1 [00:00<00:00, 329.61it/s]\n",
      "Processing images:  52%|█████▏    | 421/810 [00:22<00:20, 19.18it/s]"
     ]
    },
    {
     "name": "stdout",
     "output_type": "stream",
     "text": [
      "C:\\Users\\User\\Desktop\\DSO\\traffic-prediction\\backend\\assets4_labels\\4708_1443_20240127144545_985498.txt\n",
      "\n",
      "0: 640x640 4 cars, 2 trucks, 33.6ms\n",
      "Speed: 2.0ms preprocess, 33.6ms inference, 2.0ms postprocess per image at shape (1, 3, 640, 640)\n"
     ]
    },
    {
     "name": "stderr",
     "output_type": "stream",
     "text": [
      "Processing results: 100%|██████████| 1/1 [00:00<00:00, 333.30it/s]"
     ]
    },
    {
     "name": "stdout",
     "output_type": "stream",
     "text": [
      "C:\\Users\\User\\Desktop\\DSO\\traffic-prediction\\backend\\assets4_labels\\4708_1448_20240127145023_529952.txt\n",
      "\n"
     ]
    },
    {
     "name": "stderr",
     "output_type": "stream",
     "text": [
      "\n"
     ]
    },
    {
     "name": "stdout",
     "output_type": "stream",
     "text": [
      "0: 640x640 8 cars, 1 motorcycle, 3 trucks, 33.0ms\n",
      "Speed: 2.0ms preprocess, 33.0ms inference, 1.0ms postprocess per image at shape (1, 3, 640, 640)\n"
     ]
    },
    {
     "name": "stderr",
     "output_type": "stream",
     "text": [
      "Processing results: 100%|██████████| 1/1 [00:00<00:00, 492.52it/s]\n",
      "Processing images:  52%|█████▏    | 423/810 [00:22<00:21, 18.06it/s]"
     ]
    },
    {
     "name": "stdout",
     "output_type": "stream",
     "text": [
      "C:\\Users\\User\\Desktop\\DSO\\traffic-prediction\\backend\\assets4_labels\\4709_1409_20240127141028_102505.txt\n",
      "\n",
      "0: 640x640 7 cars, 26.1ms\n",
      "Speed: 1.0ms preprocess, 26.1ms inference, 1.0ms postprocess per image at shape (1, 3, 640, 640)\n"
     ]
    },
    {
     "name": "stderr",
     "output_type": "stream",
     "text": [
      "Processing results: 100%|██████████| 1/1 [00:00<00:00, 490.73it/s]"
     ]
    },
    {
     "name": "stdout",
     "output_type": "stream",
     "text": [
      "C:\\Users\\User\\Desktop\\DSO\\traffic-prediction\\backend\\assets4_labels\\4709_1414_20240127141538_565099.txt\n",
      "\n"
     ]
    },
    {
     "name": "stderr",
     "output_type": "stream",
     "text": [
      "\n"
     ]
    },
    {
     "name": "stdout",
     "output_type": "stream",
     "text": [
      "0: 640x640 7 cars, 1 truck, 27.0ms\n",
      "Speed: 1.5ms preprocess, 27.0ms inference, 2.0ms postprocess per image at shape (1, 3, 640, 640)\n"
     ]
    },
    {
     "name": "stderr",
     "output_type": "stream",
     "text": [
      "Processing results: 100%|██████████| 1/1 [00:00<00:00, 567.26it/s]\n",
      "Processing images:  52%|█████▏    | 425/810 [00:22<00:20, 18.50it/s]"
     ]
    },
    {
     "name": "stdout",
     "output_type": "stream",
     "text": [
      "C:\\Users\\User\\Desktop\\DSO\\traffic-prediction\\backend\\assets4_labels\\4709_1419_20240127142020_102551.txt\n",
      "\n",
      "0: 640x640 6 cars, 4 trucks, 26.8ms\n",
      "Speed: 1.0ms preprocess, 26.8ms inference, 1.2ms postprocess per image at shape (1, 3, 640, 640)\n"
     ]
    },
    {
     "name": "stderr",
     "output_type": "stream",
     "text": [
      "Processing results: 100%|██████████| 1/1 [00:00<00:00, 500.39it/s]"
     ]
    },
    {
     "name": "stdout",
     "output_type": "stream",
     "text": [
      "C:\\Users\\User\\Desktop\\DSO\\traffic-prediction\\backend\\assets4_labels\\4709_1424_20240127142523_102529.txt\n",
      "\n"
     ]
    },
    {
     "name": "stderr",
     "output_type": "stream",
     "text": [
      "\n"
     ]
    },
    {
     "name": "stdout",
     "output_type": "stream",
     "text": [
      "0: 640x640 4 cars, 1 bus, 3 trucks, 26.1ms\n",
      "Speed: 1.0ms preprocess, 26.1ms inference, 2.0ms postprocess per image at shape (1, 3, 640, 640)\n"
     ]
    },
    {
     "name": "stderr",
     "output_type": "stream",
     "text": [
      "Processing results: 100%|██████████| 1/1 [00:00<00:00, 500.22it/s]\n",
      "Processing images:  53%|█████▎    | 427/810 [00:22<00:20, 18.75it/s]"
     ]
    },
    {
     "name": "stdout",
     "output_type": "stream",
     "text": [
      "C:\\Users\\User\\Desktop\\DSO\\traffic-prediction\\backend\\assets4_labels\\4709_1429_20240127143033_485450.txt\n",
      "\n",
      "0: 640x640 1 person, 7 cars, 3 trucks, 26.2ms\n",
      "Speed: 1.7ms preprocess, 26.2ms inference, 1.7ms postprocess per image at shape (1, 3, 640, 640)\n"
     ]
    },
    {
     "name": "stderr",
     "output_type": "stream",
     "text": [
      "Processing results: 100%|██████████| 1/1 [00:00<00:00, 333.09it/s]"
     ]
    },
    {
     "name": "stdout",
     "output_type": "stream",
     "text": [
      "C:\\Users\\User\\Desktop\\DSO\\traffic-prediction\\backend\\assets4_labels\\4709_1433_20240127143524_505153.txt\n",
      "\n"
     ]
    },
    {
     "name": "stderr",
     "output_type": "stream",
     "text": [
      "\n"
     ]
    },
    {
     "name": "stdout",
     "output_type": "stream",
     "text": [
      "0: 640x640 7 cars, 1 bus, 3 trucks, 26.1ms\n",
      "Speed: 2.0ms preprocess, 26.1ms inference, 2.0ms postprocess per image at shape (1, 3, 640, 640)\n"
     ]
    },
    {
     "name": "stderr",
     "output_type": "stream",
     "text": [
      "Processing results: 100%|██████████| 1/1 [00:00<00:00, 500.63it/s]\n",
      "Processing images:  53%|█████▎    | 429/810 [00:22<00:20, 19.04it/s]"
     ]
    },
    {
     "name": "stdout",
     "output_type": "stream",
     "text": [
      "C:\\Users\\User\\Desktop\\DSO\\traffic-prediction\\backend\\assets4_labels\\4709_1439_20240127144023_555451.txt\n",
      "\n",
      "0: 640x640 2 cars, 1 bus, 5 trucks, 25.7ms\n",
      "Speed: 2.0ms preprocess, 25.7ms inference, 2.0ms postprocess per image at shape (1, 3, 640, 640)\n"
     ]
    },
    {
     "name": "stderr",
     "output_type": "stream",
     "text": [
      "Processing results: 100%|██████████| 1/1 [00:00<00:00, 499.92it/s]"
     ]
    },
    {
     "name": "stdout",
     "output_type": "stream",
     "text": [
      "C:\\Users\\User\\Desktop\\DSO\\traffic-prediction\\backend\\assets4_labels\\4709_1444_20240127144547_509848.txt\n",
      "\n",
      "0: 640x640 4 cars, 3 trucks, 26.7ms\n"
     ]
    },
    {
     "name": "stderr",
     "output_type": "stream",
     "text": [
      "\n"
     ]
    },
    {
     "name": "stdout",
     "output_type": "stream",
     "text": [
      "Speed: 2.0ms preprocess, 26.7ms inference, 1.0ms postprocess per image at shape (1, 3, 640, 640)\n"
     ]
    },
    {
     "name": "stderr",
     "output_type": "stream",
     "text": [
      "Processing results: 100%|██████████| 1/1 [00:00<00:00, 665.13it/s]\n",
      "Processing images:  53%|█████▎    | 431/810 [00:23<00:19, 19.19it/s]"
     ]
    },
    {
     "name": "stdout",
     "output_type": "stream",
     "text": [
      "C:\\Users\\User\\Desktop\\DSO\\traffic-prediction\\backend\\assets4_labels\\4709_1449_20240127145024_981024.txt\n",
      "\n",
      "0: 640x640 5 cars, 3 trucks, 25.1ms\n",
      "Speed: 1.0ms preprocess, 25.1ms inference, 2.0ms postprocess per image at shape (1, 3, 640, 640)\n"
     ]
    },
    {
     "name": "stderr",
     "output_type": "stream",
     "text": [
      "Processing results: 100%|██████████| 1/1 [00:00<00:00, 399.15it/s]"
     ]
    },
    {
     "name": "stdout",
     "output_type": "stream",
     "text": [
      "C:\\Users\\User\\Desktop\\DSO\\traffic-prediction\\backend\\assets4_labels\\4710_1409_20240127141029_519810.txt\n",
      "\n"
     ]
    },
    {
     "name": "stderr",
     "output_type": "stream",
     "text": [
      "\n"
     ]
    },
    {
     "name": "stdout",
     "output_type": "stream",
     "text": [
      "0: 640x640 1 person, 12 cars, 1 motorcycle, 1 bus, 7 trucks, 26.6ms\n",
      "Speed: 1.0ms preprocess, 26.6ms inference, 1.0ms postprocess per image at shape (1, 3, 640, 640)\n"
     ]
    },
    {
     "name": "stderr",
     "output_type": "stream",
     "text": [
      "Processing results: 100%|██████████| 1/1 [00:00<00:00, 397.19it/s]\n",
      "Processing images:  53%|█████▎    | 433/810 [00:23<00:19, 19.27it/s]"
     ]
    },
    {
     "name": "stdout",
     "output_type": "stream",
     "text": [
      "C:\\Users\\User\\Desktop\\DSO\\traffic-prediction\\backend\\assets4_labels\\4710_1414_20240127141539_501025.txt\n",
      "\n",
      "0: 640x640 10 cars, 6 trucks, 26.0ms\n",
      "Speed: 1.5ms preprocess, 26.0ms inference, 1.0ms postprocess per image at shape (1, 3, 640, 640)\n"
     ]
    },
    {
     "name": "stderr",
     "output_type": "stream",
     "text": [
      "Processing results: 100%|██████████| 1/1 [00:00<00:00, 328.84it/s]"
     ]
    },
    {
     "name": "stdout",
     "output_type": "stream",
     "text": [
      "C:\\Users\\User\\Desktop\\DSO\\traffic-prediction\\backend\\assets4_labels\\4710_1419_20240127142020_985553.txt\n",
      "\n"
     ]
    },
    {
     "name": "stderr",
     "output_type": "stream",
     "text": [
      "\n"
     ]
    },
    {
     "name": "stdout",
     "output_type": "stream",
     "text": [
      "0: 640x640 10 cars, 7 trucks, 26.8ms\n",
      "Speed: 1.8ms preprocess, 26.8ms inference, 1.0ms postprocess per image at shape (1, 3, 640, 640)\n"
     ]
    },
    {
     "name": "stderr",
     "output_type": "stream",
     "text": [
      "Processing results: 100%|██████████| 1/1 [00:00<00:00, 500.33it/s]\n",
      "Processing images:  54%|█████▎    | 435/810 [00:23<00:19, 19.20it/s]"
     ]
    },
    {
     "name": "stdout",
     "output_type": "stream",
     "text": [
      "C:\\Users\\User\\Desktop\\DSO\\traffic-prediction\\backend\\assets4_labels\\4710_1424_20240127142523_979952.txt\n",
      "\n",
      "0: 640x640 14 cars, 1 bus, 10 trucks, 27.6ms\n",
      "Speed: 1.0ms preprocess, 27.6ms inference, 1.0ms postprocess per image at shape (1, 3, 640, 640)\n"
     ]
    },
    {
     "name": "stderr",
     "output_type": "stream",
     "text": [
      "Processing results: 100%|██████████| 1/1 [00:00<00:00, 255.25it/s]"
     ]
    },
    {
     "name": "stdout",
     "output_type": "stream",
     "text": [
      "C:\\Users\\User\\Desktop\\DSO\\traffic-prediction\\backend\\assets4_labels\\4710_1429_20240127143035_100555.txt\n",
      "\n"
     ]
    },
    {
     "name": "stderr",
     "output_type": "stream",
     "text": [
      "\n"
     ]
    },
    {
     "name": "stdout",
     "output_type": "stream",
     "text": [
      "0: 640x640 1 person, 9 cars, 10 trucks, 26.0ms\n",
      "Speed: 3.0ms preprocess, 26.0ms inference, 3.0ms postprocess per image at shape (1, 3, 640, 640)\n"
     ]
    },
    {
     "name": "stderr",
     "output_type": "stream",
     "text": [
      "Processing results: 100%|██████████| 1/1 [00:00<00:00, 247.50it/s]\n",
      "Processing images:  54%|█████▍    | 437/810 [00:23<00:19, 18.70it/s]"
     ]
    },
    {
     "name": "stdout",
     "output_type": "stream",
     "text": [
      "C:\\Users\\User\\Desktop\\DSO\\traffic-prediction\\backend\\assets4_labels\\4710_1433_20240127143525_521004.txt\n",
      "\n",
      "0: 640x640 15 cars, 5 trucks, 1 traffic light, 26.7ms\n",
      "Speed: 3.0ms preprocess, 26.7ms inference, 3.5ms postprocess per image at shape (1, 3, 640, 640)\n"
     ]
    },
    {
     "name": "stderr",
     "output_type": "stream",
     "text": [
      "Processing results: 100%|██████████| 1/1 [00:00<00:00, 285.50it/s]"
     ]
    },
    {
     "name": "stdout",
     "output_type": "stream",
     "text": [
      "C:\\Users\\User\\Desktop\\DSO\\traffic-prediction\\backend\\assets4_labels\\4710_1439_20240127144024_101100.txt\n",
      "\n"
     ]
    },
    {
     "name": "stderr",
     "output_type": "stream",
     "text": [
      "\n"
     ]
    },
    {
     "name": "stdout",
     "output_type": "stream",
     "text": [
      "0: 640x640 12 cars, 1 bus, 6 trucks, 1 traffic light, 26.1ms\n",
      "Speed: 2.0ms preprocess, 26.1ms inference, 1.5ms postprocess per image at shape (1, 3, 640, 640)\n"
     ]
    },
    {
     "name": "stderr",
     "output_type": "stream",
     "text": [
      "Processing results: 100%|██████████| 1/1 [00:00<00:00, 332.59it/s]\n",
      "Processing images:  54%|█████▍    | 439/810 [00:23<00:20, 17.80it/s]"
     ]
    },
    {
     "name": "stdout",
     "output_type": "stream",
     "text": [
      "C:\\Users\\User\\Desktop\\DSO\\traffic-prediction\\backend\\assets4_labels\\4710_1444_20240127144547_975453.txt\n",
      "\n",
      "0: 640x640 12 cars, 2 buss, 3 trucks, 26.0ms\n",
      "Speed: 2.0ms preprocess, 26.0ms inference, 1.0ms postprocess per image at shape (1, 3, 640, 640)\n"
     ]
    },
    {
     "name": "stderr",
     "output_type": "stream",
     "text": [
      "Processing results: 100%|██████████| 1/1 [00:00<00:00, 333.30it/s]"
     ]
    },
    {
     "name": "stdout",
     "output_type": "stream",
     "text": [
      "C:\\Users\\User\\Desktop\\DSO\\traffic-prediction\\backend\\assets4_labels\\4710_1449_20240127145024_549949.txt\n",
      "\n"
     ]
    },
    {
     "name": "stderr",
     "output_type": "stream",
     "text": [
      "\n"
     ]
    },
    {
     "name": "stdout",
     "output_type": "stream",
     "text": [
      "0: 640x640 2 persons, 12 cars, 1 bus, 10 trucks, 1 stop sign, 26.5ms\n",
      "Speed: 1.0ms preprocess, 26.5ms inference, 2.0ms postprocess per image at shape (1, 3, 640, 640)\n"
     ]
    },
    {
     "name": "stderr",
     "output_type": "stream",
     "text": [
      "Processing results: 100%|██████████| 1/1 [00:00<00:00, 249.63it/s]\n",
      "Processing images:  54%|█████▍    | 441/810 [00:23<00:20, 17.96it/s]"
     ]
    },
    {
     "name": "stdout",
     "output_type": "stream",
     "text": [
      "C:\\Users\\User\\Desktop\\DSO\\traffic-prediction\\backend\\assets4_labels\\4712_1409_20240127141029_485253.txt\n",
      "\n",
      "0: 640x640 1 person, 2 cars, 26.5ms\n",
      "Speed: 2.0ms preprocess, 26.5ms inference, 1.0ms postprocess per image at shape (1, 3, 640, 640)\n"
     ]
    },
    {
     "name": "stderr",
     "output_type": "stream",
     "text": [
      "Processing results: 100%|██████████| 1/1 [00:00<00:00, 326.86it/s]"
     ]
    },
    {
     "name": "stdout",
     "output_type": "stream",
     "text": [
      "C:\\Users\\User\\Desktop\\DSO\\traffic-prediction\\backend\\assets4_labels\\4712_1414_20240127141540_531001.txt\n",
      "\n"
     ]
    },
    {
     "name": "stderr",
     "output_type": "stream",
     "text": [
      "\n"
     ]
    },
    {
     "name": "stdout",
     "output_type": "stream",
     "text": [
      "0: 640x640 5 cars, 25.6ms\n",
      "Speed: 2.1ms preprocess, 25.6ms inference, 2.0ms postprocess per image at shape (1, 3, 640, 640)\n"
     ]
    },
    {
     "name": "stderr",
     "output_type": "stream",
     "text": [
      "Processing results: 100%|██████████| 1/1 [00:00<00:00, 441.41it/s]\n",
      "Processing images:  55%|█████▍    | 443/810 [00:23<00:20, 18.13it/s]"
     ]
    },
    {
     "name": "stdout",
     "output_type": "stream",
     "text": [
      "C:\\Users\\User\\Desktop\\DSO\\traffic-prediction\\backend\\assets4_labels\\4712_1419_20240127142020_561005.txt\n",
      "\n",
      "0: 640x640 3 persons, 2 cars, 1 motorcycle, 25.8ms\n",
      "Speed: 1.5ms preprocess, 25.8ms inference, 1.0ms postprocess per image at shape (1, 3, 640, 640)\n"
     ]
    },
    {
     "name": "stderr",
     "output_type": "stream",
     "text": [
      "Processing results: 100%|██████████| 1/1 [00:00<00:00, 499.92it/s]"
     ]
    },
    {
     "name": "stdout",
     "output_type": "stream",
     "text": [
      "C:\\Users\\User\\Desktop\\DSO\\traffic-prediction\\backend\\assets4_labels\\4712_1424_20240127142523_511001.txt\n",
      "\n"
     ]
    },
    {
     "name": "stderr",
     "output_type": "stream",
     "text": [
      "\n"
     ]
    },
    {
     "name": "stdout",
     "output_type": "stream",
     "text": [
      "0: 640x640 2 persons, 4 cars, 1 motorcycle, 4 trucks, 28.1ms\n",
      "Speed: 2.0ms preprocess, 28.1ms inference, 1.0ms postprocess per image at shape (1, 3, 640, 640)\n"
     ]
    },
    {
     "name": "stderr",
     "output_type": "stream",
     "text": [
      "Processing results: 100%|██████████| 1/1 [00:00<00:00, 499.50it/s]\n",
      "Processing images:  55%|█████▍    | 445/810 [00:23<00:19, 18.42it/s]"
     ]
    },
    {
     "name": "stdout",
     "output_type": "stream",
     "text": [
      "C:\\Users\\User\\Desktop\\DSO\\traffic-prediction\\backend\\assets4_labels\\4712_1429_20240127143035_571011.txt\n",
      "\n",
      "0: 640x640 1 person, 26.5ms\n",
      "Speed: 2.0ms preprocess, 26.5ms inference, 1.0ms postprocess per image at shape (1, 3, 640, 640)\n"
     ]
    },
    {
     "name": "stderr",
     "output_type": "stream",
     "text": [
      "Processing results: 100%|██████████| 1/1 [00:00<00:00, 999.12it/s]"
     ]
    },
    {
     "name": "stdout",
     "output_type": "stream",
     "text": [
      "C:\\Users\\User\\Desktop\\DSO\\traffic-prediction\\backend\\assets4_labels\\4712_1433_20240127143525_555755.txt\n",
      "\n"
     ]
    },
    {
     "name": "stderr",
     "output_type": "stream",
     "text": [
      "\n"
     ]
    },
    {
     "name": "stdout",
     "output_type": "stream",
     "text": [
      "0: 640x640 1 person, 2 trucks, 27.0ms\n",
      "Speed: 1.0ms preprocess, 27.0ms inference, 1.0ms postprocess per image at shape (1, 3, 640, 640)\n"
     ]
    },
    {
     "name": "stderr",
     "output_type": "stream",
     "text": [
      "Processing results: 100%|██████████| 1/1 [00:00<00:00, 285.39it/s]\n",
      "Processing images:  55%|█████▌    | 447/810 [00:23<00:19, 18.74it/s]"
     ]
    },
    {
     "name": "stdout",
     "output_type": "stream",
     "text": [
      "C:\\Users\\User\\Desktop\\DSO\\traffic-prediction\\backend\\assets4_labels\\4712_1439_20240127144026_491029.txt\n",
      "\n",
      "0: 640x640 2 cars, 26.9ms\n",
      "Speed: 1.0ms preprocess, 26.9ms inference, 1.5ms postprocess per image at shape (1, 3, 640, 640)\n"
     ]
    },
    {
     "name": "stderr",
     "output_type": "stream",
     "text": [
      "Processing results: 100%|██████████| 1/1 [00:00<00:00, 332.91it/s]"
     ]
    },
    {
     "name": "stdout",
     "output_type": "stream",
     "text": [
      "C:\\Users\\User\\Desktop\\DSO\\traffic-prediction\\backend\\assets4_labels\\4712_1444_20240127144548_565297.txt\n",
      "\n"
     ]
    },
    {
     "name": "stderr",
     "output_type": "stream",
     "text": [
      "\n"
     ]
    },
    {
     "name": "stdout",
     "output_type": "stream",
     "text": [
      "0: 640x640 3 cars, 26.0ms\n",
      "Speed: 2.0ms preprocess, 26.0ms inference, 1.0ms postprocess per image at shape (1, 3, 640, 640)\n"
     ]
    },
    {
     "name": "stderr",
     "output_type": "stream",
     "text": [
      "Processing results: 100%|██████████| 1/1 [00:00<00:00, 333.33it/s]\n",
      "Processing images:  55%|█████▌    | 449/810 [00:24<00:19, 18.62it/s]"
     ]
    },
    {
     "name": "stdout",
     "output_type": "stream",
     "text": [
      "C:\\Users\\User\\Desktop\\DSO\\traffic-prediction\\backend\\assets4_labels\\4712_1449_20240127145024_985310.txt\n",
      "\n",
      "0: 640x640 2 persons, 3 cars, 1 motorcycle, 27.5ms\n",
      "Speed: 2.0ms preprocess, 27.5ms inference, 2.0ms postprocess per image at shape (1, 3, 640, 640)\n"
     ]
    },
    {
     "name": "stderr",
     "output_type": "stream",
     "text": [
      "Processing results: 100%|██████████| 1/1 [00:00<00:00, 594.85it/s]"
     ]
    },
    {
     "name": "stdout",
     "output_type": "stream",
     "text": [
      "C:\\Users\\User\\Desktop\\DSO\\traffic-prediction\\backend\\assets4_labels\\4713_1408_20240127141019_549910.txt\n",
      "\n"
     ]
    },
    {
     "name": "stderr",
     "output_type": "stream",
     "text": [
      "\n"
     ]
    },
    {
     "name": "stdout",
     "output_type": "stream",
     "text": [
      "0: 640x640 1 person, 5 cars, 1 truck, 2 traffic lights, 28.1ms\n",
      "Speed: 1.0ms preprocess, 28.1ms inference, 1.0ms postprocess per image at shape (1, 3, 640, 640)\n"
     ]
    },
    {
     "name": "stderr",
     "output_type": "stream",
     "text": [
      "Processing results: 100%|██████████| 1/1 [00:00<00:00, 499.98it/s]\n",
      "Processing images:  56%|█████▌    | 451/810 [00:24<00:19, 18.59it/s]"
     ]
    },
    {
     "name": "stdout",
     "output_type": "stream",
     "text": [
      "C:\\Users\\User\\Desktop\\DSO\\traffic-prediction\\backend\\assets4_labels\\4713_1414_20240127141525_975154.txt\n",
      "\n",
      "0: 640x640 2 persons, 9 cars, 2 traffic lights, 1 clock, 27.9ms\n",
      "Speed: 2.0ms preprocess, 27.9ms inference, 1.2ms postprocess per image at shape (1, 3, 640, 640)\n"
     ]
    },
    {
     "name": "stderr",
     "output_type": "stream",
     "text": [
      "Processing results: 100%|██████████| 1/1 [00:00<00:00, 493.74it/s]"
     ]
    },
    {
     "name": "stdout",
     "output_type": "stream",
     "text": [
      "C:\\Users\\User\\Desktop\\DSO\\traffic-prediction\\backend\\assets4_labels\\4713_1419_20240127142016_102100.txt\n",
      "\n"
     ]
    },
    {
     "name": "stderr",
     "output_type": "stream",
     "text": [
      "\n"
     ]
    },
    {
     "name": "stdout",
     "output_type": "stream",
     "text": [
      "0: 640x640 2 persons, 4 cars, 1 truck, 2 traffic lights, 1 clock, 29.0ms\n",
      "Speed: 1.0ms preprocess, 29.0ms inference, 2.5ms postprocess per image at shape (1, 3, 640, 640)\n"
     ]
    },
    {
     "name": "stderr",
     "output_type": "stream",
     "text": [
      "Processing results: 100%|██████████| 1/1 [00:00<00:00, 497.78it/s]\n",
      "Processing images:  56%|█████▌    | 453/810 [00:24<00:19, 18.54it/s]"
     ]
    },
    {
     "name": "stdout",
     "output_type": "stream",
     "text": [
      "C:\\Users\\User\\Desktop\\DSO\\traffic-prediction\\backend\\assets4_labels\\4713_1423_20240127142520_995251.txt\n",
      "\n",
      "0: 640x640 4 persons, 2 cars, 1 traffic light, 1 clock, 26.9ms\n",
      "Speed: 2.0ms preprocess, 26.9ms inference, 2.0ms postprocess per image at shape (1, 3, 640, 640)\n"
     ]
    },
    {
     "name": "stderr",
     "output_type": "stream",
     "text": [
      "Processing results: 100%|██████████| 1/1 [00:00<00:00, 487.99it/s]"
     ]
    },
    {
     "name": "stdout",
     "output_type": "stream",
     "text": [
      "C:\\Users\\User\\Desktop\\DSO\\traffic-prediction\\backend\\assets4_labels\\4713_1429_20240127143025_504951.txt\n",
      "\n"
     ]
    },
    {
     "name": "stderr",
     "output_type": "stream",
     "text": [
      "\n"
     ]
    },
    {
     "name": "stdout",
     "output_type": "stream",
     "text": [
      "0: 640x640 1 person, 1 car, 1 traffic light, 1 clock, 28.1ms\n",
      "Speed: 1.0ms preprocess, 28.1ms inference, 2.0ms postprocess per image at shape (1, 3, 640, 640)\n"
     ]
    },
    {
     "name": "stderr",
     "output_type": "stream",
     "text": [
      "Processing results: 100%|██████████| 1/1 [00:00<00:00, 999.83it/s]\n",
      "Processing images:  56%|█████▌    | 455/810 [00:24<00:19, 18.50it/s]"
     ]
    },
    {
     "name": "stdout",
     "output_type": "stream",
     "text": [
      "C:\\Users\\User\\Desktop\\DSO\\traffic-prediction\\backend\\assets4_labels\\4713_1433_20240127143513_575110.txt\n",
      "\n",
      "0: 640x640 12 cars, 2 trucks, 1 traffic light, 27.3ms\n",
      "Speed: 1.1ms preprocess, 27.3ms inference, 2.6ms postprocess per image at shape (1, 3, 640, 640)\n"
     ]
    },
    {
     "name": "stderr",
     "output_type": "stream",
     "text": [
      "Processing results: 100%|██████████| 1/1 [00:00<00:00, 333.36it/s]"
     ]
    },
    {
     "name": "stdout",
     "output_type": "stream",
     "text": [
      "C:\\Users\\User\\Desktop\\DSO\\traffic-prediction\\backend\\assets4_labels\\4713_1439_20240127144013_545250.txt\n",
      "\n"
     ]
    },
    {
     "name": "stderr",
     "output_type": "stream",
     "text": [
      "\n"
     ]
    },
    {
     "name": "stdout",
     "output_type": "stream",
     "text": [
      "0: 640x640 3 persons, 4 cars, 1 truck, 2 traffic lights, 1 clock, 27.2ms\n",
      "Speed: 2.0ms preprocess, 27.2ms inference, 2.0ms postprocess per image at shape (1, 3, 640, 640)\n"
     ]
    },
    {
     "name": "stderr",
     "output_type": "stream",
     "text": [
      "Processing results: 100%|██████████| 1/1 [00:00<00:00, 500.45it/s]\n",
      "Processing images:  56%|█████▋    | 457/810 [00:24<00:19, 18.40it/s]"
     ]
    },
    {
     "name": "stdout",
     "output_type": "stream",
     "text": [
      "C:\\Users\\User\\Desktop\\DSO\\traffic-prediction\\backend\\assets4_labels\\4713_1444_20240127144541_102524.txt\n",
      "\n",
      "0: 640x640 2 persons, 4 cars, 2 trucks, 2 traffic lights, 1 clock, 27.0ms\n",
      "Speed: 2.0ms preprocess, 27.0ms inference, 1.3ms postprocess per image at shape (1, 3, 640, 640)\n"
     ]
    },
    {
     "name": "stderr",
     "output_type": "stream",
     "text": [
      "Processing results: 100%|██████████| 1/1 [00:00<00:00, 500.04it/s]"
     ]
    },
    {
     "name": "stdout",
     "output_type": "stream",
     "text": [
      "C:\\Users\\User\\Desktop\\DSO\\traffic-prediction\\backend\\assets4_labels\\4713_1448_20240127145021_541025.txt\n",
      "\n",
      "0: 640x640 2 persons, 4 cars, 1 truck, 1 traffic light, 27.0ms\n"
     ]
    },
    {
     "name": "stderr",
     "output_type": "stream",
     "text": [
      "\n"
     ]
    },
    {
     "name": "stdout",
     "output_type": "stream",
     "text": [
      "Speed: 2.2ms preprocess, 27.0ms inference, 2.0ms postprocess per image at shape (1, 3, 640, 640)\n"
     ]
    },
    {
     "name": "stderr",
     "output_type": "stream",
     "text": [
      "Processing results: 100%|██████████| 1/1 [00:00<00:00, 398.70it/s]\n",
      "Processing images:  57%|█████▋    | 459/810 [00:24<00:18, 18.60it/s]"
     ]
    },
    {
     "name": "stdout",
     "output_type": "stream",
     "text": [
      "C:\\Users\\User\\Desktop\\DSO\\traffic-prediction\\backend\\assets4_labels\\4714_1409_20240127141021_509753.txt\n",
      "\n",
      "0: 640x640 7 cars, 4 trucks, 25.5ms\n",
      "Speed: 1.5ms preprocess, 25.5ms inference, 2.0ms postprocess per image at shape (1, 3, 640, 640)\n"
     ]
    },
    {
     "name": "stderr",
     "output_type": "stream",
     "text": [
      "Processing results: 100%|██████████| 1/1 [00:00<00:00, 483.66it/s]"
     ]
    },
    {
     "name": "stdout",
     "output_type": "stream",
     "text": [
      "C:\\Users\\User\\Desktop\\DSO\\traffic-prediction\\backend\\assets4_labels\\4714_1414_20240127141526_102495.txt\n",
      "\n",
      "0: 640x640 9 cars, 1 truck, 25.5ms\n"
     ]
    },
    {
     "name": "stderr",
     "output_type": "stream",
     "text": [
      "\n"
     ]
    },
    {
     "name": "stdout",
     "output_type": "stream",
     "text": [
      "Speed: 3.0ms preprocess, 25.5ms inference, 1.0ms postprocess per image at shape (1, 3, 640, 640)\n"
     ]
    },
    {
     "name": "stderr",
     "output_type": "stream",
     "text": [
      "Processing results: 100%|██████████| 1/1 [00:00<00:00, 514.32it/s]\n",
      "Processing images:  57%|█████▋    | 461/810 [00:24<00:18, 18.76it/s]"
     ]
    },
    {
     "name": "stdout",
     "output_type": "stream",
     "text": [
      "C:\\Users\\User\\Desktop\\DSO\\traffic-prediction\\backend\\assets4_labels\\4714_1419_20240127142017_511004.txt\n",
      "\n",
      "0: 640x640 10 cars, 7 trucks, 25.4ms\n",
      "Speed: 2.0ms preprocess, 25.4ms inference, 1.5ms postprocess per image at shape (1, 3, 640, 640)\n"
     ]
    },
    {
     "name": "stderr",
     "output_type": "stream",
     "text": [
      "Processing results: 100%|██████████| 1/1 [00:00<00:00, 333.38it/s]"
     ]
    },
    {
     "name": "stdout",
     "output_type": "stream",
     "text": [
      "C:\\Users\\User\\Desktop\\DSO\\traffic-prediction\\backend\\assets4_labels\\4714_1424_20240127142521_102499.txt\n",
      "\n"
     ]
    },
    {
     "name": "stderr",
     "output_type": "stream",
     "text": [
      "\n"
     ]
    },
    {
     "name": "stdout",
     "output_type": "stream",
     "text": [
      "0: 640x640 1 person, 7 cars, 1 motorcycle, 5 trucks, 27.0ms\n",
      "Speed: 2.0ms preprocess, 27.0ms inference, 1.4ms postprocess per image at shape (1, 3, 640, 640)\n"
     ]
    },
    {
     "name": "stderr",
     "output_type": "stream",
     "text": [
      "Processing results: 100%|██████████| 1/1 [00:00<00:00, 398.05it/s]\n",
      "Processing images:  57%|█████▋    | 463/810 [00:24<00:18, 18.76it/s]"
     ]
    },
    {
     "name": "stdout",
     "output_type": "stream",
     "text": [
      "C:\\Users\\User\\Desktop\\DSO\\traffic-prediction\\backend\\assets4_labels\\4714_1429_20240127143026_101555.txt\n",
      "\n",
      "0: 640x640 9 cars, 3 trucks, 25.5ms\n",
      "Speed: 1.4ms preprocess, 25.5ms inference, 2.0ms postprocess per image at shape (1, 3, 640, 640)\n"
     ]
    },
    {
     "name": "stderr",
     "output_type": "stream",
     "text": [
      "Processing results: 100%|██████████| 1/1 [00:00<00:00, 393.76it/s]"
     ]
    },
    {
     "name": "stdout",
     "output_type": "stream",
     "text": [
      "C:\\Users\\User\\Desktop\\DSO\\traffic-prediction\\backend\\assets4_labels\\4714_1433_20240127143515_991025.txt\n",
      "\n"
     ]
    },
    {
     "name": "stderr",
     "output_type": "stream",
     "text": [
      "\n"
     ]
    },
    {
     "name": "stdout",
     "output_type": "stream",
     "text": [
      "0: 640x640 10 cars, 26.3ms\n",
      "Speed: 1.8ms preprocess, 26.3ms inference, 0.9ms postprocess per image at shape (1, 3, 640, 640)\n"
     ]
    },
    {
     "name": "stderr",
     "output_type": "stream",
     "text": [
      "Processing results: 100%|██████████| 1/1 [00:00<00:00, 500.16it/s]\n",
      "Processing images:  57%|█████▋    | 465/810 [00:24<00:18, 18.79it/s]"
     ]
    },
    {
     "name": "stdout",
     "output_type": "stream",
     "text": [
      "C:\\Users\\User\\Desktop\\DSO\\traffic-prediction\\backend\\assets4_labels\\4714_1439_20240127144013_525797.txt\n",
      "\n",
      "0: 640x640 7 cars, 2 trucks, 28.1ms\n",
      "Speed: 1.0ms preprocess, 28.1ms inference, 0.9ms postprocess per image at shape (1, 3, 640, 640)\n"
     ]
    },
    {
     "name": "stderr",
     "output_type": "stream",
     "text": [
      "Processing results: 100%|██████████| 1/1 [00:00<00:00, 304.69it/s]"
     ]
    },
    {
     "name": "stdout",
     "output_type": "stream",
     "text": [
      "C:\\Users\\User\\Desktop\\DSO\\traffic-prediction\\backend\\assets4_labels\\4714_1444_20240127144544_504910.txt\n",
      "\n"
     ]
    },
    {
     "name": "stderr",
     "output_type": "stream",
     "text": [
      "\n"
     ]
    },
    {
     "name": "stdout",
     "output_type": "stream",
     "text": [
      "0: 640x640 4 cars, 3 trucks, 26.0ms\n",
      "Speed: 2.5ms preprocess, 26.0ms inference, 2.0ms postprocess per image at shape (1, 3, 640, 640)\n"
     ]
    },
    {
     "name": "stderr",
     "output_type": "stream",
     "text": [
      "Processing results: 100%|██████████| 1/1 [00:00<00:00, 529.78it/s]\n",
      "Processing images:  58%|█████▊    | 467/810 [00:25<00:18, 18.77it/s]"
     ]
    },
    {
     "name": "stdout",
     "output_type": "stream",
     "text": [
      "C:\\Users\\User\\Desktop\\DSO\\traffic-prediction\\backend\\assets4_labels\\4714_1449_20240127145021_101551.txt\n",
      "\n",
      "0: 640x640 8 cars, 3 trucks, 26.2ms\n",
      "Speed: 2.0ms preprocess, 26.2ms inference, 1.9ms postprocess per image at shape (1, 3, 640, 640)\n"
     ]
    },
    {
     "name": "stderr",
     "output_type": "stream",
     "text": [
      "Processing results: 100%|██████████| 1/1 [00:00<00:00, 500.51it/s]"
     ]
    },
    {
     "name": "stdout",
     "output_type": "stream",
     "text": [
      "C:\\Users\\User\\Desktop\\DSO\\traffic-prediction\\backend\\assets4_labels\\4716_1408_20240127141022_485110.txt\n",
      "\n",
      "0: 640x640 1 person, 2 cars, 2 motorcycles, 4 trucks, 1 traffic light, 25.6ms\n"
     ]
    },
    {
     "name": "stderr",
     "output_type": "stream",
     "text": [
      "\n"
     ]
    },
    {
     "name": "stdout",
     "output_type": "stream",
     "text": [
      "Speed: 2.0ms preprocess, 25.6ms inference, 2.3ms postprocess per image at shape (1, 3, 640, 640)\n"
     ]
    },
    {
     "name": "stderr",
     "output_type": "stream",
     "text": [
      "Processing results: 100%|██████████| 1/1 [00:00<00:00, 398.93it/s]\n",
      "Processing images:  58%|█████▊    | 469/810 [00:25<00:18, 18.77it/s]"
     ]
    },
    {
     "name": "stdout",
     "output_type": "stream",
     "text": [
      "C:\\Users\\User\\Desktop\\DSO\\traffic-prediction\\backend\\assets4_labels\\4716_1414_20240127141528_494957.txt\n",
      "\n",
      "0: 640x640 2 trucks, 25.6ms\n",
      "Speed: 2.0ms preprocess, 25.6ms inference, 2.0ms postprocess per image at shape (1, 3, 640, 640)\n"
     ]
    },
    {
     "name": "stderr",
     "output_type": "stream",
     "text": [
      "Processing results: 100%|██████████| 1/1 [00:00<00:00, 498.43it/s]"
     ]
    },
    {
     "name": "stdout",
     "output_type": "stream",
     "text": [
      "C:\\Users\\User\\Desktop\\DSO\\traffic-prediction\\backend\\assets4_labels\\4716_1419_20240127142017_989752.txt\n",
      "\n"
     ]
    },
    {
     "name": "stderr",
     "output_type": "stream",
     "text": [
      "\n"
     ]
    },
    {
     "name": "stdout",
     "output_type": "stream",
     "text": [
      "0: 640x640 2 cars, 1 train, 1 truck, 26.9ms\n",
      "Speed: 2.0ms preprocess, 26.9ms inference, 2.0ms postprocess per image at shape (1, 3, 640, 640)\n"
     ]
    },
    {
     "name": "stderr",
     "output_type": "stream",
     "text": [
      "Processing results: 100%|██████████| 1/1 [00:00<00:00, 658.14it/s]\n",
      "Processing images:  58%|█████▊    | 471/810 [00:25<00:17, 18.91it/s]"
     ]
    },
    {
     "name": "stdout",
     "output_type": "stream",
     "text": [
      "C:\\Users\\User\\Desktop\\DSO\\traffic-prediction\\backend\\assets4_labels\\4716_1423_20240127142522_102981.txt\n",
      "\n",
      "0: 640x640 2 cars, 1 bus, 1 train, 1 traffic light, 37.2ms\n",
      "Speed: 1.1ms preprocess, 37.2ms inference, 3.0ms postprocess per image at shape (1, 3, 640, 640)\n"
     ]
    },
    {
     "name": "stderr",
     "output_type": "stream",
     "text": [
      "Processing results: 100%|██████████| 1/1 [00:00<00:00, 498.79it/s]"
     ]
    },
    {
     "name": "stdout",
     "output_type": "stream",
     "text": [
      "C:\\Users\\User\\Desktop\\DSO\\traffic-prediction\\backend\\assets4_labels\\4716_1429_20240127143027_491015.txt\n",
      "\n"
     ]
    },
    {
     "name": "stderr",
     "output_type": "stream",
     "text": [
      "\n"
     ]
    },
    {
     "name": "stdout",
     "output_type": "stream",
     "text": [
      "0: 640x640 3 cars, 2 trucks, 37.4ms\n",
      "Speed: 2.1ms preprocess, 37.4ms inference, 1.5ms postprocess per image at shape (1, 3, 640, 640)\n"
     ]
    },
    {
     "name": "stderr",
     "output_type": "stream",
     "text": [
      "Processing results: 100%|██████████| 1/1 [00:00<00:00, 664.60it/s]\n",
      "Processing images:  58%|█████▊    | 473/810 [00:25<00:18, 17.86it/s]"
     ]
    },
    {
     "name": "stdout",
     "output_type": "stream",
     "text": [
      "C:\\Users\\User\\Desktop\\DSO\\traffic-prediction\\backend\\assets4_labels\\4716_1433_20240127143516_575510.txt\n",
      "\n",
      "0: 640x640 1 train, 1 truck, 29.5ms\n",
      "Speed: 2.0ms preprocess, 29.5ms inference, 1.0ms postprocess per image at shape (1, 3, 640, 640)\n"
     ]
    },
    {
     "name": "stderr",
     "output_type": "stream",
     "text": [
      "Processing results: 100%|██████████| 1/1 [00:00<00:00, 875.27it/s]"
     ]
    },
    {
     "name": "stdout",
     "output_type": "stream",
     "text": [
      "C:\\Users\\User\\Desktop\\DSO\\traffic-prediction\\backend\\assets4_labels\\4716_1439_20240127144015_545497.txt\n",
      "\n",
      "0: 640x640 1 car, 28.4ms\n",
      "Speed: 2.0ms preprocess, 28.4ms inference, 1.5ms postprocess per image at shape (1, 3, 640, 640)\n"
     ]
    },
    {
     "name": "stderr",
     "output_type": "stream",
     "text": [
      "\n",
      "Processing results: 100%|██████████| 1/1 [00:00<00:00, 996.27it/s]\n",
      "Processing images:  59%|█████▊    | 475/810 [00:25<00:18, 18.14it/s]"
     ]
    },
    {
     "name": "stdout",
     "output_type": "stream",
     "text": [
      "C:\\Users\\User\\Desktop\\DSO\\traffic-prediction\\backend\\assets4_labels\\4716_1444_20240127144547_999955.txt\n",
      "\n",
      "0: 640x640 1 car, 1 train, 1 truck, 1 traffic light, 31.4ms\n",
      "Speed: 2.0ms preprocess, 31.4ms inference, 1.0ms postprocess per image at shape (1, 3, 640, 640)\n"
     ]
    },
    {
     "name": "stderr",
     "output_type": "stream",
     "text": [
      "Processing results: 100%|██████████| 1/1 [00:00<00:00, 333.28it/s]"
     ]
    },
    {
     "name": "stdout",
     "output_type": "stream",
     "text": [
      "C:\\Users\\User\\Desktop\\DSO\\traffic-prediction\\backend\\assets4_labels\\4716_1448_20240127145021_525448.txt\n",
      "\n"
     ]
    },
    {
     "name": "stderr",
     "output_type": "stream",
     "text": [
      "\n"
     ]
    },
    {
     "name": "stdout",
     "output_type": "stream",
     "text": [
      "0: 640x640 5 cars, 37.8ms\n",
      "Speed: 2.1ms preprocess, 37.8ms inference, 1.4ms postprocess per image at shape (1, 3, 640, 640)\n"
     ]
    },
    {
     "name": "stderr",
     "output_type": "stream",
     "text": [
      "Processing results: 100%|██████████| 1/1 [00:00<00:00, 500.04it/s]\n",
      "Processing images:  59%|█████▉    | 477/810 [00:25<00:18, 17.61it/s]"
     ]
    },
    {
     "name": "stdout",
     "output_type": "stream",
     "text": [
      "C:\\Users\\User\\Desktop\\DSO\\traffic-prediction\\backend\\assets4_labels\\4798_1408_20240127141024_565748.txt\n",
      "\n",
      "0: 640x640 3 cars, 1 train, 32.1ms\n",
      "Speed: 2.0ms preprocess, 32.1ms inference, 2.0ms postprocess per image at shape (1, 3, 640, 640)\n"
     ]
    },
    {
     "name": "stderr",
     "output_type": "stream",
     "text": [
      "Processing results: 100%|██████████| 1/1 [00:00<00:00, 997.46it/s]"
     ]
    },
    {
     "name": "stdout",
     "output_type": "stream",
     "text": [
      "C:\\Users\\User\\Desktop\\DSO\\traffic-prediction\\backend\\assets4_labels\\4798_1413_20240127141529_101100.txt\n",
      "\n",
      "0: 640x640 5 cars, 1 truck, 26.4ms\n"
     ]
    },
    {
     "name": "stderr",
     "output_type": "stream",
     "text": [
      "\n"
     ]
    },
    {
     "name": "stdout",
     "output_type": "stream",
     "text": [
      "Speed: 2.0ms preprocess, 26.4ms inference, 2.0ms postprocess per image at shape (1, 3, 640, 640)\n"
     ]
    },
    {
     "name": "stderr",
     "output_type": "stream",
     "text": [
      "Processing results: 100%|██████████| 1/1 [00:00<00:00, 497.01it/s]\n",
      "Processing images:  59%|█████▉    | 479/810 [00:25<00:18, 17.61it/s]"
     ]
    },
    {
     "name": "stdout",
     "output_type": "stream",
     "text": [
      "C:\\Users\\User\\Desktop\\DSO\\traffic-prediction\\backend\\assets4_labels\\4798_1418_20240127142017_545198.txt\n",
      "\n",
      "0: 640x640 3 cars, 2 trucks, 26.1ms\n",
      "Speed: 1.5ms preprocess, 26.1ms inference, 2.0ms postprocess per image at shape (1, 3, 640, 640)\n"
     ]
    },
    {
     "name": "stderr",
     "output_type": "stream",
     "text": [
      "Processing results: 100%|██████████| 1/1 [00:00<00:00, 475.49it/s]"
     ]
    },
    {
     "name": "stdout",
     "output_type": "stream",
     "text": [
      "C:\\Users\\User\\Desktop\\DSO\\traffic-prediction\\backend\\assets4_labels\\4798_1423_20240127142522_555249.txt\n",
      "\n"
     ]
    },
    {
     "name": "stderr",
     "output_type": "stream",
     "text": [
      "\n"
     ]
    },
    {
     "name": "stdout",
     "output_type": "stream",
     "text": [
      "0: 640x640 7 cars, 30.0ms\n",
      "Speed: 1.5ms preprocess, 30.0ms inference, 1.0ms postprocess per image at shape (1, 3, 640, 640)\n"
     ]
    },
    {
     "name": "stderr",
     "output_type": "stream",
     "text": [
      "Processing results: 100%|██████████| 1/1 [00:00<00:00, 999.83it/s]\n",
      "Processing images:  59%|█████▉    | 481/810 [00:25<00:18, 17.87it/s]"
     ]
    },
    {
     "name": "stdout",
     "output_type": "stream",
     "text": [
      "C:\\Users\\User\\Desktop\\DSO\\traffic-prediction\\backend\\assets4_labels\\4798_1428_20240127143029_515798.txt\n",
      "\n",
      "0: 640x640 9 cars, 1 bus, 1 truck, 1 traffic light, 27.3ms\n",
      "Speed: 2.0ms preprocess, 27.3ms inference, 2.0ms postprocess per image at shape (1, 3, 640, 640)\n"
     ]
    },
    {
     "name": "stderr",
     "output_type": "stream",
     "text": [
      "Processing results: 100%|██████████| 1/1 [00:00<00:00, 471.69it/s]"
     ]
    },
    {
     "name": "stdout",
     "output_type": "stream",
     "text": [
      "C:\\Users\\User\\Desktop\\DSO\\traffic-prediction\\backend\\assets4_labels\\4798_1433_20240127143518_511021.txt\n",
      "\n"
     ]
    },
    {
     "name": "stderr",
     "output_type": "stream",
     "text": [
      "\n"
     ]
    },
    {
     "name": "stdout",
     "output_type": "stream",
     "text": [
      "0: 640x640 3 cars, 1 truck, 32.8ms\n",
      "Speed: 2.0ms preprocess, 32.8ms inference, 2.0ms postprocess per image at shape (1, 3, 640, 640)\n"
     ]
    },
    {
     "name": "stderr",
     "output_type": "stream",
     "text": [
      "Processing results: 100%|██████████| 1/1 [00:00<00:00, 658.24it/s]\n",
      "Processing images:  60%|█████▉    | 483/810 [00:25<00:18, 17.82it/s]"
     ]
    },
    {
     "name": "stdout",
     "output_type": "stream",
     "text": [
      "C:\\Users\\User\\Desktop\\DSO\\traffic-prediction\\backend\\assets4_labels\\4798_1438_20240127144016_525799.txt\n",
      "\n",
      "0: 640x640 3 cars, 26.3ms\n",
      "Speed: 1.0ms preprocess, 26.3ms inference, 2.0ms postprocess per image at shape (1, 3, 640, 640)\n"
     ]
    },
    {
     "name": "stderr",
     "output_type": "stream",
     "text": [
      "Processing results: 100%|██████████| 1/1 [00:00<00:00, 995.09it/s]"
     ]
    },
    {
     "name": "stdout",
     "output_type": "stream",
     "text": [
      "C:\\Users\\User\\Desktop\\DSO\\traffic-prediction\\backend\\assets4_labels\\4798_1443_20240127144547_100989.txt\n",
      "\n"
     ]
    },
    {
     "name": "stderr",
     "output_type": "stream",
     "text": [
      "\n"
     ]
    },
    {
     "name": "stdout",
     "output_type": "stream",
     "text": [
      "0: 640x640 4 cars, 26.1ms\n",
      "Speed: 2.0ms preprocess, 26.1ms inference, 1.5ms postprocess per image at shape (1, 3, 640, 640)\n"
     ]
    },
    {
     "name": "stderr",
     "output_type": "stream",
     "text": [
      "Processing results: 100%|██████████| 1/1 [00:00<00:00, 499.86it/s]\n",
      "Processing images:  60%|█████▉    | 485/810 [00:26<00:17, 18.23it/s]"
     ]
    },
    {
     "name": "stdout",
     "output_type": "stream",
     "text": [
      "C:\\Users\\User\\Desktop\\DSO\\traffic-prediction\\backend\\assets4_labels\\4798_1448_20240127145021_101551.txt\n",
      "\n",
      "0: 640x640 6 cars, 3 trucks, 28.6ms\n",
      "Speed: 1.0ms preprocess, 28.6ms inference, 1.0ms postprocess per image at shape (1, 3, 640, 640)\n"
     ]
    },
    {
     "name": "stderr",
     "output_type": "stream",
     "text": [
      "Processing results: 100%|██████████| 1/1 [00:00<00:00, 398.21it/s]"
     ]
    },
    {
     "name": "stdout",
     "output_type": "stream",
     "text": [
      "C:\\Users\\User\\Desktop\\DSO\\traffic-prediction\\backend\\assets4_labels\\4799_1408_20240127141025_991025.txt\n",
      "\n"
     ]
    },
    {
     "name": "stderr",
     "output_type": "stream",
     "text": [
      "\n"
     ]
    },
    {
     "name": "stdout",
     "output_type": "stream",
     "text": [
      "0: 640x640 5 cars, 1 truck, 3 potted plants, 26.5ms\n",
      "Speed: 2.0ms preprocess, 26.5ms inference, 1.0ms postprocess per image at shape (1, 3, 640, 640)\n"
     ]
    },
    {
     "name": "stderr",
     "output_type": "stream",
     "text": [
      "Processing results: 100%|██████████| 1/1 [00:00<00:00, 500.27it/s]\n",
      "Processing images:  60%|██████    | 487/810 [00:26<00:17, 18.26it/s]"
     ]
    },
    {
     "name": "stdout",
     "output_type": "stream",
     "text": [
      "C:\\Users\\User\\Desktop\\DSO\\traffic-prediction\\backend\\assets4_labels\\4799_1413_20240127141532_495157.txt\n",
      "\n",
      "0: 640x640 7 cars, 1 truck, 3 potted plants, 26.0ms\n",
      "Speed: 2.0ms preprocess, 26.0ms inference, 1.5ms postprocess per image at shape (1, 3, 640, 640)\n"
     ]
    },
    {
     "name": "stderr",
     "output_type": "stream",
     "text": [
      "Processing results: 100%|██████████| 1/1 [00:00<00:00, 500.45it/s]"
     ]
    },
    {
     "name": "stdout",
     "output_type": "stream",
     "text": [
      "C:\\Users\\User\\Desktop\\DSO\\traffic-prediction\\backend\\assets4_labels\\4799_1419_20240127142017_555097.txt\n",
      "\n"
     ]
    },
    {
     "name": "stderr",
     "output_type": "stream",
     "text": [
      "\n"
     ]
    },
    {
     "name": "stdout",
     "output_type": "stream",
     "text": [
      "0: 640x640 5 cars, 1 bus, 2 trucks, 2 potted plants, 26.5ms\n",
      "Speed: 1.5ms preprocess, 26.5ms inference, 1.0ms postprocess per image at shape (1, 3, 640, 640)\n"
     ]
    },
    {
     "name": "stderr",
     "output_type": "stream",
     "text": [
      "Processing results: 100%|██████████| 1/1 [00:00<00:00, 499.56it/s]\n",
      "Processing images:  60%|██████    | 489/810 [00:26<00:17, 18.59it/s]"
     ]
    },
    {
     "name": "stdout",
     "output_type": "stream",
     "text": [
      "C:\\Users\\User\\Desktop\\DSO\\traffic-prediction\\backend\\assets4_labels\\4799_1423_20240127142522_505797.txt\n",
      "\n",
      "0: 640x640 4 cars, 1 train, 2 trucks, 1 potted plant, 27.1ms\n",
      "Speed: 1.0ms preprocess, 27.1ms inference, 1.1ms postprocess per image at shape (1, 3, 640, 640)\n"
     ]
    },
    {
     "name": "stderr",
     "output_type": "stream",
     "text": [
      "Processing results: 100%|██████████| 1/1 [00:00<00:00, 399.61it/s]"
     ]
    },
    {
     "name": "stdout",
     "output_type": "stream",
     "text": [
      "C:\\Users\\User\\Desktop\\DSO\\traffic-prediction\\backend\\assets4_labels\\4799_1428_20240127143032_551029.txt\n",
      "\n"
     ]
    },
    {
     "name": "stderr",
     "output_type": "stream",
     "text": [
      "\n"
     ]
    },
    {
     "name": "stdout",
     "output_type": "stream",
     "text": [
      "0: 640x640 8 cars, 4 trucks, 1 traffic light, 1 potted plant, 25.5ms\n",
      "Speed: 2.0ms preprocess, 25.5ms inference, 1.0ms postprocess per image at shape (1, 3, 640, 640)\n"
     ]
    },
    {
     "name": "stderr",
     "output_type": "stream",
     "text": [
      "Processing results: 100%|██████████| 1/1 [00:00<00:00, 331.72it/s]\n",
      "Processing images:  61%|██████    | 491/810 [00:26<00:16, 18.83it/s]"
     ]
    },
    {
     "name": "stdout",
     "output_type": "stream",
     "text": [
      "C:\\Users\\User\\Desktop\\DSO\\traffic-prediction\\backend\\assets4_labels\\4799_1433_20240127143519_525510.txt\n",
      "\n",
      "0: 640x640 1 person, 4 cars, 3 buss, 26.1ms\n",
      "Speed: 1.0ms preprocess, 26.1ms inference, 1.0ms postprocess per image at shape (1, 3, 640, 640)\n"
     ]
    },
    {
     "name": "stderr",
     "output_type": "stream",
     "text": [
      "Processing results: 100%|██████████| 1/1 [00:00<00:00, 451.10it/s]"
     ]
    },
    {
     "name": "stdout",
     "output_type": "stream",
     "text": [
      "C:\\Users\\User\\Desktop\\DSO\\traffic-prediction\\backend\\assets4_labels\\4799_1438_20240127144018_555552.txt\n",
      "\n"
     ]
    },
    {
     "name": "stderr",
     "output_type": "stream",
     "text": [
      "\n"
     ]
    },
    {
     "name": "stdout",
     "output_type": "stream",
     "text": [
      "0: 640x640 5 cars, 1 truck, 27.0ms\n",
      "Speed: 1.5ms preprocess, 27.0ms inference, 1.0ms postprocess per image at shape (1, 3, 640, 640)\n"
     ]
    },
    {
     "name": "stderr",
     "output_type": "stream",
     "text": [
      "Processing results: 100%|██████████| 1/1 [00:00<00:00, 514.89it/s]\n",
      "Processing images:  61%|██████    | 493/810 [00:26<00:16, 19.03it/s]"
     ]
    },
    {
     "name": "stdout",
     "output_type": "stream",
     "text": [
      "C:\\Users\\User\\Desktop\\DSO\\traffic-prediction\\backend\\assets4_labels\\4799_1443_20240127144548_535052.txt\n",
      "\n",
      "0: 640x640 1 person, 8 cars, 1 potted plant, 25.5ms\n",
      "Speed: 1.5ms preprocess, 25.5ms inference, 2.0ms postprocess per image at shape (1, 3, 640, 640)\n"
     ]
    },
    {
     "name": "stderr",
     "output_type": "stream",
     "text": [
      "Processing results: 100%|██████████| 1/1 [00:00<00:00, 661.15it/s]"
     ]
    },
    {
     "name": "stdout",
     "output_type": "stream",
     "text": [
      "C:\\Users\\User\\Desktop\\DSO\\traffic-prediction\\backend\\assets4_labels\\4799_1448_20240127145022_505057.txt\n",
      "\n",
      "0: 640x640 6 cars, 3 trucks, 1 potted plant, 26.1ms\n"
     ]
    },
    {
     "name": "stderr",
     "output_type": "stream",
     "text": [
      "\n"
     ]
    },
    {
     "name": "stdout",
     "output_type": "stream",
     "text": [
      "Speed: 1.7ms preprocess, 26.1ms inference, 2.5ms postprocess per image at shape (1, 3, 640, 640)\n"
     ]
    },
    {
     "name": "stderr",
     "output_type": "stream",
     "text": [
      "Processing results: 100%|██████████| 1/1 [00:00<00:00, 499.86it/s]\n",
      "Processing images:  61%|██████    | 495/810 [00:26<00:16, 19.09it/s]"
     ]
    },
    {
     "name": "stdout",
     "output_type": "stream",
     "text": [
      "C:\\Users\\User\\Desktop\\DSO\\traffic-prediction\\backend\\assets4_labels\\5794_1409_20240127141025_565510.txt\n",
      "\n",
      "0: 640x640 6 cars, 2 buss, 2 trucks, 26.1ms\n",
      "Speed: 2.0ms preprocess, 26.1ms inference, 2.0ms postprocess per image at shape (1, 3, 640, 640)\n"
     ]
    },
    {
     "name": "stderr",
     "output_type": "stream",
     "text": [
      "Processing results: 100%|██████████| 1/1 [00:00<00:00, 495.37it/s]"
     ]
    },
    {
     "name": "stdout",
     "output_type": "stream",
     "text": [
      "C:\\Users\\User\\Desktop\\DSO\\traffic-prediction\\backend\\assets4_labels\\5794_1414_20240127141534_565699.txt\n",
      "\n"
     ]
    },
    {
     "name": "stderr",
     "output_type": "stream",
     "text": [
      "\n"
     ]
    },
    {
     "name": "stdout",
     "output_type": "stream",
     "text": [
      "0: 640x640 5 cars, 3 trucks, 27.5ms\n",
      "Speed: 1.5ms preprocess, 27.5ms inference, 1.0ms postprocess per image at shape (1, 3, 640, 640)\n"
     ]
    },
    {
     "name": "stderr",
     "output_type": "stream",
     "text": [
      "Processing results: 100%|██████████| 1/1 [00:00<00:00, 412.50it/s]\n",
      "Processing images:  61%|██████▏   | 497/810 [00:26<00:16, 18.97it/s]"
     ]
    },
    {
     "name": "stdout",
     "output_type": "stream",
     "text": [
      "C:\\Users\\User\\Desktop\\DSO\\traffic-prediction\\backend\\assets4_labels\\5794_1419_20240127142017_101495.txt\n",
      "\n",
      "0: 640x640 8 cars, 25.4ms\n",
      "Speed: 2.0ms preprocess, 25.4ms inference, 2.5ms postprocess per image at shape (1, 3, 640, 640)\n"
     ]
    },
    {
     "name": "stderr",
     "output_type": "stream",
     "text": [
      "Processing results: 100%|██████████| 1/1 [00:00<00:00, 499.74it/s]"
     ]
    },
    {
     "name": "stdout",
     "output_type": "stream",
     "text": [
      "C:\\Users\\User\\Desktop\\DSO\\traffic-prediction\\backend\\assets4_labels\\5794_1424_20240127142522_504998.txt\n",
      "\n"
     ]
    },
    {
     "name": "stderr",
     "output_type": "stream",
     "text": [
      "\n"
     ]
    },
    {
     "name": "stdout",
     "output_type": "stream",
     "text": [
      "0: 640x640 1 person, 9 cars, 1 bus, 2 trucks, 27.0ms\n",
      "Speed: 1.0ms preprocess, 27.0ms inference, 2.0ms postprocess per image at shape (1, 3, 640, 640)\n"
     ]
    },
    {
     "name": "stderr",
     "output_type": "stream",
     "text": [
      "Processing results: 100%|██████████| 1/1 [00:00<00:00, 333.52it/s]\n",
      "Processing images:  62%|██████▏   | 499/810 [00:26<00:16, 19.06it/s]"
     ]
    },
    {
     "name": "stdout",
     "output_type": "stream",
     "text": [
      "C:\\Users\\User\\Desktop\\DSO\\traffic-prediction\\backend\\assets4_labels\\5794_1429_20240127143033_102985.txt\n",
      "\n",
      "0: 640x640 1 person, 7 cars, 1 motorcycle, 2 trucks, 25.5ms\n",
      "Speed: 2.0ms preprocess, 25.5ms inference, 2.0ms postprocess per image at shape (1, 3, 640, 640)\n"
     ]
    },
    {
     "name": "stderr",
     "output_type": "stream",
     "text": [
      "Processing results: 100%|██████████| 1/1 [00:00<00:00, 421.88it/s]"
     ]
    },
    {
     "name": "stdout",
     "output_type": "stream",
     "text": [
      "C:\\Users\\User\\Desktop\\DSO\\traffic-prediction\\backend\\assets4_labels\\5794_1434_20240127143521_985554.txt\n",
      "\n"
     ]
    },
    {
     "name": "stderr",
     "output_type": "stream",
     "text": [
      "\n"
     ]
    },
    {
     "name": "stdout",
     "output_type": "stream",
     "text": [
      "0: 640x640 8 cars, 2 trucks, 25.3ms\n",
      "Speed: 2.1ms preprocess, 25.3ms inference, 2.5ms postprocess per image at shape (1, 3, 640, 640)\n"
     ]
    },
    {
     "name": "stderr",
     "output_type": "stream",
     "text": [
      "Processing results: 100%|██████████| 1/1 [00:00<00:00, 499.98it/s]\n",
      "Processing images:  62%|██████▏   | 501/810 [00:26<00:16, 18.94it/s]"
     ]
    },
    {
     "name": "stdout",
     "output_type": "stream",
     "text": [
      "C:\\Users\\User\\Desktop\\DSO\\traffic-prediction\\backend\\assets4_labels\\5794_1439_20240127144019_579850.txt\n",
      "\n",
      "0: 640x640 6 cars, 25.0ms\n",
      "Speed: 3.0ms preprocess, 25.0ms inference, 1.9ms postprocess per image at shape (1, 3, 640, 640)\n"
     ]
    },
    {
     "name": "stderr",
     "output_type": "stream",
     "text": [
      "Processing results: 100%|██████████| 1/1 [00:00<00:00, 500.10it/s]"
     ]
    },
    {
     "name": "stdout",
     "output_type": "stream",
     "text": [
      "C:\\Users\\User\\Desktop\\DSO\\traffic-prediction\\backend\\assets4_labels\\5794_1444_20240127144550_531019.txt\n",
      "\n"
     ]
    },
    {
     "name": "stderr",
     "output_type": "stream",
     "text": [
      "\n"
     ]
    },
    {
     "name": "stdout",
     "output_type": "stream",
     "text": [
      "0: 640x640 8 cars, 1 bus, 3 trucks, 26.1ms\n",
      "Speed: 2.0ms preprocess, 26.1ms inference, 2.0ms postprocess per image at shape (1, 3, 640, 640)\n"
     ]
    },
    {
     "name": "stderr",
     "output_type": "stream",
     "text": [
      "Processing results: 100%|██████████| 1/1 [00:00<00:00, 301.01it/s]\n",
      "Processing images:  62%|██████▏   | 503/810 [00:26<00:16, 18.81it/s]"
     ]
    },
    {
     "name": "stdout",
     "output_type": "stream",
     "text": [
      "C:\\Users\\User\\Desktop\\DSO\\traffic-prediction\\backend\\assets4_labels\\5794_1449_20240127145022_549752.txt\n",
      "\n",
      "0: 640x640 1 person, 7 cars, 1 motorcycle, 26.9ms\n",
      "Speed: 1.0ms preprocess, 26.9ms inference, 0.5ms postprocess per image at shape (1, 3, 640, 640)\n"
     ]
    },
    {
     "name": "stderr",
     "output_type": "stream",
     "text": [
      "Processing results: 100%|██████████| 1/1 [00:00<00:00, 333.30it/s]"
     ]
    },
    {
     "name": "stdout",
     "output_type": "stream",
     "text": [
      "C:\\Users\\User\\Desktop\\DSO\\traffic-prediction\\backend\\assets4_labels\\5795_1408_20240127141019_545752.txt\n",
      "\n"
     ]
    },
    {
     "name": "stderr",
     "output_type": "stream",
     "text": [
      "\n"
     ]
    },
    {
     "name": "stdout",
     "output_type": "stream",
     "text": [
      "0: 640x640 1 person, 11 cars, 1 motorcycle, 1 bus, 2 trucks, 33.4ms\n",
      "Speed: 2.0ms preprocess, 33.4ms inference, 2.5ms postprocess per image at shape (1, 3, 640, 640)\n"
     ]
    },
    {
     "name": "stderr",
     "output_type": "stream",
     "text": [
      "Processing results: 100%|██████████| 1/1 [00:00<00:00, 333.52it/s]\n",
      "Processing images:  62%|██████▏   | 505/810 [00:27<00:16, 18.40it/s]"
     ]
    },
    {
     "name": "stdout",
     "output_type": "stream",
     "text": [
      "C:\\Users\\User\\Desktop\\DSO\\traffic-prediction\\backend\\assets4_labels\\5795_1413_20240127141532_485657.txt\n",
      "\n",
      "0: 640x640 18 cars, 2 buss, 4 trucks, 37.5ms\n",
      "Speed: 2.0ms preprocess, 37.5ms inference, 2.0ms postprocess per image at shape (1, 3, 640, 640)\n"
     ]
    },
    {
     "name": "stderr",
     "output_type": "stream",
     "text": [
      "Processing results: 100%|██████████| 1/1 [00:00<00:00, 163.94it/s]"
     ]
    },
    {
     "name": "stdout",
     "output_type": "stream",
     "text": [
      "C:\\Users\\User\\Desktop\\DSO\\traffic-prediction\\backend\\assets4_labels\\5795_1419_20240127142015_101101.txt\n",
      "\n"
     ]
    },
    {
     "name": "stderr",
     "output_type": "stream",
     "text": [
      "\n"
     ]
    },
    {
     "name": "stdout",
     "output_type": "stream",
     "text": [
      "0: 640x640 22 cars, 1 bus, 3 trucks, 38.1ms\n",
      "Speed: 2.0ms preprocess, 38.1ms inference, 2.0ms postprocess per image at shape (1, 3, 640, 640)\n"
     ]
    },
    {
     "name": "stderr",
     "output_type": "stream",
     "text": [
      "Processing results: 100%|██████████| 1/1 [00:00<00:00, 163.74it/s]\n",
      "Processing images:  63%|██████▎   | 507/810 [00:27<00:17, 17.14it/s]"
     ]
    },
    {
     "name": "stdout",
     "output_type": "stream",
     "text": [
      "C:\\Users\\User\\Desktop\\DSO\\traffic-prediction\\backend\\assets4_labels\\5795_1423_20240127142512_102504.txt\n",
      "\n",
      "0: 640x640 18 cars, 2 buss, 7 trucks, 26.2ms\n",
      "Speed: 1.5ms preprocess, 26.2ms inference, 2.0ms postprocess per image at shape (1, 3, 640, 640)\n"
     ]
    },
    {
     "name": "stderr",
     "output_type": "stream",
     "text": [
      "Processing results: 100%|██████████| 1/1 [00:00<00:00, 250.09it/s]"
     ]
    },
    {
     "name": "stdout",
     "output_type": "stream",
     "text": [
      "C:\\Users\\User\\Desktop\\DSO\\traffic-prediction\\backend\\assets4_labels\\5795_1428_20240127143016_484854.txt\n",
      "\n",
      "0: 640x640 16 cars, 2 buss, 4 trucks, 29.1ms\n",
      "Speed: 2.0ms preprocess, 29.1ms inference, 1.4ms postprocess per image at shape (1, 3, 640, 640)\n"
     ]
    },
    {
     "name": "stderr",
     "output_type": "stream",
     "text": [
      "\n",
      "Processing results: 100%|██████████| 1/1 [00:00<00:00, 331.49it/s]\n",
      "Processing images:  63%|██████▎   | 509/810 [00:27<00:17, 17.55it/s]"
     ]
    },
    {
     "name": "stdout",
     "output_type": "stream",
     "text": [
      "C:\\Users\\User\\Desktop\\DSO\\traffic-prediction\\backend\\assets4_labels\\5795_1433_20240127143524_571015.txt\n",
      "\n",
      "0: 640x640 18 cars, 2 buss, 5 trucks, 27.0ms\n",
      "Speed: 2.0ms preprocess, 27.0ms inference, 2.0ms postprocess per image at shape (1, 3, 640, 640)\n"
     ]
    },
    {
     "name": "stderr",
     "output_type": "stream",
     "text": [
      "Processing results: 100%|██████████| 1/1 [00:00<00:00, 283.26it/s]"
     ]
    },
    {
     "name": "stdout",
     "output_type": "stream",
     "text": [
      "C:\\Users\\User\\Desktop\\DSO\\traffic-prediction\\backend\\assets4_labels\\5795_1438_20240127144009_971025.txt\n",
      "\n"
     ]
    },
    {
     "name": "stderr",
     "output_type": "stream",
     "text": [
      "\n"
     ]
    },
    {
     "name": "stdout",
     "output_type": "stream",
     "text": [
      "0: 640x640 20 cars, 3 trucks, 26.9ms\n",
      "Speed: 1.5ms preprocess, 26.9ms inference, 1.5ms postprocess per image at shape (1, 3, 640, 640)\n"
     ]
    },
    {
     "name": "stderr",
     "output_type": "stream",
     "text": [
      "Processing results: 100%|██████████| 1/1 [00:00<00:00, 250.00it/s]\n",
      "Processing images:  63%|██████▎   | 511/810 [00:27<00:16, 17.92it/s]"
     ]
    },
    {
     "name": "stdout",
     "output_type": "stream",
     "text": [
      "C:\\Users\\User\\Desktop\\DSO\\traffic-prediction\\backend\\assets4_labels\\5795_1443_20240127144542_551025.txt\n",
      "\n",
      "0: 640x640 1 person, 14 cars, 1 motorcycle, 3 buss, 1 truck, 29.4ms\n",
      "Speed: 2.0ms preprocess, 29.4ms inference, 2.1ms postprocess per image at shape (1, 3, 640, 640)\n"
     ]
    },
    {
     "name": "stderr",
     "output_type": "stream",
     "text": [
      "Processing results: 100%|██████████| 1/1 [00:00<00:00, 332.54it/s]"
     ]
    },
    {
     "name": "stdout",
     "output_type": "stream",
     "text": [
      "C:\\Users\\User\\Desktop\\DSO\\traffic-prediction\\backend\\assets4_labels\\5795_1448_20240127145026_484810.txt\n",
      "\n"
     ]
    },
    {
     "name": "stderr",
     "output_type": "stream",
     "text": [
      "\n"
     ]
    },
    {
     "name": "stdout",
     "output_type": "stream",
     "text": [
      "0: 640x640 17 cars, 2 motorcycles, 2 buss, 30.0ms\n",
      "Speed: 2.0ms preprocess, 30.0ms inference, 1.5ms postprocess per image at shape (1, 3, 640, 640)\n"
     ]
    },
    {
     "name": "stderr",
     "output_type": "stream",
     "text": [
      "Processing results: 100%|██████████| 1/1 [00:00<00:00, 221.59it/s]\n",
      "Processing images:  63%|██████▎   | 513/810 [00:27<00:16, 17.77it/s]"
     ]
    },
    {
     "name": "stdout",
     "output_type": "stream",
     "text": [
      "C:\\Users\\User\\Desktop\\DSO\\traffic-prediction\\backend\\assets4_labels\\5797_1408_20240127141021_575552.txt\n",
      "\n",
      "0: 640x640 14 cars, 26.0ms\n",
      "Speed: 2.0ms preprocess, 26.0ms inference, 2.0ms postprocess per image at shape (1, 3, 640, 640)\n"
     ]
    },
    {
     "name": "stderr",
     "output_type": "stream",
     "text": [
      "Processing results: 100%|██████████| 1/1 [00:00<00:00, 332.70it/s]"
     ]
    },
    {
     "name": "stdout",
     "output_type": "stream",
     "text": [
      "C:\\Users\\User\\Desktop\\DSO\\traffic-prediction\\backend\\assets4_labels\\5797_1414_20240127141532_545448.txt\n",
      "\n"
     ]
    },
    {
     "name": "stderr",
     "output_type": "stream",
     "text": [
      "\n"
     ]
    },
    {
     "name": "stdout",
     "output_type": "stream",
     "text": [
      "0: 640x640 18 cars, 1 motorcycle, 26.2ms\n",
      "Speed: 2.0ms preprocess, 26.2ms inference, 2.0ms postprocess per image at shape (1, 3, 640, 640)\n"
     ]
    },
    {
     "name": "stderr",
     "output_type": "stream",
     "text": [
      "Processing results: 100%|██████████| 1/1 [00:00<00:00, 221.92it/s]\n",
      "Processing images:  64%|██████▎   | 515/810 [00:27<00:16, 17.99it/s]"
     ]
    },
    {
     "name": "stdout",
     "output_type": "stream",
     "text": [
      "C:\\Users\\User\\Desktop\\DSO\\traffic-prediction\\backend\\assets4_labels\\5797_1419_20240127142017_102504.txt\n",
      "\n",
      "0: 640x640 19 cars, 1 bus, 1 truck, 26.3ms\n",
      "Speed: 2.0ms preprocess, 26.3ms inference, 1.0ms postprocess per image at shape (1, 3, 640, 640)\n"
     ]
    },
    {
     "name": "stderr",
     "output_type": "stream",
     "text": [
      "Processing results: 100%|██████████| 1/1 [00:00<00:00, 247.90it/s]"
     ]
    },
    {
     "name": "stdout",
     "output_type": "stream",
     "text": [
      "C:\\Users\\User\\Desktop\\DSO\\traffic-prediction\\backend\\assets4_labels\\5797_1423_20240127142515_515051.txt\n",
      "\n"
     ]
    },
    {
     "name": "stderr",
     "output_type": "stream",
     "text": [
      "\n"
     ]
    },
    {
     "name": "stdout",
     "output_type": "stream",
     "text": [
      "0: 640x640 1 person, 15 cars, 1 motorcycle, 1 bus, 3 trucks, 25.4ms\n",
      "Speed: 2.1ms preprocess, 25.4ms inference, 1.0ms postprocess per image at shape (1, 3, 640, 640)\n"
     ]
    },
    {
     "name": "stderr",
     "output_type": "stream",
     "text": [
      "Processing results: 100%|██████████| 1/1 [00:00<00:00, 250.06it/s]\n",
      "Processing images:  64%|██████▍   | 517/810 [00:27<00:16, 18.04it/s]"
     ]
    },
    {
     "name": "stdout",
     "output_type": "stream",
     "text": [
      "C:\\Users\\User\\Desktop\\DSO\\traffic-prediction\\backend\\assets4_labels\\5797_1429_20240127143016_579949.txt\n",
      "\n",
      "0: 640x640 16 cars, 3 trucks, 26.5ms\n",
      "Speed: 1.0ms preprocess, 26.5ms inference, 1.5ms postprocess per image at shape (1, 3, 640, 640)\n"
     ]
    },
    {
     "name": "stderr",
     "output_type": "stream",
     "text": [
      "Processing results: 100%|██████████| 1/1 [00:00<00:00, 329.69it/s]"
     ]
    },
    {
     "name": "stdout",
     "output_type": "stream",
     "text": [
      "C:\\Users\\User\\Desktop\\DSO\\traffic-prediction\\backend\\assets4_labels\\5797_1433_20240127143525_545397.txt\n",
      "\n"
     ]
    },
    {
     "name": "stderr",
     "output_type": "stream",
     "text": [
      "\n"
     ]
    },
    {
     "name": "stdout",
     "output_type": "stream",
     "text": [
      "0: 640x640 1 person, 22 cars, 25.5ms\n",
      "Speed: 2.0ms preprocess, 25.5ms inference, 1.0ms postprocess per image at shape (1, 3, 640, 640)\n"
     ]
    },
    {
     "name": "stderr",
     "output_type": "stream",
     "text": [
      "Processing results: 100%|██████████| 1/1 [00:00<00:00, 330.13it/s]\n",
      "Processing images:  64%|██████▍   | 519/810 [00:27<00:15, 18.44it/s]"
     ]
    },
    {
     "name": "stdout",
     "output_type": "stream",
     "text": [
      "C:\\Users\\User\\Desktop\\DSO\\traffic-prediction\\backend\\assets4_labels\\5797_1439_20240127144010_975310.txt\n",
      "\n",
      "0: 640x640 1 person, 17 cars, 1 motorcycle, 1 bus, 1 truck, 25.9ms\n",
      "Speed: 2.0ms preprocess, 25.9ms inference, 1.0ms postprocess per image at shape (1, 3, 640, 640)\n"
     ]
    },
    {
     "name": "stderr",
     "output_type": "stream",
     "text": [
      "Processing results: 100%|██████████| 1/1 [00:00<00:00, 332.91it/s]"
     ]
    },
    {
     "name": "stdout",
     "output_type": "stream",
     "text": [
      "C:\\Users\\User\\Desktop\\DSO\\traffic-prediction\\backend\\assets4_labels\\5797_1444_20240127144544_529710.txt\n",
      "\n",
      "0: 640x640 1 person, 10 cars, 5 trucks, 26.0ms\n"
     ]
    },
    {
     "name": "stderr",
     "output_type": "stream",
     "text": [
      "\n"
     ]
    },
    {
     "name": "stdout",
     "output_type": "stream",
     "text": [
      "Speed: 2.0ms preprocess, 26.0ms inference, 1.0ms postprocess per image at shape (1, 3, 640, 640)\n"
     ]
    },
    {
     "name": "stderr",
     "output_type": "stream",
     "text": [
      "Processing results: 100%|██████████| 1/1 [00:00<00:00, 331.72it/s]\n",
      "Processing images:  64%|██████▍   | 521/810 [00:27<00:15, 18.72it/s]"
     ]
    },
    {
     "name": "stdout",
     "output_type": "stream",
     "text": [
      "C:\\Users\\User\\Desktop\\DSO\\traffic-prediction\\backend\\assets4_labels\\5797_1448_20240127145026_102975.txt\n",
      "\n",
      "0: 640x640 11 cars, 3 trucks, 26.6ms\n",
      "Speed: 1.3ms preprocess, 26.6ms inference, 1.0ms postprocess per image at shape (1, 3, 640, 640)\n"
     ]
    },
    {
     "name": "stderr",
     "output_type": "stream",
     "text": [
      "Processing results: 100%|██████████| 1/1 [00:00<00:00, 181.54it/s]"
     ]
    },
    {
     "name": "stdout",
     "output_type": "stream",
     "text": [
      "C:\\Users\\User\\Desktop\\DSO\\traffic-prediction\\backend\\assets4_labels\\5798_1409_20240127141022_535597.txt\n",
      "\n",
      "0: 640x640 17 cars, 1 truck, 1 clock, 26.2ms\n"
     ]
    },
    {
     "name": "stderr",
     "output_type": "stream",
     "text": [
      "\n"
     ]
    },
    {
     "name": "stdout",
     "output_type": "stream",
     "text": [
      "Speed: 2.0ms preprocess, 26.2ms inference, 2.0ms postprocess per image at shape (1, 3, 640, 640)\n"
     ]
    },
    {
     "name": "stderr",
     "output_type": "stream",
     "text": [
      "Processing results: 100%|██████████| 1/1 [00:00<00:00, 166.45it/s]\n",
      "Processing images:  65%|██████▍   | 523/810 [00:28<00:15, 18.50it/s]"
     ]
    },
    {
     "name": "stdout",
     "output_type": "stream",
     "text": [
      "C:\\Users\\User\\Desktop\\DSO\\traffic-prediction\\backend\\assets4_labels\\5798_1414_20240127141534_995055.txt\n",
      "\n",
      "0: 640x640 13 cars, 6 trucks, 1 clock, 25.1ms\n",
      "Speed: 2.0ms preprocess, 25.1ms inference, 2.3ms postprocess per image at shape (1, 3, 640, 640)\n"
     ]
    },
    {
     "name": "stderr",
     "output_type": "stream",
     "text": [
      "Processing results: 100%|██████████| 1/1 [00:00<00:00, 285.13it/s]"
     ]
    },
    {
     "name": "stdout",
     "output_type": "stream",
     "text": [
      "C:\\Users\\User\\Desktop\\DSO\\traffic-prediction\\backend\\assets4_labels\\5798_1419_20240127142020_494852.txt\n",
      "\n"
     ]
    },
    {
     "name": "stderr",
     "output_type": "stream",
     "text": [
      "\n"
     ]
    },
    {
     "name": "stdout",
     "output_type": "stream",
     "text": [
      "0: 640x640 15 cars, 1 bus, 5 trucks, 26.4ms\n",
      "Speed: 1.0ms preprocess, 26.4ms inference, 1.0ms postprocess per image at shape (1, 3, 640, 640)\n"
     ]
    },
    {
     "name": "stderr",
     "output_type": "stream",
     "text": [
      "Processing results: 100%|██████████| 1/1 [00:00<00:00, 287.69it/s]\n",
      "Processing images:  65%|██████▍   | 525/810 [00:28<00:15, 18.53it/s]"
     ]
    },
    {
     "name": "stdout",
     "output_type": "stream",
     "text": [
      "C:\\Users\\User\\Desktop\\DSO\\traffic-prediction\\backend\\assets4_labels\\5798_1424_20240127142517_975149.txt\n",
      "\n",
      "0: 640x640 16 cars, 1 bus, 7 trucks, 1 clock, 25.1ms\n",
      "Speed: 1.8ms preprocess, 25.1ms inference, 2.5ms postprocess per image at shape (1, 3, 640, 640)\n"
     ]
    },
    {
     "name": "stderr",
     "output_type": "stream",
     "text": [
      "Processing results: 100%|██████████| 1/1 [00:00<00:00, 249.82it/s]"
     ]
    },
    {
     "name": "stdout",
     "output_type": "stream",
     "text": [
      "C:\\Users\\User\\Desktop\\DSO\\traffic-prediction\\backend\\assets4_labels\\5798_1429_20240127143021_515798.txt\n",
      "\n"
     ]
    },
    {
     "name": "stderr",
     "output_type": "stream",
     "text": [
      "\n"
     ]
    },
    {
     "name": "stdout",
     "output_type": "stream",
     "text": [
      "0: 640x640 22 cars, 1 bus, 6 trucks, 26.0ms\n",
      "Speed: 2.0ms preprocess, 26.0ms inference, 2.0ms postprocess per image at shape (1, 3, 640, 640)\n"
     ]
    },
    {
     "name": "stderr",
     "output_type": "stream",
     "text": [
      "Processing results: 100%|██████████| 1/1 [00:00<00:00, 249.13it/s]\n",
      "Processing images:  65%|██████▌   | 527/810 [00:28<00:15, 18.46it/s]"
     ]
    },
    {
     "name": "stdout",
     "output_type": "stream",
     "text": [
      "C:\\Users\\User\\Desktop\\DSO\\traffic-prediction\\backend\\assets4_labels\\5798_1433_20240127143525_494856.txt\n",
      "\n",
      "0: 640x640 13 cars, 3 buss, 5 trucks, 26.5ms\n",
      "Speed: 1.0ms preprocess, 26.5ms inference, 2.0ms postprocess per image at shape (1, 3, 640, 640)\n"
     ]
    },
    {
     "name": "stderr",
     "output_type": "stream",
     "text": [
      "Processing results: 100%|██████████| 1/1 [00:00<00:00, 142.45it/s]"
     ]
    },
    {
     "name": "stdout",
     "output_type": "stream",
     "text": [
      "C:\\Users\\User\\Desktop\\DSO\\traffic-prediction\\backend\\assets4_labels\\5798_1439_20240127144010_505198.txt\n",
      "\n"
     ]
    },
    {
     "name": "stderr",
     "output_type": "stream",
     "text": [
      "\n"
     ]
    },
    {
     "name": "stdout",
     "output_type": "stream",
     "text": [
      "0: 640x640 20 cars, 4 trucks, 1 clock, 26.6ms\n",
      "Speed: 2.0ms preprocess, 26.6ms inference, 1.5ms postprocess per image at shape (1, 3, 640, 640)\n"
     ]
    },
    {
     "name": "stderr",
     "output_type": "stream",
     "text": [
      "Processing results: 100%|██████████| 1/1 [00:00<00:00, 133.66it/s]\n",
      "Processing images:  65%|██████▌   | 529/810 [00:28<00:15, 17.95it/s]"
     ]
    },
    {
     "name": "stdout",
     "output_type": "stream",
     "text": [
      "C:\\Users\\User\\Desktop\\DSO\\traffic-prediction\\backend\\assets4_labels\\5798_1444_20240127144545_569710.txt\n",
      "\n",
      "0: 640x640 1 person, 16 cars, 3 buss, 2 trucks, 1 clock, 26.2ms\n",
      "Speed: 2.0ms preprocess, 26.2ms inference, 2.0ms postprocess per image at shape (1, 3, 640, 640)\n"
     ]
    },
    {
     "name": "stderr",
     "output_type": "stream",
     "text": [
      "Processing results: 100%|██████████| 1/1 [00:00<00:00, 152.65it/s]"
     ]
    },
    {
     "name": "stdout",
     "output_type": "stream",
     "text": [
      "C:\\Users\\User\\Desktop\\DSO\\traffic-prediction\\backend\\assets4_labels\\5798_1449_20240127145027_554948.txt\n",
      "\n"
     ]
    },
    {
     "name": "stderr",
     "output_type": "stream",
     "text": [
      "\n"
     ]
    },
    {
     "name": "stdout",
     "output_type": "stream",
     "text": [
      "0: 640x640 16 cars, 2 buss, 2 trucks, 1 clock, 26.3ms\n",
      "Speed: 3.0ms preprocess, 26.3ms inference, 1.0ms postprocess per image at shape (1, 3, 640, 640)\n"
     ]
    },
    {
     "name": "stderr",
     "output_type": "stream",
     "text": [
      "Processing results: 100%|██████████| 1/1 [00:00<00:00, 257.52it/s]\n",
      "Processing images:  66%|██████▌   | 531/810 [00:28<00:16, 17.12it/s]"
     ]
    },
    {
     "name": "stdout",
     "output_type": "stream",
     "text": [
      "C:\\Users\\User\\Desktop\\DSO\\traffic-prediction\\backend\\assets4_labels\\5799_1408_20240127141025_102574.txt\n",
      "\n",
      "0: 640x640 16 cars, 8 trucks, 27.1ms\n",
      "Speed: 2.0ms preprocess, 27.1ms inference, 1.0ms postprocess per image at shape (1, 3, 640, 640)\n"
     ]
    },
    {
     "name": "stderr",
     "output_type": "stream",
     "text": [
      "Processing results: 100%|██████████| 1/1 [00:00<00:00, 237.11it/s]"
     ]
    },
    {
     "name": "stdout",
     "output_type": "stream",
     "text": [
      "C:\\Users\\User\\Desktop\\DSO\\traffic-prediction\\backend\\assets4_labels\\5799_1413_20240127141534_565797.txt\n",
      "\n",
      "0: 640x640 23 cars, 2 buss, 2 trucks, 25.0ms\n",
      "Speed: 2.0ms preprocess, 25.0ms inference, 2.5ms postprocess per image at shape (1, 3, 640, 640)\n"
     ]
    },
    {
     "name": "stderr",
     "output_type": "stream",
     "text": [
      "\n",
      "Processing results: 100%|██████████| 1/1 [00:00<00:00, 249.99it/s]\n",
      "Processing images:  66%|██████▌   | 533/810 [00:28<00:15, 17.63it/s]"
     ]
    },
    {
     "name": "stdout",
     "output_type": "stream",
     "text": [
      "C:\\Users\\User\\Desktop\\DSO\\traffic-prediction\\backend\\assets4_labels\\5799_1419_20240127142024_985710.txt\n",
      "\n",
      "0: 640x640 1 person, 23 cars, 1 motorcycle, 1 bus, 7 trucks, 26.6ms\n",
      "Speed: 2.0ms preprocess, 26.6ms inference, 1.0ms postprocess per image at shape (1, 3, 640, 640)\n"
     ]
    },
    {
     "name": "stderr",
     "output_type": "stream",
     "text": [
      "Processing results: 100%|██████████| 1/1 [00:00<00:00, 221.50it/s]"
     ]
    },
    {
     "name": "stdout",
     "output_type": "stream",
     "text": [
      "C:\\Users\\User\\Desktop\\DSO\\traffic-prediction\\backend\\assets4_labels\\5799_1423_20240127142520_541015.txt\n",
      "\n"
     ]
    },
    {
     "name": "stderr",
     "output_type": "stream",
     "text": [
      "\n"
     ]
    },
    {
     "name": "stdout",
     "output_type": "stream",
     "text": [
      "0: 640x640 21 cars, 18 trucks, 25.5ms\n",
      "Speed: 2.0ms preprocess, 25.5ms inference, 2.0ms postprocess per image at shape (1, 3, 640, 640)\n"
     ]
    },
    {
     "name": "stderr",
     "output_type": "stream",
     "text": [
      "Processing results: 100%|██████████| 1/1 [00:00<00:00, 248.18it/s]\n",
      "Processing images:  66%|██████▌   | 535/810 [00:28<00:15, 17.98it/s]"
     ]
    },
    {
     "name": "stdout",
     "output_type": "stream",
     "text": [
      "C:\\Users\\User\\Desktop\\DSO\\traffic-prediction\\backend\\assets4_labels\\5799_1429_20240127143024_549854.txt\n",
      "\n",
      "0: 640x640 19 cars, 1 bus, 4 trucks, 26.2ms\n",
      "Speed: 1.0ms preprocess, 26.2ms inference, 2.0ms postprocess per image at shape (1, 3, 640, 640)\n"
     ]
    },
    {
     "name": "stderr",
     "output_type": "stream",
     "text": [
      "Processing results: 100%|██████████| 1/1 [00:00<00:00, 250.03it/s]"
     ]
    },
    {
     "name": "stdout",
     "output_type": "stream",
     "text": [
      "C:\\Users\\User\\Desktop\\DSO\\traffic-prediction\\backend\\assets4_labels\\5799_1433_20240127143527_555597.txt\n",
      "\n"
     ]
    },
    {
     "name": "stderr",
     "output_type": "stream",
     "text": [
      "\n"
     ]
    },
    {
     "name": "stdout",
     "output_type": "stream",
     "text": [
      "0: 640x640 1 person, 23 cars, 4 trucks, 25.4ms\n",
      "Speed: 2.0ms preprocess, 25.4ms inference, 2.0ms postprocess per image at shape (1, 3, 640, 640)\n"
     ]
    },
    {
     "name": "stderr",
     "output_type": "stream",
     "text": [
      "Processing results: 100%|██████████| 1/1 [00:00<00:00, 177.42it/s]\n",
      "Processing images:  66%|██████▋   | 537/810 [00:28<00:15, 18.09it/s]"
     ]
    },
    {
     "name": "stdout",
     "output_type": "stream",
     "text": [
      "C:\\Users\\User\\Desktop\\DSO\\traffic-prediction\\backend\\assets4_labels\\5799_1439_20240127144011_579755.txt\n",
      "\n",
      "0: 640x640 2 persons, 18 cars, 1 motorcycle, 9 trucks, 26.2ms\n",
      "Speed: 2.0ms preprocess, 26.2ms inference, 1.0ms postprocess per image at shape (1, 3, 640, 640)\n"
     ]
    },
    {
     "name": "stderr",
     "output_type": "stream",
     "text": [
      "Processing results: 100%|██████████| 1/1 [00:00<00:00, 282.79it/s]"
     ]
    },
    {
     "name": "stdout",
     "output_type": "stream",
     "text": [
      "C:\\Users\\User\\Desktop\\DSO\\traffic-prediction\\backend\\assets4_labels\\5799_1444_20240127144547_575149.txt\n",
      "\n"
     ]
    },
    {
     "name": "stderr",
     "output_type": "stream",
     "text": [
      "\n"
     ]
    },
    {
     "name": "stdout",
     "output_type": "stream",
     "text": [
      "0: 640x640 1 person, 18 cars, 1 bus, 5 trucks, 28.1ms\n",
      "Speed: 2.5ms preprocess, 28.1ms inference, 1.0ms postprocess per image at shape (1, 3, 640, 640)\n"
     ]
    },
    {
     "name": "stderr",
     "output_type": "stream",
     "text": [
      "Processing results: 100%|██████████| 1/1 [00:00<00:00, 249.14it/s]\n",
      "Processing images:  67%|██████▋   | 539/810 [00:28<00:14, 18.21it/s]"
     ]
    },
    {
     "name": "stdout",
     "output_type": "stream",
     "text": [
      "C:\\Users\\User\\Desktop\\DSO\\traffic-prediction\\backend\\assets4_labels\\5799_1448_20240127145027_531025.txt\n",
      "\n",
      "0: 640x640 2 persons, 19 cars, 1 motorcycle, 8 trucks, 26.8ms\n",
      "Speed: 2.0ms preprocess, 26.8ms inference, 2.0ms postprocess per image at shape (1, 3, 640, 640)\n"
     ]
    },
    {
     "name": "stderr",
     "output_type": "stream",
     "text": [
      "Processing results: 100%|██████████| 1/1 [00:00<00:00, 236.27it/s]"
     ]
    },
    {
     "name": "stdout",
     "output_type": "stream",
     "text": [
      "C:\\Users\\User\\Desktop\\DSO\\traffic-prediction\\backend\\assets4_labels\\6701_1408_20240127141027_551024.txt\n",
      "\n"
     ]
    },
    {
     "name": "stderr",
     "output_type": "stream",
     "text": [
      "\n"
     ]
    },
    {
     "name": "stdout",
     "output_type": "stream",
     "text": [
      "0: 640x640 1 person, 13 cars, 3 trucks, 30.0ms\n",
      "Speed: 2.0ms preprocess, 30.0ms inference, 2.0ms postprocess per image at shape (1, 3, 640, 640)\n"
     ]
    },
    {
     "name": "stderr",
     "output_type": "stream",
     "text": [
      "Processing results: 100%|██████████| 1/1 [00:00<00:00, 284.88it/s]\n",
      "Processing images:  67%|██████▋   | 541/810 [00:29<00:14, 18.02it/s]"
     ]
    },
    {
     "name": "stdout",
     "output_type": "stream",
     "text": [
      "C:\\Users\\User\\Desktop\\DSO\\traffic-prediction\\backend\\assets4_labels\\6701_1413_20240127141534_100575.txt\n",
      "\n",
      "0: 640x640 13 cars, 1 train, 2 trucks, 33.9ms\n",
      "Speed: 2.1ms preprocess, 33.9ms inference, 1.0ms postprocess per image at shape (1, 3, 640, 640)\n"
     ]
    },
    {
     "name": "stderr",
     "output_type": "stream",
     "text": [
      "Processing results: 100%|██████████| 1/1 [00:00<00:00, 339.98it/s]"
     ]
    },
    {
     "name": "stdout",
     "output_type": "stream",
     "text": [
      "C:\\Users\\User\\Desktop\\DSO\\traffic-prediction\\backend\\assets4_labels\\6701_1419_20240127142027_101504.txt\n",
      "\n"
     ]
    },
    {
     "name": "stderr",
     "output_type": "stream",
     "text": [
      "\n"
     ]
    },
    {
     "name": "stdout",
     "output_type": "stream",
     "text": [
      "0: 640x640 1 person, 12 cars, 2 motorcycles, 1 truck, 29.6ms\n",
      "Speed: 1.0ms preprocess, 29.6ms inference, 3.0ms postprocess per image at shape (1, 3, 640, 640)\n"
     ]
    },
    {
     "name": "stderr",
     "output_type": "stream",
     "text": [
      "Processing results: 100%|██████████| 1/1 [00:00<00:00, 210.95it/s]\n",
      "Processing images:  67%|██████▋   | 543/810 [00:29<00:15, 17.62it/s]"
     ]
    },
    {
     "name": "stdout",
     "output_type": "stream",
     "text": [
      "C:\\Users\\User\\Desktop\\DSO\\traffic-prediction\\backend\\assets4_labels\\6701_1423_20240127142521_559897.txt\n",
      "\n",
      "0: 640x640 1 person, 15 cars, 1 truck, 33.8ms\n",
      "Speed: 2.3ms preprocess, 33.8ms inference, 2.0ms postprocess per image at shape (1, 3, 640, 640)\n"
     ]
    },
    {
     "name": "stderr",
     "output_type": "stream",
     "text": [
      "Processing results: 100%|██████████| 1/1 [00:00<00:00, 303.39it/s]"
     ]
    },
    {
     "name": "stdout",
     "output_type": "stream",
     "text": [
      "C:\\Users\\User\\Desktop\\DSO\\traffic-prediction\\backend\\assets4_labels\\6701_1428_20240127143025_100100.txt\n",
      "\n",
      "0: 640x640 1 person, 15 cars, 1 bus, 4 trucks, 1 traffic light, 34.2ms\n"
     ]
    },
    {
     "name": "stderr",
     "output_type": "stream",
     "text": [
      "\n"
     ]
    },
    {
     "name": "stdout",
     "output_type": "stream",
     "text": [
      "Speed: 1.4ms preprocess, 34.2ms inference, 2.0ms postprocess per image at shape (1, 3, 640, 640)\n"
     ]
    },
    {
     "name": "stderr",
     "output_type": "stream",
     "text": [
      "Processing results: 100%|██████████| 1/1 [00:00<00:00, 222.03it/s]\n",
      "Processing images:  67%|██████▋   | 545/810 [00:29<00:15, 17.01it/s]"
     ]
    },
    {
     "name": "stdout",
     "output_type": "stream",
     "text": [
      "C:\\Users\\User\\Desktop\\DSO\\traffic-prediction\\backend\\assets4_labels\\6701_1433_20240127143527_999710.txt\n",
      "\n",
      "0: 640x640 3 persons, 14 cars, 1 motorcycle, 1 bus, 1 truck, 26.5ms\n",
      "Speed: 2.0ms preprocess, 26.5ms inference, 2.0ms postprocess per image at shape (1, 3, 640, 640)\n"
     ]
    },
    {
     "name": "stderr",
     "output_type": "stream",
     "text": [
      "Processing results: 100%|██████████| 1/1 [00:00<00:00, 211.08it/s]"
     ]
    },
    {
     "name": "stdout",
     "output_type": "stream",
     "text": [
      "C:\\Users\\User\\Desktop\\DSO\\traffic-prediction\\backend\\assets4_labels\\6701_1438_20240127144012_505457.txt\n",
      "\n"
     ]
    },
    {
     "name": "stderr",
     "output_type": "stream",
     "text": [
      "\n"
     ]
    },
    {
     "name": "stdout",
     "output_type": "stream",
     "text": [
      "0: 640x640 1 person, 11 cars, 1 truck, 30.6ms\n",
      "Speed: 1.0ms preprocess, 30.6ms inference, 3.0ms postprocess per image at shape (1, 3, 640, 640)\n"
     ]
    },
    {
     "name": "stderr",
     "output_type": "stream",
     "text": [
      "Processing results: 100%|██████████| 1/1 [00:00<00:00, 267.84it/s]\n",
      "Processing images:  68%|██████▊   | 547/810 [00:29<00:15, 17.10it/s]"
     ]
    },
    {
     "name": "stdout",
     "output_type": "stream",
     "text": [
      "C:\\Users\\User\\Desktop\\DSO\\traffic-prediction\\backend\\assets4_labels\\6701_1443_20240127144547_515752.txt\n",
      "\n",
      "0: 640x640 1 person, 18 cars, 4 trucks, 28.2ms\n",
      "Speed: 2.2ms preprocess, 28.2ms inference, 1.0ms postprocess per image at shape (1, 3, 640, 640)\n"
     ]
    },
    {
     "name": "stderr",
     "output_type": "stream",
     "text": [
      "Processing results: 100%|██████████| 1/1 [00:00<00:00, 397.83it/s]"
     ]
    },
    {
     "name": "stdout",
     "output_type": "stream",
     "text": [
      "C:\\Users\\User\\Desktop\\DSO\\traffic-prediction\\backend\\assets4_labels\\6701_1448_20240127145027_101545.txt\n",
      "\n"
     ]
    },
    {
     "name": "stderr",
     "output_type": "stream",
     "text": [
      "\n"
     ]
    },
    {
     "name": "stdout",
     "output_type": "stream",
     "text": [
      "0: 640x640 1 person, 14 cars, 1 bus, 4 trucks, 1 traffic light, 27.6ms\n",
      "Speed: 2.5ms preprocess, 27.6ms inference, 2.0ms postprocess per image at shape (1, 3, 640, 640)\n"
     ]
    },
    {
     "name": "stderr",
     "output_type": "stream",
     "text": [
      "Processing results: 100%|██████████| 1/1 [00:00<00:00, 249.85it/s]\n",
      "Processing images:  68%|██████▊   | 549/810 [00:29<00:15, 17.36it/s]"
     ]
    },
    {
     "name": "stdout",
     "output_type": "stream",
     "text": [
      "C:\\Users\\User\\Desktop\\DSO\\traffic-prediction\\backend\\assets4_labels\\6703_1408_20240127141018_985154.txt\n",
      "\n",
      "0: 640x640 13 cars, 2 buss, 8 trucks, 28.2ms\n",
      "Speed: 1.0ms preprocess, 28.2ms inference, 1.4ms postprocess per image at shape (1, 3, 640, 640)\n"
     ]
    },
    {
     "name": "stderr",
     "output_type": "stream",
     "text": [
      "Processing results: 100%|██████████| 1/1 [00:00<00:00, 219.56it/s]"
     ]
    },
    {
     "name": "stdout",
     "output_type": "stream",
     "text": [
      "C:\\Users\\User\\Desktop\\DSO\\traffic-prediction\\backend\\assets4_labels\\6703_1413_20240127141525_514852.txt\n",
      "\n"
     ]
    },
    {
     "name": "stderr",
     "output_type": "stream",
     "text": [
      "\n"
     ]
    },
    {
     "name": "stdout",
     "output_type": "stream",
     "text": [
      "0: 640x640 14 cars, 2 buss, 4 trucks, 1 traffic light, 27.6ms\n",
      "Speed: 2.5ms preprocess, 27.6ms inference, 1.5ms postprocess per image at shape (1, 3, 640, 640)\n"
     ]
    },
    {
     "name": "stderr",
     "output_type": "stream",
     "text": [
      "Processing results: 100%|██████████| 1/1 [00:00<00:00, 333.30it/s]\n",
      "Processing images:  68%|██████▊   | 551/810 [00:29<00:14, 17.60it/s]"
     ]
    },
    {
     "name": "stdout",
     "output_type": "stream",
     "text": [
      "C:\\Users\\User\\Desktop\\DSO\\traffic-prediction\\backend\\assets4_labels\\6703_1418_20240127142014_565798.txt\n",
      "\n",
      "0: 640x640 20 cars, 5 trucks, 25.6ms\n",
      "Speed: 2.0ms preprocess, 25.6ms inference, 1.5ms postprocess per image at shape (1, 3, 640, 640)\n"
     ]
    },
    {
     "name": "stderr",
     "output_type": "stream",
     "text": [
      "Processing results: 100%|██████████| 1/1 [00:00<00:00, 250.09it/s]"
     ]
    },
    {
     "name": "stdout",
     "output_type": "stream",
     "text": [
      "C:\\Users\\User\\Desktop\\DSO\\traffic-prediction\\backend\\assets4_labels\\6703_1423_20240127142500_102534.txt\n",
      "\n"
     ]
    },
    {
     "name": "stderr",
     "output_type": "stream",
     "text": [
      "\n"
     ]
    },
    {
     "name": "stdout",
     "output_type": "stream",
     "text": [
      "0: 640x640 13 cars, 1 bus, 1 truck, 26.0ms\n",
      "Speed: 2.0ms preprocess, 26.0ms inference, 2.0ms postprocess per image at shape (1, 3, 640, 640)\n"
     ]
    },
    {
     "name": "stderr",
     "output_type": "stream",
     "text": [
      "Processing results: 100%|██████████| 1/1 [00:00<00:00, 284.49it/s]\n",
      "Processing images:  68%|██████▊   | 553/810 [00:29<00:14, 18.09it/s]"
     ]
    },
    {
     "name": "stdout",
     "output_type": "stream",
     "text": [
      "C:\\Users\\User\\Desktop\\DSO\\traffic-prediction\\backend\\assets4_labels\\6703_1428_20240127143000_515548.txt\n",
      "\n",
      "0: 640x640 1 person, 1 bicycle, 16 cars, 1 bus, 2 trucks, 26.6ms\n",
      "Speed: 1.0ms preprocess, 26.6ms inference, 3.0ms postprocess per image at shape (1, 3, 640, 640)\n"
     ]
    },
    {
     "name": "stderr",
     "output_type": "stream",
     "text": [
      "Processing results: 100%|██████████| 1/1 [00:00<00:00, 320.94it/s]"
     ]
    },
    {
     "name": "stdout",
     "output_type": "stream",
     "text": [
      "C:\\Users\\User\\Desktop\\DSO\\traffic-prediction\\backend\\assets4_labels\\6703_1433_20240127143518_491025.txt\n",
      "\n"
     ]
    },
    {
     "name": "stderr",
     "output_type": "stream",
     "text": [
      "\n"
     ]
    },
    {
     "name": "stdout",
     "output_type": "stream",
     "text": [
      "0: 640x640 16 cars, 3 trucks, 26.0ms\n",
      "Speed: 2.0ms preprocess, 26.0ms inference, 1.0ms postprocess per image at shape (1, 3, 640, 640)\n"
     ]
    },
    {
     "name": "stderr",
     "output_type": "stream",
     "text": [
      "Processing results: 100%|██████████| 1/1 [00:00<00:00, 256.61it/s]\n",
      "Processing images:  69%|██████▊   | 555/810 [00:29<00:13, 18.27it/s]"
     ]
    },
    {
     "name": "stdout",
     "output_type": "stream",
     "text": [
      "C:\\Users\\User\\Desktop\\DSO\\traffic-prediction\\backend\\assets4_labels\\6703_1438_20240127144000_565357.txt\n",
      "\n",
      "0: 640x640 22 cars, 1 bus, 1 truck, 25.6ms\n",
      "Speed: 1.9ms preprocess, 25.6ms inference, 1.0ms postprocess per image at shape (1, 3, 640, 640)\n"
     ]
    },
    {
     "name": "stderr",
     "output_type": "stream",
     "text": [
      "Processing results: 100%|██████████| 1/1 [00:00<00:00, 285.25it/s]"
     ]
    },
    {
     "name": "stdout",
     "output_type": "stream",
     "text": [
      "C:\\Users\\User\\Desktop\\DSO\\traffic-prediction\\backend\\assets4_labels\\6703_1443_20240127144534_535210.txt\n",
      "\n",
      "0: 640x640 15 cars, 2 trucks, 25.6ms\n"
     ]
    },
    {
     "name": "stderr",
     "output_type": "stream",
     "text": [
      "\n"
     ]
    },
    {
     "name": "stdout",
     "output_type": "stream",
     "text": [
      "Speed: 2.0ms preprocess, 25.6ms inference, 1.4ms postprocess per image at shape (1, 3, 640, 640)\n"
     ]
    },
    {
     "name": "stderr",
     "output_type": "stream",
     "text": [
      "Processing results: 100%|██████████| 1/1 [00:00<00:00, 397.49it/s]\n",
      "Processing images:  69%|██████▉   | 557/810 [00:29<00:13, 18.59it/s]"
     ]
    },
    {
     "name": "stdout",
     "output_type": "stream",
     "text": [
      "C:\\Users\\User\\Desktop\\DSO\\traffic-prediction\\backend\\assets4_labels\\6703_1448_20240127145024_561015.txt\n",
      "\n",
      "0: 640x640 17 cars, 1 bus, 27.0ms\n",
      "Speed: 1.0ms preprocess, 27.0ms inference, 2.0ms postprocess per image at shape (1, 3, 640, 640)\n"
     ]
    },
    {
     "name": "stderr",
     "output_type": "stream",
     "text": [
      "Processing results: 100%|██████████| 1/1 [00:00<00:00, 252.96it/s]"
     ]
    },
    {
     "name": "stdout",
     "output_type": "stream",
     "text": [
      "C:\\Users\\User\\Desktop\\DSO\\traffic-prediction\\backend\\assets4_labels\\6704_1408_20240127141019_534955.txt\n",
      "\n"
     ]
    },
    {
     "name": "stderr",
     "output_type": "stream",
     "text": [
      "\n"
     ]
    },
    {
     "name": "stdout",
     "output_type": "stream",
     "text": [
      "0: 640x640 11 cars, 4 trucks, 27.2ms\n",
      "Speed: 2.0ms preprocess, 27.2ms inference, 2.0ms postprocess per image at shape (1, 3, 640, 640)\n"
     ]
    },
    {
     "name": "stderr",
     "output_type": "stream",
     "text": [
      "Processing results: 100%|██████████| 1/1 [00:00<00:00, 488.73it/s]\n",
      "Processing images:  69%|██████▉   | 559/810 [00:30<00:13, 18.17it/s]"
     ]
    },
    {
     "name": "stdout",
     "output_type": "stream",
     "text": [
      "C:\\Users\\User\\Desktop\\DSO\\traffic-prediction\\backend\\assets4_labels\\6704_1413_20240127141526_484998.txt\n",
      "\n",
      "0: 640x640 1 person, 14 cars, 1 motorcycle, 2 buss, 5 trucks, 26.4ms\n",
      "Speed: 1.0ms preprocess, 26.4ms inference, 1.0ms postprocess per image at shape (1, 3, 640, 640)\n"
     ]
    },
    {
     "name": "stderr",
     "output_type": "stream",
     "text": [
      "Processing results: 100%|██████████| 1/1 [00:00<00:00, 331.96it/s]"
     ]
    },
    {
     "name": "stdout",
     "output_type": "stream",
     "text": [
      "C:\\Users\\User\\Desktop\\DSO\\traffic-prediction\\backend\\assets4_labels\\6704_1418_20240127142014_491025.txt\n",
      "\n"
     ]
    },
    {
     "name": "stderr",
     "output_type": "stream",
     "text": [
      "\n"
     ]
    },
    {
     "name": "stdout",
     "output_type": "stream",
     "text": [
      "0: 640x640 10 cars, 4 trucks, 26.0ms\n",
      "Speed: 2.0ms preprocess, 26.0ms inference, 2.0ms postprocess per image at shape (1, 3, 640, 640)\n"
     ]
    },
    {
     "name": "stderr",
     "output_type": "stream",
     "text": [
      "Processing results: 100%|██████████| 1/1 [00:00<00:00, 333.41it/s]\n",
      "Processing images:  69%|██████▉   | 561/810 [00:30<00:13, 18.28it/s]"
     ]
    },
    {
     "name": "stdout",
     "output_type": "stream",
     "text": [
      "C:\\Users\\User\\Desktop\\DSO\\traffic-prediction\\backend\\assets4_labels\\6704_1423_20240127142504_985057.txt\n",
      "\n",
      "0: 640x640 2 persons, 16 cars, 2 trucks, 24.4ms\n",
      "Speed: 2.0ms preprocess, 24.4ms inference, 1.5ms postprocess per image at shape (1, 3, 640, 640)\n"
     ]
    },
    {
     "name": "stderr",
     "output_type": "stream",
     "text": [
      "Processing results: 100%|██████████| 1/1 [00:00<00:00, 249.66it/s]"
     ]
    },
    {
     "name": "stdout",
     "output_type": "stream",
     "text": [
      "C:\\Users\\User\\Desktop\\DSO\\traffic-prediction\\backend\\assets4_labels\\6704_1428_20240127143000_535310.txt\n",
      "\n"
     ]
    },
    {
     "name": "stderr",
     "output_type": "stream",
     "text": [
      "\n"
     ]
    },
    {
     "name": "stdout",
     "output_type": "stream",
     "text": [
      "0: 640x640 1 person, 19 cars, 1 motorcycle, 6 trucks, 1 traffic light, 33.8ms\n",
      "Speed: 2.0ms preprocess, 33.8ms inference, 2.5ms postprocess per image at shape (1, 3, 640, 640)\n"
     ]
    },
    {
     "name": "stderr",
     "output_type": "stream",
     "text": [
      "Processing results: 100%|██████████| 1/1 [00:00<00:00, 248.64it/s]\n",
      "Processing images:  70%|██████▉   | 563/810 [00:30<00:13, 17.87it/s]"
     ]
    },
    {
     "name": "stdout",
     "output_type": "stream",
     "text": [
      "C:\\Users\\User\\Desktop\\DSO\\traffic-prediction\\backend\\assets4_labels\\6704_1433_20240127143518_995655.txt\n",
      "\n",
      "0: 640x640 5 cars, 8 trucks, 37.0ms\n",
      "Speed: 2.0ms preprocess, 37.0ms inference, 2.0ms postprocess per image at shape (1, 3, 640, 640)\n"
     ]
    },
    {
     "name": "stderr",
     "output_type": "stream",
     "text": [
      "Processing results: 100%|██████████| 1/1 [00:00<00:00, 333.15it/s]"
     ]
    },
    {
     "name": "stdout",
     "output_type": "stream",
     "text": [
      "C:\\Users\\User\\Desktop\\DSO\\traffic-prediction\\backend\\assets4_labels\\6704_1438_20240127144004_521011.txt\n",
      "\n"
     ]
    },
    {
     "name": "stderr",
     "output_type": "stream",
     "text": [
      "\n"
     ]
    },
    {
     "name": "stdout",
     "output_type": "stream",
     "text": [
      "0: 640x640 14 cars, 5 trucks, 30.1ms\n",
      "Speed: 1.0ms preprocess, 30.1ms inference, 2.0ms postprocess per image at shape (1, 3, 640, 640)\n"
     ]
    },
    {
     "name": "stderr",
     "output_type": "stream",
     "text": [
      "Processing results: 100%|██████████| 1/1 [00:00<00:00, 332.96it/s]\n",
      "Processing images:  70%|██████▉   | 565/810 [00:30<00:14, 17.39it/s]"
     ]
    },
    {
     "name": "stdout",
     "output_type": "stream",
     "text": [
      "C:\\Users\\User\\Desktop\\DSO\\traffic-prediction\\backend\\assets4_labels\\6704_1443_20240127144536_535255.txt\n",
      "\n",
      "0: 640x640 1 person, 16 cars, 1 bus, 4 trucks, 27.0ms\n",
      "Speed: 1.0ms preprocess, 27.0ms inference, 1.0ms postprocess per image at shape (1, 3, 640, 640)\n"
     ]
    },
    {
     "name": "stderr",
     "output_type": "stream",
     "text": [
      "Processing results: 100%|██████████| 1/1 [00:00<00:00, 333.57it/s]"
     ]
    },
    {
     "name": "stdout",
     "output_type": "stream",
     "text": [
      "C:\\Users\\User\\Desktop\\DSO\\traffic-prediction\\backend\\assets4_labels\\6704_1448_20240127145024_999856.txt\n",
      "\n",
      "0: 640x640 19 cars, 3 trucks, 27.5ms\n",
      "Speed: 2.0ms preprocess, 27.5ms inference, 1.6ms postprocess per image at shape (1, 3, 640, 640)\n"
     ]
    },
    {
     "name": "stderr",
     "output_type": "stream",
     "text": [
      "\n",
      "Processing results: 100%|██████████| 1/1 [00:00<00:00, 284.26it/s]\n",
      "Processing images:  70%|███████   | 567/810 [00:30<00:13, 17.68it/s]"
     ]
    },
    {
     "name": "stdout",
     "output_type": "stream",
     "text": [
      "C:\\Users\\User\\Desktop\\DSO\\traffic-prediction\\backend\\assets4_labels\\6705_1409_20240127141021_100485.txt\n",
      "\n",
      "0: 640x640 1 person, 8 cars, 26.5ms\n",
      "Speed: 1.0ms preprocess, 26.5ms inference, 1.0ms postprocess per image at shape (1, 3, 640, 640)\n"
     ]
    },
    {
     "name": "stderr",
     "output_type": "stream",
     "text": [
      "Processing results: 100%|██████████| 1/1 [00:00<00:00, 449.74it/s]"
     ]
    },
    {
     "name": "stdout",
     "output_type": "stream",
     "text": [
      "C:\\Users\\User\\Desktop\\DSO\\traffic-prediction\\backend\\assets4_labels\\6705_1414_20240127141528_100515.txt\n",
      "\n"
     ]
    },
    {
     "name": "stderr",
     "output_type": "stream",
     "text": [
      "\n"
     ]
    },
    {
     "name": "stdout",
     "output_type": "stream",
     "text": [
      "0: 640x640 6 cars, 30.7ms\n",
      "Speed: 2.0ms preprocess, 30.7ms inference, 1.0ms postprocess per image at shape (1, 3, 640, 640)\n"
     ]
    },
    {
     "name": "stderr",
     "output_type": "stream",
     "text": [
      "Processing results: 100%|██████████| 1/1 [00:00<00:00, 664.50it/s]\n",
      "Processing images:  70%|███████   | 569/810 [00:30<00:13, 17.96it/s]"
     ]
    },
    {
     "name": "stdout",
     "output_type": "stream",
     "text": [
      "C:\\Users\\User\\Desktop\\DSO\\traffic-prediction\\backend\\assets4_labels\\6705_1419_20240127142015_545249.txt\n",
      "\n",
      "0: 640x640 10 cars, 1 truck, 25.5ms\n",
      "Speed: 2.0ms preprocess, 25.5ms inference, 2.0ms postprocess per image at shape (1, 3, 640, 640)\n"
     ]
    },
    {
     "name": "stderr",
     "output_type": "stream",
     "text": [
      "Processing results: 100%|██████████| 1/1 [00:00<00:00, 389.95it/s]"
     ]
    },
    {
     "name": "stdout",
     "output_type": "stream",
     "text": [
      "C:\\Users\\User\\Desktop\\DSO\\traffic-prediction\\backend\\assets4_labels\\6705_1424_20240127142506_981014.txt\n",
      "\n"
     ]
    },
    {
     "name": "stderr",
     "output_type": "stream",
     "text": [
      "\n"
     ]
    },
    {
     "name": "stdout",
     "output_type": "stream",
     "text": [
      "0: 640x640 1 person, 16 cars, 1 truck, 26.2ms\n",
      "Speed: 2.5ms preprocess, 26.2ms inference, 1.0ms postprocess per image at shape (1, 3, 640, 640)\n"
     ]
    },
    {
     "name": "stderr",
     "output_type": "stream",
     "text": [
      "Processing results: 100%|██████████| 1/1 [00:00<00:00, 333.20it/s]\n",
      "Processing images:  70%|███████   | 571/810 [00:30<00:13, 18.31it/s]"
     ]
    },
    {
     "name": "stdout",
     "output_type": "stream",
     "text": [
      "C:\\Users\\User\\Desktop\\DSO\\traffic-prediction\\backend\\assets4_labels\\6705_1429_20240127143009_975654.txt\n",
      "\n",
      "0: 640x640 10 cars, 5 trucks, 26.0ms\n",
      "Speed: 1.0ms preprocess, 26.0ms inference, 2.5ms postprocess per image at shape (1, 3, 640, 640)\n"
     ]
    },
    {
     "name": "stderr",
     "output_type": "stream",
     "text": [
      "Processing results: 100%|██████████| 1/1 [00:00<00:00, 333.25it/s]"
     ]
    },
    {
     "name": "stdout",
     "output_type": "stream",
     "text": [
      "C:\\Users\\User\\Desktop\\DSO\\traffic-prediction\\backend\\assets4_labels\\6705_1433_20240127143519_565554.txt\n",
      "\n"
     ]
    },
    {
     "name": "stderr",
     "output_type": "stream",
     "text": [
      "\n"
     ]
    },
    {
     "name": "stdout",
     "output_type": "stream",
     "text": [
      "0: 640x640 13 cars, 1 truck, 27.1ms\n",
      "Speed: 1.0ms preprocess, 27.1ms inference, 1.0ms postprocess per image at shape (1, 3, 640, 640)\n"
     ]
    },
    {
     "name": "stderr",
     "output_type": "stream",
     "text": [
      "Processing results: 100%|██████████| 1/1 [00:00<00:00, 333.23it/s]\n",
      "Processing images:  71%|███████   | 573/810 [00:30<00:12, 18.63it/s]"
     ]
    },
    {
     "name": "stdout",
     "output_type": "stream",
     "text": [
      "C:\\Users\\User\\Desktop\\DSO\\traffic-prediction\\backend\\assets4_labels\\6705_1439_20240127144006_509749.txt\n",
      "\n",
      "0: 640x640 12 cars, 6 trucks, 25.1ms\n",
      "Speed: 2.0ms preprocess, 25.1ms inference, 1.6ms postprocess per image at shape (1, 3, 640, 640)\n"
     ]
    },
    {
     "name": "stderr",
     "output_type": "stream",
     "text": [
      "Processing results: 100%|██████████| 1/1 [00:00<00:00, 218.82it/s]"
     ]
    },
    {
     "name": "stdout",
     "output_type": "stream",
     "text": [
      "C:\\Users\\User\\Desktop\\DSO\\traffic-prediction\\backend\\assets4_labels\\6705_1444_20240127144539_565155.txt\n",
      "\n"
     ]
    },
    {
     "name": "stderr",
     "output_type": "stream",
     "text": [
      "\n"
     ]
    },
    {
     "name": "stdout",
     "output_type": "stream",
     "text": [
      "0: 640x640 11 cars, 1 truck, 27.0ms\n",
      "Speed: 1.0ms preprocess, 27.0ms inference, 2.0ms postprocess per image at shape (1, 3, 640, 640)\n"
     ]
    },
    {
     "name": "stderr",
     "output_type": "stream",
     "text": [
      "Processing results: 100%|██████████| 1/1 [00:00<00:00, 500.04it/s]\n",
      "Processing images:  71%|███████   | 575/810 [00:30<00:12, 18.54it/s]"
     ]
    },
    {
     "name": "stdout",
     "output_type": "stream",
     "text": [
      "C:\\Users\\User\\Desktop\\DSO\\traffic-prediction\\backend\\assets4_labels\\6705_1449_20240127145024_995510.txt\n",
      "\n",
      "0: 640x640 6 cars, 4 trucks, 27.6ms\n",
      "Speed: 1.0ms preprocess, 27.6ms inference, 1.0ms postprocess per image at shape (1, 3, 640, 640)\n"
     ]
    },
    {
     "name": "stderr",
     "output_type": "stream",
     "text": [
      "Processing results: 100%|██████████| 1/1 [00:00<00:00, 494.44it/s]"
     ]
    },
    {
     "name": "stdout",
     "output_type": "stream",
     "text": [
      "C:\\Users\\User\\Desktop\\DSO\\traffic-prediction\\backend\\assets4_labels\\6706_1408_20240127141022_555549.txt\n",
      "\n"
     ]
    },
    {
     "name": "stderr",
     "output_type": "stream",
     "text": [
      "\n"
     ]
    },
    {
     "name": "stdout",
     "output_type": "stream",
     "text": [
      "0: 640x640 15 cars, 1 bus, 5 trucks, 26.6ms\n",
      "Speed: 2.0ms preprocess, 26.6ms inference, 2.0ms postprocess per image at shape (1, 3, 640, 640)\n"
     ]
    },
    {
     "name": "stderr",
     "output_type": "stream",
     "text": [
      "Processing results: 100%|██████████| 1/1 [00:00<00:00, 332.62it/s]\n",
      "Processing images:  71%|███████   | 577/810 [00:31<00:12, 18.55it/s]"
     ]
    },
    {
     "name": "stdout",
     "output_type": "stream",
     "text": [
      "C:\\Users\\User\\Desktop\\DSO\\traffic-prediction\\backend\\assets4_labels\\6706_1413_20240127141528_515698.txt\n",
      "\n",
      "0: 640x640 2 persons, 12 cars, 2 motorcycles, 3 trucks, 28.3ms\n",
      "Speed: 2.0ms preprocess, 28.3ms inference, 1.0ms postprocess per image at shape (1, 3, 640, 640)\n"
     ]
    },
    {
     "name": "stderr",
     "output_type": "stream",
     "text": [
      "Processing results: 100%|██████████| 1/1 [00:00<00:00, 333.44it/s]"
     ]
    },
    {
     "name": "stdout",
     "output_type": "stream",
     "text": [
      "C:\\Users\\User\\Desktop\\DSO\\traffic-prediction\\backend\\assets4_labels\\6706_1419_20240127142016_485710.txt\n",
      "\n"
     ]
    },
    {
     "name": "stderr",
     "output_type": "stream",
     "text": [
      "\n"
     ]
    },
    {
     "name": "stdout",
     "output_type": "stream",
     "text": [
      "0: 640x640 18 cars, 2 motorcycles, 3 trucks, 26.7ms\n",
      "Speed: 2.0ms preprocess, 26.7ms inference, 1.0ms postprocess per image at shape (1, 3, 640, 640)\n"
     ]
    },
    {
     "name": "stderr",
     "output_type": "stream",
     "text": [
      "Processing results: 100%|██████████| 1/1 [00:00<00:00, 331.43it/s]\n",
      "Processing images:  71%|███████▏  | 579/810 [00:31<00:12, 18.58it/s]"
     ]
    },
    {
     "name": "stdout",
     "output_type": "stream",
     "text": [
      "C:\\Users\\User\\Desktop\\DSO\\traffic-prediction\\backend\\assets4_labels\\6706_1423_20240127142507_979949.txt\n",
      "\n",
      "0: 640x640 1 person, 19 cars, 2 motorcycles, 2 trucks, 24.9ms\n",
      "Speed: 2.0ms preprocess, 24.9ms inference, 2.0ms postprocess per image at shape (1, 3, 640, 640)\n"
     ]
    },
    {
     "name": "stderr",
     "output_type": "stream",
     "text": [
      "Processing results: 100%|██████████| 1/1 [00:00<00:00, 250.05it/s]"
     ]
    },
    {
     "name": "stdout",
     "output_type": "stream",
     "text": [
      "C:\\Users\\User\\Desktop\\DSO\\traffic-prediction\\backend\\assets4_labels\\6706_1429_20240127143013_984854.txt\n",
      "\n"
     ]
    },
    {
     "name": "stderr",
     "output_type": "stream",
     "text": [
      "\n"
     ]
    },
    {
     "name": "stdout",
     "output_type": "stream",
     "text": [
      "0: 640x640 13 cars, 2 trucks, 27.0ms\n",
      "Speed: 1.0ms preprocess, 27.0ms inference, 1.0ms postprocess per image at shape (1, 3, 640, 640)\n"
     ]
    },
    {
     "name": "stderr",
     "output_type": "stream",
     "text": [
      "Processing results: 100%|██████████| 1/1 [00:00<00:00, 333.28it/s]\n",
      "Processing images:  72%|███████▏  | 581/810 [00:31<00:12, 18.64it/s]"
     ]
    },
    {
     "name": "stdout",
     "output_type": "stream",
     "text": [
      "C:\\Users\\User\\Desktop\\DSO\\traffic-prediction\\backend\\assets4_labels\\6706_1433_20240127143521_515552.txt\n",
      "\n",
      "0: 640x640 17 cars, 1 motorcycle, 2 trucks, 25.4ms\n",
      "Speed: 2.0ms preprocess, 25.4ms inference, 2.0ms postprocess per image at shape (1, 3, 640, 640)\n"
     ]
    },
    {
     "name": "stderr",
     "output_type": "stream",
     "text": [
      "Processing results: 100%|██████████| 1/1 [00:00<00:00, 285.29it/s]"
     ]
    },
    {
     "name": "stdout",
     "output_type": "stream",
     "text": [
      "C:\\Users\\User\\Desktop\\DSO\\traffic-prediction\\backend\\assets4_labels\\6706_1439_20240127144007_565510.txt\n",
      "\n"
     ]
    },
    {
     "name": "stderr",
     "output_type": "stream",
     "text": [
      "\n"
     ]
    },
    {
     "name": "stdout",
     "output_type": "stream",
     "text": [
      "0: 640x640 13 cars, 1 bus, 26.4ms\n",
      "Speed: 2.0ms preprocess, 26.4ms inference, 2.0ms postprocess per image at shape (1, 3, 640, 640)\n"
     ]
    },
    {
     "name": "stderr",
     "output_type": "stream",
     "text": [
      "Processing results: 100%|██████████| 1/1 [00:00<00:00, 396.92it/s]\n",
      "Processing images:  72%|███████▏  | 583/810 [00:31<00:12, 18.76it/s]"
     ]
    },
    {
     "name": "stdout",
     "output_type": "stream",
     "text": [
      "C:\\Users\\User\\Desktop\\DSO\\traffic-prediction\\backend\\assets4_labels\\6706_1444_20240127144541_981025.txt\n",
      "\n",
      "0: 640x640 13 cars, 1 motorcycle, 4 trucks, 27.1ms\n",
      "Speed: 1.5ms preprocess, 27.1ms inference, 1.5ms postprocess per image at shape (1, 3, 640, 640)\n"
     ]
    },
    {
     "name": "stderr",
     "output_type": "stream",
     "text": [
      "Processing results: 100%|██████████| 1/1 [00:00<00:00, 420.27it/s]"
     ]
    },
    {
     "name": "stdout",
     "output_type": "stream",
     "text": [
      "C:\\Users\\User\\Desktop\\DSO\\traffic-prediction\\backend\\assets4_labels\\6706_1448_20240127145024_485354.txt\n",
      "\n"
     ]
    },
    {
     "name": "stderr",
     "output_type": "stream",
     "text": [
      "\n"
     ]
    },
    {
     "name": "stdout",
     "output_type": "stream",
     "text": [
      "0: 640x640 13 cars, 1 truck, 26.9ms\n",
      "Speed: 2.0ms preprocess, 26.9ms inference, 1.0ms postprocess per image at shape (1, 3, 640, 640)\n"
     ]
    },
    {
     "name": "stderr",
     "output_type": "stream",
     "text": [
      "Processing results: 100%|██████████| 1/1 [00:00<00:00, 333.70it/s]\n",
      "Processing images:  72%|███████▏  | 585/810 [00:31<00:11, 18.87it/s]"
     ]
    },
    {
     "name": "stdout",
     "output_type": "stream",
     "text": [
      "C:\\Users\\User\\Desktop\\DSO\\traffic-prediction\\backend\\assets4_labels\\6708_1408_20240127141024_545410.txt\n",
      "\n",
      "0: 640x640 2 persons, 2 cars, 27.1ms\n",
      "Speed: 2.0ms preprocess, 27.1ms inference, 1.0ms postprocess per image at shape (1, 3, 640, 640)\n"
     ]
    },
    {
     "name": "stderr",
     "output_type": "stream",
     "text": [
      "Processing results: 100%|██████████| 1/1 [00:00<00:00, 500.39it/s]"
     ]
    },
    {
     "name": "stdout",
     "output_type": "stream",
     "text": [
      "C:\\Users\\User\\Desktop\\DSO\\traffic-prediction\\backend\\assets4_labels\\6708_1413_20240127141529_539910.txt\n",
      "\n"
     ]
    },
    {
     "name": "stderr",
     "output_type": "stream",
     "text": [
      "\n"
     ]
    },
    {
     "name": "stdout",
     "output_type": "stream",
     "text": [
      "0: 640x640 3 cars, 5 trucks, 28.4ms\n",
      "Speed: 2.0ms preprocess, 28.4ms inference, 2.0ms postprocess per image at shape (1, 3, 640, 640)\n"
     ]
    },
    {
     "name": "stderr",
     "output_type": "stream",
     "text": [
      "Processing results: 100%|██████████| 1/1 [00:00<00:00, 321.28it/s]\n",
      "Processing images:  72%|███████▏  | 587/810 [00:31<00:11, 18.87it/s]"
     ]
    },
    {
     "name": "stdout",
     "output_type": "stream",
     "text": [
      "C:\\Users\\User\\Desktop\\DSO\\traffic-prediction\\backend\\assets4_labels\\6708_1419_20240127142016_481029.txt\n",
      "\n",
      "0: 640x640 4 cars, 3 trucks, 28.2ms\n",
      "Speed: 1.0ms preprocess, 28.2ms inference, 2.0ms postprocess per image at shape (1, 3, 640, 640)\n"
     ]
    },
    {
     "name": "stderr",
     "output_type": "stream",
     "text": [
      "Processing results: 100%|██████████| 1/1 [00:00<00:00, 500.22it/s]"
     ]
    },
    {
     "name": "stdout",
     "output_type": "stream",
     "text": [
      "C:\\Users\\User\\Desktop\\DSO\\traffic-prediction\\backend\\assets4_labels\\6708_1423_20240127142509_505010.txt\n",
      "\n"
     ]
    },
    {
     "name": "stderr",
     "output_type": "stream",
     "text": [
      "\n"
     ]
    },
    {
     "name": "stdout",
     "output_type": "stream",
     "text": [
      "0: 640x640 4 cars, 4 trucks, 26.5ms\n",
      "Speed: 2.0ms preprocess, 26.5ms inference, 2.0ms postprocess per image at shape (1, 3, 640, 640)\n"
     ]
    },
    {
     "name": "stderr",
     "output_type": "stream",
     "text": [
      "Processing results: 100%|██████████| 1/1 [00:00<00:00, 333.44it/s]\n",
      "Processing images:  73%|███████▎  | 589/810 [00:31<00:11, 18.94it/s]"
     ]
    },
    {
     "name": "stdout",
     "output_type": "stream",
     "text": [
      "C:\\Users\\User\\Desktop\\DSO\\traffic-prediction\\backend\\assets4_labels\\6708_1429_20240127143015_102505.txt\n",
      "\n",
      "0: 640x640 1 car, 3 trucks, 26.9ms\n",
      "Speed: 1.0ms preprocess, 26.9ms inference, 2.0ms postprocess per image at shape (1, 3, 640, 640)\n"
     ]
    },
    {
     "name": "stderr",
     "output_type": "stream",
     "text": [
      "Processing results: 100%|██████████| 1/1 [00:00<00:00, 500.39it/s]"
     ]
    },
    {
     "name": "stdout",
     "output_type": "stream",
     "text": [
      "C:\\Users\\User\\Desktop\\DSO\\traffic-prediction\\backend\\assets4_labels\\6708_1433_20240127143522_989757.txt\n",
      "\n",
      "0: 640x640 3 trucks, 1 traffic light, 27.0ms\n"
     ]
    },
    {
     "name": "stderr",
     "output_type": "stream",
     "text": [
      "\n"
     ]
    },
    {
     "name": "stdout",
     "output_type": "stream",
     "text": [
      "Speed: 1.0ms preprocess, 27.0ms inference, 2.0ms postprocess per image at shape (1, 3, 640, 640)\n"
     ]
    },
    {
     "name": "stderr",
     "output_type": "stream",
     "text": [
      "Processing results: 100%|██████████| 1/1 [00:00<00:00, 664.18it/s]\n",
      "Processing images:  73%|███████▎  | 591/810 [00:31<00:11, 19.16it/s]"
     ]
    },
    {
     "name": "stdout",
     "output_type": "stream",
     "text": [
      "C:\\Users\\User\\Desktop\\DSO\\traffic-prediction\\backend\\assets4_labels\\6708_1439_20240127144007_534852.txt\n",
      "\n",
      "0: 640x640 6 persons, 2 cars, 3 motorcycles, 1 bus, 2 trucks, 28.2ms\n",
      "Speed: 1.5ms preprocess, 28.2ms inference, 1.5ms postprocess per image at shape (1, 3, 640, 640)\n"
     ]
    },
    {
     "name": "stderr",
     "output_type": "stream",
     "text": [
      "Processing results: 100%|██████████| 1/1 [00:00<00:00, 500.22it/s]"
     ]
    },
    {
     "name": "stdout",
     "output_type": "stream",
     "text": [
      "C:\\Users\\User\\Desktop\\DSO\\traffic-prediction\\backend\\assets4_labels\\6708_1444_20240127144541_519954.txt\n",
      "\n"
     ]
    },
    {
     "name": "stderr",
     "output_type": "stream",
     "text": [
      "\n"
     ]
    },
    {
     "name": "stdout",
     "output_type": "stream",
     "text": [
      "0: 640x640 3 cars, 3 trucks, 27.0ms\n",
      "Speed: 2.0ms preprocess, 27.0ms inference, 2.0ms postprocess per image at shape (1, 3, 640, 640)\n"
     ]
    },
    {
     "name": "stderr",
     "output_type": "stream",
     "text": [
      "Processing results: 100%|██████████| 1/1 [00:00<00:00, 500.04it/s]\n",
      "Processing images:  73%|███████▎  | 593/810 [00:31<00:11, 18.92it/s]"
     ]
    },
    {
     "name": "stdout",
     "output_type": "stream",
     "text": [
      "C:\\Users\\User\\Desktop\\DSO\\traffic-prediction\\backend\\assets4_labels\\6708_1448_20240127145025_535349.txt\n",
      "\n",
      "0: 640x640 4 cars, 3 trucks, 27.7ms\n",
      "Speed: 2.0ms preprocess, 27.7ms inference, 1.0ms postprocess per image at shape (1, 3, 640, 640)\n"
     ]
    },
    {
     "name": "stderr",
     "output_type": "stream",
     "text": [
      "Processing results: 100%|██████████| 1/1 [00:00<00:00, 320.94it/s]"
     ]
    },
    {
     "name": "stdout",
     "output_type": "stream",
     "text": [
      "C:\\Users\\User\\Desktop\\DSO\\traffic-prediction\\backend\\assets4_labels\\6710_1408_20240127141025_981011.txt\n",
      "\n"
     ]
    },
    {
     "name": "stderr",
     "output_type": "stream",
     "text": [
      "\n"
     ]
    },
    {
     "name": "stdout",
     "output_type": "stream",
     "text": [
      "0: 640x640 10 cars, 2 trucks, 26.4ms\n",
      "Speed: 2.2ms preprocess, 26.4ms inference, 1.5ms postprocess per image at shape (1, 3, 640, 640)\n"
     ]
    },
    {
     "name": "stderr",
     "output_type": "stream",
     "text": [
      "Processing results: 100%|██████████| 1/1 [00:00<00:00, 333.33it/s]\n",
      "Processing images:  73%|███████▎  | 595/810 [00:32<00:11, 18.80it/s]"
     ]
    },
    {
     "name": "stdout",
     "output_type": "stream",
     "text": [
      "C:\\Users\\User\\Desktop\\DSO\\traffic-prediction\\backend\\assets4_labels\\6710_1413_20240127141531_974897.txt\n",
      "\n",
      "0: 640x640 9 cars, 1 bus, 3 trucks, 29.1ms\n",
      "Speed: 2.0ms preprocess, 29.1ms inference, 1.0ms postprocess per image at shape (1, 3, 640, 640)\n"
     ]
    },
    {
     "name": "stderr",
     "output_type": "stream",
     "text": [
      "Processing results: 100%|██████████| 1/1 [00:00<00:00, 324.91it/s]"
     ]
    },
    {
     "name": "stdout",
     "output_type": "stream",
     "text": [
      "C:\\Users\\User\\Desktop\\DSO\\traffic-prediction\\backend\\assets4_labels\\6710_1419_20240127142016_985710.txt\n",
      "\n"
     ]
    },
    {
     "name": "stderr",
     "output_type": "stream",
     "text": [
      "\n"
     ]
    },
    {
     "name": "stdout",
     "output_type": "stream",
     "text": [
      "0: 640x640 10 cars, 5 trucks, 28.1ms\n",
      "Speed: 1.0ms preprocess, 28.1ms inference, 1.0ms postprocess per image at shape (1, 3, 640, 640)\n"
     ]
    },
    {
     "name": "stderr",
     "output_type": "stream",
     "text": [
      "Processing results: 100%|██████████| 1/1 [00:00<00:00, 249.59it/s]\n",
      "Processing images:  74%|███████▎  | 597/810 [00:32<00:11, 18.67it/s]"
     ]
    },
    {
     "name": "stdout",
     "output_type": "stream",
     "text": [
      "C:\\Users\\User\\Desktop\\DSO\\traffic-prediction\\backend\\assets4_labels\\6710_1423_20240127142512_101569.txt\n",
      "\n",
      "0: 640x640 11 cars, 2 buss, 5 trucks, 28.4ms\n",
      "Speed: 1.0ms preprocess, 28.4ms inference, 1.5ms postprocess per image at shape (1, 3, 640, 640)\n"
     ]
    },
    {
     "name": "stderr",
     "output_type": "stream",
     "text": [
      "Processing results: 100%|██████████| 1/1 [00:00<00:00, 250.06it/s]"
     ]
    },
    {
     "name": "stdout",
     "output_type": "stream",
     "text": [
      "C:\\Users\\User\\Desktop\\DSO\\traffic-prediction\\backend\\assets4_labels\\6710_1428_20240127143015_575710.txt\n",
      "\n"
     ]
    },
    {
     "name": "stderr",
     "output_type": "stream",
     "text": [
      "\n"
     ]
    },
    {
     "name": "stdout",
     "output_type": "stream",
     "text": [
      "0: 640x640 16 cars, 1 truck, 25.0ms\n",
      "Speed: 2.0ms preprocess, 25.0ms inference, 2.0ms postprocess per image at shape (1, 3, 640, 640)\n"
     ]
    },
    {
     "name": "stderr",
     "output_type": "stream",
     "text": [
      "Processing results: 100%|██████████| 1/1 [00:00<00:00, 333.20it/s]\n",
      "Processing images:  74%|███████▍  | 599/810 [00:32<00:11, 18.82it/s]"
     ]
    },
    {
     "name": "stdout",
     "output_type": "stream",
     "text": [
      "C:\\Users\\User\\Desktop\\DSO\\traffic-prediction\\backend\\assets4_labels\\6710_1433_20240127143524_102101.txt\n",
      "\n",
      "0: 640x640 10 cars, 2 motorcycles, 5 trucks, 29.1ms\n",
      "Speed: 2.0ms preprocess, 29.1ms inference, 1.0ms postprocess per image at shape (1, 3, 640, 640)\n"
     ]
    },
    {
     "name": "stderr",
     "output_type": "stream",
     "text": [
      "Processing results: 100%|██████████| 1/1 [00:00<00:00, 249.99it/s]"
     ]
    },
    {
     "name": "stdout",
     "output_type": "stream",
     "text": [
      "C:\\Users\\User\\Desktop\\DSO\\traffic-prediction\\backend\\assets4_labels\\6710_1438_20240127144007_985752.txt\n",
      "\n"
     ]
    },
    {
     "name": "stderr",
     "output_type": "stream",
     "text": [
      "\n"
     ]
    },
    {
     "name": "stdout",
     "output_type": "stream",
     "text": [
      "0: 640x640 16 cars, 1 bus, 3 trucks, 26.3ms\n",
      "Speed: 3.0ms preprocess, 26.3ms inference, 1.0ms postprocess per image at shape (1, 3, 640, 640)\n"
     ]
    },
    {
     "name": "stderr",
     "output_type": "stream",
     "text": [
      "Processing results: 100%|██████████| 1/1 [00:00<00:00, 250.00it/s]\n",
      "Processing images:  74%|███████▍  | 601/810 [00:32<00:11, 18.69it/s]"
     ]
    },
    {
     "name": "stdout",
     "output_type": "stream",
     "text": [
      "C:\\Users\\User\\Desktop\\DSO\\traffic-prediction\\backend\\assets4_labels\\6710_1443_20240127144542_101574.txt\n",
      "\n",
      "0: 640x640 12 cars, 1 bus, 2 trucks, 27.3ms\n",
      "Speed: 1.0ms preprocess, 27.3ms inference, 2.0ms postprocess per image at shape (1, 3, 640, 640)\n"
     ]
    },
    {
     "name": "stderr",
     "output_type": "stream",
     "text": [
      "Processing results: 100%|██████████| 1/1 [00:00<00:00, 220.50it/s]"
     ]
    },
    {
     "name": "stdout",
     "output_type": "stream",
     "text": [
      "C:\\Users\\User\\Desktop\\DSO\\traffic-prediction\\backend\\assets4_labels\\6710_1448_20240127145026_100495.txt\n",
      "\n"
     ]
    },
    {
     "name": "stderr",
     "output_type": "stream",
     "text": [
      "\n"
     ]
    },
    {
     "name": "stdout",
     "output_type": "stream",
     "text": [
      "0: 640x640 1 person, 11 cars, 1 bus, 3 trucks, 27.5ms\n",
      "Speed: 1.5ms preprocess, 27.5ms inference, 1.0ms postprocess per image at shape (1, 3, 640, 640)\n"
     ]
    },
    {
     "name": "stderr",
     "output_type": "stream",
     "text": [
      "Processing results: 100%|██████████| 1/1 [00:00<00:00, 333.09it/s]\n",
      "Processing images:  74%|███████▍  | 603/810 [00:32<00:11, 18.66it/s]"
     ]
    },
    {
     "name": "stdout",
     "output_type": "stream",
     "text": [
      "C:\\Users\\User\\Desktop\\DSO\\traffic-prediction\\backend\\assets4_labels\\6711_1408_20240127141000_539951.txt\n",
      "\n",
      "0: 640x640 3 cars, 4 trucks, 25.0ms\n",
      "Speed: 2.0ms preprocess, 25.0ms inference, 1.5ms postprocess per image at shape (1, 3, 640, 640)\n"
     ]
    },
    {
     "name": "stderr",
     "output_type": "stream",
     "text": [
      "Processing results: 100%|██████████| 1/1 [00:00<00:00, 497.49it/s]"
     ]
    },
    {
     "name": "stdout",
     "output_type": "stream",
     "text": [
      "C:\\Users\\User\\Desktop\\DSO\\traffic-prediction\\backend\\assets4_labels\\6711_1413_20240127141502_975748.txt\n",
      "\n"
     ]
    },
    {
     "name": "stderr",
     "output_type": "stream",
     "text": [
      "\n"
     ]
    },
    {
     "name": "stdout",
     "output_type": "stream",
     "text": [
      "0: 640x640 2 cars, 3 trucks, 26.8ms\n",
      "Speed: 2.0ms preprocess, 26.8ms inference, 1.0ms postprocess per image at shape (1, 3, 640, 640)\n"
     ]
    },
    {
     "name": "stderr",
     "output_type": "stream",
     "text": [
      "Processing results: 100%|██████████| 1/1 [00:00<00:00, 500.45it/s]"
     ]
    },
    {
     "name": "stdout",
     "output_type": "stream",
     "text": [
      "C:\\Users\\User\\Desktop\\DSO\\traffic-prediction\\backend\\assets4_labels\\6711_1419_20240127142000_100535.txt\n",
      "\n"
     ]
    },
    {
     "name": "stderr",
     "output_type": "stream",
     "text": [
      "\n"
     ]
    },
    {
     "name": "stdout",
     "output_type": "stream",
     "text": [
      "0: 640x640 3 cars, 1 bus, 3 trucks, 25.5ms\n",
      "Speed: 2.0ms preprocess, 25.5ms inference, 2.5ms postprocess per image at shape (1, 3, 640, 640)\n"
     ]
    },
    {
     "name": "stderr",
     "output_type": "stream",
     "text": [
      "Processing results: 100%|██████████| 1/1 [00:00<00:00, 500.10it/s]\n",
      "Processing images:  75%|███████▍  | 606/810 [00:32<00:10, 19.14it/s]"
     ]
    },
    {
     "name": "stdout",
     "output_type": "stream",
     "text": [
      "C:\\Users\\User\\Desktop\\DSO\\traffic-prediction\\backend\\assets4_labels\\6711_1423_20240127142500_481005.txt\n",
      "\n",
      "0: 640x640 3 cars, 1 truck, 26.0ms\n",
      "Speed: 2.1ms preprocess, 26.0ms inference, 1.0ms postprocess per image at shape (1, 3, 640, 640)\n"
     ]
    },
    {
     "name": "stderr",
     "output_type": "stream",
     "text": [
      "Processing results: 100%|██████████| 1/1 [00:00<00:00, 715.51it/s]"
     ]
    },
    {
     "name": "stdout",
     "output_type": "stream",
     "text": [
      "C:\\Users\\User\\Desktop\\DSO\\traffic-prediction\\backend\\assets4_labels\\6711_1429_20240127143000_100545.txt\n",
      "\n",
      "0: 640x640 3 cars, 1 bus, 1 truck, 28.2ms\n"
     ]
    },
    {
     "name": "stderr",
     "output_type": "stream",
     "text": [
      "\n"
     ]
    },
    {
     "name": "stdout",
     "output_type": "stream",
     "text": [
      "Speed: 2.5ms preprocess, 28.2ms inference, 1.5ms postprocess per image at shape (1, 3, 640, 640)\n"
     ]
    },
    {
     "name": "stderr",
     "output_type": "stream",
     "text": [
      "Processing results: 100%|██████████| 1/1 [00:00<00:00, 500.04it/s]\n",
      "Processing images:  75%|███████▌  | 608/810 [00:32<00:10, 18.81it/s]"
     ]
    },
    {
     "name": "stdout",
     "output_type": "stream",
     "text": [
      "C:\\Users\\User\\Desktop\\DSO\\traffic-prediction\\backend\\assets4_labels\\6711_1433_20240127143500_529897.txt\n",
      "\n",
      "0: 640x640 8 cars, 2 trucks, 27.2ms\n",
      "Speed: 2.0ms preprocess, 27.2ms inference, 1.0ms postprocess per image at shape (1, 3, 640, 640)\n"
     ]
    },
    {
     "name": "stderr",
     "output_type": "stream",
     "text": [
      "Processing results: 100%|██████████| 1/1 [00:00<00:00, 333.46it/s]"
     ]
    },
    {
     "name": "stdout",
     "output_type": "stream",
     "text": [
      "C:\\Users\\User\\Desktop\\DSO\\traffic-prediction\\backend\\assets4_labels\\6711_1439_20240127144000_579850.txt\n",
      "\n"
     ]
    },
    {
     "name": "stderr",
     "output_type": "stream",
     "text": [
      "\n"
     ]
    },
    {
     "name": "stdout",
     "output_type": "stream",
     "text": [
      "0: 640x640 5 cars, 1 truck, 26.3ms\n",
      "Speed: 0.9ms preprocess, 26.3ms inference, 1.5ms postprocess per image at shape (1, 3, 640, 640)\n"
     ]
    },
    {
     "name": "stderr",
     "output_type": "stream",
     "text": [
      "Processing results: 100%|██████████| 1/1 [00:00<00:00, 680.56it/s]\n",
      "Processing images:  75%|███████▌  | 610/810 [00:32<00:10, 18.74it/s]"
     ]
    },
    {
     "name": "stdout",
     "output_type": "stream",
     "text": [
      "C:\\Users\\User\\Desktop\\DSO\\traffic-prediction\\backend\\assets4_labels\\6711_1444_20240127144500_505250.txt\n",
      "\n",
      "0: 640x640 6 cars, 2 trucks, 26.9ms\n",
      "Speed: 2.0ms preprocess, 26.9ms inference, 1.0ms postprocess per image at shape (1, 3, 640, 640)\n"
     ]
    },
    {
     "name": "stderr",
     "output_type": "stream",
     "text": [
      "Processing results: 100%|██████████| 1/1 [00:00<00:00, 498.85it/s]"
     ]
    },
    {
     "name": "stdout",
     "output_type": "stream",
     "text": [
      "C:\\Users\\User\\Desktop\\DSO\\traffic-prediction\\backend\\assets4_labels\\6711_1448_20240127145000_495453.txt\n",
      "\n"
     ]
    },
    {
     "name": "stderr",
     "output_type": "stream",
     "text": [
      "\n"
     ]
    },
    {
     "name": "stdout",
     "output_type": "stream",
     "text": [
      "0: 640x640 8 cars, 2 trucks, 28.0ms\n",
      "Speed: 1.0ms preprocess, 28.0ms inference, 1.0ms postprocess per image at shape (1, 3, 640, 640)\n"
     ]
    },
    {
     "name": "stderr",
     "output_type": "stream",
     "text": [
      "Processing results: 100%|██████████| 1/1 [00:00<00:00, 500.04it/s]\n",
      "Processing images:  76%|███████▌  | 612/810 [00:32<00:10, 18.98it/s]"
     ]
    },
    {
     "name": "stdout",
     "output_type": "stream",
     "text": [
      "C:\\Users\\User\\Desktop\\DSO\\traffic-prediction\\backend\\assets4_labels\\6712_1408_20240127141000_571021.txt\n",
      "\n",
      "0: 640x640 10 cars, 2 trucks, 25.0ms\n",
      "Speed: 2.0ms preprocess, 25.0ms inference, 2.0ms postprocess per image at shape (1, 3, 640, 640)\n"
     ]
    },
    {
     "name": "stderr",
     "output_type": "stream",
     "text": [
      "Processing results: 100%|██████████| 1/1 [00:00<00:00, 333.30it/s]"
     ]
    },
    {
     "name": "stdout",
     "output_type": "stream",
     "text": [
      "C:\\Users\\User\\Desktop\\DSO\\traffic-prediction\\backend\\assets4_labels\\6712_1413_20240127141502_494955.txt\n",
      "\n",
      "0: 640x640 9 cars, 1 bus, 3 trucks, 28.1ms\n"
     ]
    },
    {
     "name": "stderr",
     "output_type": "stream",
     "text": [
      "\n"
     ]
    },
    {
     "name": "stdout",
     "output_type": "stream",
     "text": [
      "Speed: 2.0ms preprocess, 28.1ms inference, 2.0ms postprocess per image at shape (1, 3, 640, 640)\n"
     ]
    },
    {
     "name": "stderr",
     "output_type": "stream",
     "text": [
      "Processing results: 100%|██████████| 1/1 [00:00<00:00, 499.02it/s]\n",
      "Processing images:  76%|███████▌  | 614/810 [00:33<00:10, 18.88it/s]"
     ]
    },
    {
     "name": "stdout",
     "output_type": "stream",
     "text": [
      "C:\\Users\\User\\Desktop\\DSO\\traffic-prediction\\backend\\assets4_labels\\6712_1419_20240127142004_545755.txt\n",
      "\n",
      "0: 640x640 1 person, 12 cars, 1 motorcycle, 1 bus, 2 trucks, 29.1ms\n",
      "Speed: 1.0ms preprocess, 29.1ms inference, 2.0ms postprocess per image at shape (1, 3, 640, 640)\n"
     ]
    },
    {
     "name": "stderr",
     "output_type": "stream",
     "text": [
      "Processing results: 100%|██████████| 1/1 [00:00<00:00, 332.20it/s]"
     ]
    },
    {
     "name": "stdout",
     "output_type": "stream",
     "text": [
      "C:\\Users\\User\\Desktop\\DSO\\traffic-prediction\\backend\\assets4_labels\\6712_1423_20240127142504_102489.txt\n",
      "\n"
     ]
    },
    {
     "name": "stderr",
     "output_type": "stream",
     "text": [
      "\n"
     ]
    },
    {
     "name": "stdout",
     "output_type": "stream",
     "text": [
      "0: 640x640 9 cars, 7 trucks, 27.5ms\n",
      "Speed: 2.5ms preprocess, 27.5ms inference, 2.0ms postprocess per image at shape (1, 3, 640, 640)\n"
     ]
    },
    {
     "name": "stderr",
     "output_type": "stream",
     "text": [
      "Processing results: 100%|██████████| 1/1 [00:00<00:00, 285.50it/s]\n",
      "Processing images:  76%|███████▌  | 616/810 [00:33<00:10, 18.40it/s]"
     ]
    },
    {
     "name": "stdout",
     "output_type": "stream",
     "text": [
      "C:\\Users\\User\\Desktop\\DSO\\traffic-prediction\\backend\\assets4_labels\\6712_1428_20240127143000_100985.txt\n",
      "\n",
      "0: 640x640 8 cars, 27.1ms\n",
      "Speed: 1.0ms preprocess, 27.1ms inference, 1.0ms postprocess per image at shape (1, 3, 640, 640)\n"
     ]
    },
    {
     "name": "stderr",
     "output_type": "stream",
     "text": [
      "Processing results: 100%|██████████| 1/1 [00:00<00:00, 396.29it/s]"
     ]
    },
    {
     "name": "stdout",
     "output_type": "stream",
     "text": [
      "C:\\Users\\User\\Desktop\\DSO\\traffic-prediction\\backend\\assets4_labels\\6712_1433_20240127143501_545753.txt\n",
      "\n"
     ]
    },
    {
     "name": "stderr",
     "output_type": "stream",
     "text": [
      "\n"
     ]
    },
    {
     "name": "stdout",
     "output_type": "stream",
     "text": [
      "0: 640x640 7 cars, 3 buss, 1 truck, 26.3ms\n",
      "Speed: 1.5ms preprocess, 26.3ms inference, 2.0ms postprocess per image at shape (1, 3, 640, 640)\n"
     ]
    },
    {
     "name": "stderr",
     "output_type": "stream",
     "text": [
      "Processing results: 100%|██████████| 1/1 [00:00<00:00, 333.28it/s]\n",
      "Processing images:  76%|███████▋  | 618/810 [00:33<00:10, 18.56it/s]"
     ]
    },
    {
     "name": "stdout",
     "output_type": "stream",
     "text": [
      "C:\\Users\\User\\Desktop\\DSO\\traffic-prediction\\backend\\assets4_labels\\6712_1438_20240127144000_574851.txt\n",
      "\n",
      "0: 640x640 5 cars, 2 trucks, 27.5ms\n",
      "Speed: 1.0ms preprocess, 27.5ms inference, 2.0ms postprocess per image at shape (1, 3, 640, 640)\n"
     ]
    },
    {
     "name": "stderr",
     "output_type": "stream",
     "text": [
      "Processing results: 100%|██████████| 1/1 [00:00<00:00, 499.02it/s]"
     ]
    },
    {
     "name": "stdout",
     "output_type": "stream",
     "text": [
      "C:\\Users\\User\\Desktop\\DSO\\traffic-prediction\\backend\\assets4_labels\\6712_1443_20240127144501_574898.txt\n",
      "\n",
      "0: 640x640 7 cars, 3 trucks, 29.3ms\n"
     ]
    },
    {
     "name": "stderr",
     "output_type": "stream",
     "text": [
      "\n"
     ]
    },
    {
     "name": "stdout",
     "output_type": "stream",
     "text": [
      "Speed: 2.0ms preprocess, 29.3ms inference, 1.0ms postprocess per image at shape (1, 3, 640, 640)\n"
     ]
    },
    {
     "name": "stderr",
     "output_type": "stream",
     "text": [
      "Processing results: 100%|██████████| 1/1 [00:00<00:00, 477.93it/s]\n",
      "Processing images:  77%|███████▋  | 620/810 [00:33<00:10, 18.55it/s]"
     ]
    },
    {
     "name": "stdout",
     "output_type": "stream",
     "text": [
      "C:\\Users\\User\\Desktop\\DSO\\traffic-prediction\\backend\\assets4_labels\\6712_1448_20240127145010_999999.txt\n",
      "\n",
      "0: 640x640 8 cars, 1 bus, 2 trucks, 32.5ms\n",
      "Speed: 1.0ms preprocess, 32.5ms inference, 2.0ms postprocess per image at shape (1, 3, 640, 640)\n"
     ]
    },
    {
     "name": "stderr",
     "output_type": "stream",
     "text": [
      "Processing results: 100%|██████████| 1/1 [00:00<00:00, 494.09it/s]"
     ]
    },
    {
     "name": "stdout",
     "output_type": "stream",
     "text": [
      "C:\\Users\\User\\Desktop\\DSO\\traffic-prediction\\backend\\assets4_labels\\6713_1409_20240127141004_994810.txt\n",
      "\n"
     ]
    },
    {
     "name": "stderr",
     "output_type": "stream",
     "text": [
      "\n"
     ]
    },
    {
     "name": "stdout",
     "output_type": "stream",
     "text": [
      "0: 640x640 9 cars, 1 truck, 27.6ms\n",
      "Speed: 2.5ms preprocess, 27.6ms inference, 2.0ms postprocess per image at shape (1, 3, 640, 640)\n"
     ]
    },
    {
     "name": "stderr",
     "output_type": "stream",
     "text": [
      "Processing results: 100%|██████████| 1/1 [00:00<00:00, 333.33it/s]\n",
      "Processing images:  77%|███████▋  | 622/810 [00:33<00:10, 18.14it/s]"
     ]
    },
    {
     "name": "stdout",
     "output_type": "stream",
     "text": [
      "C:\\Users\\User\\Desktop\\DSO\\traffic-prediction\\backend\\assets4_labels\\6713_1414_20240127141504_991025.txt\n",
      "\n",
      "0: 640x640 1 person, 5 cars, 1 motorcycle, 3 trucks, 27.2ms\n",
      "Speed: 2.5ms preprocess, 27.2ms inference, 1.0ms postprocess per image at shape (1, 3, 640, 640)\n"
     ]
    },
    {
     "name": "stderr",
     "output_type": "stream",
     "text": [
      "Processing results: 100%|██████████| 1/1 [00:00<00:00, 500.39it/s]"
     ]
    },
    {
     "name": "stdout",
     "output_type": "stream",
     "text": [
      "C:\\Users\\User\\Desktop\\DSO\\traffic-prediction\\backend\\assets4_labels\\6713_1419_20240127142009_575256.txt\n",
      "\n"
     ]
    },
    {
     "name": "stderr",
     "output_type": "stream",
     "text": [
      "\n"
     ]
    },
    {
     "name": "stdout",
     "output_type": "stream",
     "text": [
      "0: 640x640 3 cars, 4 trucks, 27.9ms\n",
      "Speed: 2.1ms preprocess, 27.9ms inference, 2.0ms postprocess per image at shape (1, 3, 640, 640)\n"
     ]
    },
    {
     "name": "stderr",
     "output_type": "stream",
     "text": [
      "Processing results: 100%|██████████| 1/1 [00:00<00:00, 499.92it/s]\n",
      "Processing images:  77%|███████▋  | 624/810 [00:33<00:10, 17.67it/s]"
     ]
    },
    {
     "name": "stdout",
     "output_type": "stream",
     "text": [
      "C:\\Users\\User\\Desktop\\DSO\\traffic-prediction\\backend\\assets4_labels\\6713_1424_20240127142507_555549.txt\n",
      "\n",
      "0: 640x640 5 cars, 2 trucks, 26.1ms\n",
      "Speed: 2.0ms preprocess, 26.1ms inference, 1.0ms postprocess per image at shape (1, 3, 640, 640)\n"
     ]
    },
    {
     "name": "stderr",
     "output_type": "stream",
     "text": [
      "Processing results: 100%|██████████| 1/1 [00:00<00:00, 999.83it/s]"
     ]
    },
    {
     "name": "stdout",
     "output_type": "stream",
     "text": [
      "C:\\Users\\User\\Desktop\\DSO\\traffic-prediction\\backend\\assets4_labels\\6713_1429_20240127143009_574855.txt\n",
      "\n"
     ]
    },
    {
     "name": "stderr",
     "output_type": "stream",
     "text": [
      "\n"
     ]
    },
    {
     "name": "stdout",
     "output_type": "stream",
     "text": [
      "0: 640x640 2 cars, 25.7ms\n",
      "Speed: 2.0ms preprocess, 25.7ms inference, 1.0ms postprocess per image at shape (1, 3, 640, 640)\n"
     ]
    },
    {
     "name": "stderr",
     "output_type": "stream",
     "text": [
      "Processing results: 100%|██████████| 1/1 [00:00<00:00, 1000.55it/s]"
     ]
    },
    {
     "name": "stdout",
     "output_type": "stream",
     "text": [
      "C:\\Users\\User\\Desktop\\DSO\\traffic-prediction\\backend\\assets4_labels\\6713_1433_20240127143504_495648.txt\n",
      "\n"
     ]
    },
    {
     "name": "stderr",
     "output_type": "stream",
     "text": [
      "\n"
     ]
    },
    {
     "name": "stdout",
     "output_type": "stream",
     "text": [
      "0: 640x640 6 cars, 1 truck, 27.6ms\n",
      "Speed: 2.0ms preprocess, 27.6ms inference, 2.0ms postprocess per image at shape (1, 3, 640, 640)\n"
     ]
    },
    {
     "name": "stderr",
     "output_type": "stream",
     "text": [
      "Processing results: 100%|██████████| 1/1 [00:00<00:00, 498.37it/s]\n",
      "Processing images:  77%|███████▋  | 627/810 [00:33<00:09, 18.32it/s]"
     ]
    },
    {
     "name": "stdout",
     "output_type": "stream",
     "text": [
      "C:\\Users\\User\\Desktop\\DSO\\traffic-prediction\\backend\\assets4_labels\\6713_1439_20240127144006_979752.txt\n",
      "\n",
      "0: 640x640 2 persons, 4 cars, 1 bus, 1 truck, 27.4ms\n",
      "Speed: 1.5ms preprocess, 27.4ms inference, 2.0ms postprocess per image at shape (1, 3, 640, 640)\n"
     ]
    },
    {
     "name": "stderr",
     "output_type": "stream",
     "text": [
      "Processing results: 100%|██████████| 1/1 [00:00<00:00, 500.10it/s]"
     ]
    },
    {
     "name": "stdout",
     "output_type": "stream",
     "text": [
      "C:\\Users\\User\\Desktop\\DSO\\traffic-prediction\\backend\\assets4_labels\\6713_1444_20240127144512_505697.txt\n",
      "\n"
     ]
    },
    {
     "name": "stderr",
     "output_type": "stream",
     "text": [
      "\n"
     ]
    },
    {
     "name": "stdout",
     "output_type": "stream",
     "text": [
      "0: 640x640 13 cars, 1 truck, 26.0ms\n",
      "Speed: 2.0ms preprocess, 26.0ms inference, 2.0ms postprocess per image at shape (1, 3, 640, 640)\n"
     ]
    },
    {
     "name": "stderr",
     "output_type": "stream",
     "text": [
      "Processing results: 100%|██████████| 1/1 [00:00<00:00, 332.78it/s]\n",
      "Processing images:  78%|███████▊  | 629/810 [00:33<00:09, 18.44it/s]"
     ]
    },
    {
     "name": "stdout",
     "output_type": "stream",
     "text": [
      "C:\\Users\\User\\Desktop\\DSO\\traffic-prediction\\backend\\assets4_labels\\6713_1449_20240127145012_100535.txt\n",
      "\n",
      "0: 640x640 11 cars, 2 trucks, 26.7ms\n",
      "Speed: 1.1ms preprocess, 26.7ms inference, 2.0ms postprocess per image at shape (1, 3, 640, 640)\n"
     ]
    },
    {
     "name": "stderr",
     "output_type": "stream",
     "text": [
      "Processing results: 100%|██████████| 1/1 [00:00<00:00, 499.92it/s]"
     ]
    },
    {
     "name": "stdout",
     "output_type": "stream",
     "text": [
      "C:\\Users\\User\\Desktop\\DSO\\traffic-prediction\\backend\\assets4_labels\\6714_1409_20240127141006_481005.txt\n",
      "\n"
     ]
    },
    {
     "name": "stderr",
     "output_type": "stream",
     "text": [
      "\n"
     ]
    },
    {
     "name": "stdout",
     "output_type": "stream",
     "text": [
      "0: 640x640 2 cars, 1 bus, 2 trucks, 1 traffic light, 25.5ms\n",
      "Speed: 1.0ms preprocess, 25.5ms inference, 2.0ms postprocess per image at shape (1, 3, 640, 640)\n"
     ]
    },
    {
     "name": "stderr",
     "output_type": "stream",
     "text": [
      "Processing results: 100%|██████████| 1/1 [00:00<00:00, 499.74it/s]\n",
      "Processing images:  78%|███████▊  | 631/810 [00:33<00:09, 18.41it/s]"
     ]
    },
    {
     "name": "stdout",
     "output_type": "stream",
     "text": [
      "C:\\Users\\User\\Desktop\\DSO\\traffic-prediction\\backend\\assets4_labels\\6714_1414_20240127141508_541001.txt\n",
      "\n",
      "0: 640x640 1 person, 3 cars, 1 motorcycle, 3 trucks, 1 traffic light, 1 baseball bat, 25.9ms\n",
      "Speed: 2.0ms preprocess, 25.9ms inference, 1.0ms postprocess per image at shape (1, 3, 640, 640)\n"
     ]
    },
    {
     "name": "stderr",
     "output_type": "stream",
     "text": [
      "Processing results: 100%|██████████| 1/1 [00:00<00:00, 399.65it/s]"
     ]
    },
    {
     "name": "stdout",
     "output_type": "stream",
     "text": [
      "C:\\Users\\User\\Desktop\\DSO\\traffic-prediction\\backend\\assets4_labels\\6714_1419_20240127142012_995510.txt\n",
      "\n"
     ]
    },
    {
     "name": "stderr",
     "output_type": "stream",
     "text": [
      "\n"
     ]
    },
    {
     "name": "stdout",
     "output_type": "stream",
     "text": [
      "0: 640x640 1 person, 2 cars, 1 motorcycle, 4 trucks, 1 traffic light, 26.3ms\n",
      "Speed: 2.0ms preprocess, 26.3ms inference, 1.0ms postprocess per image at shape (1, 3, 640, 640)\n"
     ]
    },
    {
     "name": "stderr",
     "output_type": "stream",
     "text": [
      "Processing results: 100%|██████████| 1/1 [00:00<00:00, 476.95it/s]\n",
      "Processing images:  78%|███████▊  | 633/810 [00:34<00:09, 18.69it/s]"
     ]
    },
    {
     "name": "stdout",
     "output_type": "stream",
     "text": [
      "C:\\Users\\User\\Desktop\\DSO\\traffic-prediction\\backend\\assets4_labels\\6714_1424_20240127142510_505056.txt\n",
      "\n",
      "0: 640x640 6 cars, 1 bus, 3 trucks, 1 traffic light, 26.1ms\n",
      "Speed: 1.5ms preprocess, 26.1ms inference, 1.0ms postprocess per image at shape (1, 3, 640, 640)\n"
     ]
    },
    {
     "name": "stderr",
     "output_type": "stream",
     "text": [
      "Processing results: 100%|██████████| 1/1 [00:00<00:00, 330.86it/s]"
     ]
    },
    {
     "name": "stdout",
     "output_type": "stream",
     "text": [
      "C:\\Users\\User\\Desktop\\DSO\\traffic-prediction\\backend\\assets4_labels\\6714_1429_20240127143012_975349.txt\n",
      "\n",
      "0: 640x640 12 cars, 3 trucks, 2 traffic lights, 25.2ms\n"
     ]
    },
    {
     "name": "stderr",
     "output_type": "stream",
     "text": [
      "\n"
     ]
    },
    {
     "name": "stdout",
     "output_type": "stream",
     "text": [
      "Speed: 1.5ms preprocess, 25.2ms inference, 1.0ms postprocess per image at shape (1, 3, 640, 640)\n"
     ]
    },
    {
     "name": "stderr",
     "output_type": "stream",
     "text": [
      "Processing results: 100%|██████████| 1/1 [00:00<00:00, 295.50it/s]\n",
      "Processing images:  78%|███████▊  | 635/810 [00:34<00:09, 18.93it/s]"
     ]
    },
    {
     "name": "stdout",
     "output_type": "stream",
     "text": [
      "C:\\Users\\User\\Desktop\\DSO\\traffic-prediction\\backend\\assets4_labels\\6714_1433_20240127143505_535154.txt\n",
      "\n",
      "0: 640x640 5 cars, 2 motorcycles, 2 trucks, 1 traffic light, 25.4ms\n",
      "Speed: 2.0ms preprocess, 25.4ms inference, 1.5ms postprocess per image at shape (1, 3, 640, 640)\n"
     ]
    },
    {
     "name": "stderr",
     "output_type": "stream",
     "text": [
      "Processing results: 100%|██████████| 1/1 [00:00<00:00, 333.20it/s]"
     ]
    },
    {
     "name": "stdout",
     "output_type": "stream",
     "text": [
      "C:\\Users\\User\\Desktop\\DSO\\traffic-prediction\\backend\\assets4_labels\\6714_1439_20240127144007_535297.txt\n",
      "\n"
     ]
    },
    {
     "name": "stderr",
     "output_type": "stream",
     "text": [
      "\n"
     ]
    },
    {
     "name": "stdout",
     "output_type": "stream",
     "text": [
      "0: 640x640 1 person, 6 cars, 1 motorcycle, 1 bus, 3 trucks, 1 traffic light, 27.5ms\n",
      "Speed: 1.0ms preprocess, 27.5ms inference, 1.5ms postprocess per image at shape (1, 3, 640, 640)\n"
     ]
    },
    {
     "name": "stderr",
     "output_type": "stream",
     "text": [
      "Processing results: 100%|██████████| 1/1 [00:00<00:00, 332.72it/s]\n",
      "Processing images:  79%|███████▊  | 637/810 [00:34<00:09, 19.04it/s]"
     ]
    },
    {
     "name": "stdout",
     "output_type": "stream",
     "text": [
      "C:\\Users\\User\\Desktop\\DSO\\traffic-prediction\\backend\\assets4_labels\\6714_1444_20240127144516_975055.txt\n",
      "\n",
      "0: 640x640 3 cars, 1 truck, 1 traffic light, 26.1ms\n",
      "Speed: 1.0ms preprocess, 26.1ms inference, 2.0ms postprocess per image at shape (1, 3, 640, 640)\n"
     ]
    },
    {
     "name": "stderr",
     "output_type": "stream",
     "text": [
      "Processing results: 100%|██████████| 1/1 [00:00<00:00, 996.04it/s]"
     ]
    },
    {
     "name": "stdout",
     "output_type": "stream",
     "text": [
      "C:\\Users\\User\\Desktop\\DSO\\traffic-prediction\\backend\\assets4_labels\\6714_1449_20240127145013_101515.txt\n",
      "\n"
     ]
    },
    {
     "name": "stderr",
     "output_type": "stream",
     "text": [
      "\n"
     ]
    },
    {
     "name": "stdout",
     "output_type": "stream",
     "text": [
      "0: 640x640 6 cars, 1 train, 1 truck, 1 traffic light, 26.0ms\n",
      "Speed: 2.0ms preprocess, 26.0ms inference, 1.0ms postprocess per image at shape (1, 3, 640, 640)\n"
     ]
    },
    {
     "name": "stderr",
     "output_type": "stream",
     "text": [
      "Processing results: 100%|██████████| 1/1 [00:00<00:00, 398.02it/s]\n",
      "Processing images:  79%|███████▉  | 639/810 [00:34<00:08, 19.20it/s]"
     ]
    },
    {
     "name": "stdout",
     "output_type": "stream",
     "text": [
      "C:\\Users\\User\\Desktop\\DSO\\traffic-prediction\\backend\\assets4_labels\\6715_1408_20240127141007_495755.txt\n",
      "\n",
      "0: 640x640 4 persons, 9 cars, 4 motorcycles, 3 trucks, 26.6ms\n",
      "Speed: 1.0ms preprocess, 26.6ms inference, 1.0ms postprocess per image at shape (1, 3, 640, 640)\n"
     ]
    },
    {
     "name": "stderr",
     "output_type": "stream",
     "text": [
      "Processing results: 100%|██████████| 1/1 [00:00<00:00, 331.85it/s]"
     ]
    },
    {
     "name": "stdout",
     "output_type": "stream",
     "text": [
      "C:\\Users\\User\\Desktop\\DSO\\traffic-prediction\\backend\\assets4_labels\\6715_1413_20240127141511_561019.txt\n",
      "\n",
      "0: 640x640 2 persons, 7 cars, 1 motorcycle, 3 trucks, 26.5ms\n"
     ]
    },
    {
     "name": "stderr",
     "output_type": "stream",
     "text": [
      "\n"
     ]
    },
    {
     "name": "stdout",
     "output_type": "stream",
     "text": [
      "Speed: 2.0ms preprocess, 26.5ms inference, 1.0ms postprocess per image at shape (1, 3, 640, 640)\n"
     ]
    },
    {
     "name": "stderr",
     "output_type": "stream",
     "text": [
      "Processing results: 100%|██████████| 1/1 [00:00<00:00, 495.02it/s]\n",
      "Processing images:  79%|███████▉  | 641/810 [00:34<00:08, 19.27it/s]"
     ]
    },
    {
     "name": "stdout",
     "output_type": "stream",
     "text": [
      "C:\\Users\\User\\Desktop\\DSO\\traffic-prediction\\backend\\assets4_labels\\6715_1419_20240127142013_525352.txt\n",
      "\n",
      "0: 640x640 3 cars, 1 bus, 26.6ms\n",
      "Speed: 1.5ms preprocess, 26.6ms inference, 2.0ms postprocess per image at shape (1, 3, 640, 640)\n"
     ]
    },
    {
     "name": "stderr",
     "output_type": "stream",
     "text": [
      "Processing results: 100%|██████████| 1/1 [00:00<00:00, 498.97it/s]"
     ]
    },
    {
     "name": "stdout",
     "output_type": "stream",
     "text": [
      "C:\\Users\\User\\Desktop\\DSO\\traffic-prediction\\backend\\assets4_labels\\6715_1423_20240127142512_985656.txt\n",
      "\n"
     ]
    },
    {
     "name": "stderr",
     "output_type": "stream",
     "text": [
      "\n"
     ]
    },
    {
     "name": "stdout",
     "output_type": "stream",
     "text": [
      "0: 640x640 3 cars, 1 bus, 3 trucks, 26.7ms\n",
      "Speed: 1.3ms preprocess, 26.7ms inference, 2.0ms postprocess per image at shape (1, 3, 640, 640)\n"
     ]
    },
    {
     "name": "stderr",
     "output_type": "stream",
     "text": [
      "Processing results: 100%|██████████| 1/1 [00:00<00:00, 398.40it/s]\n",
      "Processing images:  79%|███████▉  | 643/810 [00:34<00:08, 19.12it/s]"
     ]
    },
    {
     "name": "stdout",
     "output_type": "stream",
     "text": [
      "C:\\Users\\User\\Desktop\\DSO\\traffic-prediction\\backend\\assets4_labels\\6715_1429_20240127143015_565257.txt\n",
      "\n",
      "0: 640x640 2 cars, 1 truck, 34.2ms\n",
      "Speed: 2.0ms preprocess, 34.2ms inference, 3.0ms postprocess per image at shape (1, 3, 640, 640)\n"
     ]
    },
    {
     "name": "stderr",
     "output_type": "stream",
     "text": [
      "Processing results: 100%|██████████| 1/1 [00:00<00:00, 498.55it/s]"
     ]
    },
    {
     "name": "stdout",
     "output_type": "stream",
     "text": [
      "C:\\Users\\User\\Desktop\\DSO\\traffic-prediction\\backend\\assets4_labels\\6715_1433_20240127143507_541005.txt\n",
      "\n"
     ]
    },
    {
     "name": "stderr",
     "output_type": "stream",
     "text": [
      "\n"
     ]
    },
    {
     "name": "stdout",
     "output_type": "stream",
     "text": [
      "0: 640x640 1 person, 6 cars, 2 trucks, 32.1ms\n",
      "Speed: 2.0ms preprocess, 32.1ms inference, 3.0ms postprocess per image at shape (1, 3, 640, 640)\n"
     ]
    },
    {
     "name": "stderr",
     "output_type": "stream",
     "text": [
      "Processing results: 100%|██████████| 1/1 [00:00<00:00, 522.52it/s]\n",
      "Processing images:  80%|███████▉  | 645/810 [00:34<00:09, 18.12it/s]"
     ]
    },
    {
     "name": "stdout",
     "output_type": "stream",
     "text": [
      "C:\\Users\\User\\Desktop\\DSO\\traffic-prediction\\backend\\assets4_labels\\6715_1439_20240127144009_491015.txt\n",
      "\n",
      "0: 640x640 4 cars, 1 truck, 34.7ms\n",
      "Speed: 1.0ms preprocess, 34.7ms inference, 2.0ms postprocess per image at shape (1, 3, 640, 640)\n"
     ]
    },
    {
     "name": "stderr",
     "output_type": "stream",
     "text": [
      "Processing results: 100%|██████████| 1/1 [00:00<00:00, 332.54it/s]"
     ]
    },
    {
     "name": "stdout",
     "output_type": "stream",
     "text": [
      "C:\\Users\\User\\Desktop\\DSO\\traffic-prediction\\backend\\assets4_labels\\6715_1444_20240127144519_555410.txt\n",
      "\n",
      "0: 640x640 4 cars, 2 trucks, 28.1ms\n",
      "Speed: 1.0ms preprocess, 28.1ms inference, 1.7ms postprocess per image at shape (1, 3, 640, 640)\n"
     ]
    },
    {
     "name": "stderr",
     "output_type": "stream",
     "text": [
      "\n",
      "Processing results: 100%|██████████| 1/1 [00:00<00:00, 996.27it/s]\n",
      "Processing images:  80%|███████▉  | 647/810 [00:34<00:09, 17.87it/s]"
     ]
    },
    {
     "name": "stdout",
     "output_type": "stream",
     "text": [
      "C:\\Users\\User\\Desktop\\DSO\\traffic-prediction\\backend\\assets4_labels\\6715_1448_20240127145016_575199.txt\n",
      "\n",
      "0: 640x640 6 cars, 27.5ms\n",
      "Speed: 2.0ms preprocess, 27.5ms inference, 1.0ms postprocess per image at shape (1, 3, 640, 640)\n"
     ]
    },
    {
     "name": "stderr",
     "output_type": "stream",
     "text": [
      "Processing results: 100%|██████████| 1/1 [00:00<00:00, 450.76it/s]"
     ]
    },
    {
     "name": "stdout",
     "output_type": "stream",
     "text": [
      "C:\\Users\\User\\Desktop\\DSO\\traffic-prediction\\backend\\assets4_labels\\6716_1408_20240127141010_559749.txt\n",
      "\n"
     ]
    },
    {
     "name": "stderr",
     "output_type": "stream",
     "text": [
      "\n"
     ]
    },
    {
     "name": "stdout",
     "output_type": "stream",
     "text": [
      "0: 640x640 15 cars, 3 trucks, 1 traffic light, 28.6ms\n",
      "Speed: 2.0ms preprocess, 28.6ms inference, 1.5ms postprocess per image at shape (1, 3, 640, 640)\n"
     ]
    },
    {
     "name": "stderr",
     "output_type": "stream",
     "text": [
      "Processing results: 100%|██████████| 1/1 [00:00<00:00, 333.60it/s]\n",
      "Processing images:  80%|████████  | 649/810 [00:34<00:08, 18.03it/s]"
     ]
    },
    {
     "name": "stdout",
     "output_type": "stream",
     "text": [
      "C:\\Users\\User\\Desktop\\DSO\\traffic-prediction\\backend\\assets4_labels\\6716_1413_20240127141513_991029.txt\n",
      "\n",
      "0: 640x640 16 cars, 1 bus, 1 truck, 26.1ms\n",
      "Speed: 2.0ms preprocess, 26.1ms inference, 2.0ms postprocess per image at shape (1, 3, 640, 640)\n"
     ]
    },
    {
     "name": "stderr",
     "output_type": "stream",
     "text": [
      "Processing results: 100%|██████████| 1/1 [00:00<00:00, 284.07it/s]"
     ]
    },
    {
     "name": "stdout",
     "output_type": "stream",
     "text": [
      "C:\\Users\\User\\Desktop\\DSO\\traffic-prediction\\backend\\assets4_labels\\6716_1419_20240127142016_525552.txt\n",
      "\n"
     ]
    },
    {
     "name": "stderr",
     "output_type": "stream",
     "text": [
      "\n"
     ]
    },
    {
     "name": "stdout",
     "output_type": "stream",
     "text": [
      "0: 640x640 2 persons, 3 cars, 5 traffic lights, 25.5ms\n",
      "Speed: 2.0ms preprocess, 25.5ms inference, 1.0ms postprocess per image at shape (1, 3, 640, 640)\n"
     ]
    },
    {
     "name": "stderr",
     "output_type": "stream",
     "text": [
      "Processing results: 100%|██████████| 1/1 [00:00<00:00, 248.17it/s]\n",
      "Processing images:  80%|████████  | 651/810 [00:35<00:08, 18.38it/s]"
     ]
    },
    {
     "name": "stdout",
     "output_type": "stream",
     "text": [
      "C:\\Users\\User\\Desktop\\DSO\\traffic-prediction\\backend\\assets4_labels\\6716_1423_20240127142515_102999.txt\n",
      "\n",
      "0: 640x640 12 cars, 4 trucks, 1 traffic light, 25.5ms\n",
      "Speed: 2.0ms preprocess, 25.5ms inference, 2.0ms postprocess per image at shape (1, 3, 640, 640)\n"
     ]
    },
    {
     "name": "stderr",
     "output_type": "stream",
     "text": [
      "Processing results: 100%|██████████| 1/1 [00:00<00:00, 324.11it/s]"
     ]
    },
    {
     "name": "stdout",
     "output_type": "stream",
     "text": [
      "C:\\Users\\User\\Desktop\\DSO\\traffic-prediction\\backend\\assets4_labels\\6716_1429_20240127143016_981025.txt\n",
      "\n"
     ]
    },
    {
     "name": "stderr",
     "output_type": "stream",
     "text": [
      "\n"
     ]
    },
    {
     "name": "stdout",
     "output_type": "stream",
     "text": [
      "0: 640x640 7 cars, 3 motorcycles, 1 bus, 4 trucks, 1 traffic light, 27.0ms\n",
      "Speed: 1.0ms preprocess, 27.0ms inference, 1.0ms postprocess per image at shape (1, 3, 640, 640)\n"
     ]
    },
    {
     "name": "stderr",
     "output_type": "stream",
     "text": [
      "Processing results: 100%|██████████| 1/1 [00:00<00:00, 333.38it/s]\n",
      "Processing images:  81%|████████  | 653/810 [00:35<00:08, 18.49it/s]"
     ]
    },
    {
     "name": "stdout",
     "output_type": "stream",
     "text": [
      "C:\\Users\\User\\Desktop\\DSO\\traffic-prediction\\backend\\assets4_labels\\6716_1433_20240127143510_575351.txt\n",
      "\n",
      "0: 640x640 3 cars, 2 buss, 5 trucks, 1 traffic light, 26.6ms\n",
      "Speed: 1.0ms preprocess, 26.6ms inference, 1.0ms postprocess per image at shape (1, 3, 640, 640)\n"
     ]
    },
    {
     "name": "stderr",
     "output_type": "stream",
     "text": [
      "Processing results: 100%|██████████| 1/1 [00:00<00:00, 397.94it/s]"
     ]
    },
    {
     "name": "stdout",
     "output_type": "stream",
     "text": [
      "C:\\Users\\User\\Desktop\\DSO\\traffic-prediction\\backend\\assets4_labels\\6716_1439_20240127144010_555754.txt\n",
      "\n"
     ]
    },
    {
     "name": "stderr",
     "output_type": "stream",
     "text": [
      "\n"
     ]
    },
    {
     "name": "stdout",
     "output_type": "stream",
     "text": [
      "0: 640x640 2 persons, 3 cars, 2 buss, 2 trucks, 2 traffic lights, 26.0ms\n",
      "Speed: 2.0ms preprocess, 26.0ms inference, 4.0ms postprocess per image at shape (1, 3, 640, 640)\n"
     ]
    },
    {
     "name": "stderr",
     "output_type": "stream",
     "text": [
      "Processing results: 100%|██████████| 1/1 [00:00<00:00, 333.17it/s]\n",
      "Processing images:  81%|████████  | 655/810 [00:35<00:08, 18.55it/s]"
     ]
    },
    {
     "name": "stdout",
     "output_type": "stream",
     "text": [
      "C:\\Users\\User\\Desktop\\DSO\\traffic-prediction\\backend\\assets4_labels\\6716_1444_20240127144524_501024.txt\n",
      "\n",
      "0: 640x640 1 person, 2 cars, 1 bus, 2 trucks, 4 traffic lights, 25.5ms\n",
      "Speed: 1.0ms preprocess, 25.5ms inference, 2.0ms postprocess per image at shape (1, 3, 640, 640)\n"
     ]
    },
    {
     "name": "stderr",
     "output_type": "stream",
     "text": [
      "Processing results: 100%|██████████| 1/1 [00:00<00:00, 500.75it/s]"
     ]
    },
    {
     "name": "stdout",
     "output_type": "stream",
     "text": [
      "C:\\Users\\User\\Desktop\\DSO\\traffic-prediction\\backend\\assets4_labels\\6716_1448_20240127145018_975297.txt\n",
      "\n"
     ]
    },
    {
     "name": "stderr",
     "output_type": "stream",
     "text": [
      "\n"
     ]
    },
    {
     "name": "stdout",
     "output_type": "stream",
     "text": [
      "0: 640x640 6 cars, 2 motorcycles, 1 bus, 4 trucks, 2 traffic lights, 27.5ms\n",
      "Speed: 1.0ms preprocess, 27.5ms inference, 1.5ms postprocess per image at shape (1, 3, 640, 640)\n"
     ]
    },
    {
     "name": "stderr",
     "output_type": "stream",
     "text": [
      "Processing results: 100%|██████████| 1/1 [00:00<00:00, 333.07it/s]\n",
      "Processing images:  81%|████████  | 657/810 [00:35<00:08, 18.29it/s]"
     ]
    },
    {
     "name": "stdout",
     "output_type": "stream",
     "text": [
      "C:\\Users\\User\\Desktop\\DSO\\traffic-prediction\\backend\\assets4_labels\\7791_1408_20240127141012_499755.txt\n",
      "\n",
      "0: 640x640 4 cars, 1 bus, 1 truck, 1 traffic light, 26.7ms\n",
      "Speed: 2.0ms preprocess, 26.7ms inference, 1.5ms postprocess per image at shape (1, 3, 640, 640)\n"
     ]
    },
    {
     "name": "stderr",
     "output_type": "stream",
     "text": [
      "Processing results: 100%|██████████| 1/1 [00:00<00:00, 660.94it/s]"
     ]
    },
    {
     "name": "stdout",
     "output_type": "stream",
     "text": [
      "C:\\Users\\User\\Desktop\\DSO\\traffic-prediction\\backend\\assets4_labels\\7791_1413_20240127141517_569710.txt\n",
      "\n"
     ]
    },
    {
     "name": "stderr",
     "output_type": "stream",
     "text": [
      "\n"
     ]
    },
    {
     "name": "stdout",
     "output_type": "stream",
     "text": [
      "0: 640x640 10 cars, 1 truck, 1 traffic light, 26.9ms\n",
      "Speed: 1.0ms preprocess, 26.9ms inference, 2.0ms postprocess per image at shape (1, 3, 640, 640)\n"
     ]
    },
    {
     "name": "stderr",
     "output_type": "stream",
     "text": [
      "Processing results: 100%|██████████| 1/1 [00:00<00:00, 334.77it/s]\n",
      "Processing images:  81%|████████▏ | 659/810 [00:35<00:08, 18.50it/s]"
     ]
    },
    {
     "name": "stdout",
     "output_type": "stream",
     "text": [
      "C:\\Users\\User\\Desktop\\DSO\\traffic-prediction\\backend\\assets4_labels\\7791_1419_20240127142020_579754.txt\n",
      "\n",
      "0: 640x640 5 cars, 1 traffic light, 1 clock, 26.4ms\n",
      "Speed: 1.7ms preprocess, 26.4ms inference, 1.5ms postprocess per image at shape (1, 3, 640, 640)\n"
     ]
    },
    {
     "name": "stderr",
     "output_type": "stream",
     "text": [
      "Processing results: 100%|██████████| 1/1 [00:00<00:00, 500.04it/s]"
     ]
    },
    {
     "name": "stdout",
     "output_type": "stream",
     "text": [
      "C:\\Users\\User\\Desktop\\DSO\\traffic-prediction\\backend\\assets4_labels\\7791_1423_20240127142517_102529.txt\n",
      "\n"
     ]
    },
    {
     "name": "stderr",
     "output_type": "stream",
     "text": [
      "\n"
     ]
    },
    {
     "name": "stdout",
     "output_type": "stream",
     "text": [
      "0: 640x640 3 cars, 1 bus, 1 train, 26.0ms\n",
      "Speed: 1.0ms preprocess, 26.0ms inference, 2.0ms postprocess per image at shape (1, 3, 640, 640)\n"
     ]
    },
    {
     "name": "stderr",
     "output_type": "stream",
     "text": [
      "Processing results: 100%|██████████| 1/1 [00:00<00:00, 500.22it/s]\n",
      "Processing images:  82%|████████▏ | 661/810 [00:35<00:07, 18.76it/s]"
     ]
    },
    {
     "name": "stdout",
     "output_type": "stream",
     "text": [
      "C:\\Users\\User\\Desktop\\DSO\\traffic-prediction\\backend\\assets4_labels\\7791_1429_20240127143021_579997.txt\n",
      "\n",
      "0: 640x640 1 person, 7 cars, 2 motorcycles, 4 trucks, 25.6ms\n",
      "Speed: 4.2ms preprocess, 25.6ms inference, 3.0ms postprocess per image at shape (1, 3, 640, 640)\n"
     ]
    },
    {
     "name": "stderr",
     "output_type": "stream",
     "text": [
      "Processing results: 100%|██████████| 1/1 [00:00<00:00, 333.54it/s]"
     ]
    },
    {
     "name": "stdout",
     "output_type": "stream",
     "text": [
      "C:\\Users\\User\\Desktop\\DSO\\traffic-prediction\\backend\\assets4_labels\\7791_1433_20240127143512_545150.txt\n",
      "\n"
     ]
    },
    {
     "name": "stderr",
     "output_type": "stream",
     "text": [
      "\n"
     ]
    },
    {
     "name": "stdout",
     "output_type": "stream",
     "text": [
      "0: 640x640 7 cars, 4 trucks, 1 traffic light, 27.0ms\n",
      "Speed: 5.0ms preprocess, 27.0ms inference, 1.0ms postprocess per image at shape (1, 3, 640, 640)\n"
     ]
    },
    {
     "name": "stderr",
     "output_type": "stream",
     "text": [
      "Processing results: 100%|██████████| 1/1 [00:00<00:00, 332.96it/s]\n",
      "Processing images:  82%|████████▏ | 663/810 [00:35<00:08, 17.90it/s]"
     ]
    },
    {
     "name": "stdout",
     "output_type": "stream",
     "text": [
      "C:\\Users\\User\\Desktop\\DSO\\traffic-prediction\\backend\\assets4_labels\\7791_1439_20240127144012_481025.txt\n",
      "\n",
      "0: 640x640 5 cars, 3 trucks, 2 traffic lights, 1 clock, 27.0ms\n",
      "Speed: 2.5ms preprocess, 27.0ms inference, 2.0ms postprocess per image at shape (1, 3, 640, 640)\n"
     ]
    },
    {
     "name": "stderr",
     "output_type": "stream",
     "text": [
      "Processing results: 100%|██████████| 1/1 [00:00<00:00, 457.99it/s]"
     ]
    },
    {
     "name": "stdout",
     "output_type": "stream",
     "text": [
      "C:\\Users\\User\\Desktop\\DSO\\traffic-prediction\\backend\\assets4_labels\\7791_1444_20240127144528_974948.txt\n",
      "\n",
      "0: 640x640 6 cars, 3 trucks, 1 traffic light, 1 clock, 27.0ms\n",
      "Speed: 0.9ms preprocess, 27.0ms inference, 2.0ms postprocess per image at shape (1, 3, 640, 640)\n"
     ]
    },
    {
     "name": "stderr",
     "output_type": "stream",
     "text": [
      "\n",
      "Processing results: 100%|██████████| 1/1 [00:00<00:00, 500.04it/s]\n",
      "Processing images:  82%|████████▏ | 665/810 [00:35<00:08, 18.09it/s]"
     ]
    },
    {
     "name": "stdout",
     "output_type": "stream",
     "text": [
      "C:\\Users\\User\\Desktop\\DSO\\traffic-prediction\\backend\\assets4_labels\\7791_1448_20240127145021_541025.txt\n",
      "\n",
      "0: 640x640 6 cars, 3 trucks, 1 traffic light, 1 clock, 26.1ms\n",
      "Speed: 2.0ms preprocess, 26.1ms inference, 1.3ms postprocess per image at shape (1, 3, 640, 640)\n"
     ]
    },
    {
     "name": "stderr",
     "output_type": "stream",
     "text": [
      "Processing results: 100%|██████████| 1/1 [00:00<00:00, 664.39it/s]"
     ]
    },
    {
     "name": "stdout",
     "output_type": "stream",
     "text": [
      "C:\\Users\\User\\Desktop\\DSO\\traffic-prediction\\backend\\assets4_labels\\7793_1408_20240127141013_985654.txt\n",
      "\n"
     ]
    },
    {
     "name": "stderr",
     "output_type": "stream",
     "text": [
      "\n"
     ]
    },
    {
     "name": "stdout",
     "output_type": "stream",
     "text": [
      "0: 640x640 4 cars, 3 trucks, 27.6ms\n",
      "Speed: 1.0ms preprocess, 27.6ms inference, 2.0ms postprocess per image at shape (1, 3, 640, 640)\n"
     ]
    },
    {
     "name": "stderr",
     "output_type": "stream",
     "text": [
      "Processing results: 100%|██████████| 1/1 [00:00<00:00, 657.21it/s]\n",
      "Processing images:  82%|████████▏ | 667/810 [00:35<00:07, 18.48it/s]"
     ]
    },
    {
     "name": "stdout",
     "output_type": "stream",
     "text": [
      "C:\\Users\\User\\Desktop\\DSO\\traffic-prediction\\backend\\assets4_labels\\7793_1413_20240127141520_101555.txt\n",
      "\n",
      "0: 640x640 4 cars, 1 bus, 4 trucks, 1 clock, 26.5ms\n",
      "Speed: 1.0ms preprocess, 26.5ms inference, 2.0ms postprocess per image at shape (1, 3, 640, 640)\n"
     ]
    },
    {
     "name": "stderr",
     "output_type": "stream",
     "text": [
      "Processing results: 100%|██████████| 1/1 [00:00<00:00, 434.01it/s]"
     ]
    },
    {
     "name": "stdout",
     "output_type": "stream",
     "text": [
      "C:\\Users\\User\\Desktop\\DSO\\traffic-prediction\\backend\\assets4_labels\\7793_1418_20240127142023_505710.txt\n",
      "\n"
     ]
    },
    {
     "name": "stderr",
     "output_type": "stream",
     "text": [
      "\n"
     ]
    },
    {
     "name": "stdout",
     "output_type": "stream",
     "text": [
      "0: 640x640 5 cars, 5 trucks, 1 traffic light, 27.1ms\n",
      "Speed: 1.0ms preprocess, 27.1ms inference, 1.0ms postprocess per image at shape (1, 3, 640, 640)\n"
     ]
    },
    {
     "name": "stderr",
     "output_type": "stream",
     "text": [
      "Processing results: 100%|██████████| 1/1 [00:00<00:00, 459.10it/s]\n",
      "Processing images:  83%|████████▎ | 669/810 [00:36<00:07, 18.79it/s]"
     ]
    },
    {
     "name": "stdout",
     "output_type": "stream",
     "text": [
      "C:\\Users\\User\\Desktop\\DSO\\traffic-prediction\\backend\\assets4_labels\\7793_1423_20240127142520_101535.txt\n",
      "\n",
      "0: 640x640 8 cars, 3 trucks, 1 clock, 26.3ms\n",
      "Speed: 2.0ms preprocess, 26.3ms inference, 2.0ms postprocess per image at shape (1, 3, 640, 640)\n"
     ]
    },
    {
     "name": "stderr",
     "output_type": "stream",
     "text": [
      "Processing results: 100%|██████████| 1/1 [00:00<00:00, 333.33it/s]"
     ]
    },
    {
     "name": "stdout",
     "output_type": "stream",
     "text": [
      "C:\\Users\\User\\Desktop\\DSO\\traffic-prediction\\backend\\assets4_labels\\7793_1428_20240127143024_100545.txt\n",
      "\n"
     ]
    },
    {
     "name": "stderr",
     "output_type": "stream",
     "text": [
      "\n"
     ]
    },
    {
     "name": "stdout",
     "output_type": "stream",
     "text": [
      "0: 640x640 1 person, 9 cars, 1 motorcycle, 1 traffic light, 26.5ms\n",
      "Speed: 2.0ms preprocess, 26.5ms inference, 1.0ms postprocess per image at shape (1, 3, 640, 640)\n"
     ]
    },
    {
     "name": "stderr",
     "output_type": "stream",
     "text": [
      "Processing results: 100%|██████████| 1/1 [00:00<00:00, 628.64it/s]\n",
      "Processing images:  83%|████████▎ | 671/810 [00:36<00:07, 18.48it/s]"
     ]
    },
    {
     "name": "stdout",
     "output_type": "stream",
     "text": [
      "C:\\Users\\User\\Desktop\\DSO\\traffic-prediction\\backend\\assets4_labels\\7793_1433_20240127143513_100101.txt\n",
      "\n",
      "0: 640x640 1 person, 5 cars, 1 motorcycle, 1 bus, 3 trucks, 1 clock, 26.7ms\n",
      "Speed: 2.0ms preprocess, 26.7ms inference, 2.1ms postprocess per image at shape (1, 3, 640, 640)\n"
     ]
    },
    {
     "name": "stderr",
     "output_type": "stream",
     "text": [
      "Processing results: 100%|██████████| 1/1 [00:00<00:00, 500.04it/s]"
     ]
    },
    {
     "name": "stdout",
     "output_type": "stream",
     "text": [
      "C:\\Users\\User\\Desktop\\DSO\\traffic-prediction\\backend\\assets4_labels\\7793_1438_20240127144013_554910.txt\n",
      "\n"
     ]
    },
    {
     "name": "stderr",
     "output_type": "stream",
     "text": [
      "\n"
     ]
    },
    {
     "name": "stdout",
     "output_type": "stream",
     "text": [
      "0: 640x640 6 cars, 5 trucks, 1 clock, 27.0ms\n",
      "Speed: 2.0ms preprocess, 27.0ms inference, 1.5ms postprocess per image at shape (1, 3, 640, 640)\n"
     ]
    },
    {
     "name": "stderr",
     "output_type": "stream",
     "text": [
      "Processing results: 100%|██████████| 1/1 [00:00<00:00, 499.80it/s]\n",
      "Processing images:  83%|████████▎ | 673/810 [00:36<00:07, 18.70it/s]"
     ]
    },
    {
     "name": "stdout",
     "output_type": "stream",
     "text": [
      "C:\\Users\\User\\Desktop\\DSO\\traffic-prediction\\backend\\assets4_labels\\7793_1443_20240127144533_102545.txt\n",
      "\n",
      "0: 640x640 9 cars, 1 clock, 27.0ms\n",
      "Speed: 2.0ms preprocess, 27.0ms inference, 1.0ms postprocess per image at shape (1, 3, 640, 640)\n"
     ]
    },
    {
     "name": "stderr",
     "output_type": "stream",
     "text": [
      "Processing results: 100%|██████████| 1/1 [00:00<00:00, 499.50it/s]"
     ]
    },
    {
     "name": "stdout",
     "output_type": "stream",
     "text": [
      "C:\\Users\\User\\Desktop\\DSO\\traffic-prediction\\backend\\assets4_labels\\7793_1448_20240127145025_101539.txt\n",
      "\n"
     ]
    },
    {
     "name": "stderr",
     "output_type": "stream",
     "text": [
      "\n"
     ]
    },
    {
     "name": "stdout",
     "output_type": "stream",
     "text": [
      "0: 640x640 5 cars, 3 buss, 1 truck, 1 traffic light, 27.5ms\n",
      "Speed: 1.0ms preprocess, 27.5ms inference, 2.0ms postprocess per image at shape (1, 3, 640, 640)\n"
     ]
    },
    {
     "name": "stderr",
     "output_type": "stream",
     "text": [
      "Processing results: 100%|██████████| 1/1 [00:00<00:00, 491.19it/s]\n",
      "Processing images:  83%|████████▎ | 675/810 [00:36<00:07, 18.96it/s]"
     ]
    },
    {
     "name": "stdout",
     "output_type": "stream",
     "text": [
      "C:\\Users\\User\\Desktop\\DSO\\traffic-prediction\\backend\\assets4_labels\\7794_1408_20240127141015_561011.txt\n",
      "\n",
      "0: 640x640 11 cars, 3 trucks, 1 traffic light, 1 clock, 29.1ms\n",
      "Speed: 2.5ms preprocess, 29.1ms inference, 1.5ms postprocess per image at shape (1, 3, 640, 640)\n"
     ]
    },
    {
     "name": "stderr",
     "output_type": "stream",
     "text": [
      "Processing results: 100%|██████████| 1/1 [00:00<00:00, 333.38it/s]"
     ]
    },
    {
     "name": "stdout",
     "output_type": "stream",
     "text": [
      "C:\\Users\\User\\Desktop\\DSO\\traffic-prediction\\backend\\assets4_labels\\7794_1413_20240127141522_525053.txt\n",
      "\n",
      "0: 640x640 6 cars, 1 bus, 2 trucks, 1 traffic light, 1 clock, 29.8ms\n"
     ]
    },
    {
     "name": "stderr",
     "output_type": "stream",
     "text": [
      "\n"
     ]
    },
    {
     "name": "stdout",
     "output_type": "stream",
     "text": [
      "Speed: 2.0ms preprocess, 29.8ms inference, 2.0ms postprocess per image at shape (1, 3, 640, 640)\n"
     ]
    },
    {
     "name": "stderr",
     "output_type": "stream",
     "text": [
      "Processing results: 100%|██████████| 1/1 [00:00<00:00, 496.25it/s]\n",
      "Processing images:  84%|████████▎ | 677/810 [00:36<00:07, 18.57it/s]"
     ]
    },
    {
     "name": "stdout",
     "output_type": "stream",
     "text": [
      "C:\\Users\\User\\Desktop\\DSO\\traffic-prediction\\backend\\assets4_labels\\7794_1418_20240127142024_102101.txt\n",
      "\n",
      "0: 640x640 11 cars, 3 trucks, 1 traffic light, 1 clock, 27.0ms\n",
      "Speed: 2.0ms preprocess, 27.0ms inference, 1.5ms postprocess per image at shape (1, 3, 640, 640)\n"
     ]
    },
    {
     "name": "stderr",
     "output_type": "stream",
     "text": [
      "Processing results: 100%|██████████| 1/1 [00:00<00:00, 333.86it/s]"
     ]
    },
    {
     "name": "stdout",
     "output_type": "stream",
     "text": [
      "C:\\Users\\User\\Desktop\\DSO\\traffic-prediction\\backend\\assets4_labels\\7794_1423_20240127142521_100524.txt\n",
      "\n"
     ]
    },
    {
     "name": "stderr",
     "output_type": "stream",
     "text": [
      "\n"
     ]
    },
    {
     "name": "stdout",
     "output_type": "stream",
     "text": [
      "0: 640x640 11 cars, 1 truck, 2 traffic lights, 2 clocks, 31.1ms\n",
      "Speed: 2.0ms preprocess, 31.1ms inference, 2.0ms postprocess per image at shape (1, 3, 640, 640)\n"
     ]
    },
    {
     "name": "stderr",
     "output_type": "stream",
     "text": [
      "Processing results: 100%|██████████| 1/1 [00:00<00:00, 333.60it/s]\n",
      "Processing images:  84%|████████▍ | 679/810 [00:36<00:07, 18.31it/s]"
     ]
    },
    {
     "name": "stdout",
     "output_type": "stream",
     "text": [
      "C:\\Users\\User\\Desktop\\DSO\\traffic-prediction\\backend\\assets4_labels\\7794_1428_20240127143024_102565.txt\n",
      "\n",
      "0: 640x640 7 cars, 1 truck, 2 clocks, 29.3ms\n",
      "Speed: 2.0ms preprocess, 29.3ms inference, 2.0ms postprocess per image at shape (1, 3, 640, 640)\n"
     ]
    },
    {
     "name": "stderr",
     "output_type": "stream",
     "text": [
      "Processing results: 100%|██████████| 1/1 [00:00<00:00, 497.78it/s]"
     ]
    },
    {
     "name": "stdout",
     "output_type": "stream",
     "text": [
      "C:\\Users\\User\\Desktop\\DSO\\traffic-prediction\\backend\\assets4_labels\\7794_1433_20240127143515_100529.txt\n",
      "\n"
     ]
    },
    {
     "name": "stderr",
     "output_type": "stream",
     "text": [
      "\n"
     ]
    },
    {
     "name": "stdout",
     "output_type": "stream",
     "text": [
      "0: 640x640 4 cars, 2 buss, 1 truck, 1 traffic light, 1 clock, 28.2ms\n",
      "Speed: 2.5ms preprocess, 28.2ms inference, 2.0ms postprocess per image at shape (1, 3, 640, 640)\n"
     ]
    },
    {
     "name": "stderr",
     "output_type": "stream",
     "text": [
      "Processing results: 100%|██████████| 1/1 [00:00<00:00, 200.01it/s]\n",
      "Processing images:  84%|████████▍ | 681/810 [00:36<00:07, 18.13it/s]"
     ]
    },
    {
     "name": "stdout",
     "output_type": "stream",
     "text": [
      "C:\\Users\\User\\Desktop\\DSO\\traffic-prediction\\backend\\assets4_labels\\7794_1438_20240127144015_101100.txt\n",
      "\n",
      "0: 640x640 5 cars, 1 truck, 1 clock, 28.9ms\n",
      "Speed: 2.5ms preprocess, 28.9ms inference, 2.0ms postprocess per image at shape (1, 3, 640, 640)\n"
     ]
    },
    {
     "name": "stderr",
     "output_type": "stream",
     "text": [
      "Processing results: 100%|██████████| 1/1 [00:00<00:00, 499.44it/s]"
     ]
    },
    {
     "name": "stdout",
     "output_type": "stream",
     "text": [
      "C:\\Users\\User\\Desktop\\DSO\\traffic-prediction\\backend\\assets4_labels\\7794_1443_20240127144533_974948.txt\n",
      "\n"
     ]
    },
    {
     "name": "stderr",
     "output_type": "stream",
     "text": [
      "\n"
     ]
    },
    {
     "name": "stdout",
     "output_type": "stream",
     "text": [
      "0: 640x640 5 cars, 5 trucks, 1 traffic light, 1 clock, 27.5ms\n",
      "Speed: 1.0ms preprocess, 27.5ms inference, 2.0ms postprocess per image at shape (1, 3, 640, 640)\n"
     ]
    },
    {
     "name": "stderr",
     "output_type": "stream",
     "text": [
      "Processing results: 100%|██████████| 1/1 [00:00<00:00, 499.20it/s]\n",
      "Processing images:  84%|████████▍ | 683/810 [00:36<00:06, 18.25it/s]"
     ]
    },
    {
     "name": "stdout",
     "output_type": "stream",
     "text": [
      "C:\\Users\\User\\Desktop\\DSO\\traffic-prediction\\backend\\assets4_labels\\7794_1448_20240127145026_481025.txt\n",
      "\n",
      "0: 640x640 10 cars, 1 bus, 1 traffic light, 1 clock, 27.2ms\n",
      "Speed: 1.0ms preprocess, 27.2ms inference, 1.0ms postprocess per image at shape (1, 3, 640, 640)\n"
     ]
    },
    {
     "name": "stderr",
     "output_type": "stream",
     "text": [
      "Processing results: 100%|██████████| 1/1 [00:00<00:00, 399.19it/s]"
     ]
    },
    {
     "name": "stdout",
     "output_type": "stream",
     "text": [
      "C:\\Users\\User\\Desktop\\DSO\\traffic-prediction\\backend\\assets4_labels\\7795_1409_20240127141015_100102.txt\n",
      "\n"
     ]
    },
    {
     "name": "stderr",
     "output_type": "stream",
     "text": [
      "\n"
     ]
    },
    {
     "name": "stdout",
     "output_type": "stream",
     "text": [
      "0: 640x640 12 cars, 3 trucks, 26.9ms\n",
      "Speed: 2.0ms preprocess, 26.9ms inference, 1.0ms postprocess per image at shape (1, 3, 640, 640)\n"
     ]
    },
    {
     "name": "stderr",
     "output_type": "stream",
     "text": [
      "Processing results: 100%|██████████| 1/1 [00:00<00:00, 248.77it/s]\n",
      "Processing images:  85%|████████▍ | 685/810 [00:36<00:06, 18.46it/s]"
     ]
    },
    {
     "name": "stdout",
     "output_type": "stream",
     "text": [
      "C:\\Users\\User\\Desktop\\DSO\\traffic-prediction\\backend\\assets4_labels\\7795_1414_20240127141522_531025.txt\n",
      "\n",
      "0: 640x640 14 cars, 1 truck, 28.0ms\n",
      "Speed: 1.5ms preprocess, 28.0ms inference, 1.5ms postprocess per image at shape (1, 3, 640, 640)\n"
     ]
    },
    {
     "name": "stderr",
     "output_type": "stream",
     "text": [
      "Processing results: 100%|██████████| 1/1 [00:00<00:00, 500.27it/s]"
     ]
    },
    {
     "name": "stdout",
     "output_type": "stream",
     "text": [
      "C:\\Users\\User\\Desktop\\DSO\\traffic-prediction\\backend\\assets4_labels\\7795_1419_20240127142026_495355.txt\n",
      "\n"
     ]
    },
    {
     "name": "stderr",
     "output_type": "stream",
     "text": [
      "\n"
     ]
    },
    {
     "name": "stdout",
     "output_type": "stream",
     "text": [
      "0: 640x640 10 cars, 1 bus, 3 trucks, 27.0ms\n",
      "Speed: 1.0ms preprocess, 27.0ms inference, 1.0ms postprocess per image at shape (1, 3, 640, 640)\n"
     ]
    },
    {
     "name": "stderr",
     "output_type": "stream",
     "text": [
      "Processing results: 100%|██████████| 1/1 [00:00<00:00, 332.99it/s]\n",
      "Processing images:  85%|████████▍ | 687/810 [00:37<00:06, 18.52it/s]"
     ]
    },
    {
     "name": "stdout",
     "output_type": "stream",
     "text": [
      "C:\\Users\\User\\Desktop\\DSO\\traffic-prediction\\backend\\assets4_labels\\7795_1424_20240127142523_991001.txt\n",
      "\n",
      "0: 640x640 8 cars, 26.6ms\n",
      "Speed: 1.0ms preprocess, 26.6ms inference, 1.0ms postprocess per image at shape (1, 3, 640, 640)\n"
     ]
    },
    {
     "name": "stderr",
     "output_type": "stream",
     "text": [
      "Processing results: 100%|██████████| 1/1 [00:00<00:00, 497.43it/s]"
     ]
    },
    {
     "name": "stdout",
     "output_type": "stream",
     "text": [
      "C:\\Users\\User\\Desktop\\DSO\\traffic-prediction\\backend\\assets4_labels\\7795_1429_20240127143026_101505.txt\n",
      "\n",
      "0: 640x640 10 cars, 1 bus, 3 trucks, 1 traffic light, 26.6ms\n"
     ]
    },
    {
     "name": "stderr",
     "output_type": "stream",
     "text": [
      "\n"
     ]
    },
    {
     "name": "stdout",
     "output_type": "stream",
     "text": [
      "Speed: 1.0ms preprocess, 26.6ms inference, 1.0ms postprocess per image at shape (1, 3, 640, 640)\n"
     ]
    },
    {
     "name": "stderr",
     "output_type": "stream",
     "text": [
      "Processing results: 100%|██████████| 1/1 [00:00<00:00, 278.52it/s]\n",
      "Processing images:  85%|████████▌ | 689/810 [00:37<00:06, 18.85it/s]"
     ]
    },
    {
     "name": "stdout",
     "output_type": "stream",
     "text": [
      "C:\\Users\\User\\Desktop\\DSO\\traffic-prediction\\backend\\assets4_labels\\7795_1433_20240127143516_524951.txt\n",
      "\n",
      "0: 640x640 4 cars, 3 trucks, 1 traffic light, 25.4ms\n",
      "Speed: 1.0ms preprocess, 25.4ms inference, 2.0ms postprocess per image at shape (1, 3, 640, 640)\n"
     ]
    },
    {
     "name": "stderr",
     "output_type": "stream",
     "text": [
      "Processing results: 100%|██████████| 1/1 [00:00<00:00, 662.08it/s]"
     ]
    },
    {
     "name": "stdout",
     "output_type": "stream",
     "text": [
      "C:\\Users\\User\\Desktop\\DSO\\traffic-prediction\\backend\\assets4_labels\\7795_1439_20240127144015_505154.txt\n",
      "\n"
     ]
    },
    {
     "name": "stderr",
     "output_type": "stream",
     "text": [
      "\n"
     ]
    },
    {
     "name": "stdout",
     "output_type": "stream",
     "text": [
      "0: 640x640 14 cars, 2 trucks, 1 traffic light, 1 clock, 26.0ms\n",
      "Speed: 2.0ms preprocess, 26.0ms inference, 2.0ms postprocess per image at shape (1, 3, 640, 640)\n"
     ]
    },
    {
     "name": "stderr",
     "output_type": "stream",
     "text": [
      "Processing results: 100%|██████████| 1/1 [00:00<00:00, 333.23it/s]\n",
      "Processing images:  85%|████████▌ | 691/810 [00:37<00:06, 18.95it/s]"
     ]
    },
    {
     "name": "stdout",
     "output_type": "stream",
     "text": [
      "C:\\Users\\User\\Desktop\\DSO\\traffic-prediction\\backend\\assets4_labels\\7795_1444_20240127144533_101559.txt\n",
      "\n",
      "0: 640x640 2 persons, 13 cars, 3 trucks, 1 traffic light, 25.1ms\n",
      "Speed: 2.0ms preprocess, 25.1ms inference, 2.0ms postprocess per image at shape (1, 3, 640, 640)\n"
     ]
    },
    {
     "name": "stderr",
     "output_type": "stream",
     "text": [
      "Processing results: 100%|██████████| 1/1 [00:00<00:00, 285.23it/s]"
     ]
    },
    {
     "name": "stdout",
     "output_type": "stream",
     "text": [
      "C:\\Users\\User\\Desktop\\DSO\\traffic-prediction\\backend\\assets4_labels\\7795_1449_20240127145026_494997.txt\n",
      "\n"
     ]
    },
    {
     "name": "stderr",
     "output_type": "stream",
     "text": [
      "\n"
     ]
    },
    {
     "name": "stdout",
     "output_type": "stream",
     "text": [
      "0: 640x640 8 cars, 2 trucks, 1 traffic light, 26.1ms\n",
      "Speed: 2.0ms preprocess, 26.1ms inference, 2.0ms postprocess per image at shape (1, 3, 640, 640)\n"
     ]
    },
    {
     "name": "stderr",
     "output_type": "stream",
     "text": [
      "Processing results: 100%|██████████| 1/1 [00:00<00:00, 496.96it/s]\n",
      "Processing images:  86%|████████▌ | 693/810 [00:37<00:06, 19.04it/s]"
     ]
    },
    {
     "name": "stdout",
     "output_type": "stream",
     "text": [
      "C:\\Users\\User\\Desktop\\DSO\\traffic-prediction\\backend\\assets4_labels\\7796_1409_20240127141016_539957.txt\n",
      "\n",
      "0: 640x640 2 persons, 12 cars, 1 bus, 1 traffic light, 26.5ms\n",
      "Speed: 1.0ms preprocess, 26.5ms inference, 2.0ms postprocess per image at shape (1, 3, 640, 640)\n"
     ]
    },
    {
     "name": "stderr",
     "output_type": "stream",
     "text": [
      "Processing results: 100%|██████████| 1/1 [00:00<00:00, 397.75it/s]"
     ]
    },
    {
     "name": "stdout",
     "output_type": "stream",
     "text": [
      "C:\\Users\\User\\Desktop\\DSO\\traffic-prediction\\backend\\assets4_labels\\7796_1414_20240127141523_565210.txt\n",
      "\n",
      "0: 640x640 1 person, 17 cars, 1 motorcycle, 1 bus, 5 trucks, 1 traffic light, 30.6ms\n"
     ]
    },
    {
     "name": "stderr",
     "output_type": "stream",
     "text": [
      "\n"
     ]
    },
    {
     "name": "stdout",
     "output_type": "stream",
     "text": [
      "Speed: 1.5ms preprocess, 30.6ms inference, 1.9ms postprocess per image at shape (1, 3, 640, 640)\n"
     ]
    },
    {
     "name": "stderr",
     "output_type": "stream",
     "text": [
      "Processing results: 100%|██████████| 1/1 [00:00<00:00, 199.12it/s]\n",
      "Processing images:  86%|████████▌ | 695/810 [00:37<00:06, 18.67it/s]"
     ]
    },
    {
     "name": "stdout",
     "output_type": "stream",
     "text": [
      "C:\\Users\\User\\Desktop\\DSO\\traffic-prediction\\backend\\assets4_labels\\7796_1419_20240127142027_995798.txt\n",
      "\n",
      "0: 640x640 1 person, 9 cars, 2 trucks, 1 traffic light, 35.0ms\n",
      "Speed: 2.0ms preprocess, 35.0ms inference, 2.0ms postprocess per image at shape (1, 3, 640, 640)\n"
     ]
    },
    {
     "name": "stderr",
     "output_type": "stream",
     "text": [
      "Processing results: 100%|██████████| 1/1 [00:00<00:00, 399.53it/s]"
     ]
    },
    {
     "name": "stdout",
     "output_type": "stream",
     "text": [
      "C:\\Users\\User\\Desktop\\DSO\\traffic-prediction\\backend\\assets4_labels\\7796_1424_20240127142523_521025.txt\n",
      "\n"
     ]
    },
    {
     "name": "stderr",
     "output_type": "stream",
     "text": [
      "\n"
     ]
    },
    {
     "name": "stdout",
     "output_type": "stream",
     "text": [
      "0: 640x640 10 cars, 3 buss, 2 trucks, 2 traffic lights, 26.9ms\n",
      "Speed: 2.0ms preprocess, 26.9ms inference, 2.0ms postprocess per image at shape (1, 3, 640, 640)\n"
     ]
    },
    {
     "name": "stderr",
     "output_type": "stream",
     "text": [
      "Processing results: 100%|██████████| 1/1 [00:00<00:00, 332.70it/s]\n",
      "Processing images:  86%|████████▌ | 697/810 [00:37<00:06, 17.87it/s]"
     ]
    },
    {
     "name": "stdout",
     "output_type": "stream",
     "text": [
      "C:\\Users\\User\\Desktop\\DSO\\traffic-prediction\\backend\\assets4_labels\\7796_1429_20240127143027_561014.txt\n",
      "\n",
      "0: 640x640 11 cars, 2 traffic lights, 28.0ms\n",
      "Speed: 1.0ms preprocess, 28.0ms inference, 1.0ms postprocess per image at shape (1, 3, 640, 640)\n"
     ]
    },
    {
     "name": "stderr",
     "output_type": "stream",
     "text": [
      "Processing results: 100%|██████████| 1/1 [00:00<00:00, 331.91it/s]"
     ]
    },
    {
     "name": "stdout",
     "output_type": "stream",
     "text": [
      "C:\\Users\\User\\Desktop\\DSO\\traffic-prediction\\backend\\assets4_labels\\7796_1433_20240127143516_991004.txt\n",
      "\n"
     ]
    },
    {
     "name": "stderr",
     "output_type": "stream",
     "text": [
      "\n"
     ]
    },
    {
     "name": "stdout",
     "output_type": "stream",
     "text": [
      "0: 640x640 2 persons, 5 cars, 5 trucks, 1 traffic light, 27.5ms\n",
      "Speed: 1.5ms preprocess, 27.5ms inference, 1.0ms postprocess per image at shape (1, 3, 640, 640)\n"
     ]
    },
    {
     "name": "stderr",
     "output_type": "stream",
     "text": [
      "Processing results: 100%|██████████| 1/1 [00:00<00:00, 418.13it/s]\n",
      "Processing images:  86%|████████▋ | 699/810 [00:37<00:06, 17.99it/s]"
     ]
    },
    {
     "name": "stdout",
     "output_type": "stream",
     "text": [
      "C:\\Users\\User\\Desktop\\DSO\\traffic-prediction\\backend\\assets4_labels\\7796_1439_20240127144015_515148.txt\n",
      "\n",
      "0: 640x640 1 person, 10 cars, 4 trucks, 1 traffic light, 29.1ms\n",
      "Speed: 2.0ms preprocess, 29.1ms inference, 2.0ms postprocess per image at shape (1, 3, 640, 640)\n"
     ]
    },
    {
     "name": "stderr",
     "output_type": "stream",
     "text": [
      "Processing results: 100%|██████████| 1/1 [00:00<00:00, 283.80it/s]"
     ]
    },
    {
     "name": "stdout",
     "output_type": "stream",
     "text": [
      "C:\\Users\\User\\Desktop\\DSO\\traffic-prediction\\backend\\assets4_labels\\7796_1444_20240127144533_981005.txt\n",
      "\n"
     ]
    },
    {
     "name": "stderr",
     "output_type": "stream",
     "text": [
      "\n"
     ]
    },
    {
     "name": "stdout",
     "output_type": "stream",
     "text": [
      "0: 640x640 3 persons, 4 cars, 3 motorcycles, 2 buss, 1 traffic light, 25.0ms\n",
      "Speed: 2.0ms preprocess, 25.0ms inference, 3.0ms postprocess per image at shape (1, 3, 640, 640)\n"
     ]
    },
    {
     "name": "stderr",
     "output_type": "stream",
     "text": [
      "Processing results: 100%|██████████| 1/1 [00:00<00:00, 500.22it/s]\n",
      "Processing images:  87%|████████▋ | 701/810 [00:37<00:06, 17.94it/s]"
     ]
    },
    {
     "name": "stdout",
     "output_type": "stream",
     "text": [
      "C:\\Users\\User\\Desktop\\DSO\\traffic-prediction\\backend\\assets4_labels\\7796_1449_20240127145027_979750.txt\n",
      "\n",
      "0: 640x640 7 cars, 1 bus, 6 trucks, 2 traffic lights, 26.0ms\n",
      "Speed: 2.0ms preprocess, 26.0ms inference, 0.9ms postprocess per image at shape (1, 3, 640, 640)\n"
     ]
    },
    {
     "name": "stderr",
     "output_type": "stream",
     "text": [
      "Processing results: 100%|██████████| 1/1 [00:00<00:00, 398.85it/s]"
     ]
    },
    {
     "name": "stdout",
     "output_type": "stream",
     "text": [
      "C:\\Users\\User\\Desktop\\DSO\\traffic-prediction\\backend\\assets4_labels\\7797_1408_20240127141013_485451.txt\n",
      "\n"
     ]
    },
    {
     "name": "stderr",
     "output_type": "stream",
     "text": [
      "\n"
     ]
    },
    {
     "name": "stdout",
     "output_type": "stream",
     "text": [
      "0: 640x640 6 cars, 2 trucks, 1 traffic light, 26.6ms\n",
      "Speed: 1.4ms preprocess, 26.6ms inference, 1.0ms postprocess per image at shape (1, 3, 640, 640)\n"
     ]
    },
    {
     "name": "stderr",
     "output_type": "stream",
     "text": [
      "Processing results: 100%|██████████| 1/1 [00:00<00:00, 500.27it/s]\n",
      "Processing images:  87%|████████▋ | 703/810 [00:37<00:05, 18.44it/s]"
     ]
    },
    {
     "name": "stdout",
     "output_type": "stream",
     "text": [
      "C:\\Users\\User\\Desktop\\DSO\\traffic-prediction\\backend\\assets4_labels\\7797_1413_20240127141519_565754.txt\n",
      "\n",
      "0: 640x640 6 cars, 5 trucks, 1 traffic light, 26.4ms\n",
      "Speed: 2.0ms preprocess, 26.4ms inference, 1.5ms postprocess per image at shape (1, 3, 640, 640)\n"
     ]
    },
    {
     "name": "stderr",
     "output_type": "stream",
     "text": [
      "Processing results: 100%|██████████| 1/1 [00:00<00:00, 248.67it/s]"
     ]
    },
    {
     "name": "stdout",
     "output_type": "stream",
     "text": [
      "C:\\Users\\User\\Desktop\\DSO\\traffic-prediction\\backend\\assets4_labels\\7797_1419_20240127142003_545657.txt\n",
      "\n",
      "0: 640x640 5 cars, 1 truck, 26.5ms\n"
     ]
    },
    {
     "name": "stderr",
     "output_type": "stream",
     "text": [
      "\n"
     ]
    },
    {
     "name": "stdout",
     "output_type": "stream",
     "text": [
      "Speed: 1.0ms preprocess, 26.5ms inference, 1.0ms postprocess per image at shape (1, 3, 640, 640)\n"
     ]
    },
    {
     "name": "stderr",
     "output_type": "stream",
     "text": [
      "Processing results: 100%|██████████| 1/1 [00:00<00:00, 497.78it/s]\n",
      "Processing images:  87%|████████▋ | 705/810 [00:37<00:05, 18.78it/s]"
     ]
    },
    {
     "name": "stdout",
     "output_type": "stream",
     "text": [
      "C:\\Users\\User\\Desktop\\DSO\\traffic-prediction\\backend\\assets4_labels\\7797_1423_20240127142516_485157.txt\n",
      "\n",
      "0: 640x640 6 cars, 2 trucks, 1 traffic light, 26.4ms\n",
      "Speed: 1.0ms preprocess, 26.4ms inference, 2.0ms postprocess per image at shape (1, 3, 640, 640)\n"
     ]
    },
    {
     "name": "stderr",
     "output_type": "stream",
     "text": [
      "Processing results: 100%|██████████| 1/1 [00:00<00:00, 664.18it/s]"
     ]
    },
    {
     "name": "stdout",
     "output_type": "stream",
     "text": [
      "C:\\Users\\User\\Desktop\\DSO\\traffic-prediction\\backend\\assets4_labels\\7797_1428_20240127143024_565148.txt\n",
      "\n"
     ]
    },
    {
     "name": "stderr",
     "output_type": "stream",
     "text": [
      "\n"
     ]
    },
    {
     "name": "stdout",
     "output_type": "stream",
     "text": [
      "0: 640x640 6 cars, 26.5ms\n",
      "Speed: 2.0ms preprocess, 26.5ms inference, 0.6ms postprocess per image at shape (1, 3, 640, 640)\n"
     ]
    },
    {
     "name": "stderr",
     "output_type": "stream",
     "text": [
      "Processing results: 100%|██████████| 1/1 [00:00<00:00, 399.53it/s]"
     ]
    },
    {
     "name": "stdout",
     "output_type": "stream",
     "text": [
      "C:\\Users\\User\\Desktop\\DSO\\traffic-prediction\\backend\\assets4_labels\\7797_1433_20240127143513_575648.txt\n",
      "\n",
      "0: 640x640 6 cars, 4 trucks, 1 traffic light, 27.5ms\n"
     ]
    },
    {
     "name": "stderr",
     "output_type": "stream",
     "text": [
      "\n"
     ]
    },
    {
     "name": "stdout",
     "output_type": "stream",
     "text": [
      "Speed: 1.0ms preprocess, 27.5ms inference, 1.0ms postprocess per image at shape (1, 3, 640, 640)\n"
     ]
    },
    {
     "name": "stderr",
     "output_type": "stream",
     "text": [
      "Processing results: 100%|██████████| 1/1 [00:00<00:00, 333.17it/s]\n",
      "Processing images:  87%|████████▋ | 708/810 [00:38<00:05, 19.23it/s]"
     ]
    },
    {
     "name": "stdout",
     "output_type": "stream",
     "text": [
      "C:\\Users\\User\\Desktop\\DSO\\traffic-prediction\\backend\\assets4_labels\\7797_1438_20240127144009_575751.txt\n",
      "\n",
      "0: 640x640 4 cars, 2 trucks, 1 traffic light, 26.0ms\n",
      "Speed: 2.0ms preprocess, 26.0ms inference, 2.0ms postprocess per image at shape (1, 3, 640, 640)\n"
     ]
    },
    {
     "name": "stderr",
     "output_type": "stream",
     "text": [
      "Processing results: 100%|██████████| 1/1 [00:00<00:00, 499.98it/s]"
     ]
    },
    {
     "name": "stdout",
     "output_type": "stream",
     "text": [
      "C:\\Users\\User\\Desktop\\DSO\\traffic-prediction\\backend\\assets4_labels\\7797_1443_20240127144535_555548.txt\n",
      "\n"
     ]
    },
    {
     "name": "stderr",
     "output_type": "stream",
     "text": [
      "\n"
     ]
    },
    {
     "name": "stdout",
     "output_type": "stream",
     "text": [
      "0: 640x640 5 cars, 6 trucks, 1 traffic light, 26.9ms\n",
      "Speed: 2.0ms preprocess, 26.9ms inference, 1.0ms postprocess per image at shape (1, 3, 640, 640)\n"
     ]
    },
    {
     "name": "stderr",
     "output_type": "stream",
     "text": [
      "Processing results: 100%|██████████| 1/1 [00:00<00:00, 566.49it/s]\n",
      "Processing images:  88%|████████▊ | 710/810 [00:38<00:05, 19.35it/s]"
     ]
    },
    {
     "name": "stdout",
     "output_type": "stream",
     "text": [
      "C:\\Users\\User\\Desktop\\DSO\\traffic-prediction\\backend\\assets4_labels\\7797_1448_20240127145018_565598.txt\n",
      "\n",
      "0: 640x640 1 car, 1 truck, 26.0ms\n",
      "Speed: 2.0ms preprocess, 26.0ms inference, 3.0ms postprocess per image at shape (1, 3, 640, 640)\n"
     ]
    },
    {
     "name": "stderr",
     "output_type": "stream",
     "text": [
      "Processing results: 100%|██████████| 1/1 [00:00<00:00, 999.83it/s]"
     ]
    },
    {
     "name": "stdout",
     "output_type": "stream",
     "text": [
      "C:\\Users\\User\\Desktop\\DSO\\traffic-prediction\\backend\\assets4_labels\\7798_1408_20240127141015_545448.txt\n",
      "\n",
      "0: 640x640 6 cars, 1 bus, 2 trucks, 3 traffic lights, 25.4ms\n"
     ]
    },
    {
     "name": "stderr",
     "output_type": "stream",
     "text": [
      "\n"
     ]
    },
    {
     "name": "stdout",
     "output_type": "stream",
     "text": [
      "Speed: 2.5ms preprocess, 25.4ms inference, 1.0ms postprocess per image at shape (1, 3, 640, 640)\n"
     ]
    },
    {
     "name": "stderr",
     "output_type": "stream",
     "text": [
      "Processing results: 100%|██████████| 1/1 [00:00<00:00, 434.69it/s]\n",
      "Processing images:  88%|████████▊ | 712/810 [00:38<00:05, 19.46it/s]"
     ]
    },
    {
     "name": "stdout",
     "output_type": "stream",
     "text": [
      "C:\\Users\\User\\Desktop\\DSO\\traffic-prediction\\backend\\assets4_labels\\7798_1413_20240127141520_551029.txt\n",
      "\n",
      "0: 640x640 3 cars, 3 trucks, 2 traffic lights, 25.4ms\n",
      "Speed: 2.5ms preprocess, 25.4ms inference, 2.0ms postprocess per image at shape (1, 3, 640, 640)\n"
     ]
    },
    {
     "name": "stderr",
     "output_type": "stream",
     "text": [
      "Processing results: 100%|██████████| 1/1 [00:00<00:00, 497.72it/s]"
     ]
    },
    {
     "name": "stdout",
     "output_type": "stream",
     "text": [
      "C:\\Users\\User\\Desktop\\DSO\\traffic-prediction\\backend\\assets4_labels\\7798_1418_20240127142003_991019.txt\n",
      "\n"
     ]
    },
    {
     "name": "stderr",
     "output_type": "stream",
     "text": [
      "\n"
     ]
    },
    {
     "name": "stdout",
     "output_type": "stream",
     "text": [
      "0: 640x640 1 person, 9 cars, 2 trucks, 2 traffic lights, 27.0ms\n",
      "Speed: 1.0ms preprocess, 27.0ms inference, 1.0ms postprocess per image at shape (1, 3, 640, 640)\n"
     ]
    },
    {
     "name": "stderr",
     "output_type": "stream",
     "text": [
      "Processing results: 100%|██████████| 1/1 [00:00<00:00, 337.87it/s]"
     ]
    },
    {
     "name": "stdout",
     "output_type": "stream",
     "text": [
      "C:\\Users\\User\\Desktop\\DSO\\traffic-prediction\\backend\\assets4_labels\\7798_1423_20240127142516_551025.txt\n",
      "\n"
     ]
    },
    {
     "name": "stderr",
     "output_type": "stream",
     "text": [
      "\n"
     ]
    },
    {
     "name": "stdout",
     "output_type": "stream",
     "text": [
      "0: 640x640 12 cars, 4 trucks, 3 traffic lights, 27.0ms\n",
      "Speed: 1.5ms preprocess, 27.0ms inference, 1.0ms postprocess per image at shape (1, 3, 640, 640)\n"
     ]
    },
    {
     "name": "stderr",
     "output_type": "stream",
     "text": [
      "Processing results: 100%|██████████| 1/1 [00:00<00:00, 332.96it/s]\n",
      "Processing images:  88%|████████▊ | 715/810 [00:38<00:04, 19.62it/s]"
     ]
    },
    {
     "name": "stdout",
     "output_type": "stream",
     "text": [
      "C:\\Users\\User\\Desktop\\DSO\\traffic-prediction\\backend\\assets4_labels\\7798_1428_20240127143025_101995.txt\n",
      "\n",
      "0: 640x640 3 cars, 3 trucks, 1 traffic light, 28.6ms\n",
      "Speed: 2.0ms preprocess, 28.6ms inference, 2.0ms postprocess per image at shape (1, 3, 640, 640)\n"
     ]
    },
    {
     "name": "stderr",
     "output_type": "stream",
     "text": [
      "Processing results: 100%|██████████| 1/1 [00:00<00:00, 499.98it/s]"
     ]
    },
    {
     "name": "stdout",
     "output_type": "stream",
     "text": [
      "C:\\Users\\User\\Desktop\\DSO\\traffic-prediction\\backend\\assets4_labels\\7798_1433_20240127143515_541021.txt\n",
      "\n"
     ]
    },
    {
     "name": "stderr",
     "output_type": "stream",
     "text": [
      "\n"
     ]
    },
    {
     "name": "stdout",
     "output_type": "stream",
     "text": [
      "0: 640x640 8 cars, 3 trucks, 1 traffic light, 27.0ms\n",
      "Speed: 1.8ms preprocess, 27.0ms inference, 1.0ms postprocess per image at shape (1, 3, 640, 640)\n"
     ]
    },
    {
     "name": "stderr",
     "output_type": "stream",
     "text": [
      "Processing results: 100%|██████████| 1/1 [00:00<00:00, 499.50it/s]\n",
      "Processing images:  89%|████████▊ | 717/810 [00:38<00:04, 19.61it/s]"
     ]
    },
    {
     "name": "stdout",
     "output_type": "stream",
     "text": [
      "C:\\Users\\User\\Desktop\\DSO\\traffic-prediction\\backend\\assets4_labels\\7798_1438_20240127144009_525356.txt\n",
      "\n",
      "0: 640x640 9 cars, 3 trucks, 1 traffic light, 26.0ms\n",
      "Speed: 2.0ms preprocess, 26.0ms inference, 1.0ms postprocess per image at shape (1, 3, 640, 640)\n"
     ]
    },
    {
     "name": "stderr",
     "output_type": "stream",
     "text": [
      "Processing results: 100%|██████████| 1/1 [00:00<00:00, 499.02it/s]"
     ]
    },
    {
     "name": "stdout",
     "output_type": "stream",
     "text": [
      "C:\\Users\\User\\Desktop\\DSO\\traffic-prediction\\backend\\assets4_labels\\7798_1443_20240127144536_102569.txt\n",
      "\n"
     ]
    },
    {
     "name": "stderr",
     "output_type": "stream",
     "text": [
      "\n"
     ]
    },
    {
     "name": "stdout",
     "output_type": "stream",
     "text": [
      "0: 640x640 7 cars, 1 truck, 1 clock, 26.0ms\n",
      "Speed: 2.0ms preprocess, 26.0ms inference, 1.5ms postprocess per image at shape (1, 3, 640, 640)\n"
     ]
    },
    {
     "name": "stderr",
     "output_type": "stream",
     "text": [
      "Processing results: 100%|██████████| 1/1 [00:00<00:00, 500.33it/s]\n",
      "Processing images:  89%|████████▉ | 719/810 [00:38<00:04, 19.64it/s]"
     ]
    },
    {
     "name": "stdout",
     "output_type": "stream",
     "text": [
      "C:\\Users\\User\\Desktop\\DSO\\traffic-prediction\\backend\\assets4_labels\\7798_1448_20240127145019_544956.txt\n",
      "\n",
      "0: 640x640 8 cars, 3 trucks, 2 traffic lights, 26.0ms\n",
      "Speed: 2.4ms preprocess, 26.0ms inference, 1.5ms postprocess per image at shape (1, 3, 640, 640)\n"
     ]
    },
    {
     "name": "stderr",
     "output_type": "stream",
     "text": [
      "Processing results: 100%|██████████| 1/1 [00:00<00:00, 243.94it/s]"
     ]
    },
    {
     "name": "stdout",
     "output_type": "stream",
     "text": [
      "C:\\Users\\User\\Desktop\\DSO\\traffic-prediction\\backend\\assets4_labels\\8701_1409_20240127141015_100554.txt\n",
      "\n",
      "0: 640x640 3 cars, 1 bus, 4 trucks, 1 traffic light, 25.9ms\n"
     ]
    },
    {
     "name": "stderr",
     "output_type": "stream",
     "text": [
      "\n"
     ]
    },
    {
     "name": "stdout",
     "output_type": "stream",
     "text": [
      "Speed: 2.1ms preprocess, 25.9ms inference, 2.0ms postprocess per image at shape (1, 3, 640, 640)\n"
     ]
    },
    {
     "name": "stderr",
     "output_type": "stream",
     "text": [
      "Processing results: 100%|██████████| 1/1 [00:00<00:00, 409.84it/s]\n",
      "Processing images:  89%|████████▉ | 721/810 [00:38<00:04, 18.90it/s]"
     ]
    },
    {
     "name": "stdout",
     "output_type": "stream",
     "text": [
      "C:\\Users\\User\\Desktop\\DSO\\traffic-prediction\\backend\\assets4_labels\\8701_1414_20240127141520_995555.txt\n",
      "\n",
      "0: 640x640 2 cars, 3 trucks, 26.6ms\n",
      "Speed: 1.5ms preprocess, 26.6ms inference, 2.5ms postprocess per image at shape (1, 3, 640, 640)\n"
     ]
    },
    {
     "name": "stderr",
     "output_type": "stream",
     "text": [
      "Processing results: 100%|██████████| 1/1 [00:00<00:00, 338.50it/s]"
     ]
    },
    {
     "name": "stdout",
     "output_type": "stream",
     "text": [
      "C:\\Users\\User\\Desktop\\DSO\\traffic-prediction\\backend\\assets4_labels\\8701_1419_20240127142003_100555.txt\n",
      "\n"
     ]
    },
    {
     "name": "stderr",
     "output_type": "stream",
     "text": [
      "\n"
     ]
    },
    {
     "name": "stdout",
     "output_type": "stream",
     "text": [
      "0: 640x640 4 cars, 3 trucks, 1 traffic light, 26.4ms\n",
      "Speed: 2.0ms preprocess, 26.4ms inference, 2.0ms postprocess per image at shape (1, 3, 640, 640)\n"
     ]
    },
    {
     "name": "stderr",
     "output_type": "stream",
     "text": [
      "Processing results: 100%|██████████| 1/1 [00:00<00:00, 397.64it/s]\n",
      "Processing images:  89%|████████▉ | 723/810 [00:38<00:04, 18.73it/s]"
     ]
    },
    {
     "name": "stdout",
     "output_type": "stream",
     "text": [
      "C:\\Users\\User\\Desktop\\DSO\\traffic-prediction\\backend\\assets4_labels\\8701_1424_20240127142518_101101.txt\n",
      "\n",
      "0: 640x640 2 cars, 26.2ms\n",
      "Speed: 1.0ms preprocess, 26.2ms inference, 2.0ms postprocess per image at shape (1, 3, 640, 640)\n"
     ]
    },
    {
     "name": "stderr",
     "output_type": "stream",
     "text": [
      "Processing results: 100%|██████████| 1/1 [00:00<00:00, 432.14it/s]"
     ]
    },
    {
     "name": "stdout",
     "output_type": "stream",
     "text": [
      "C:\\Users\\User\\Desktop\\DSO\\traffic-prediction\\backend\\assets4_labels\\8701_1429_20240127143026_102569.txt\n",
      "\n"
     ]
    },
    {
     "name": "stderr",
     "output_type": "stream",
     "text": [
      "\n"
     ]
    },
    {
     "name": "stdout",
     "output_type": "stream",
     "text": [
      "0: 640x640 1 person, 6 cars, 4 trucks, 1 traffic light, 26.3ms\n",
      "Speed: 1.6ms preprocess, 26.3ms inference, 2.0ms postprocess per image at shape (1, 3, 640, 640)\n"
     ]
    },
    {
     "name": "stderr",
     "output_type": "stream",
     "text": [
      "Processing results: 100%|██████████| 1/1 [00:00<00:00, 500.22it/s]\n",
      "Processing images:  90%|████████▉ | 725/810 [00:39<00:04, 18.90it/s]"
     ]
    },
    {
     "name": "stdout",
     "output_type": "stream",
     "text": [
      "C:\\Users\\User\\Desktop\\DSO\\traffic-prediction\\backend\\assets4_labels\\8701_1433_20240127143515_101509.txt\n",
      "\n",
      "0: 640x640 7 cars, 3 trucks, 1 traffic light, 26.5ms\n",
      "Speed: 2.0ms preprocess, 26.5ms inference, 1.5ms postprocess per image at shape (1, 3, 640, 640)\n"
     ]
    },
    {
     "name": "stderr",
     "output_type": "stream",
     "text": [
      "Processing results: 100%|██████████| 1/1 [00:00<00:00, 499.98it/s]"
     ]
    },
    {
     "name": "stdout",
     "output_type": "stream",
     "text": [
      "C:\\Users\\User\\Desktop\\DSO\\traffic-prediction\\backend\\assets4_labels\\8701_1439_20240127144009_561025.txt\n",
      "\n"
     ]
    },
    {
     "name": "stderr",
     "output_type": "stream",
     "text": [
      "\n"
     ]
    },
    {
     "name": "stdout",
     "output_type": "stream",
     "text": [
      "0: 640x640 6 cars, 1 bus, 2 trucks, 1 traffic light, 27.1ms\n",
      "Speed: 2.0ms preprocess, 27.1ms inference, 1.0ms postprocess per image at shape (1, 3, 640, 640)\n"
     ]
    },
    {
     "name": "stderr",
     "output_type": "stream",
     "text": [
      "Processing results: 100%|██████████| 1/1 [00:00<00:00, 331.67it/s]\n",
      "Processing images:  90%|████████▉ | 727/810 [00:39<00:04, 18.94it/s]"
     ]
    },
    {
     "name": "stdout",
     "output_type": "stream",
     "text": [
      "C:\\Users\\User\\Desktop\\DSO\\traffic-prediction\\backend\\assets4_labels\\8701_1444_20240127144538_102495.txt\n",
      "\n",
      "0: 640x640 1 person, 1 clock, 26.2ms\n",
      "Speed: 2.0ms preprocess, 26.2ms inference, 1.0ms postprocess per image at shape (1, 3, 640, 640)\n"
     ]
    },
    {
     "name": "stderr",
     "output_type": "stream",
     "text": [
      "Processing results: 100%|██████████| 1/1 [00:00<00:00, 997.22it/s]"
     ]
    },
    {
     "name": "stdout",
     "output_type": "stream",
     "text": [
      "C:\\Users\\User\\Desktop\\DSO\\traffic-prediction\\backend\\assets4_labels\\8701_1449_20240127145019_985256.txt\n",
      "\n"
     ]
    },
    {
     "name": "stderr",
     "output_type": "stream",
     "text": [
      "\n"
     ]
    },
    {
     "name": "stdout",
     "output_type": "stream",
     "text": [
      "0: 640x640 5 cars, 1 motorcycle, 2 trucks, 26.5ms\n",
      "Speed: 1.0ms preprocess, 26.5ms inference, 1.0ms postprocess per image at shape (1, 3, 640, 640)\n"
     ]
    },
    {
     "name": "stderr",
     "output_type": "stream",
     "text": [
      "Processing results: 100%|██████████| 1/1 [00:00<00:00, 996.51it/s]\n",
      "Processing images:  90%|█████████ | 729/810 [00:39<00:04, 18.61it/s]"
     ]
    },
    {
     "name": "stdout",
     "output_type": "stream",
     "text": [
      "C:\\Users\\User\\Desktop\\DSO\\traffic-prediction\\backend\\assets4_labels\\8702_1409_20240127141016_974948.txt\n",
      "\n",
      "0: 640x640 5 cars, 1 truck, 1 traffic light, 26.0ms\n",
      "Speed: 2.0ms preprocess, 26.0ms inference, 1.0ms postprocess per image at shape (1, 3, 640, 640)\n"
     ]
    },
    {
     "name": "stderr",
     "output_type": "stream",
     "text": [
      "Processing results: 100%|██████████| 1/1 [00:00<00:00, 500.33it/s]"
     ]
    },
    {
     "name": "stdout",
     "output_type": "stream",
     "text": [
      "C:\\Users\\User\\Desktop\\DSO\\traffic-prediction\\backend\\assets4_labels\\8702_1414_20240127141522_494953.txt\n",
      "\n"
     ]
    },
    {
     "name": "stderr",
     "output_type": "stream",
     "text": [
      "\n"
     ]
    },
    {
     "name": "stdout",
     "output_type": "stream",
     "text": [
      "0: 640x640 2 persons, 10 cars, 1 motorcycle, 1 bus, 5 trucks, 2 traffic lights, 26.4ms\n",
      "Speed: 2.0ms preprocess, 26.4ms inference, 1.0ms postprocess per image at shape (1, 3, 640, 640)\n"
     ]
    },
    {
     "name": "stderr",
     "output_type": "stream",
     "text": [
      "Processing results: 100%|██████████| 1/1 [00:00<00:00, 426.60it/s]\n",
      "Processing images:  90%|█████████ | 731/810 [00:39<00:04, 18.84it/s]"
     ]
    },
    {
     "name": "stdout",
     "output_type": "stream",
     "text": [
      "C:\\Users\\User\\Desktop\\DSO\\traffic-prediction\\backend\\assets4_labels\\8702_1419_20240127142003_569748.txt\n",
      "\n",
      "0: 640x640 1 person, 8 cars, 1 bus, 1 truck, 3 traffic lights, 26.2ms\n",
      "Speed: 1.2ms preprocess, 26.2ms inference, 1.0ms postprocess per image at shape (1, 3, 640, 640)\n"
     ]
    },
    {
     "name": "stderr",
     "output_type": "stream",
     "text": [
      "Processing results: 100%|██████████| 1/1 [00:00<00:00, 332.99it/s]"
     ]
    },
    {
     "name": "stdout",
     "output_type": "stream",
     "text": [
      "C:\\Users\\User\\Desktop\\DSO\\traffic-prediction\\backend\\assets4_labels\\8702_1424_20240127142519_525556.txt\n",
      "\n"
     ]
    },
    {
     "name": "stderr",
     "output_type": "stream",
     "text": [
      "\n"
     ]
    },
    {
     "name": "stdout",
     "output_type": "stream",
     "text": [
      "0: 640x640 8 cars, 3 buss, 2 trucks, 2 traffic lights, 26.1ms\n",
      "Speed: 2.0ms preprocess, 26.1ms inference, 1.0ms postprocess per image at shape (1, 3, 640, 640)\n"
     ]
    },
    {
     "name": "stderr",
     "output_type": "stream",
     "text": [
      "Processing results: 100%|██████████| 1/1 [00:00<00:00, 248.70it/s]\n",
      "Processing images:  90%|█████████ | 733/810 [00:39<00:04, 18.87it/s]"
     ]
    },
    {
     "name": "stdout",
     "output_type": "stream",
     "text": [
      "C:\\Users\\User\\Desktop\\DSO\\traffic-prediction\\backend\\assets4_labels\\8702_1429_20240127143029_100565.txt\n",
      "\n",
      "0: 640x640 10 cars, 6 trucks, 2 traffic lights, 25.9ms\n",
      "Speed: 1.5ms preprocess, 25.9ms inference, 2.0ms postprocess per image at shape (1, 3, 640, 640)\n"
     ]
    },
    {
     "name": "stderr",
     "output_type": "stream",
     "text": [
      "Processing results: 100%|██████████| 1/1 [00:00<00:00, 292.47it/s]"
     ]
    },
    {
     "name": "stdout",
     "output_type": "stream",
     "text": [
      "C:\\Users\\User\\Desktop\\DSO\\traffic-prediction\\backend\\assets4_labels\\8702_1433_20240127143516_515052.txt\n",
      "\n"
     ]
    },
    {
     "name": "stderr",
     "output_type": "stream",
     "text": [
      "\n"
     ]
    },
    {
     "name": "stdout",
     "output_type": "stream",
     "text": [
      "0: 640x640 1 person, 4 cars, 3 trucks, 1 traffic light, 25.6ms\n",
      "Speed: 2.1ms preprocess, 25.6ms inference, 2.5ms postprocess per image at shape (1, 3, 640, 640)\n"
     ]
    },
    {
     "name": "stderr",
     "output_type": "stream",
     "text": [
      "Processing results: 100%|██████████| 1/1 [00:00<00:00, 500.16it/s]\n",
      "Processing images:  91%|█████████ | 735/810 [00:39<00:03, 18.99it/s]"
     ]
    },
    {
     "name": "stdout",
     "output_type": "stream",
     "text": [
      "C:\\Users\\User\\Desktop\\DSO\\traffic-prediction\\backend\\assets4_labels\\8702_1439_20240127144011_535752.txt\n",
      "\n",
      "0: 640x640 8 cars, 2 trucks, 1 traffic light, 26.5ms\n",
      "Speed: 2.0ms preprocess, 26.5ms inference, 0.5ms postprocess per image at shape (1, 3, 640, 640)\n"
     ]
    },
    {
     "name": "stderr",
     "output_type": "stream",
     "text": [
      "Processing results: 100%|██████████| 1/1 [00:00<00:00, 500.04it/s]"
     ]
    },
    {
     "name": "stdout",
     "output_type": "stream",
     "text": [
      "C:\\Users\\User\\Desktop\\DSO\\traffic-prediction\\backend\\assets4_labels\\8702_1444_20240127144539_534999.txt\n",
      "\n"
     ]
    },
    {
     "name": "stderr",
     "output_type": "stream",
     "text": [
      "\n"
     ]
    },
    {
     "name": "stdout",
     "output_type": "stream",
     "text": [
      "0: 640x640 1 person, 12 cars, 5 trucks, 1 traffic light, 26.0ms\n",
      "Speed: 1.0ms preprocess, 26.0ms inference, 2.0ms postprocess per image at shape (1, 3, 640, 640)\n"
     ]
    },
    {
     "name": "stderr",
     "output_type": "stream",
     "text": [
      "Processing results: 100%|██████████| 1/1 [00:00<00:00, 333.36it/s]\n",
      "Processing images:  91%|█████████ | 737/810 [00:39<00:03, 19.04it/s]"
     ]
    },
    {
     "name": "stdout",
     "output_type": "stream",
     "text": [
      "C:\\Users\\User\\Desktop\\DSO\\traffic-prediction\\backend\\assets4_labels\\8702_1449_20240127145022_521015.txt\n",
      "\n",
      "0: 640x640 3 cars, 9 trucks, 2 traffic lights, 25.7ms\n",
      "Speed: 2.0ms preprocess, 25.7ms inference, 2.2ms postprocess per image at shape (1, 3, 640, 640)\n"
     ]
    },
    {
     "name": "stderr",
     "output_type": "stream",
     "text": [
      "Processing results: 100%|██████████| 1/1 [00:00<00:00, 248.77it/s]"
     ]
    },
    {
     "name": "stdout",
     "output_type": "stream",
     "text": [
      "C:\\Users\\User\\Desktop\\DSO\\traffic-prediction\\backend\\assets4_labels\\8704_1408_20240127141018_509810.txt\n",
      "\n"
     ]
    },
    {
     "name": "stderr",
     "output_type": "stream",
     "text": [
      "\n"
     ]
    },
    {
     "name": "stdout",
     "output_type": "stream",
     "text": [
      "0: 640x640 1 person, 8 cars, 1 bus, 3 trucks, 27.8ms\n",
      "Speed: 1.0ms preprocess, 27.8ms inference, 1.5ms postprocess per image at shape (1, 3, 640, 640)\n"
     ]
    },
    {
     "name": "stderr",
     "output_type": "stream",
     "text": [
      "Processing results: 100%|██████████| 1/1 [00:00<00:00, 247.73it/s]\n",
      "Processing images:  91%|█████████ | 739/810 [00:39<00:03, 18.94it/s]"
     ]
    },
    {
     "name": "stdout",
     "output_type": "stream",
     "text": [
      "C:\\Users\\User\\Desktop\\DSO\\traffic-prediction\\backend\\assets4_labels\\8704_1413_20240127141523_501025.txt\n",
      "\n",
      "0: 640x640 2 persons, 7 cars, 1 motorcycle, 4 trucks, 26.1ms\n",
      "Speed: 1.0ms preprocess, 26.1ms inference, 1.0ms postprocess per image at shape (1, 3, 640, 640)\n"
     ]
    },
    {
     "name": "stderr",
     "output_type": "stream",
     "text": [
      "Processing results: 100%|██████████| 1/1 [00:00<00:00, 500.57it/s]"
     ]
    },
    {
     "name": "stdout",
     "output_type": "stream",
     "text": [
      "C:\\Users\\User\\Desktop\\DSO\\traffic-prediction\\backend\\assets4_labels\\8704_1419_20240127142004_565657.txt\n",
      "\n"
     ]
    },
    {
     "name": "stderr",
     "output_type": "stream",
     "text": [
      "\n"
     ]
    },
    {
     "name": "stdout",
     "output_type": "stream",
     "text": [
      "0: 640x640 10 cars, 1 train, 25.6ms\n",
      "Speed: 1.0ms preprocess, 25.6ms inference, 1.7ms postprocess per image at shape (1, 3, 640, 640)\n"
     ]
    },
    {
     "name": "stderr",
     "output_type": "stream",
     "text": [
      "Processing results: 100%|██████████| 1/1 [00:00<00:00, 500.27it/s]\n",
      "Processing images:  91%|█████████▏| 741/810 [00:39<00:03, 19.13it/s]"
     ]
    },
    {
     "name": "stdout",
     "output_type": "stream",
     "text": [
      "C:\\Users\\User\\Desktop\\DSO\\traffic-prediction\\backend\\assets4_labels\\8704_1423_20240127142521_554998.txt\n",
      "\n",
      "0: 640x640 (no detections), 26.0ms\n",
      "Speed: 2.0ms preprocess, 26.0ms inference, 0.0ms postprocess per image at shape (1, 3, 640, 640)\n"
     ]
    },
    {
     "name": "stderr",
     "output_type": "stream",
     "text": [
      "Processing results: 100%|██████████| 1/1 [00:00<00:00, 999.60it/s]"
     ]
    },
    {
     "name": "stdout",
     "output_type": "stream",
     "text": [
      "C:\\Users\\User\\Desktop\\DSO\\traffic-prediction\\backend\\assets4_labels\\8704_1429_20240127143030_995498.txt\n",
      "\n",
      "0: 640x640 1 person, 5 cars, 1 bus, 1 train, 1 truck, 27.1ms\n"
     ]
    },
    {
     "name": "stderr",
     "output_type": "stream",
     "text": [
      "\n"
     ]
    },
    {
     "name": "stdout",
     "output_type": "stream",
     "text": [
      "Speed: 1.0ms preprocess, 27.1ms inference, 1.0ms postprocess per image at shape (1, 3, 640, 640)\n"
     ]
    },
    {
     "name": "stderr",
     "output_type": "stream",
     "text": [
      "Processing results: 100%|██████████| 1/1 [00:00<00:00, 331.83it/s]\n",
      "Processing images:  92%|█████████▏| 743/810 [00:39<00:03, 19.32it/s]"
     ]
    },
    {
     "name": "stdout",
     "output_type": "stream",
     "text": [
      "C:\\Users\\User\\Desktop\\DSO\\traffic-prediction\\backend\\assets4_labels\\8704_1433_20240127143518_102525.txt\n",
      "\n",
      "0: 640x640 2 cars, 28.3ms\n",
      "Speed: 2.0ms preprocess, 28.3ms inference, 1.5ms postprocess per image at shape (1, 3, 640, 640)\n"
     ]
    },
    {
     "name": "stderr",
     "output_type": "stream",
     "text": [
      "Processing results: 100%|██████████| 1/1 [00:00<00:00, 1000.07it/s]"
     ]
    },
    {
     "name": "stdout",
     "output_type": "stream",
     "text": [
      "C:\\Users\\User\\Desktop\\DSO\\traffic-prediction\\backend\\assets4_labels\\8704_1439_20240127144012_975110.txt\n",
      "\n"
     ]
    },
    {
     "name": "stderr",
     "output_type": "stream",
     "text": [
      "\n"
     ]
    },
    {
     "name": "stdout",
     "output_type": "stream",
     "text": [
      "0: 640x640 9 cars, 27.1ms\n",
      "Speed: 2.0ms preprocess, 27.1ms inference, 2.0ms postprocess per image at shape (1, 3, 640, 640)\n"
     ]
    },
    {
     "name": "stderr",
     "output_type": "stream",
     "text": [
      "Processing results: 100%|██████████| 1/1 [00:00<00:00, 499.68it/s]\n",
      "Processing images:  92%|█████████▏| 745/810 [00:40<00:03, 19.11it/s]"
     ]
    },
    {
     "name": "stdout",
     "output_type": "stream",
     "text": [
      "C:\\Users\\User\\Desktop\\DSO\\traffic-prediction\\backend\\assets4_labels\\8704_1444_20240127144541_525252.txt\n",
      "\n",
      "0: 640x640 9 cars, 1 train, 1 truck, 31.5ms\n",
      "Speed: 2.0ms preprocess, 31.5ms inference, 2.0ms postprocess per image at shape (1, 3, 640, 640)\n"
     ]
    },
    {
     "name": "stderr",
     "output_type": "stream",
     "text": [
      "Processing results: 100%|██████████| 1/1 [00:00<00:00, 500.10it/s]"
     ]
    },
    {
     "name": "stdout",
     "output_type": "stream",
     "text": [
      "C:\\Users\\User\\Desktop\\DSO\\traffic-prediction\\backend\\assets4_labels\\8704_1448_20240127145023_535356.txt\n",
      "\n"
     ]
    },
    {
     "name": "stderr",
     "output_type": "stream",
     "text": [
      "\n"
     ]
    },
    {
     "name": "stdout",
     "output_type": "stream",
     "text": [
      "0: 640x640 6 cars, 1 truck, 29.2ms\n",
      "Speed: 1.0ms preprocess, 29.2ms inference, 1.0ms postprocess per image at shape (1, 3, 640, 640)\n"
     ]
    },
    {
     "name": "stderr",
     "output_type": "stream",
     "text": [
      "Processing results: 100%|██████████| 1/1 [00:00<00:00, 490.73it/s]\n",
      "Processing images:  92%|█████████▏| 747/810 [00:40<00:03, 18.57it/s]"
     ]
    },
    {
     "name": "stdout",
     "output_type": "stream",
     "text": [
      "C:\\Users\\User\\Desktop\\DSO\\traffic-prediction\\backend\\assets4_labels\\8706_1408_20240127141007_101101.txt\n",
      "\n",
      "0: 640x640 8 cars, 1 train, 2 trucks, 1 traffic light, 29.8ms\n",
      "Speed: 1.0ms preprocess, 29.8ms inference, 1.0ms postprocess per image at shape (1, 3, 640, 640)\n"
     ]
    },
    {
     "name": "stderr",
     "output_type": "stream",
     "text": [
      "Processing results: 100%|██████████| 1/1 [00:00<00:00, 496.07it/s]"
     ]
    },
    {
     "name": "stdout",
     "output_type": "stream",
     "text": [
      "C:\\Users\\User\\Desktop\\DSO\\traffic-prediction\\backend\\assets4_labels\\8706_1413_20240127141502_974852.txt\n",
      "\n"
     ]
    },
    {
     "name": "stderr",
     "output_type": "stream",
     "text": [
      "\n"
     ]
    },
    {
     "name": "stdout",
     "output_type": "stream",
     "text": [
      "0: 640x640 1 car, 3 motorcycles, 2 trucks, 1 traffic light, 31.1ms\n",
      "Speed: 3.0ms preprocess, 31.1ms inference, 2.0ms postprocess per image at shape (1, 3, 640, 640)\n"
     ]
    },
    {
     "name": "stderr",
     "output_type": "stream",
     "text": [
      "Processing results: 100%|██████████| 1/1 [00:00<00:00, 260.56it/s]\n",
      "Processing images:  92%|█████████▏| 749/810 [00:40<00:03, 17.87it/s]"
     ]
    },
    {
     "name": "stdout",
     "output_type": "stream",
     "text": [
      "C:\\Users\\User\\Desktop\\DSO\\traffic-prediction\\backend\\assets4_labels\\8706_1418_20240127142002_535510.txt\n",
      "\n",
      "0: 640x640 6 cars, 1 train, 3 trucks, 27.3ms\n",
      "Speed: 1.5ms preprocess, 27.3ms inference, 1.0ms postprocess per image at shape (1, 3, 640, 640)\n"
     ]
    },
    {
     "name": "stderr",
     "output_type": "stream",
     "text": [
      "Processing results: 100%|██████████| 1/1 [00:00<00:00, 333.36it/s]"
     ]
    },
    {
     "name": "stdout",
     "output_type": "stream",
     "text": [
      "C:\\Users\\User\\Desktop\\DSO\\traffic-prediction\\backend\\assets4_labels\\8706_1423_20240127142507_485448.txt\n",
      "\n"
     ]
    },
    {
     "name": "stderr",
     "output_type": "stream",
     "text": [
      "\n"
     ]
    },
    {
     "name": "stdout",
     "output_type": "stream",
     "text": [
      "0: 640x640 1 person, 3 cars, 3 buss, 2 trucks, 1 traffic light, 29.3ms\n",
      "Speed: 1.0ms preprocess, 29.3ms inference, 1.0ms postprocess per image at shape (1, 3, 640, 640)\n"
     ]
    },
    {
     "name": "stderr",
     "output_type": "stream",
     "text": [
      "Processing results: 100%|██████████| 1/1 [00:00<00:00, 332.99it/s]\n",
      "Processing images:  93%|█████████▎| 751/810 [00:40<00:03, 17.97it/s]"
     ]
    },
    {
     "name": "stdout",
     "output_type": "stream",
     "text": [
      "C:\\Users\\User\\Desktop\\DSO\\traffic-prediction\\backend\\assets4_labels\\8706_1428_20240127143009_100101.txt\n",
      "\n",
      "0: 640x640 5 cars, 2 trucks, 1 traffic light, 26.1ms\n",
      "Speed: 1.0ms preprocess, 26.1ms inference, 2.1ms postprocess per image at shape (1, 3, 640, 640)\n"
     ]
    },
    {
     "name": "stderr",
     "output_type": "stream",
     "text": [
      "Processing results: 100%|██████████| 1/1 [00:00<00:00, 499.92it/s]"
     ]
    },
    {
     "name": "stdout",
     "output_type": "stream",
     "text": [
      "C:\\Users\\User\\Desktop\\DSO\\traffic-prediction\\backend\\assets4_labels\\8706_1433_20240127143505_575351.txt\n",
      "\n"
     ]
    },
    {
     "name": "stderr",
     "output_type": "stream",
     "text": [
      "\n"
     ]
    },
    {
     "name": "stdout",
     "output_type": "stream",
     "text": [
      "0: 640x640 1 train, 27.1ms\n",
      "Speed: 1.2ms preprocess, 27.1ms inference, 1.0ms postprocess per image at shape (1, 3, 640, 640)\n"
     ]
    },
    {
     "name": "stderr",
     "output_type": "stream",
     "text": [
      "Processing results: 100%|██████████| 1/1 [00:00<00:00, 1001.27it/s]\n",
      "Processing images:  93%|█████████▎| 753/810 [00:40<00:03, 18.36it/s]"
     ]
    },
    {
     "name": "stdout",
     "output_type": "stream",
     "text": [
      "C:\\Users\\User\\Desktop\\DSO\\traffic-prediction\\backend\\assets4_labels\\8706_1438_20240127144004_525455.txt\n",
      "\n",
      "0: 640x640 4 cars, 1 train, 2 trucks, 26.1ms\n",
      "Speed: 1.0ms preprocess, 26.1ms inference, 1.0ms postprocess per image at shape (1, 3, 640, 640)\n"
     ]
    },
    {
     "name": "stderr",
     "output_type": "stream",
     "text": [
      "Processing results: 100%|██████████| 1/1 [00:00<00:00, 999.12it/s]"
     ]
    },
    {
     "name": "stdout",
     "output_type": "stream",
     "text": [
      "C:\\Users\\User\\Desktop\\DSO\\traffic-prediction\\backend\\assets4_labels\\8706_1443_20240127144516_100521.txt\n",
      "\n"
     ]
    },
    {
     "name": "stderr",
     "output_type": "stream",
     "text": [
      "\n"
     ]
    },
    {
     "name": "stdout",
     "output_type": "stream",
     "text": [
      "0: 640x640 7 cars, 1 truck, 28.0ms\n",
      "Speed: 2.0ms preprocess, 28.0ms inference, 2.0ms postprocess per image at shape (1, 3, 640, 640)\n"
     ]
    },
    {
     "name": "stderr",
     "output_type": "stream",
     "text": [
      "Processing results: 100%|██████████| 1/1 [00:00<00:00, 660.83it/s]\n",
      "Processing images:  93%|█████████▎| 755/810 [00:40<00:02, 18.60it/s]"
     ]
    },
    {
     "name": "stdout",
     "output_type": "stream",
     "text": [
      "C:\\Users\\User\\Desktop\\DSO\\traffic-prediction\\backend\\assets4_labels\\8706_1448_20240127145010_995552.txt\n",
      "\n",
      "0: 640x640 3 cars, 2 trucks, 1 traffic light, 1 clock, 27.5ms\n",
      "Speed: 2.0ms preprocess, 27.5ms inference, 2.0ms postprocess per image at shape (1, 3, 640, 640)\n"
     ]
    },
    {
     "name": "stderr",
     "output_type": "stream",
     "text": [
      "Processing results: 100%|██████████| 1/1 [00:00<00:00, 333.17it/s]"
     ]
    },
    {
     "name": "stdout",
     "output_type": "stream",
     "text": [
      "C:\\Users\\User\\Desktop\\DSO\\traffic-prediction\\backend\\assets4_labels\\9701_1408_20240127141009_505648.txt\n",
      "\n",
      "0: 640x640 2 persons, 9 cars, 1 motorcycle, 2 trucks, 1 traffic light, 1 clock, 27.1ms\n"
     ]
    },
    {
     "name": "stderr",
     "output_type": "stream",
     "text": [
      "\n"
     ]
    },
    {
     "name": "stdout",
     "output_type": "stream",
     "text": [
      "Speed: 2.0ms preprocess, 27.1ms inference, 1.0ms postprocess per image at shape (1, 3, 640, 640)\n"
     ]
    },
    {
     "name": "stderr",
     "output_type": "stream",
     "text": [
      "Processing results: 100%|██████████| 1/1 [00:00<00:00, 330.26it/s]\n",
      "Processing images:  93%|█████████▎| 757/810 [00:40<00:02, 18.39it/s]"
     ]
    },
    {
     "name": "stdout",
     "output_type": "stream",
     "text": [
      "C:\\Users\\User\\Desktop\\DSO\\traffic-prediction\\backend\\assets4_labels\\9701_1413_20240127141502_515053.txt\n",
      "\n",
      "0: 640x640 1 person, 10 cars, 3 trucks, 1 traffic light, 2 clocks, 26.7ms\n",
      "Speed: 2.0ms preprocess, 26.7ms inference, 2.1ms postprocess per image at shape (1, 3, 640, 640)\n"
     ]
    },
    {
     "name": "stderr",
     "output_type": "stream",
     "text": [
      "Processing results: 100%|██████████| 1/1 [00:00<00:00, 333.38it/s]"
     ]
    },
    {
     "name": "stdout",
     "output_type": "stream",
     "text": [
      "C:\\Users\\User\\Desktop\\DSO\\traffic-prediction\\backend\\assets4_labels\\9701_1418_20240127142002_491021.txt\n",
      "\n"
     ]
    },
    {
     "name": "stderr",
     "output_type": "stream",
     "text": [
      "\n"
     ]
    },
    {
     "name": "stdout",
     "output_type": "stream",
     "text": [
      "0: 640x640 7 cars, 4 trucks, 2 clocks, 26.0ms\n",
      "Speed: 1.0ms preprocess, 26.0ms inference, 2.0ms postprocess per image at shape (1, 3, 640, 640)\n"
     ]
    },
    {
     "name": "stderr",
     "output_type": "stream",
     "text": [
      "Processing results: 100%|██████████| 1/1 [00:00<00:00, 333.38it/s]\n",
      "Processing images:  94%|█████████▎| 759/810 [00:40<00:02, 18.54it/s]"
     ]
    },
    {
     "name": "stdout",
     "output_type": "stream",
     "text": [
      "C:\\Users\\User\\Desktop\\DSO\\traffic-prediction\\backend\\assets4_labels\\9701_1423_20240127142512_101515.txt\n",
      "\n",
      "0: 640x640 11 cars, 6 trucks, 1 traffic light, 2 clocks, 26.6ms\n",
      "Speed: 1.5ms preprocess, 26.6ms inference, 1.0ms postprocess per image at shape (1, 3, 640, 640)\n"
     ]
    },
    {
     "name": "stderr",
     "output_type": "stream",
     "text": [
      "Processing results: 100%|██████████| 1/1 [00:00<00:00, 500.75it/s]"
     ]
    },
    {
     "name": "stdout",
     "output_type": "stream",
     "text": [
      "C:\\Users\\User\\Desktop\\DSO\\traffic-prediction\\backend\\assets4_labels\\9701_1428_20240127143013_575250.txt\n",
      "\n"
     ]
    },
    {
     "name": "stderr",
     "output_type": "stream",
     "text": [
      "\n"
     ]
    },
    {
     "name": "stdout",
     "output_type": "stream",
     "text": [
      "0: 640x640 9 cars, 1 truck, 2 clocks, 28.6ms\n",
      "Speed: 2.2ms preprocess, 28.6ms inference, 2.0ms postprocess per image at shape (1, 3, 640, 640)\n"
     ]
    },
    {
     "name": "stderr",
     "output_type": "stream",
     "text": [
      "Processing results: 100%|██████████| 1/1 [00:00<00:00, 475.49it/s]\n",
      "Processing images:  94%|█████████▍| 761/810 [00:40<00:02, 18.78it/s]"
     ]
    },
    {
     "name": "stdout",
     "output_type": "stream",
     "text": [
      "C:\\Users\\User\\Desktop\\DSO\\traffic-prediction\\backend\\assets4_labels\\9701_1433_20240127143508_494999.txt\n",
      "\n",
      "0: 640x640 11 cars, 1 bus, 3 trucks, 1 traffic light, 1 clock, 31.3ms\n",
      "Speed: 1.1ms preprocess, 31.3ms inference, 2.0ms postprocess per image at shape (1, 3, 640, 640)\n"
     ]
    },
    {
     "name": "stderr",
     "output_type": "stream",
     "text": [
      "Processing results: 100%|██████████| 1/1 [00:00<00:00, 398.09it/s]"
     ]
    },
    {
     "name": "stdout",
     "output_type": "stream",
     "text": [
      "C:\\Users\\User\\Desktop\\DSO\\traffic-prediction\\backend\\assets4_labels\\9701_1438_20240127144007_549898.txt\n",
      "\n"
     ]
    },
    {
     "name": "stderr",
     "output_type": "stream",
     "text": [
      "\n"
     ]
    },
    {
     "name": "stdout",
     "output_type": "stream",
     "text": [
      "0: 640x640 1 person, 10 cars, 1 bus, 1 truck, 1 traffic light, 1 clock, 28.3ms\n",
      "Speed: 3.5ms preprocess, 28.3ms inference, 1.8ms postprocess per image at shape (1, 3, 640, 640)\n"
     ]
    },
    {
     "name": "stderr",
     "output_type": "stream",
     "text": [
      "Processing results: 100%|██████████| 1/1 [00:00<00:00, 332.59it/s]\n",
      "Processing images:  94%|█████████▍| 763/810 [00:41<00:02, 18.06it/s]"
     ]
    },
    {
     "name": "stdout",
     "output_type": "stream",
     "text": [
      "C:\\Users\\User\\Desktop\\DSO\\traffic-prediction\\backend\\assets4_labels\\9701_1443_20240127144522_521019.txt\n",
      "\n",
      "0: 640x640 1 person, 9 cars, 1 motorcycle, 4 trucks, 1 traffic light, 2 clocks, 25.6ms\n",
      "Speed: 2.0ms preprocess, 25.6ms inference, 1.0ms postprocess per image at shape (1, 3, 640, 640)\n"
     ]
    },
    {
     "name": "stderr",
     "output_type": "stream",
     "text": [
      "Processing results: 100%|██████████| 1/1 [00:00<00:00, 244.95it/s]"
     ]
    },
    {
     "name": "stdout",
     "output_type": "stream",
     "text": [
      "C:\\Users\\User\\Desktop\\DSO\\traffic-prediction\\backend\\assets4_labels\\9701_1448_20240127145013_544853.txt\n",
      "\n",
      "0: 640x640 7 cars, 1 bus, 2 trucks, 1 traffic light, 2 clocks, 26.4ms\n"
     ]
    },
    {
     "name": "stderr",
     "output_type": "stream",
     "text": [
      "\n"
     ]
    },
    {
     "name": "stdout",
     "output_type": "stream",
     "text": [
      "Speed: 1.5ms preprocess, 26.4ms inference, 1.0ms postprocess per image at shape (1, 3, 640, 640)\n"
     ]
    },
    {
     "name": "stderr",
     "output_type": "stream",
     "text": [
      "Processing results: 100%|██████████| 1/1 [00:00<00:00, 498.97it/s]\n",
      "Processing images:  94%|█████████▍| 765/810 [00:41<00:02, 18.57it/s]"
     ]
    },
    {
     "name": "stdout",
     "output_type": "stream",
     "text": [
      "C:\\Users\\User\\Desktop\\DSO\\traffic-prediction\\backend\\assets4_labels\\9702_1408_20240127141010_101994.txt\n",
      "\n",
      "0: 640x640 6 persons, 11 cars, 3 motorcycles, 1 bus, 5 trucks, 2 traffic lights, 1 clock, 27.5ms\n",
      "Speed: 1.0ms preprocess, 27.5ms inference, 1.0ms postprocess per image at shape (1, 3, 640, 640)\n"
     ]
    },
    {
     "name": "stderr",
     "output_type": "stream",
     "text": [
      "Processing results: 100%|██████████| 1/1 [00:00<00:00, 249.54it/s]"
     ]
    },
    {
     "name": "stdout",
     "output_type": "stream",
     "text": [
      "C:\\Users\\User\\Desktop\\DSO\\traffic-prediction\\backend\\assets4_labels\\9702_1413_20240127141504_519853.txt\n",
      "\n"
     ]
    },
    {
     "name": "stderr",
     "output_type": "stream",
     "text": [
      "\n"
     ]
    },
    {
     "name": "stdout",
     "output_type": "stream",
     "text": [
      "0: 640x640 5 persons, 7 cars, 5 motorcycles, 2 buss, 4 trucks, 1 kite, 1 clock, 25.3ms\n",
      "Speed: 3.0ms preprocess, 25.3ms inference, 2.0ms postprocess per image at shape (1, 3, 640, 640)\n"
     ]
    },
    {
     "name": "stderr",
     "output_type": "stream",
     "text": [
      "Processing results: 100%|██████████| 1/1 [00:00<00:00, 316.53it/s]\n",
      "Processing images:  95%|█████████▍| 767/810 [00:41<00:02, 18.84it/s]"
     ]
    },
    {
     "name": "stdout",
     "output_type": "stream",
     "text": [
      "C:\\Users\\User\\Desktop\\DSO\\traffic-prediction\\backend\\assets4_labels\\9702_1419_20240127142002_505651.txt\n",
      "\n",
      "0: 640x640 1 person, 4 cars, 4 trucks, 1 traffic light, 1 clock, 28.5ms\n",
      "Speed: 2.1ms preprocess, 28.5ms inference, 2.0ms postprocess per image at shape (1, 3, 640, 640)\n"
     ]
    },
    {
     "name": "stderr",
     "output_type": "stream",
     "text": [
      "Processing results: 100%|██████████| 1/1 [00:00<00:00, 495.25it/s]"
     ]
    },
    {
     "name": "stdout",
     "output_type": "stream",
     "text": [
      "C:\\Users\\User\\Desktop\\DSO\\traffic-prediction\\backend\\assets4_labels\\9702_1423_20240127142512_565056.txt\n",
      "\n"
     ]
    },
    {
     "name": "stderr",
     "output_type": "stream",
     "text": [
      "\n"
     ]
    },
    {
     "name": "stdout",
     "output_type": "stream",
     "text": [
      "0: 640x640 1 person, 6 cars, 4 trucks, 1 traffic light, 1 clock, 26.0ms\n",
      "Speed: 1.0ms preprocess, 26.0ms inference, 2.0ms postprocess per image at shape (1, 3, 640, 640)\n"
     ]
    },
    {
     "name": "stderr",
     "output_type": "stream",
     "text": [
      "Processing results: 100%|██████████| 1/1 [00:00<00:00, 332.56it/s]\n",
      "Processing images:  95%|█████████▍| 769/810 [00:41<00:02, 18.90it/s]"
     ]
    },
    {
     "name": "stdout",
     "output_type": "stream",
     "text": [
      "C:\\Users\\User\\Desktop\\DSO\\traffic-prediction\\backend\\assets4_labels\\9702_1429_20240127143015_102494.txt\n",
      "\n",
      "0: 640x640 3 persons, 8 cars, 1 motorcycle, 1 truck, 1 traffic light, 1 clock, 25.5ms\n",
      "Speed: 2.0ms preprocess, 25.5ms inference, 2.0ms postprocess per image at shape (1, 3, 640, 640)\n"
     ]
    },
    {
     "name": "stderr",
     "output_type": "stream",
     "text": [
      "Processing results: 100%|██████████| 1/1 [00:00<00:00, 497.31it/s]"
     ]
    },
    {
     "name": "stdout",
     "output_type": "stream",
     "text": [
      "C:\\Users\\User\\Desktop\\DSO\\traffic-prediction\\backend\\assets4_labels\\9702_1433_20240127143509_495657.txt\n",
      "\n"
     ]
    },
    {
     "name": "stderr",
     "output_type": "stream",
     "text": [
      "\n"
     ]
    },
    {
     "name": "stdout",
     "output_type": "stream",
     "text": [
      "0: 640x640 1 person, 10 cars, 2 trucks, 1 clock, 26.5ms\n",
      "Speed: 1.0ms preprocess, 26.5ms inference, 1.0ms postprocess per image at shape (1, 3, 640, 640)\n"
     ]
    },
    {
     "name": "stderr",
     "output_type": "stream",
     "text": [
      "Processing results: 100%|██████████| 1/1 [00:00<00:00, 399.23it/s]"
     ]
    },
    {
     "name": "stdout",
     "output_type": "stream",
     "text": [
      "C:\\Users\\User\\Desktop\\DSO\\traffic-prediction\\backend\\assets4_labels\\9702_1439_20240127144007_999851.txt\n",
      "\n",
      "0: 640x640 6 cars, 4 trucks, 1 traffic light, 1 kite, 1 clock, 26.6ms\n"
     ]
    },
    {
     "name": "stderr",
     "output_type": "stream",
     "text": [
      "\n"
     ]
    },
    {
     "name": "stdout",
     "output_type": "stream",
     "text": [
      "Speed: 1.0ms preprocess, 26.6ms inference, 1.0ms postprocess per image at shape (1, 3, 640, 640)\n"
     ]
    },
    {
     "name": "stderr",
     "output_type": "stream",
     "text": [
      "Processing results: 100%|██████████| 1/1 [00:00<00:00, 320.52it/s]\n",
      "Processing images:  95%|█████████▌| 772/810 [00:41<00:01, 19.36it/s]"
     ]
    },
    {
     "name": "stdout",
     "output_type": "stream",
     "text": [
      "C:\\Users\\User\\Desktop\\DSO\\traffic-prediction\\backend\\assets4_labels\\9702_1444_20240127144524_102555.txt\n",
      "\n",
      "0: 640x640 3 persons, 3 cars, 1 bus, 5 trucks, 1 traffic light, 1 clock, 38.1ms\n",
      "Speed: 2.0ms preprocess, 38.1ms inference, 3.0ms postprocess per image at shape (1, 3, 640, 640)\n"
     ]
    },
    {
     "name": "stderr",
     "output_type": "stream",
     "text": [
      "Processing results: 100%|██████████| 1/1 [00:00<00:00, 333.76it/s]"
     ]
    },
    {
     "name": "stdout",
     "output_type": "stream",
     "text": [
      "C:\\Users\\User\\Desktop\\DSO\\traffic-prediction\\backend\\assets4_labels\\9702_1448_20240127145013_489710.txt\n",
      "\n"
     ]
    },
    {
     "name": "stderr",
     "output_type": "stream",
     "text": [
      "\n"
     ]
    },
    {
     "name": "stdout",
     "output_type": "stream",
     "text": [
      "0: 640x640 7 cars, 4 buss, 2 trucks, 1 traffic light, 1 kite, 33.6ms\n",
      "Speed: 2.0ms preprocess, 33.6ms inference, 1.0ms postprocess per image at shape (1, 3, 640, 640)\n"
     ]
    },
    {
     "name": "stderr",
     "output_type": "stream",
     "text": [
      "Processing results: 100%|██████████| 1/1 [00:00<00:00, 285.27it/s]\n",
      "Processing images:  96%|█████████▌| 774/810 [00:41<00:01, 18.12it/s]"
     ]
    },
    {
     "name": "stdout",
     "output_type": "stream",
     "text": [
      "C:\\Users\\User\\Desktop\\DSO\\traffic-prediction\\backend\\assets4_labels\\9703_1408_20240127141010_529748.txt\n",
      "\n",
      "0: 640x640 4 cars, 1 truck, 25.0ms\n",
      "Speed: 2.0ms preprocess, 25.0ms inference, 2.0ms postprocess per image at shape (1, 3, 640, 640)\n"
     ]
    },
    {
     "name": "stderr",
     "output_type": "stream",
     "text": [
      "Processing results: 100%|██████████| 1/1 [00:00<00:00, 499.80it/s]"
     ]
    },
    {
     "name": "stdout",
     "output_type": "stream",
     "text": [
      "C:\\Users\\User\\Desktop\\DSO\\traffic-prediction\\backend\\assets4_labels\\9703_1413_20240127141504_989748.txt\n",
      "\n"
     ]
    },
    {
     "name": "stderr",
     "output_type": "stream",
     "text": [
      "\n"
     ]
    },
    {
     "name": "stdout",
     "output_type": "stream",
     "text": [
      "0: 640x640 3 cars, 26.8ms\n",
      "Speed: 2.0ms preprocess, 26.8ms inference, 1.0ms postprocess per image at shape (1, 3, 640, 640)\n"
     ]
    },
    {
     "name": "stderr",
     "output_type": "stream",
     "text": [
      "Processing results: 100%|██████████| 1/1 [00:00<00:00, 999.36it/s]"
     ]
    },
    {
     "name": "stdout",
     "output_type": "stream",
     "text": [
      "C:\\Users\\User\\Desktop\\DSO\\traffic-prediction\\backend\\assets4_labels\\9703_1418_20240127142002_495710.txt\n",
      "\n"
     ]
    },
    {
     "name": "stderr",
     "output_type": "stream",
     "text": [
      "\n"
     ]
    },
    {
     "name": "stdout",
     "output_type": "stream",
     "text": [
      "0: 640x640 7 cars, 3 trucks, 26.0ms\n",
      "Speed: 1.0ms preprocess, 26.0ms inference, 2.0ms postprocess per image at shape (1, 3, 640, 640)\n"
     ]
    },
    {
     "name": "stderr",
     "output_type": "stream",
     "text": [
      "Processing results: 100%|██████████| 1/1 [00:00<00:00, 499.80it/s]\n",
      "Processing images:  96%|█████████▌| 777/810 [00:41<00:01, 18.86it/s]"
     ]
    },
    {
     "name": "stdout",
     "output_type": "stream",
     "text": [
      "C:\\Users\\User\\Desktop\\DSO\\traffic-prediction\\backend\\assets4_labels\\9703_1423_20240127142513_535648.txt\n",
      "\n",
      "0: 640x640 6 cars, 2 motorcycles, 25.5ms\n",
      "Speed: 2.0ms preprocess, 25.5ms inference, 2.0ms postprocess per image at shape (1, 3, 640, 640)\n"
     ]
    },
    {
     "name": "stderr",
     "output_type": "stream",
     "text": [
      "Processing results: 100%|██████████| 1/1 [00:00<00:00, 1000.31it/s]"
     ]
    },
    {
     "name": "stdout",
     "output_type": "stream",
     "text": [
      "C:\\Users\\User\\Desktop\\DSO\\traffic-prediction\\backend\\assets4_labels\\9703_1428_20240127143016_100989.txt\n",
      "\n",
      "0: 640x640 9 cars, 25.6ms\n"
     ]
    },
    {
     "name": "stderr",
     "output_type": "stream",
     "text": [
      "\n"
     ]
    },
    {
     "name": "stdout",
     "output_type": "stream",
     "text": [
      "Speed: 2.0ms preprocess, 25.6ms inference, 2.2ms postprocess per image at shape (1, 3, 640, 640)\n"
     ]
    },
    {
     "name": "stderr",
     "output_type": "stream",
     "text": [
      "Processing results: 100%|██████████| 1/1 [00:00<00:00, 283.55it/s]\n",
      "Processing images:  96%|█████████▌| 779/810 [00:41<00:01, 18.97it/s]"
     ]
    },
    {
     "name": "stdout",
     "output_type": "stream",
     "text": [
      "C:\\Users\\User\\Desktop\\DSO\\traffic-prediction\\backend\\assets4_labels\\9703_1433_20240127143509_995510.txt\n",
      "\n",
      "0: 640x640 10 cars, 1 motorcycle, 2 trucks, 25.6ms\n",
      "Speed: 5.0ms preprocess, 25.6ms inference, 2.0ms postprocess per image at shape (1, 3, 640, 640)\n"
     ]
    },
    {
     "name": "stderr",
     "output_type": "stream",
     "text": [
      "Processing results: 100%|██████████| 1/1 [00:00<00:00, 332.88it/s]"
     ]
    },
    {
     "name": "stdout",
     "output_type": "stream",
     "text": [
      "C:\\Users\\User\\Desktop\\DSO\\traffic-prediction\\backend\\assets4_labels\\9703_1438_20240127144009_489910.txt\n",
      "\n"
     ]
    },
    {
     "name": "stderr",
     "output_type": "stream",
     "text": [
      "\n"
     ]
    },
    {
     "name": "stdout",
     "output_type": "stream",
     "text": [
      "0: 640x640 5 cars, 27.0ms\n",
      "Speed: 1.0ms preprocess, 27.0ms inference, 2.1ms postprocess per image at shape (1, 3, 640, 640)\n"
     ]
    },
    {
     "name": "stderr",
     "output_type": "stream",
     "text": [
      "Processing results: 100%|██████████| 1/1 [00:00<00:00, 498.31it/s]\n",
      "Processing images:  96%|█████████▋| 781/810 [00:42<00:01, 18.50it/s]"
     ]
    },
    {
     "name": "stdout",
     "output_type": "stream",
     "text": [
      "C:\\Users\\User\\Desktop\\DSO\\traffic-prediction\\backend\\assets4_labels\\9703_1443_20240127144527_484898.txt\n",
      "\n",
      "0: 640x640 11 cars, 3 trucks, 26.0ms\n",
      "Speed: 1.7ms preprocess, 26.0ms inference, 1.5ms postprocess per image at shape (1, 3, 640, 640)\n"
     ]
    },
    {
     "name": "stderr",
     "output_type": "stream",
     "text": [
      "Processing results: 100%|██████████| 1/1 [00:00<00:00, 333.28it/s]"
     ]
    },
    {
     "name": "stdout",
     "output_type": "stream",
     "text": [
      "C:\\Users\\User\\Desktop\\DSO\\traffic-prediction\\backend\\assets4_labels\\9703_1448_20240127145015_511015.txt\n",
      "\n"
     ]
    },
    {
     "name": "stderr",
     "output_type": "stream",
     "text": [
      "\n"
     ]
    },
    {
     "name": "stdout",
     "output_type": "stream",
     "text": [
      "0: 640x640 1 person, 3 cars, 3 motorcycles, 26.5ms\n",
      "Speed: 1.0ms preprocess, 26.5ms inference, 1.0ms postprocess per image at shape (1, 3, 640, 640)\n"
     ]
    },
    {
     "name": "stderr",
     "output_type": "stream",
     "text": [
      "Processing results: 100%|██████████| 1/1 [00:00<00:00, 499.68it/s]"
     ]
    },
    {
     "name": "stdout",
     "output_type": "stream",
     "text": [
      "C:\\Users\\User\\Desktop\\DSO\\traffic-prediction\\backend\\assets4_labels\\9704_1408_20240127141012_979750.txt\n",
      "\n",
      "0: 640x640 6 cars, 2 trucks, 1 bench, 25.3ms\n"
     ]
    },
    {
     "name": "stderr",
     "output_type": "stream",
     "text": [
      "\n"
     ]
    },
    {
     "name": "stdout",
     "output_type": "stream",
     "text": [
      "Speed: 1.8ms preprocess, 25.3ms inference, 1.5ms postprocess per image at shape (1, 3, 640, 640)\n"
     ]
    },
    {
     "name": "stderr",
     "output_type": "stream",
     "text": [
      "Processing results: 100%|██████████| 1/1 [00:00<00:00, 500.22it/s]\n",
      "Processing images:  97%|█████████▋| 784/810 [00:42<00:01, 19.03it/s]"
     ]
    },
    {
     "name": "stdout",
     "output_type": "stream",
     "text": [
      "C:\\Users\\User\\Desktop\\DSO\\traffic-prediction\\backend\\assets4_labels\\9704_1413_20240127141508_100100.txt\n",
      "\n",
      "0: 640x640 3 cars, 7 trucks, 1 clock, 27.5ms\n",
      "Speed: 4.0ms preprocess, 27.5ms inference, 1.5ms postprocess per image at shape (1, 3, 640, 640)\n"
     ]
    },
    {
     "name": "stderr",
     "output_type": "stream",
     "text": [
      "Processing results: 100%|██████████| 1/1 [00:00<00:00, 492.12it/s]"
     ]
    },
    {
     "name": "stdout",
     "output_type": "stream",
     "text": [
      "C:\\Users\\User\\Desktop\\DSO\\traffic-prediction\\backend\\assets4_labels\\9704_1419_20240127142002_561025.txt\n",
      "\n"
     ]
    },
    {
     "name": "stderr",
     "output_type": "stream",
     "text": [
      "\n"
     ]
    },
    {
     "name": "stdout",
     "output_type": "stream",
     "text": [
      "0: 640x640 3 cars, 1 truck, 26.8ms\n",
      "Speed: 2.0ms preprocess, 26.8ms inference, 1.0ms postprocess per image at shape (1, 3, 640, 640)\n"
     ]
    },
    {
     "name": "stderr",
     "output_type": "stream",
     "text": [
      "Processing results: 100%|██████████| 1/1 [00:00<00:00, 500.22it/s]\n",
      "Processing images:  97%|█████████▋| 786/810 [00:42<00:01, 18.50it/s]"
     ]
    },
    {
     "name": "stdout",
     "output_type": "stream",
     "text": [
      "C:\\Users\\User\\Desktop\\DSO\\traffic-prediction\\backend\\assets4_labels\\9704_1423_20240127142515_484856.txt\n",
      "\n",
      "0: 640x640 9 cars, 3 trucks, 26.9ms\n",
      "Speed: 3.0ms preprocess, 26.9ms inference, 1.5ms postprocess per image at shape (1, 3, 640, 640)\n"
     ]
    },
    {
     "name": "stderr",
     "output_type": "stream",
     "text": [
      "Processing results: 100%|██████████| 1/1 [00:00<00:00, 498.55it/s]"
     ]
    },
    {
     "name": "stdout",
     "output_type": "stream",
     "text": [
      "C:\\Users\\User\\Desktop\\DSO\\traffic-prediction\\backend\\assets4_labels\\9704_1429_20240127143018_481004.txt\n",
      "\n"
     ]
    },
    {
     "name": "stderr",
     "output_type": "stream",
     "text": [
      "\n"
     ]
    },
    {
     "name": "stdout",
     "output_type": "stream",
     "text": [
      "0: 640x640 4 cars, 2 trucks, 1 banana, 26.6ms\n",
      "Speed: 2.0ms preprocess, 26.6ms inference, 1.3ms postprocess per image at shape (1, 3, 640, 640)\n"
     ]
    },
    {
     "name": "stderr",
     "output_type": "stream",
     "text": [
      "Processing results: 100%|██████████| 1/1 [00:00<00:00, 500.22it/s]\n",
      "Processing images:  97%|█████████▋| 788/810 [00:42<00:01, 18.68it/s]"
     ]
    },
    {
     "name": "stdout",
     "output_type": "stream",
     "text": [
      "C:\\Users\\User\\Desktop\\DSO\\traffic-prediction\\backend\\assets4_labels\\9704_1433_20240127143510_989750.txt\n",
      "\n",
      "0: 640x640 9 cars, 26.2ms\n",
      "Speed: 2.0ms preprocess, 26.2ms inference, 1.0ms postprocess per image at shape (1, 3, 640, 640)\n"
     ]
    },
    {
     "name": "stderr",
     "output_type": "stream",
     "text": [
      "Processing results: 100%|██████████| 1/1 [00:00<00:00, 333.33it/s]"
     ]
    },
    {
     "name": "stdout",
     "output_type": "stream",
     "text": [
      "C:\\Users\\User\\Desktop\\DSO\\traffic-prediction\\backend\\assets4_labels\\9704_1439_20240127144009_995298.txt\n",
      "\n"
     ]
    },
    {
     "name": "stderr",
     "output_type": "stream",
     "text": [
      "\n"
     ]
    },
    {
     "name": "stdout",
     "output_type": "stream",
     "text": [
      "0: 640x640 3 cars, 2 trucks, 26.6ms\n",
      "Speed: 2.0ms preprocess, 26.6ms inference, 1.0ms postprocess per image at shape (1, 3, 640, 640)\n"
     ]
    },
    {
     "name": "stderr",
     "output_type": "stream",
     "text": [
      "Processing results: 100%|██████████| 1/1 [00:00<00:00, 499.62it/s]\n",
      "Processing images:  98%|█████████▊| 790/810 [00:42<00:01, 19.03it/s]"
     ]
    },
    {
     "name": "stdout",
     "output_type": "stream",
     "text": [
      "C:\\Users\\User\\Desktop\\DSO\\traffic-prediction\\backend\\assets4_labels\\9704_1444_20240127144530_525049.txt\n",
      "\n",
      "0: 640x640 5 cars, 1 truck, 27.0ms\n",
      "Speed: 1.0ms preprocess, 27.0ms inference, 2.0ms postprocess per image at shape (1, 3, 640, 640)\n"
     ]
    },
    {
     "name": "stderr",
     "output_type": "stream",
     "text": [
      "Processing results: 100%|██████████| 1/1 [00:00<00:00, 499.20it/s]"
     ]
    },
    {
     "name": "stdout",
     "output_type": "stream",
     "text": [
      "C:\\Users\\User\\Desktop\\DSO\\traffic-prediction\\backend\\assets4_labels\\9704_1448_20240127145016_101495.txt\n",
      "\n",
      "0: 640x640 5 cars, 1 truck, 1 clock, 26.0ms\n"
     ]
    },
    {
     "name": "stderr",
     "output_type": "stream",
     "text": [
      "\n"
     ]
    },
    {
     "name": "stdout",
     "output_type": "stream",
     "text": [
      "Speed: 2.0ms preprocess, 26.0ms inference, 1.0ms postprocess per image at shape (1, 3, 640, 640)\n"
     ]
    },
    {
     "name": "stderr",
     "output_type": "stream",
     "text": [
      "Processing results: 100%|██████████| 1/1 [00:00<00:00, 500.45it/s]\n",
      "Processing images:  98%|█████████▊| 792/810 [00:42<00:00, 19.20it/s]"
     ]
    },
    {
     "name": "stdout",
     "output_type": "stream",
     "text": [
      "C:\\Users\\User\\Desktop\\DSO\\traffic-prediction\\backend\\assets4_labels\\9705_1409_20240127141012_539950.txt\n",
      "\n",
      "0: 640x640 10 cars, 2 trucks, 1 clock, 26.6ms\n",
      "Speed: 2.0ms preprocess, 26.6ms inference, 1.0ms postprocess per image at shape (1, 3, 640, 640)\n"
     ]
    },
    {
     "name": "stderr",
     "output_type": "stream",
     "text": [
      "Processing results: 100%|██████████| 1/1 [00:00<00:00, 496.07it/s]"
     ]
    },
    {
     "name": "stdout",
     "output_type": "stream",
     "text": [
      "C:\\Users\\User\\Desktop\\DSO\\traffic-prediction\\backend\\assets4_labels\\9705_1414_20240127141517_975510.txt\n",
      "\n"
     ]
    },
    {
     "name": "stderr",
     "output_type": "stream",
     "text": [
      "\n"
     ]
    },
    {
     "name": "stdout",
     "output_type": "stream",
     "text": [
      "0: 640x640 5 cars, 1 motorcycle, 3 trucks, 1 traffic light, 26.1ms\n",
      "Speed: 2.0ms preprocess, 26.1ms inference, 2.0ms postprocess per image at shape (1, 3, 640, 640)\n"
     ]
    },
    {
     "name": "stderr",
     "output_type": "stream",
     "text": [
      "Processing results: 100%|██████████| 1/1 [00:00<00:00, 331.72it/s]\n",
      "Processing images:  98%|█████████▊| 794/810 [00:42<00:00, 19.22it/s]"
     ]
    },
    {
     "name": "stdout",
     "output_type": "stream",
     "text": [
      "C:\\Users\\User\\Desktop\\DSO\\traffic-prediction\\backend\\assets4_labels\\9705_1419_20240127142002_545649.txt\n",
      "\n",
      "0: 640x640 11 cars, 3 trucks, 27.1ms\n",
      "Speed: 2.5ms preprocess, 27.1ms inference, 1.0ms postprocess per image at shape (1, 3, 640, 640)\n"
     ]
    },
    {
     "name": "stderr",
     "output_type": "stream",
     "text": [
      "Processing results: 100%|██████████| 1/1 [00:00<00:00, 333.23it/s]"
     ]
    },
    {
     "name": "stdout",
     "output_type": "stream",
     "text": [
      "C:\\Users\\User\\Desktop\\DSO\\traffic-prediction\\backend\\assets4_labels\\9705_1424_20240127142515_565051.txt\n",
      "\n"
     ]
    },
    {
     "name": "stderr",
     "output_type": "stream",
     "text": [
      "\n"
     ]
    },
    {
     "name": "stdout",
     "output_type": "stream",
     "text": [
      "0: 640x640 9 cars, 5 trucks, 1 clock, 26.6ms\n",
      "Speed: 1.5ms preprocess, 26.6ms inference, 1.5ms postprocess per image at shape (1, 3, 640, 640)\n"
     ]
    },
    {
     "name": "stderr",
     "output_type": "stream",
     "text": [
      "Processing results: 100%|██████████| 1/1 [00:00<00:00, 333.41it/s]\n",
      "Processing images:  98%|█████████▊| 796/810 [00:42<00:00, 19.23it/s]"
     ]
    },
    {
     "name": "stdout",
     "output_type": "stream",
     "text": [
      "C:\\Users\\User\\Desktop\\DSO\\traffic-prediction\\backend\\assets4_labels\\9705_1429_20240127143022_551015.txt\n",
      "\n",
      "0: 640x640 4 cars, 4 trucks, 26.1ms\n",
      "Speed: 2.0ms preprocess, 26.1ms inference, 1.5ms postprocess per image at shape (1, 3, 640, 640)\n"
     ]
    },
    {
     "name": "stderr",
     "output_type": "stream",
     "text": [
      "Processing results: 100%|██████████| 1/1 [00:00<00:00, 499.74it/s]"
     ]
    },
    {
     "name": "stdout",
     "output_type": "stream",
     "text": [
      "C:\\Users\\User\\Desktop\\DSO\\traffic-prediction\\backend\\assets4_labels\\9705_1433_20240127143513_509910.txt\n",
      "\n"
     ]
    },
    {
     "name": "stderr",
     "output_type": "stream",
     "text": [
      "\n"
     ]
    },
    {
     "name": "stdout",
     "output_type": "stream",
     "text": [
      "0: 640x640 2 persons, 12 cars, 1 traffic light, 1 clock, 34.8ms\n",
      "Speed: 2.3ms preprocess, 34.8ms inference, 2.1ms postprocess per image at shape (1, 3, 640, 640)\n"
     ]
    },
    {
     "name": "stderr",
     "output_type": "stream",
     "text": [
      "Processing results: 100%|██████████| 1/1 [00:00<00:00, 333.30it/s]\n",
      "Processing images:  99%|█████████▊| 798/810 [00:42<00:00, 18.83it/s]"
     ]
    },
    {
     "name": "stdout",
     "output_type": "stream",
     "text": [
      "C:\\Users\\User\\Desktop\\DSO\\traffic-prediction\\backend\\assets4_labels\\9705_1439_20240127144009_491019.txt\n",
      "\n",
      "0: 640x640 1 person, 12 cars, 1 motorcycle, 6 trucks, 33.5ms\n",
      "Speed: 3.0ms preprocess, 33.5ms inference, 3.4ms postprocess per image at shape (1, 3, 640, 640)\n"
     ]
    },
    {
     "name": "stderr",
     "output_type": "stream",
     "text": [
      "Processing results: 100%|██████████| 1/1 [00:00<00:00, 332.75it/s]"
     ]
    },
    {
     "name": "stdout",
     "output_type": "stream",
     "text": [
      "C:\\Users\\User\\Desktop\\DSO\\traffic-prediction\\backend\\assets4_labels\\9705_1444_20240127144533_979949.txt\n",
      "\n"
     ]
    },
    {
     "name": "stderr",
     "output_type": "stream",
     "text": [
      "\n"
     ]
    },
    {
     "name": "stdout",
     "output_type": "stream",
     "text": [
      "0: 640x640 8 cars, 1 truck, 1 clock, 28.5ms\n",
      "Speed: 1.5ms preprocess, 28.5ms inference, 1.5ms postprocess per image at shape (1, 3, 640, 640)\n"
     ]
    },
    {
     "name": "stderr",
     "output_type": "stream",
     "text": [
      "Processing results: 100%|██████████| 1/1 [00:00<00:00, 494.15it/s]\n",
      "Processing images:  99%|█████████▉| 800/810 [00:43<00:00, 18.22it/s]"
     ]
    },
    {
     "name": "stdout",
     "output_type": "stream",
     "text": [
      "C:\\Users\\User\\Desktop\\DSO\\traffic-prediction\\backend\\assets4_labels\\9705_1449_20240127145018_495610.txt\n",
      "\n",
      "0: 640x640 5 cars, 2 trucks, 2 traffic lights, 29.5ms\n",
      "Speed: 2.2ms preprocess, 29.5ms inference, 2.0ms postprocess per image at shape (1, 3, 640, 640)\n"
     ]
    },
    {
     "name": "stderr",
     "output_type": "stream",
     "text": [
      "Processing results: 100%|██████████| 1/1 [00:00<00:00, 498.31it/s]"
     ]
    },
    {
     "name": "stdout",
     "output_type": "stream",
     "text": [
      "C:\\Users\\User\\Desktop\\DSO\\traffic-prediction\\backend\\assets4_labels\\9706_1408_20240127141000_494910.txt\n",
      "\n",
      "0: 640x640 2 persons, 11 cars, 1 motorcycle, 9 trucks, 1 traffic light, 2 clocks, 33.2ms\n",
      "Speed: 3.0ms preprocess, 33.2ms inference, 1.0ms postprocess per image at shape (1, 3, 640, 640)\n"
     ]
    },
    {
     "name": "stderr",
     "output_type": "stream",
     "text": [
      "\n",
      "Processing results: 100%|██████████| 1/1 [00:00<00:00, 249.63it/s]\n",
      "Processing images:  99%|█████████▉| 802/810 [00:43<00:00, 17.78it/s]"
     ]
    },
    {
     "name": "stdout",
     "output_type": "stream",
     "text": [
      "C:\\Users\\User\\Desktop\\DSO\\traffic-prediction\\backend\\assets4_labels\\9706_1413_20240127141502_975457.txt\n",
      "\n",
      "0: 640x640 3 persons, 7 cars, 2 trucks, 1 kite, 2 clocks, 34.5ms\n",
      "Speed: 2.0ms preprocess, 34.5ms inference, 0.5ms postprocess per image at shape (1, 3, 640, 640)\n"
     ]
    },
    {
     "name": "stderr",
     "output_type": "stream",
     "text": [
      "Processing results: 100%|██████████| 1/1 [00:00<00:00, 499.92it/s]\n"
     ]
    },
    {
     "name": "stdout",
     "output_type": "stream",
     "text": [
      "C:\\Users\\User\\Desktop\\DSO\\traffic-prediction\\backend\\assets4_labels\\9706_1419_20240127142000_102505.txt\n",
      "\n",
      "0: 640x640 8 cars, 3 trucks, 1 kite, 2 clocks, 32.1ms\n",
      "Speed: 2.5ms preprocess, 32.1ms inference, 1.5ms postprocess per image at shape (1, 3, 640, 640)\n"
     ]
    },
    {
     "name": "stderr",
     "output_type": "stream",
     "text": [
      "Processing results: 100%|██████████| 1/1 [00:00<00:00, 333.44it/s]\n",
      "Processing images:  99%|█████████▉| 804/810 [00:43<00:00, 17.34it/s]"
     ]
    },
    {
     "name": "stdout",
     "output_type": "stream",
     "text": [
      "C:\\Users\\User\\Desktop\\DSO\\traffic-prediction\\backend\\assets4_labels\\9706_1423_20240127142500_535051.txt\n",
      "\n",
      "0: 640x640 7 cars, 2 trucks, 1 traffic light, 1 clock, 27.0ms\n",
      "Speed: 2.0ms preprocess, 27.0ms inference, 1.0ms postprocess per image at shape (1, 3, 640, 640)\n"
     ]
    },
    {
     "name": "stderr",
     "output_type": "stream",
     "text": [
      "Processing results: 100%|██████████| 1/1 [00:00<00:00, 332.38it/s]"
     ]
    },
    {
     "name": "stdout",
     "output_type": "stream",
     "text": [
      "C:\\Users\\User\\Desktop\\DSO\\traffic-prediction\\backend\\assets4_labels\\9706_1428_20240127143000_102485.txt\n",
      "\n"
     ]
    },
    {
     "name": "stderr",
     "output_type": "stream",
     "text": [
      "\n"
     ]
    },
    {
     "name": "stdout",
     "output_type": "stream",
     "text": [
      "0: 640x640 1 person, 9 cars, 3 trucks, 1 kite, 2 clocks, 26.6ms\n",
      "Speed: 1.0ms preprocess, 26.6ms inference, 1.0ms postprocess per image at shape (1, 3, 640, 640)\n"
     ]
    },
    {
     "name": "stderr",
     "output_type": "stream",
     "text": [
      "Processing results: 100%|██████████| 1/1 [00:00<00:00, 328.24it/s]\n",
      "Processing images: 100%|█████████▉| 806/810 [00:43<00:00, 17.79it/s]"
     ]
    },
    {
     "name": "stdout",
     "output_type": "stream",
     "text": [
      "C:\\Users\\User\\Desktop\\DSO\\traffic-prediction\\backend\\assets4_labels\\9706_1433_20240127143500_571015.txt\n",
      "\n",
      "0: 640x640 8 cars, 1 bus, 3 trucks, 1 traffic light, 2 clocks, 28.5ms\n",
      "Speed: 1.5ms preprocess, 28.5ms inference, 1.5ms postprocess per image at shape (1, 3, 640, 640)\n"
     ]
    },
    {
     "name": "stderr",
     "output_type": "stream",
     "text": [
      "Processing results: 100%|██████████| 1/1 [00:00<00:00, 499.92it/s]"
     ]
    },
    {
     "name": "stdout",
     "output_type": "stream",
     "text": [
      "C:\\Users\\User\\Desktop\\DSO\\traffic-prediction\\backend\\assets4_labels\\9706_1438_20240127144000_102491.txt\n",
      "\n"
     ]
    },
    {
     "name": "stderr",
     "output_type": "stream",
     "text": [
      "\n"
     ]
    },
    {
     "name": "stdout",
     "output_type": "stream",
     "text": [
      "0: 640x640 15 cars, 4 trucks, 1 traffic light, 1 kite, 2 clocks, 27.8ms\n",
      "Speed: 1.6ms preprocess, 27.8ms inference, 1.4ms postprocess per image at shape (1, 3, 640, 640)\n"
     ]
    },
    {
     "name": "stderr",
     "output_type": "stream",
     "text": [
      "Processing results: 100%|██████████| 1/1 [00:00<00:00, 316.46it/s]\n",
      "Processing images: 100%|█████████▉| 808/810 [00:43<00:00, 17.94it/s]"
     ]
    },
    {
     "name": "stdout",
     "output_type": "stream",
     "text": [
      "C:\\Users\\User\\Desktop\\DSO\\traffic-prediction\\backend\\assets4_labels\\9706_1443_20240127144500_505755.txt\n",
      "\n",
      "0: 640x640 1 person, 7 cars, 7 trucks, 2 clocks, 27.1ms\n",
      "Speed: 2.5ms preprocess, 27.1ms inference, 1.0ms postprocess per image at shape (1, 3, 640, 640)\n"
     ]
    },
    {
     "name": "stderr",
     "output_type": "stream",
     "text": [
      "Processing results: 100%|██████████| 1/1 [00:00<00:00, 499.86it/s]"
     ]
    },
    {
     "name": "stdout",
     "output_type": "stream",
     "text": [
      "C:\\Users\\User\\Desktop\\DSO\\traffic-prediction\\backend\\assets4_labels\\9706_1448_20240127145000_501015.txt\n",
      "\n"
     ]
    },
    {
     "name": "stderr",
     "output_type": "stream",
     "text": [
      "\n"
     ]
    },
    {
     "name": "stdout",
     "output_type": "stream",
     "text": [
      "0: 640x640 1 person, 16 cars, 1 motorcycle, 7 trucks, 1 traffic light, 1 clock, 26.3ms\n",
      "Speed: 2.3ms preprocess, 26.3ms inference, 1.5ms postprocess per image at shape (1, 3, 640, 640)\n"
     ]
    },
    {
     "name": "stderr",
     "output_type": "stream",
     "text": [
      "Processing results: 100%|██████████| 1/1 [00:00<00:00, 333.36it/s]\n",
      "Processing images: 100%|██████████| 810/810 [00:43<00:00, 18.58it/s]"
     ]
    },
    {
     "name": "stdout",
     "output_type": "stream",
     "text": [
      "Labels saved successfully.\n"
     ]
    },
    {
     "name": "stderr",
     "output_type": "stream",
     "text": [
      "\n"
     ]
    }
   ],
   "source": [
    "# Define confidence threshold\n",
    "conf_threshold = 0.6\n",
    "\n",
    "letterbox = LetterBox()\n",
    "\n",
    "# Iterate over images in the folder\n",
    "image_paths = glob(os.path.join(images_folder, \"*.jpg\")) + glob(os.path.join(images_folder, \"*.jpeg\")) + glob(os.path.join(images_folder, \"*.png\"))\n",
    "\n",
    "for image_path in tqdm(image_paths, desc=\"Processing images\"):\n",
    "    image_name = os.path.splitext(os.path.basename(image_path))[0]\n",
    "    output_path = os.path.join(output_folder, f\"{image_name}.txt\")\n",
    "    print(output_path)\n",
    "\n",
    "    # Load image\n",
    "    img = cv2.imread(image_path)\n",
    "\n",
    "    # Resize and pad image\n",
    "    img = letterbox(image=img)\n",
    "\n",
    "    # Inference\n",
    "    results = model(img)\n",
    "    classes = results[0].names\n",
    "    for result in tqdm(results, desc=\"Processing results\"):\n",
    "        # Get detected labels\n",
    "        labels = []\n",
    "        confidences = result.boxes.conf.cpu().numpy()\n",
    "        boxes = result.boxes.xywhn.cpu().numpy()\n",
    "        class_names = result.names\n",
    "\n",
    "        for i in range(len(boxes)):\n",
    "            label = class_names[result.boxes.cls[i].item()]\n",
    "            confidence = result.boxes.conf[i]\n",
    "            box = boxes[i]\n",
    "            if label in class_names_to_keep and confidence > conf_threshold:\n",
    "                class_id = class_id_mapping[label]  # Get the integer ID for the class name\n",
    "                label_str = f\"{class_id} {box[0]} {box[1]} {box[2]} {box[3]}\"\n",
    "                labels.append(label_str)\n",
    "        if labels == []:\n",
    "            continue\n",
    "\n",
    "        # Save labels to text file\n",
    "        with open(output_path, \"w\") as f:\n",
    "            f.write(\"\\n\".join(labels))\n",
    "\n",
    "print(\"Labels saved successfully.\")"
   ]
  },
  {
   "cell_type": "code",
   "execution_count": 4,
   "metadata": {},
   "outputs": [],
   "source": [
    "import pandas as pd\n",
    "traffic_stats = pd.read_csv(r'C:\\Users\\User\\Desktop\\DSO\\traffic-prediction\\traffic_stats.csv')\n",
    "jam_pred = []\n",
    "jam_pred.extend(traffic_stats[(traffic_stats['Direction'] == \"KPE (TPE)\") & (\n",
    "                traffic_stats['Camera_Id'] == int(1001))]['Jam'].values)"
   ]
  },
  {
   "cell_type": "code",
   "execution_count": 5,
   "metadata": {},
   "outputs": [
    {
     "data": {
      "text/plain": [
       "[0, 0, 0, 0]"
      ]
     },
     "execution_count": 5,
     "metadata": {},
     "output_type": "execute_result"
    }
   ],
   "source": [
    "jam_pred"
   ]
  },
  {
   "cell_type": "code",
   "execution_count": null,
   "metadata": {},
   "outputs": [],
   "source": []
  }
 ],
 "metadata": {
  "kernelspec": {
   "display_name": "vehicledetection",
   "language": "python",
   "name": "python3"
  },
  "language_info": {
   "codemirror_mode": {
    "name": "ipython",
    "version": 3
   },
   "file_extension": ".py",
   "mimetype": "text/x-python",
   "name": "python",
   "nbconvert_exporter": "python",
   "pygments_lexer": "ipython3",
   "version": "3.11.6"
  }
 },
 "nbformat": 4,
 "nbformat_minor": 2
}
